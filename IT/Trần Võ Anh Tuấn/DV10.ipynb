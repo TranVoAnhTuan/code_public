{
 "cells": [
  {
   "cell_type": "code",
   "execution_count": 2,
   "metadata": {},
   "outputs": [],
   "source": [
    "import plotly.express as px\n",
    "import pandas as pd"
   ]
  },
  {
   "cell_type": "code",
   "execution_count": 7,
   "metadata": {},
   "outputs": [
    {
     "data": {
      "text/html": [
       "<div>\n",
       "<style scoped>\n",
       "    .dataframe tbody tr th:only-of-type {\n",
       "        vertical-align: middle;\n",
       "    }\n",
       "\n",
       "    .dataframe tbody tr th {\n",
       "        vertical-align: top;\n",
       "    }\n",
       "\n",
       "    .dataframe thead th {\n",
       "        text-align: right;\n",
       "    }\n",
       "</style>\n",
       "<table border=\"1\" class=\"dataframe\">\n",
       "  <thead>\n",
       "    <tr style=\"text-align: right;\">\n",
       "      <th></th>\n",
       "      <th>Countries and areas</th>\n",
       "      <th>Latitude</th>\n",
       "      <th>Longitude</th>\n",
       "      <th>OOSR_Pre0Primary_Age_Male</th>\n",
       "      <th>OOSR_Pre0Primary_Age_Female</th>\n",
       "      <th>OOSR_Primary_Age_Male</th>\n",
       "      <th>OOSR_Primary_Age_Female</th>\n",
       "      <th>OOSR_Lower_Secondary_Age_Male</th>\n",
       "      <th>OOSR_Lower_Secondary_Age_Female</th>\n",
       "      <th>OOSR_Upper_Secondary_Age_Male</th>\n",
       "      <th>...</th>\n",
       "      <th>Primary_End_Proficiency_Reading</th>\n",
       "      <th>Primary_End_Proficiency_Math</th>\n",
       "      <th>Lower_Secondary_End_Proficiency_Reading</th>\n",
       "      <th>Lower_Secondary_End_Proficiency_Math</th>\n",
       "      <th>Youth_15_24_Literacy_Rate_Male</th>\n",
       "      <th>Youth_15_24_Literacy_Rate_Female</th>\n",
       "      <th>Birth_Rate</th>\n",
       "      <th>Gross_Primary_Education_Enrollment</th>\n",
       "      <th>Gross_Tertiary_Education_Enrollment</th>\n",
       "      <th>Unemployment_Rate</th>\n",
       "    </tr>\n",
       "  </thead>\n",
       "  <tbody>\n",
       "    <tr>\n",
       "      <th>0</th>\n",
       "      <td>Afghanistan</td>\n",
       "      <td>33.939110</td>\n",
       "      <td>67.709953</td>\n",
       "      <td>0</td>\n",
       "      <td>0</td>\n",
       "      <td>0</td>\n",
       "      <td>0</td>\n",
       "      <td>0</td>\n",
       "      <td>0</td>\n",
       "      <td>44</td>\n",
       "      <td>...</td>\n",
       "      <td>13</td>\n",
       "      <td>11</td>\n",
       "      <td>0</td>\n",
       "      <td>0</td>\n",
       "      <td>74</td>\n",
       "      <td>56</td>\n",
       "      <td>32.49</td>\n",
       "      <td>104.0</td>\n",
       "      <td>9.7</td>\n",
       "      <td>11.12</td>\n",
       "    </tr>\n",
       "    <tr>\n",
       "      <th>1</th>\n",
       "      <td>Albania</td>\n",
       "      <td>41.153332</td>\n",
       "      <td>20.168331</td>\n",
       "      <td>4</td>\n",
       "      <td>2</td>\n",
       "      <td>6</td>\n",
       "      <td>3</td>\n",
       "      <td>6</td>\n",
       "      <td>1</td>\n",
       "      <td>21</td>\n",
       "      <td>...</td>\n",
       "      <td>0</td>\n",
       "      <td>0</td>\n",
       "      <td>48</td>\n",
       "      <td>58</td>\n",
       "      <td>99</td>\n",
       "      <td>100</td>\n",
       "      <td>11.78</td>\n",
       "      <td>107.0</td>\n",
       "      <td>55.0</td>\n",
       "      <td>12.33</td>\n",
       "    </tr>\n",
       "    <tr>\n",
       "      <th>2</th>\n",
       "      <td>Algeria</td>\n",
       "      <td>28.033886</td>\n",
       "      <td>1.659626</td>\n",
       "      <td>0</td>\n",
       "      <td>0</td>\n",
       "      <td>0</td>\n",
       "      <td>0</td>\n",
       "      <td>0</td>\n",
       "      <td>0</td>\n",
       "      <td>0</td>\n",
       "      <td>...</td>\n",
       "      <td>0</td>\n",
       "      <td>0</td>\n",
       "      <td>21</td>\n",
       "      <td>19</td>\n",
       "      <td>98</td>\n",
       "      <td>97</td>\n",
       "      <td>24.28</td>\n",
       "      <td>109.9</td>\n",
       "      <td>51.4</td>\n",
       "      <td>11.70</td>\n",
       "    </tr>\n",
       "    <tr>\n",
       "      <th>3</th>\n",
       "      <td>Andorra</td>\n",
       "      <td>42.506285</td>\n",
       "      <td>1.521801</td>\n",
       "      <td>0</td>\n",
       "      <td>0</td>\n",
       "      <td>0</td>\n",
       "      <td>0</td>\n",
       "      <td>0</td>\n",
       "      <td>0</td>\n",
       "      <td>0</td>\n",
       "      <td>...</td>\n",
       "      <td>0</td>\n",
       "      <td>0</td>\n",
       "      <td>0</td>\n",
       "      <td>0</td>\n",
       "      <td>0</td>\n",
       "      <td>0</td>\n",
       "      <td>7.20</td>\n",
       "      <td>106.4</td>\n",
       "      <td>0.0</td>\n",
       "      <td>0.00</td>\n",
       "    </tr>\n",
       "    <tr>\n",
       "      <th>4</th>\n",
       "      <td>Angola</td>\n",
       "      <td>11.202692</td>\n",
       "      <td>17.873887</td>\n",
       "      <td>31</td>\n",
       "      <td>39</td>\n",
       "      <td>0</td>\n",
       "      <td>0</td>\n",
       "      <td>0</td>\n",
       "      <td>0</td>\n",
       "      <td>0</td>\n",
       "      <td>...</td>\n",
       "      <td>0</td>\n",
       "      <td>0</td>\n",
       "      <td>0</td>\n",
       "      <td>0</td>\n",
       "      <td>0</td>\n",
       "      <td>0</td>\n",
       "      <td>40.73</td>\n",
       "      <td>113.5</td>\n",
       "      <td>9.3</td>\n",
       "      <td>6.89</td>\n",
       "    </tr>\n",
       "  </tbody>\n",
       "</table>\n",
       "<p>5 rows × 29 columns</p>\n",
       "</div>"
      ],
      "text/plain": [
       "  Countries and areas  Latitude   Longitude  OOSR_Pre0Primary_Age_Male  \\\n",
       "0         Afghanistan  33.939110  67.709953                          0   \n",
       "1             Albania  41.153332  20.168331                          4   \n",
       "2             Algeria  28.033886   1.659626                          0   \n",
       "3             Andorra  42.506285   1.521801                          0   \n",
       "4              Angola  11.202692  17.873887                         31   \n",
       "\n",
       "   OOSR_Pre0Primary_Age_Female  OOSR_Primary_Age_Male  \\\n",
       "0                            0                      0   \n",
       "1                            2                      6   \n",
       "2                            0                      0   \n",
       "3                            0                      0   \n",
       "4                           39                      0   \n",
       "\n",
       "   OOSR_Primary_Age_Female  OOSR_Lower_Secondary_Age_Male  \\\n",
       "0                        0                              0   \n",
       "1                        3                              6   \n",
       "2                        0                              0   \n",
       "3                        0                              0   \n",
       "4                        0                              0   \n",
       "\n",
       "   OOSR_Lower_Secondary_Age_Female  OOSR_Upper_Secondary_Age_Male  ...  \\\n",
       "0                                0                             44  ...   \n",
       "1                                1                             21  ...   \n",
       "2                                0                              0  ...   \n",
       "3                                0                              0  ...   \n",
       "4                                0                              0  ...   \n",
       "\n",
       "   Primary_End_Proficiency_Reading  Primary_End_Proficiency_Math  \\\n",
       "0                               13                            11   \n",
       "1                                0                             0   \n",
       "2                                0                             0   \n",
       "3                                0                             0   \n",
       "4                                0                             0   \n",
       "\n",
       "   Lower_Secondary_End_Proficiency_Reading  \\\n",
       "0                                        0   \n",
       "1                                       48   \n",
       "2                                       21   \n",
       "3                                        0   \n",
       "4                                        0   \n",
       "\n",
       "   Lower_Secondary_End_Proficiency_Math  Youth_15_24_Literacy_Rate_Male  \\\n",
       "0                                     0                              74   \n",
       "1                                    58                              99   \n",
       "2                                    19                              98   \n",
       "3                                     0                               0   \n",
       "4                                     0                               0   \n",
       "\n",
       "   Youth_15_24_Literacy_Rate_Female  Birth_Rate  \\\n",
       "0                                56       32.49   \n",
       "1                               100       11.78   \n",
       "2                                97       24.28   \n",
       "3                                 0        7.20   \n",
       "4                                 0       40.73   \n",
       "\n",
       "   Gross_Primary_Education_Enrollment  Gross_Tertiary_Education_Enrollment  \\\n",
       "0                               104.0                                  9.7   \n",
       "1                               107.0                                 55.0   \n",
       "2                               109.9                                 51.4   \n",
       "3                               106.4                                  0.0   \n",
       "4                               113.5                                  9.3   \n",
       "\n",
       "   Unemployment_Rate  \n",
       "0              11.12  \n",
       "1              12.33  \n",
       "2              11.70  \n",
       "3               0.00  \n",
       "4               6.89  \n",
       "\n",
       "[5 rows x 29 columns]"
      ]
     },
     "execution_count": 7,
     "metadata": {},
     "output_type": "execute_result"
    }
   ],
   "source": [
    "data = data = pd.read_csv('Global_Education.csv', encoding='iso-8859-1')\n",
    "data.head()"
   ]
  },
  {
   "cell_type": "code",
   "execution_count": 8,
   "metadata": {},
   "outputs": [
    {
     "data": {
      "application/vnd.plotly.v1+json": {
       "config": {
        "plotlyServerURL": "https://plot.ly"
       },
       "data": [
        {
         "geo": "geo",
         "hovertemplate": "<b>%{hovertext}</b><br><br>Youth_15_24_Literacy_Rate_Male=%{marker.size}<br>Latitude =%{lat}<br>Longitude=%{lon}<br>Youth_15_24_Literacy_Rate_Female=%{marker.color}<extra></extra>",
         "hovertext": [
          "Afghanistan",
          "Albania",
          "Algeria",
          "Andorra",
          "Angola",
          "Anguilla",
          "Antigua and Barbuda",
          "Argentina",
          "Armenia",
          "Australia",
          "Austria",
          "Azerbaijan",
          "The Bahamas",
          "Bahrain",
          "Bangladesh",
          "Barbados",
          "Belarus",
          "Belgium",
          "Belize",
          "Benin",
          "Bhutan",
          "Bolivia",
          "Bosnia and Herzegovina",
          "Botswana",
          "Brazil",
          "British Virgin Islands",
          "Brunei",
          "Bulgaria",
          "Burkina Faso",
          "Burundi",
          "Cape Verde",
          "Cambodia",
          "Cameroon",
          "Canada",
          "Central African Republic",
          "Chad",
          "Chile",
          "China",
          "Colombia",
          "Comoros",
          "Republic of the Congo",
          "Cook Islands",
          "Costa Rica",
          "Ivory Coast",
          "Croatia",
          "Cuba",
          "Cyprus",
          "Czech Republic",
          "North Korea",
          "Democratic Republic of the Congo",
          "Denmark",
          "Djibouti",
          "Dominica",
          "Dominican Republic",
          "Ecuador",
          "Egypt",
          "El Salvador",
          "Equatorial Guinea",
          "Eritrea",
          "Estonia",
          "Eswatini",
          "Ethiopia",
          "Fiji",
          "Finland",
          "France",
          "Gabon",
          "The Gambia",
          "Georgia",
          "Germany",
          "Ghana",
          "Greece",
          "Grenada",
          "Guatemala",
          "Guinea",
          "Guinea0Bissau",
          "Guyana",
          "Haiti",
          "Vatican City",
          "Honduras",
          "Hungary",
          "Iceland",
          "India",
          "Indonesia",
          "Iran",
          "Iraq",
          "Republic of Ireland",
          "Israel",
          "Italy",
          "Jamaica",
          "Japan",
          "Jordan",
          "Kazakhstan",
          "Kenya",
          "Kiribati",
          "Kuwait",
          "Kyrgyzstan",
          "Laos",
          "Latvia",
          "Lebanon",
          "Lesotho",
          "Liberia",
          "Libya",
          "Liechtenstein",
          "Lithuania",
          "Luxembourg",
          "Madagascar",
          "Malawi",
          "Malaysia",
          "Maldives",
          "Mali",
          "Malta",
          "Marshall Islands",
          "Mauritania",
          "Mauritius",
          "Mexico",
          "Federated States of Micronesia",
          "Monaco",
          "Mongolia",
          "Montenegro",
          "Montserrat",
          "Morocco",
          "Mozambique",
          "Myanmar",
          "Namibia",
          "Nauru",
          "Nepal",
          "Netherlands",
          "New Zealand",
          "Nicaragua",
          "Niger",
          "Nigeria",
          "Niue",
          "North Macedonia",
          "Norway",
          "Oman",
          "Pakistan",
          "Palau",
          "Panama",
          "Papua New Guinea",
          "Paraguay",
          "Peru",
          "Philippines",
          "Poland",
          "Portugal",
          "Qatar",
          "South Korea",
          "Moldova",
          "Romania",
          "Russia",
          "Rwanda",
          "Saint Kitts and Nevis",
          "Saint Lucia",
          "Saint Vincent and the Grenadines",
          "Samoa",
          "San Marino",
          "Sï¿½ï¿½ï¿½ï¿½ï¿½ï¿½ï¿½ï¿",
          "Saudi Arabia",
          "Senegal",
          "Serbia",
          "Seychelles",
          "Sierra Leone",
          "Singapore",
          "Slovakia",
          "Slovenia",
          "Solomon Islands",
          "Somalia",
          "South Africa",
          "South Sudan",
          "Spain",
          "Sri Lanka",
          "Palestinian National Authority",
          "Sudan",
          "Suriname",
          "Sweden",
          "Switzerland",
          "Syria",
          "Tajikistan",
          "Thailand",
          "East Timor",
          "Togo",
          "Tokelau",
          "Tonga",
          "Trinidad and Tobago",
          "Tunisia",
          "Turkey",
          "Turkmenistan",
          "Turks and Caicos Islands",
          "Tuvalu",
          "Uganda",
          "Ukraine",
          "United Arab Emirates",
          "United Kingdom",
          "Tanzania",
          "United States",
          "Uruguay",
          "Uzbekistan",
          "Vanuatu",
          "Venezuela",
          "Vietnam",
          "Yemen",
          "Zambia",
          "Zimbabwe"
         ],
         "lat": [
          33.93911,
          41.153332,
          28.033886,
          42.506285,
          11.202692,
          18.220554,
          17.060816,
          38.416097,
          40.069099,
          25.274398,
          47.516231,
          40.143105,
          25.03428,
          26.0667,
          23.684994,
          13.193887,
          53.709807,
          50.503887,
          17.189877,
          9.30769,
          27.514162,
          16.290154,
          43.915886,
          22.328474,
          14.235004,
          18.420695,
          4.535277,
          42.733883,
          12.238333,
          3.373056,
          16.5388,
          12.565679,
          7.369722,
          56.130366,
          6.611111,
          15.454166,
          35.675147,
          35.86166,
          4.570868,
          11.6455,
          0.228021,
          21.236736,
          9.748917,
          7.539989,
          45.1,
          21.521757,
          35.126413,
          49.817492,
          40.339852,
          4.038333,
          56.26392,
          11.825138,
          15.414999,
          18.735693,
          1.831239,
          26.820553,
          13.794185,
          1.650801,
          15.179384,
          58.595272,
          26.522503,
          9.145,
          17.713371,
          61.92411,
          46.227638,
          0.803689,
          13.443182,
          42.315407,
          51.165691,
          7.946527,
          39.074208,
          12.1165,
          15.783471,
          9.945587,
          11.803749,
          4.860416,
          18.971187,
          41.902916,
          15.199999,
          47.162494,
          64.963051,
          20.593684,
          0.789275,
          32.427908,
          33.223191,
          53.41291,
          31.046051,
          41.87194,
          18.109581,
          36.204824,
          31.302848,
          48.019573,
          0.023559,
          1.8368976,
          29.31166,
          41.20438,
          19.85627,
          56.879635,
          33.854721,
          29.609988,
          6.428055,
          26.3351,
          47.1410392,
          55.169438,
          49.815273,
          18.766947,
          13.254308,
          4.210484,
          3.202778,
          17.570692,
          35.937496,
          7.131474,
          21.00789,
          20.348404,
          23.634501,
          7.425554,
          43.7384176,
          46.862496,
          42.708678,
          16.742498,
          31.791702,
          18.665695,
          21.916221,
          22.95764,
          0.522778,
          28.394857,
          52.132633,
          40.900557,
          12.865416,
          17.607789,
          9.081999,
          19.054445,
          41.608635,
          60.472024,
          21.4735329,
          30.375321,
          7.51498,
          8.537981,
          6.314993,
          23.442503,
          9.189967,
          12.879721,
          51.919438,
          39.399872,
          25.354826,
          35.907757,
          47.411631,
          45.943161,
          61.52401,
          1.940278,
          17.357822,
          13.909444,
          12.984305,
          13.759029,
          43.94236,
          0.18636,
          23.885942,
          14.497401,
          44.016521,
          4.679574,
          8.460555,
          1.352083,
          48.669026,
          46.151241,
          9.64571,
          5.152149,
          30.559482,
          6.8769919,
          40.463667,
          7.873054,
          31.952162,
          12.862807,
          3.919305,
          60.128161,
          46.818188,
          34.802075,
          38.861034,
          15.870032,
          8.874217,
          8.619543,
          9.2002,
          21.178986,
          10.691803,
          33.886917,
          38.963745,
          38.969719,
          21.694025,
          7.109535,
          1.373333,
          48.379433,
          23.424076,
          55.378051,
          6.369028,
          37.09024,
          32.522779,
          41.377491,
          15.376706,
          6.42375,
          14.058324,
          15.552727,
          13.133897,
          19.015438
         ],
         "legendgroup": "",
         "lon": [
          67.709953,
          20.168331,
          1.659626,
          1.521801,
          17.873887,
          63.068615,
          61.796428,
          63.616672,
          45.038189,
          133.775136,
          14.550072,
          47.576927,
          77.39628,
          50.5577,
          90.356331,
          59.543198,
          27.953389,
          4.469936,
          88.49765,
          2.315834,
          90.433601,
          63.588653,
          17.679076,
          24.684866,
          51.92528,
          64.639968,
          114.727669,
          25.48583,
          1.561593,
          29.918886,
          23.0418,
          104.990963,
          12.354722,
          106.346771,
          20.939444,
          18.732207,
          71.542969,
          104.195397,
          74.297333,
          43.3333,
          15.827659,
          159.777671,
          83.753428,
          5.54708,
          15.2,
          77.781167,
          33.429859,
          15.472962,
          127.510093,
          21.758664,
          9.501785,
          42.590275,
          61.370976,
          70.162651,
          78.183406,
          30.802498,
          88.89653,
          10.267895,
          39.782334,
          25.013607,
          31.465866,
          40.489673,
          178.065032,
          25.748151,
          2.213749,
          11.609444,
          15.310139,
          43.356892,
          10.451526,
          1.023194,
          21.824312,
          61.679,
          90.230759,
          9.696645,
          15.180413,
          58.93018,
          72.285215,
          12.453389,
          86.241905,
          19.503304,
          19.020835,
          78.96288,
          113.921327,
          53.688046,
          43.679291,
          8.24389,
          34.851612,
          12.56738,
          77.297508,
          138.252924,
          36.786839,
          66.923684,
          37.906193,
          157.3768317,
          47.481766,
          74.766098,
          102.495496,
          24.603189,
          35.862285,
          28.233608,
          9.429499,
          17.228331,
          9.520935,
          23.881275,
          6.129583,
          46.869107,
          34.301525,
          101.975766,
          73.22068,
          3.996166,
          14.375416,
          171.184478,
          10.940835,
          57.552152,
          102.552784,
          150.550812,
          7.4246158,
          103.846656,
          19.37439,
          62.187366,
          7.09262,
          35.529562,
          95.955974,
          18.49041,
          166.931503,
          84.124008,
          5.291266,
          174.885971,
          85.207229,
          8.081666,
          8.675277,
          169.867233,
          21.745275,
          8.468946,
          55.975413,
          69.345116,
          134.58252,
          80.782127,
          143.95555,
          58.443832,
          75.015152,
          121.774017,
          19.145136,
          8.224454,
          51.183884,
          127.766922,
          28.369885,
          24.96676,
          105.318756,
          29.873888,
          62.782998,
          60.978893,
          61.287228,
          172.104629,
          12.457777,
          6.613081,
          45.079162,
          14.452362,
          21.005859,
          55.491977,
          11.779889,
          103.819836,
          19.699024,
          14.995463,
          160.156194,
          46.199616,
          22.937506,
          31.3069788,
          3.74922,
          80.771797,
          35.233154,
          30.217636,
          56.027783,
          18.643501,
          8.227512,
          38.996815,
          71.276093,
          100.992541,
          125.727539,
          0.824782,
          171.8484,
          175.198242,
          61.222503,
          9.537499,
          35.243322,
          59.556278,
          71.797928,
          177.64933,
          32.290275,
          31.16558,
          53.847818,
          3.435973,
          34.888822,
          95.712891,
          55.765835,
          64.585262,
          166.959158,
          66.58973,
          108.277199,
          48.516388,
          27.849332,
          29.154857
         ],
         "marker": {
          "color": [
           56,
           100,
           97,
           0,
           0,
           0,
           0,
           100,
           0,
           0,
           0,
           0,
           0,
           99,
           96,
           0,
           100,
           0,
           0,
           52,
           0,
           0,
           0,
           0,
           99,
           0,
           100,
           0,
           55,
           0,
           0,
           0,
           82,
           0,
           29,
           0,
           0,
           100,
           99,
           78,
           79,
           0,
           100,
           53,
           0,
           0,
           0,
           0,
           0,
           0,
           0,
           0,
           0,
           0,
           0,
           0,
           98,
           0,
           93,
           0,
           97,
           0,
           0,
           0,
           0,
           91,
           0,
           0,
           0,
           92,
           99,
           0,
           0,
           43,
           0,
           0,
           0,
           0,
           98,
           0,
           0,
           90,
           100,
           0,
           0,
           0,
           0,
           100,
           0,
           0,
           99,
           100,
           88,
           0,
           100,
           100,
           0,
           100,
           100,
           0,
           0,
           0,
           0,
           0,
           0,
           81,
           0,
           97,
           0,
           43,
           100,
           0,
           0,
           99,
           99,
           0,
           0,
           99,
           99,
           0,
           97,
           0,
           0,
           96,
           0,
           91,
           0,
           0,
           0,
           36,
           68,
           0,
           0,
           0,
           99,
           0,
           0,
           99,
           0,
           99,
           99,
           0,
           0,
           100,
           0,
           0,
           0,
           99,
           100,
           89,
           0,
           0,
           0,
           99,
           100,
           98,
           0,
           0,
           0,
           100,
           63,
           100,
           0,
           0,
           0,
           0,
           0,
           47,
           100,
           99,
           99,
           73,
           98,
           0,
           0,
           0,
           0,
           99,
           85,
           0,
           0,
           100,
           0,
           0,
           0,
           0,
           0,
           0,
           90,
           0,
           0,
           0,
           0,
           0,
           99,
           100,
           97,
           0,
           98,
           0,
           92,
           0
          ],
          "coloraxis": "coloraxis",
          "size": [
           74,
           99,
           98,
           0,
           0,
           0,
           0,
           99,
           0,
           0,
           0,
           0,
           0,
           100,
           94,
           0,
           100,
           0,
           0,
           70,
           0,
           0,
           0,
           0,
           99,
           0,
           100,
           0,
           62,
           0,
           0,
           0,
           88,
           0,
           48,
           0,
           0,
           100,
           99,
           78,
           85,
           0,
           99,
           64,
           0,
           0,
           0,
           0,
           0,
           0,
           0,
           0,
           0,
           0,
           0,
           0,
           98,
           0,
           94,
           0,
           94,
           0,
           0,
           0,
           0,
           88,
           0,
           0,
           0,
           93,
           99,
           0,
           0,
           70,
           0,
           0,
           0,
           0,
           95,
           0,
           0,
           93,
           100,
           0,
           0,
           0,
           0,
           100,
           0,
           0,
           99,
           100,
           88,
           0,
           99,
           100,
           0,
           100,
           100,
           0,
           0,
           0,
           0,
           0,
           0,
           82,
           0,
           97,
           0,
           58,
           99,
           0,
           0,
           99,
           99,
           0,
           0,
           98,
           99,
           0,
           98,
           0,
           0,
           94,
           0,
           94,
           0,
           0,
           0,
           51,
           82,
           0,
           0,
           0,
           98,
           0,
           0,
           99,
           0,
           98,
           99,
           0,
           0,
           100,
           0,
           0,
           0,
           99,
           100,
           84,
           0,
           0,
           0,
           99,
           100,
           98,
           0,
           0,
           0,
           99,
           71,
           100,
           0,
           0,
           0,
           0,
           0,
           48,
           100,
           99,
           99,
           73,
           99,
           0,
           0,
           0,
           0,
           98,
           82,
           0,
           0,
           99,
           0,
           0,
           0,
           0,
           0,
           0,
           89,
           0,
           0,
           0,
           0,
           0,
           99,
           100,
           96,
           0,
           98,
           0,
           93,
           0
          ],
          "sizemode": "area",
          "sizeref": 0.25,
          "symbol": "circle"
         },
         "mode": "markers",
         "name": "",
         "showlegend": false,
         "type": "scattergeo"
        }
       ],
       "layout": {
        "coloraxis": {
         "colorbar": {
          "title": {
           "text": "Youth_15_24_Literacy_Rate_Female"
          }
         },
         "colorscale": [
          [
           0,
           "#0d0887"
          ],
          [
           0.1111111111111111,
           "#46039f"
          ],
          [
           0.2222222222222222,
           "#7201a8"
          ],
          [
           0.3333333333333333,
           "#9c179e"
          ],
          [
           0.4444444444444444,
           "#bd3786"
          ],
          [
           0.5555555555555556,
           "#d8576b"
          ],
          [
           0.6666666666666666,
           "#ed7953"
          ],
          [
           0.7777777777777778,
           "#fb9f3a"
          ],
          [
           0.8888888888888888,
           "#fdca26"
          ],
          [
           1,
           "#f0f921"
          ]
         ]
        },
        "geo": {
         "center": {},
         "domain": {
          "x": [
           0,
           1
          ],
          "y": [
           0,
           1
          ]
         },
         "projection": {
          "type": "natural earth"
         }
        },
        "legend": {
         "itemsizing": "constant",
         "tracegroupgap": 0
        },
        "template": {
         "data": {
          "bar": [
           {
            "error_x": {
             "color": "#2a3f5f"
            },
            "error_y": {
             "color": "#2a3f5f"
            },
            "marker": {
             "line": {
              "color": "#E5ECF6",
              "width": 0.5
             },
             "pattern": {
              "fillmode": "overlay",
              "size": 10,
              "solidity": 0.2
             }
            },
            "type": "bar"
           }
          ],
          "barpolar": [
           {
            "marker": {
             "line": {
              "color": "#E5ECF6",
              "width": 0.5
             },
             "pattern": {
              "fillmode": "overlay",
              "size": 10,
              "solidity": 0.2
             }
            },
            "type": "barpolar"
           }
          ],
          "carpet": [
           {
            "aaxis": {
             "endlinecolor": "#2a3f5f",
             "gridcolor": "white",
             "linecolor": "white",
             "minorgridcolor": "white",
             "startlinecolor": "#2a3f5f"
            },
            "baxis": {
             "endlinecolor": "#2a3f5f",
             "gridcolor": "white",
             "linecolor": "white",
             "minorgridcolor": "white",
             "startlinecolor": "#2a3f5f"
            },
            "type": "carpet"
           }
          ],
          "choropleth": [
           {
            "colorbar": {
             "outlinewidth": 0,
             "ticks": ""
            },
            "type": "choropleth"
           }
          ],
          "contour": [
           {
            "colorbar": {
             "outlinewidth": 0,
             "ticks": ""
            },
            "colorscale": [
             [
              0,
              "#0d0887"
             ],
             [
              0.1111111111111111,
              "#46039f"
             ],
             [
              0.2222222222222222,
              "#7201a8"
             ],
             [
              0.3333333333333333,
              "#9c179e"
             ],
             [
              0.4444444444444444,
              "#bd3786"
             ],
             [
              0.5555555555555556,
              "#d8576b"
             ],
             [
              0.6666666666666666,
              "#ed7953"
             ],
             [
              0.7777777777777778,
              "#fb9f3a"
             ],
             [
              0.8888888888888888,
              "#fdca26"
             ],
             [
              1,
              "#f0f921"
             ]
            ],
            "type": "contour"
           }
          ],
          "contourcarpet": [
           {
            "colorbar": {
             "outlinewidth": 0,
             "ticks": ""
            },
            "type": "contourcarpet"
           }
          ],
          "heatmap": [
           {
            "colorbar": {
             "outlinewidth": 0,
             "ticks": ""
            },
            "colorscale": [
             [
              0,
              "#0d0887"
             ],
             [
              0.1111111111111111,
              "#46039f"
             ],
             [
              0.2222222222222222,
              "#7201a8"
             ],
             [
              0.3333333333333333,
              "#9c179e"
             ],
             [
              0.4444444444444444,
              "#bd3786"
             ],
             [
              0.5555555555555556,
              "#d8576b"
             ],
             [
              0.6666666666666666,
              "#ed7953"
             ],
             [
              0.7777777777777778,
              "#fb9f3a"
             ],
             [
              0.8888888888888888,
              "#fdca26"
             ],
             [
              1,
              "#f0f921"
             ]
            ],
            "type": "heatmap"
           }
          ],
          "heatmapgl": [
           {
            "colorbar": {
             "outlinewidth": 0,
             "ticks": ""
            },
            "colorscale": [
             [
              0,
              "#0d0887"
             ],
             [
              0.1111111111111111,
              "#46039f"
             ],
             [
              0.2222222222222222,
              "#7201a8"
             ],
             [
              0.3333333333333333,
              "#9c179e"
             ],
             [
              0.4444444444444444,
              "#bd3786"
             ],
             [
              0.5555555555555556,
              "#d8576b"
             ],
             [
              0.6666666666666666,
              "#ed7953"
             ],
             [
              0.7777777777777778,
              "#fb9f3a"
             ],
             [
              0.8888888888888888,
              "#fdca26"
             ],
             [
              1,
              "#f0f921"
             ]
            ],
            "type": "heatmapgl"
           }
          ],
          "histogram": [
           {
            "marker": {
             "pattern": {
              "fillmode": "overlay",
              "size": 10,
              "solidity": 0.2
             }
            },
            "type": "histogram"
           }
          ],
          "histogram2d": [
           {
            "colorbar": {
             "outlinewidth": 0,
             "ticks": ""
            },
            "colorscale": [
             [
              0,
              "#0d0887"
             ],
             [
              0.1111111111111111,
              "#46039f"
             ],
             [
              0.2222222222222222,
              "#7201a8"
             ],
             [
              0.3333333333333333,
              "#9c179e"
             ],
             [
              0.4444444444444444,
              "#bd3786"
             ],
             [
              0.5555555555555556,
              "#d8576b"
             ],
             [
              0.6666666666666666,
              "#ed7953"
             ],
             [
              0.7777777777777778,
              "#fb9f3a"
             ],
             [
              0.8888888888888888,
              "#fdca26"
             ],
             [
              1,
              "#f0f921"
             ]
            ],
            "type": "histogram2d"
           }
          ],
          "histogram2dcontour": [
           {
            "colorbar": {
             "outlinewidth": 0,
             "ticks": ""
            },
            "colorscale": [
             [
              0,
              "#0d0887"
             ],
             [
              0.1111111111111111,
              "#46039f"
             ],
             [
              0.2222222222222222,
              "#7201a8"
             ],
             [
              0.3333333333333333,
              "#9c179e"
             ],
             [
              0.4444444444444444,
              "#bd3786"
             ],
             [
              0.5555555555555556,
              "#d8576b"
             ],
             [
              0.6666666666666666,
              "#ed7953"
             ],
             [
              0.7777777777777778,
              "#fb9f3a"
             ],
             [
              0.8888888888888888,
              "#fdca26"
             ],
             [
              1,
              "#f0f921"
             ]
            ],
            "type": "histogram2dcontour"
           }
          ],
          "mesh3d": [
           {
            "colorbar": {
             "outlinewidth": 0,
             "ticks": ""
            },
            "type": "mesh3d"
           }
          ],
          "parcoords": [
           {
            "line": {
             "colorbar": {
              "outlinewidth": 0,
              "ticks": ""
             }
            },
            "type": "parcoords"
           }
          ],
          "pie": [
           {
            "automargin": true,
            "type": "pie"
           }
          ],
          "scatter": [
           {
            "fillpattern": {
             "fillmode": "overlay",
             "size": 10,
             "solidity": 0.2
            },
            "type": "scatter"
           }
          ],
          "scatter3d": [
           {
            "line": {
             "colorbar": {
              "outlinewidth": 0,
              "ticks": ""
             }
            },
            "marker": {
             "colorbar": {
              "outlinewidth": 0,
              "ticks": ""
             }
            },
            "type": "scatter3d"
           }
          ],
          "scattercarpet": [
           {
            "marker": {
             "colorbar": {
              "outlinewidth": 0,
              "ticks": ""
             }
            },
            "type": "scattercarpet"
           }
          ],
          "scattergeo": [
           {
            "marker": {
             "colorbar": {
              "outlinewidth": 0,
              "ticks": ""
             }
            },
            "type": "scattergeo"
           }
          ],
          "scattergl": [
           {
            "marker": {
             "colorbar": {
              "outlinewidth": 0,
              "ticks": ""
             }
            },
            "type": "scattergl"
           }
          ],
          "scattermapbox": [
           {
            "marker": {
             "colorbar": {
              "outlinewidth": 0,
              "ticks": ""
             }
            },
            "type": "scattermapbox"
           }
          ],
          "scatterpolar": [
           {
            "marker": {
             "colorbar": {
              "outlinewidth": 0,
              "ticks": ""
             }
            },
            "type": "scatterpolar"
           }
          ],
          "scatterpolargl": [
           {
            "marker": {
             "colorbar": {
              "outlinewidth": 0,
              "ticks": ""
             }
            },
            "type": "scatterpolargl"
           }
          ],
          "scatterternary": [
           {
            "marker": {
             "colorbar": {
              "outlinewidth": 0,
              "ticks": ""
             }
            },
            "type": "scatterternary"
           }
          ],
          "surface": [
           {
            "colorbar": {
             "outlinewidth": 0,
             "ticks": ""
            },
            "colorscale": [
             [
              0,
              "#0d0887"
             ],
             [
              0.1111111111111111,
              "#46039f"
             ],
             [
              0.2222222222222222,
              "#7201a8"
             ],
             [
              0.3333333333333333,
              "#9c179e"
             ],
             [
              0.4444444444444444,
              "#bd3786"
             ],
             [
              0.5555555555555556,
              "#d8576b"
             ],
             [
              0.6666666666666666,
              "#ed7953"
             ],
             [
              0.7777777777777778,
              "#fb9f3a"
             ],
             [
              0.8888888888888888,
              "#fdca26"
             ],
             [
              1,
              "#f0f921"
             ]
            ],
            "type": "surface"
           }
          ],
          "table": [
           {
            "cells": {
             "fill": {
              "color": "#EBF0F8"
             },
             "line": {
              "color": "white"
             }
            },
            "header": {
             "fill": {
              "color": "#C8D4E3"
             },
             "line": {
              "color": "white"
             }
            },
            "type": "table"
           }
          ]
         },
         "layout": {
          "annotationdefaults": {
           "arrowcolor": "#2a3f5f",
           "arrowhead": 0,
           "arrowwidth": 1
          },
          "autotypenumbers": "strict",
          "coloraxis": {
           "colorbar": {
            "outlinewidth": 0,
            "ticks": ""
           }
          },
          "colorscale": {
           "diverging": [
            [
             0,
             "#8e0152"
            ],
            [
             0.1,
             "#c51b7d"
            ],
            [
             0.2,
             "#de77ae"
            ],
            [
             0.3,
             "#f1b6da"
            ],
            [
             0.4,
             "#fde0ef"
            ],
            [
             0.5,
             "#f7f7f7"
            ],
            [
             0.6,
             "#e6f5d0"
            ],
            [
             0.7,
             "#b8e186"
            ],
            [
             0.8,
             "#7fbc41"
            ],
            [
             0.9,
             "#4d9221"
            ],
            [
             1,
             "#276419"
            ]
           ],
           "sequential": [
            [
             0,
             "#0d0887"
            ],
            [
             0.1111111111111111,
             "#46039f"
            ],
            [
             0.2222222222222222,
             "#7201a8"
            ],
            [
             0.3333333333333333,
             "#9c179e"
            ],
            [
             0.4444444444444444,
             "#bd3786"
            ],
            [
             0.5555555555555556,
             "#d8576b"
            ],
            [
             0.6666666666666666,
             "#ed7953"
            ],
            [
             0.7777777777777778,
             "#fb9f3a"
            ],
            [
             0.8888888888888888,
             "#fdca26"
            ],
            [
             1,
             "#f0f921"
            ]
           ],
           "sequentialminus": [
            [
             0,
             "#0d0887"
            ],
            [
             0.1111111111111111,
             "#46039f"
            ],
            [
             0.2222222222222222,
             "#7201a8"
            ],
            [
             0.3333333333333333,
             "#9c179e"
            ],
            [
             0.4444444444444444,
             "#bd3786"
            ],
            [
             0.5555555555555556,
             "#d8576b"
            ],
            [
             0.6666666666666666,
             "#ed7953"
            ],
            [
             0.7777777777777778,
             "#fb9f3a"
            ],
            [
             0.8888888888888888,
             "#fdca26"
            ],
            [
             1,
             "#f0f921"
            ]
           ]
          },
          "colorway": [
           "#636efa",
           "#EF553B",
           "#00cc96",
           "#ab63fa",
           "#FFA15A",
           "#19d3f3",
           "#FF6692",
           "#B6E880",
           "#FF97FF",
           "#FECB52"
          ],
          "font": {
           "color": "#2a3f5f"
          },
          "geo": {
           "bgcolor": "white",
           "lakecolor": "white",
           "landcolor": "#E5ECF6",
           "showlakes": true,
           "showland": true,
           "subunitcolor": "white"
          },
          "hoverlabel": {
           "align": "left"
          },
          "hovermode": "closest",
          "mapbox": {
           "style": "light"
          },
          "paper_bgcolor": "white",
          "plot_bgcolor": "#E5ECF6",
          "polar": {
           "angularaxis": {
            "gridcolor": "white",
            "linecolor": "white",
            "ticks": ""
           },
           "bgcolor": "#E5ECF6",
           "radialaxis": {
            "gridcolor": "white",
            "linecolor": "white",
            "ticks": ""
           }
          },
          "scene": {
           "xaxis": {
            "backgroundcolor": "#E5ECF6",
            "gridcolor": "white",
            "gridwidth": 2,
            "linecolor": "white",
            "showbackground": true,
            "ticks": "",
            "zerolinecolor": "white"
           },
           "yaxis": {
            "backgroundcolor": "#E5ECF6",
            "gridcolor": "white",
            "gridwidth": 2,
            "linecolor": "white",
            "showbackground": true,
            "ticks": "",
            "zerolinecolor": "white"
           },
           "zaxis": {
            "backgroundcolor": "#E5ECF6",
            "gridcolor": "white",
            "gridwidth": 2,
            "linecolor": "white",
            "showbackground": true,
            "ticks": "",
            "zerolinecolor": "white"
           }
          },
          "shapedefaults": {
           "line": {
            "color": "#2a3f5f"
           }
          },
          "ternary": {
           "aaxis": {
            "gridcolor": "white",
            "linecolor": "white",
            "ticks": ""
           },
           "baxis": {
            "gridcolor": "white",
            "linecolor": "white",
            "ticks": ""
           },
           "bgcolor": "#E5ECF6",
           "caxis": {
            "gridcolor": "white",
            "linecolor": "white",
            "ticks": ""
           }
          },
          "title": {
           "x": 0.05
          },
          "xaxis": {
           "automargin": true,
           "gridcolor": "white",
           "linecolor": "white",
           "ticks": "",
           "title": {
            "standoff": 15
           },
           "zerolinecolor": "white",
           "zerolinewidth": 2
          },
          "yaxis": {
           "automargin": true,
           "gridcolor": "white",
           "linecolor": "white",
           "ticks": "",
           "title": {
            "standoff": 15
           },
           "zerolinecolor": "white",
           "zerolinewidth": 2
          }
         }
        },
        "title": {
         "text": "Youth Literacy Rates (15-24) by Country"
        }
       }
      }
     },
     "metadata": {},
     "output_type": "display_data"
    }
   ],
   "source": [
    "fig1 = px.scatter_geo(\n",
    "    data,\n",
    "    lat='Latitude ',\n",
    "    lon='Longitude',\n",
    "    color='Youth_15_24_Literacy_Rate_Female',\n",
    "    hover_name='Countries and areas',\n",
    "    size='Youth_15_24_Literacy_Rate_Male',\n",
    "    title='Youth Literacy Rates (15-24) by Country',\n",
    "    projection=\"natural earth\"\n",
    ")\n",
    "fig1.show()"
   ]
  },
  {
   "cell_type": "code",
   "execution_count": 9,
   "metadata": {},
   "outputs": [
    {
     "data": {
      "application/vnd.plotly.v1+json": {
       "config": {
        "plotlyServerURL": "https://plot.ly"
       },
       "data": [
        {
         "hovertemplate": "Countries and areas=Afghanistan<br>Birth Rate=%{x}<br>Female Literacy Rate (15-24)=%{y}<br>Unemployment_Rate=%{marker.size}<extra></extra>",
         "legendgroup": "Afghanistan",
         "marker": {
          "color": "#636efa",
          "size": [
           11.12
          ],
          "sizemode": "area",
          "sizeref": 0.07045,
          "symbol": "circle"
         },
         "mode": "markers",
         "name": "Afghanistan",
         "orientation": "v",
         "showlegend": true,
         "type": "scatter",
         "x": [
          32.49
         ],
         "xaxis": "x",
         "y": [
          56
         ],
         "yaxis": "y"
        },
        {
         "hovertemplate": "Countries and areas=Albania<br>Birth Rate=%{x}<br>Female Literacy Rate (15-24)=%{y}<br>Unemployment_Rate=%{marker.size}<extra></extra>",
         "legendgroup": "Albania",
         "marker": {
          "color": "#EF553B",
          "size": [
           12.33
          ],
          "sizemode": "area",
          "sizeref": 0.07045,
          "symbol": "circle"
         },
         "mode": "markers",
         "name": "Albania",
         "orientation": "v",
         "showlegend": true,
         "type": "scatter",
         "x": [
          11.78
         ],
         "xaxis": "x",
         "y": [
          100
         ],
         "yaxis": "y"
        },
        {
         "hovertemplate": "Countries and areas=Algeria<br>Birth Rate=%{x}<br>Female Literacy Rate (15-24)=%{y}<br>Unemployment_Rate=%{marker.size}<extra></extra>",
         "legendgroup": "Algeria",
         "marker": {
          "color": "#00cc96",
          "size": [
           11.7
          ],
          "sizemode": "area",
          "sizeref": 0.07045,
          "symbol": "circle"
         },
         "mode": "markers",
         "name": "Algeria",
         "orientation": "v",
         "showlegend": true,
         "type": "scatter",
         "x": [
          24.28
         ],
         "xaxis": "x",
         "y": [
          97
         ],
         "yaxis": "y"
        },
        {
         "hovertemplate": "Countries and areas=Andorra<br>Birth Rate=%{x}<br>Female Literacy Rate (15-24)=%{y}<br>Unemployment_Rate=%{marker.size}<extra></extra>",
         "legendgroup": "Andorra",
         "marker": {
          "color": "#ab63fa",
          "size": [
           0
          ],
          "sizemode": "area",
          "sizeref": 0.07045,
          "symbol": "circle"
         },
         "mode": "markers",
         "name": "Andorra",
         "orientation": "v",
         "showlegend": true,
         "type": "scatter",
         "x": [
          7.2
         ],
         "xaxis": "x",
         "y": [
          0
         ],
         "yaxis": "y"
        },
        {
         "hovertemplate": "Countries and areas=Angola<br>Birth Rate=%{x}<br>Female Literacy Rate (15-24)=%{y}<br>Unemployment_Rate=%{marker.size}<extra></extra>",
         "legendgroup": "Angola",
         "marker": {
          "color": "#FFA15A",
          "size": [
           6.89
          ],
          "sizemode": "area",
          "sizeref": 0.07045,
          "symbol": "circle"
         },
         "mode": "markers",
         "name": "Angola",
         "orientation": "v",
         "showlegend": true,
         "type": "scatter",
         "x": [
          40.73
         ],
         "xaxis": "x",
         "y": [
          0
         ],
         "yaxis": "y"
        },
        {
         "hovertemplate": "Countries and areas=Anguilla<br>Birth Rate=%{x}<br>Female Literacy Rate (15-24)=%{y}<br>Unemployment_Rate=%{marker.size}<extra></extra>",
         "legendgroup": "Anguilla",
         "marker": {
          "color": "#19d3f3",
          "size": [
           0
          ],
          "sizemode": "area",
          "sizeref": 0.07045,
          "symbol": "circle"
         },
         "mode": "markers",
         "name": "Anguilla",
         "orientation": "v",
         "showlegend": true,
         "type": "scatter",
         "x": [
          0
         ],
         "xaxis": "x",
         "y": [
          0
         ],
         "yaxis": "y"
        },
        {
         "hovertemplate": "Countries and areas=Antigua and Barbuda<br>Birth Rate=%{x}<br>Female Literacy Rate (15-24)=%{y}<br>Unemployment_Rate=%{marker.size}<extra></extra>",
         "legendgroup": "Antigua and Barbuda",
         "marker": {
          "color": "#FF6692",
          "size": [
           0
          ],
          "sizemode": "area",
          "sizeref": 0.07045,
          "symbol": "circle"
         },
         "mode": "markers",
         "name": "Antigua and Barbuda",
         "orientation": "v",
         "showlegend": true,
         "type": "scatter",
         "x": [
          15.33
         ],
         "xaxis": "x",
         "y": [
          0
         ],
         "yaxis": "y"
        },
        {
         "hovertemplate": "Countries and areas=Argentina<br>Birth Rate=%{x}<br>Female Literacy Rate (15-24)=%{y}<br>Unemployment_Rate=%{marker.size}<extra></extra>",
         "legendgroup": "Argentina",
         "marker": {
          "color": "#B6E880",
          "size": [
           9.79
          ],
          "sizemode": "area",
          "sizeref": 0.07045,
          "symbol": "circle"
         },
         "mode": "markers",
         "name": "Argentina",
         "orientation": "v",
         "showlegend": true,
         "type": "scatter",
         "x": [
          17.02
         ],
         "xaxis": "x",
         "y": [
          100
         ],
         "yaxis": "y"
        },
        {
         "hovertemplate": "Countries and areas=Armenia<br>Birth Rate=%{x}<br>Female Literacy Rate (15-24)=%{y}<br>Unemployment_Rate=%{marker.size}<extra></extra>",
         "legendgroup": "Armenia",
         "marker": {
          "color": "#FF97FF",
          "size": [
           16.99
          ],
          "sizemode": "area",
          "sizeref": 0.07045,
          "symbol": "circle"
         },
         "mode": "markers",
         "name": "Armenia",
         "orientation": "v",
         "showlegend": true,
         "type": "scatter",
         "x": [
          13.99
         ],
         "xaxis": "x",
         "y": [
          0
         ],
         "yaxis": "y"
        },
        {
         "hovertemplate": "Countries and areas=Australia<br>Birth Rate=%{x}<br>Female Literacy Rate (15-24)=%{y}<br>Unemployment_Rate=%{marker.size}<extra></extra>",
         "legendgroup": "Australia",
         "marker": {
          "color": "#FECB52",
          "size": [
           5.27
          ],
          "sizemode": "area",
          "sizeref": 0.07045,
          "symbol": "circle"
         },
         "mode": "markers",
         "name": "Australia",
         "orientation": "v",
         "showlegend": true,
         "type": "scatter",
         "x": [
          12.6
         ],
         "xaxis": "x",
         "y": [
          0
         ],
         "yaxis": "y"
        },
        {
         "hovertemplate": "Countries and areas=Austria<br>Birth Rate=%{x}<br>Female Literacy Rate (15-24)=%{y}<br>Unemployment_Rate=%{marker.size}<extra></extra>",
         "legendgroup": "Austria",
         "marker": {
          "color": "#636efa",
          "size": [
           4.67
          ],
          "sizemode": "area",
          "sizeref": 0.07045,
          "symbol": "circle"
         },
         "mode": "markers",
         "name": "Austria",
         "orientation": "v",
         "showlegend": true,
         "type": "scatter",
         "x": [
          9.7
         ],
         "xaxis": "x",
         "y": [
          0
         ],
         "yaxis": "y"
        },
        {
         "hovertemplate": "Countries and areas=Azerbaijan<br>Birth Rate=%{x}<br>Female Literacy Rate (15-24)=%{y}<br>Unemployment_Rate=%{marker.size}<extra></extra>",
         "legendgroup": "Azerbaijan",
         "marker": {
          "color": "#EF553B",
          "size": [
           5.51
          ],
          "sizemode": "area",
          "sizeref": 0.07045,
          "symbol": "circle"
         },
         "mode": "markers",
         "name": "Azerbaijan",
         "orientation": "v",
         "showlegend": true,
         "type": "scatter",
         "x": [
          14
         ],
         "xaxis": "x",
         "y": [
          0
         ],
         "yaxis": "y"
        },
        {
         "hovertemplate": "Countries and areas=The Bahamas<br>Birth Rate=%{x}<br>Female Literacy Rate (15-24)=%{y}<br>Unemployment_Rate=%{marker.size}<extra></extra>",
         "legendgroup": "The Bahamas",
         "marker": {
          "color": "#00cc96",
          "size": [
           10.36
          ],
          "sizemode": "area",
          "sizeref": 0.07045,
          "symbol": "circle"
         },
         "mode": "markers",
         "name": "The Bahamas",
         "orientation": "v",
         "showlegend": true,
         "type": "scatter",
         "x": [
          13.97
         ],
         "xaxis": "x",
         "y": [
          0
         ],
         "yaxis": "y"
        },
        {
         "hovertemplate": "Countries and areas=Bahrain<br>Birth Rate=%{x}<br>Female Literacy Rate (15-24)=%{y}<br>Unemployment_Rate=%{marker.size}<extra></extra>",
         "legendgroup": "Bahrain",
         "marker": {
          "color": "#ab63fa",
          "size": [
           0.71
          ],
          "sizemode": "area",
          "sizeref": 0.07045,
          "symbol": "circle"
         },
         "mode": "markers",
         "name": "Bahrain",
         "orientation": "v",
         "showlegend": true,
         "type": "scatter",
         "x": [
          13.99
         ],
         "xaxis": "x",
         "y": [
          99
         ],
         "yaxis": "y"
        },
        {
         "hovertemplate": "Countries and areas=Bangladesh<br>Birth Rate=%{x}<br>Female Literacy Rate (15-24)=%{y}<br>Unemployment_Rate=%{marker.size}<extra></extra>",
         "legendgroup": "Bangladesh",
         "marker": {
          "color": "#FFA15A",
          "size": [
           4.19
          ],
          "sizemode": "area",
          "sizeref": 0.07045,
          "symbol": "circle"
         },
         "mode": "markers",
         "name": "Bangladesh",
         "orientation": "v",
         "showlegend": true,
         "type": "scatter",
         "x": [
          18.18
         ],
         "xaxis": "x",
         "y": [
          96
         ],
         "yaxis": "y"
        },
        {
         "hovertemplate": "Countries and areas=Barbados<br>Birth Rate=%{x}<br>Female Literacy Rate (15-24)=%{y}<br>Unemployment_Rate=%{marker.size}<extra></extra>",
         "legendgroup": "Barbados",
         "marker": {
          "color": "#19d3f3",
          "size": [
           10.33
          ],
          "sizemode": "area",
          "sizeref": 0.07045,
          "symbol": "circle"
         },
         "mode": "markers",
         "name": "Barbados",
         "orientation": "v",
         "showlegend": true,
         "type": "scatter",
         "x": [
          10.65
         ],
         "xaxis": "x",
         "y": [
          0
         ],
         "yaxis": "y"
        },
        {
         "hovertemplate": "Countries and areas=Belarus<br>Birth Rate=%{x}<br>Female Literacy Rate (15-24)=%{y}<br>Unemployment_Rate=%{marker.size}<extra></extra>",
         "legendgroup": "Belarus",
         "marker": {
          "color": "#FF6692",
          "size": [
           4.59
          ],
          "sizemode": "area",
          "sizeref": 0.07045,
          "symbol": "circle"
         },
         "mode": "markers",
         "name": "Belarus",
         "orientation": "v",
         "showlegend": true,
         "type": "scatter",
         "x": [
          9.9
         ],
         "xaxis": "x",
         "y": [
          100
         ],
         "yaxis": "y"
        },
        {
         "hovertemplate": "Countries and areas=Belgium<br>Birth Rate=%{x}<br>Female Literacy Rate (15-24)=%{y}<br>Unemployment_Rate=%{marker.size}<extra></extra>",
         "legendgroup": "Belgium",
         "marker": {
          "color": "#B6E880",
          "size": [
           5.59
          ],
          "sizemode": "area",
          "sizeref": 0.07045,
          "symbol": "circle"
         },
         "mode": "markers",
         "name": "Belgium",
         "orientation": "v",
         "showlegend": true,
         "type": "scatter",
         "x": [
          10.3
         ],
         "xaxis": "x",
         "y": [
          0
         ],
         "yaxis": "y"
        },
        {
         "hovertemplate": "Countries and areas=Belize<br>Birth Rate=%{x}<br>Female Literacy Rate (15-24)=%{y}<br>Unemployment_Rate=%{marker.size}<extra></extra>",
         "legendgroup": "Belize",
         "marker": {
          "color": "#FF97FF",
          "size": [
           6.41
          ],
          "sizemode": "area",
          "sizeref": 0.07045,
          "symbol": "circle"
         },
         "mode": "markers",
         "name": "Belize",
         "orientation": "v",
         "showlegend": true,
         "type": "scatter",
         "x": [
          20.79
         ],
         "xaxis": "x",
         "y": [
          0
         ],
         "yaxis": "y"
        },
        {
         "hovertemplate": "Countries and areas=Benin<br>Birth Rate=%{x}<br>Female Literacy Rate (15-24)=%{y}<br>Unemployment_Rate=%{marker.size}<extra></extra>",
         "legendgroup": "Benin",
         "marker": {
          "color": "#FECB52",
          "size": [
           2.23
          ],
          "sizemode": "area",
          "sizeref": 0.07045,
          "symbol": "circle"
         },
         "mode": "markers",
         "name": "Benin",
         "orientation": "v",
         "showlegend": true,
         "type": "scatter",
         "x": [
          36.22
         ],
         "xaxis": "x",
         "y": [
          52
         ],
         "yaxis": "y"
        },
        {
         "hovertemplate": "Countries and areas=Bhutan<br>Birth Rate=%{x}<br>Female Literacy Rate (15-24)=%{y}<br>Unemployment_Rate=%{marker.size}<extra></extra>",
         "legendgroup": "Bhutan",
         "marker": {
          "color": "#636efa",
          "size": [
           2.34
          ],
          "sizemode": "area",
          "sizeref": 0.07045,
          "symbol": "circle"
         },
         "mode": "markers",
         "name": "Bhutan",
         "orientation": "v",
         "showlegend": true,
         "type": "scatter",
         "x": [
          17.26
         ],
         "xaxis": "x",
         "y": [
          0
         ],
         "yaxis": "y"
        },
        {
         "hovertemplate": "Countries and areas=Bolivia<br>Birth Rate=%{x}<br>Female Literacy Rate (15-24)=%{y}<br>Unemployment_Rate=%{marker.size}<extra></extra>",
         "legendgroup": "Bolivia",
         "marker": {
          "color": "#EF553B",
          "size": [
           3.5
          ],
          "sizemode": "area",
          "sizeref": 0.07045,
          "symbol": "circle"
         },
         "mode": "markers",
         "name": "Bolivia",
         "orientation": "v",
         "showlegend": true,
         "type": "scatter",
         "x": [
          21.75
         ],
         "xaxis": "x",
         "y": [
          0
         ],
         "yaxis": "y"
        },
        {
         "hovertemplate": "Countries and areas=Bosnia and Herzegovina<br>Birth Rate=%{x}<br>Female Literacy Rate (15-24)=%{y}<br>Unemployment_Rate=%{marker.size}<extra></extra>",
         "legendgroup": "Bosnia and Herzegovina",
         "marker": {
          "color": "#00cc96",
          "size": [
           18.42
          ],
          "sizemode": "area",
          "sizeref": 0.07045,
          "symbol": "circle"
         },
         "mode": "markers",
         "name": "Bosnia and Herzegovina",
         "orientation": "v",
         "showlegend": true,
         "type": "scatter",
         "x": [
          8.11
         ],
         "xaxis": "x",
         "y": [
          0
         ],
         "yaxis": "y"
        },
        {
         "hovertemplate": "Countries and areas=Botswana<br>Birth Rate=%{x}<br>Female Literacy Rate (15-24)=%{y}<br>Unemployment_Rate=%{marker.size}<extra></extra>",
         "legendgroup": "Botswana",
         "marker": {
          "color": "#ab63fa",
          "size": [
           18.19
          ],
          "sizemode": "area",
          "sizeref": 0.07045,
          "symbol": "circle"
         },
         "mode": "markers",
         "name": "Botswana",
         "orientation": "v",
         "showlegend": true,
         "type": "scatter",
         "x": [
          24.82
         ],
         "xaxis": "x",
         "y": [
          0
         ],
         "yaxis": "y"
        },
        {
         "hovertemplate": "Countries and areas=Brazil<br>Birth Rate=%{x}<br>Female Literacy Rate (15-24)=%{y}<br>Unemployment_Rate=%{marker.size}<extra></extra>",
         "legendgroup": "Brazil",
         "marker": {
          "color": "#FFA15A",
          "size": [
           12.08
          ],
          "sizemode": "area",
          "sizeref": 0.07045,
          "symbol": "circle"
         },
         "mode": "markers",
         "name": "Brazil",
         "orientation": "v",
         "showlegend": true,
         "type": "scatter",
         "x": [
          13.92
         ],
         "xaxis": "x",
         "y": [
          99
         ],
         "yaxis": "y"
        },
        {
         "hovertemplate": "Countries and areas=British Virgin Islands<br>Birth Rate=%{x}<br>Female Literacy Rate (15-24)=%{y}<br>Unemployment_Rate=%{marker.size}<extra></extra>",
         "legendgroup": "British Virgin Islands",
         "marker": {
          "color": "#19d3f3",
          "size": [
           0
          ],
          "sizemode": "area",
          "sizeref": 0.07045,
          "symbol": "circle"
         },
         "mode": "markers",
         "name": "British Virgin Islands",
         "orientation": "v",
         "showlegend": true,
         "type": "scatter",
         "x": [
          0
         ],
         "xaxis": "x",
         "y": [
          0
         ],
         "yaxis": "y"
        },
        {
         "hovertemplate": "Countries and areas=Brunei<br>Birth Rate=%{x}<br>Female Literacy Rate (15-24)=%{y}<br>Unemployment_Rate=%{marker.size}<extra></extra>",
         "legendgroup": "Brunei",
         "marker": {
          "color": "#FF6692",
          "size": [
           9.12
          ],
          "sizemode": "area",
          "sizeref": 0.07045,
          "symbol": "circle"
         },
         "mode": "markers",
         "name": "Brunei",
         "orientation": "v",
         "showlegend": true,
         "type": "scatter",
         "x": [
          14.9
         ],
         "xaxis": "x",
         "y": [
          100
         ],
         "yaxis": "y"
        },
        {
         "hovertemplate": "Countries and areas=Bulgaria<br>Birth Rate=%{x}<br>Female Literacy Rate (15-24)=%{y}<br>Unemployment_Rate=%{marker.size}<extra></extra>",
         "legendgroup": "Bulgaria",
         "marker": {
          "color": "#B6E880",
          "size": [
           4.34
          ],
          "sizemode": "area",
          "sizeref": 0.07045,
          "symbol": "circle"
         },
         "mode": "markers",
         "name": "Bulgaria",
         "orientation": "v",
         "showlegend": true,
         "type": "scatter",
         "x": [
          8.9
         ],
         "xaxis": "x",
         "y": [
          0
         ],
         "yaxis": "y"
        },
        {
         "hovertemplate": "Countries and areas=Burkina Faso<br>Birth Rate=%{x}<br>Female Literacy Rate (15-24)=%{y}<br>Unemployment_Rate=%{marker.size}<extra></extra>",
         "legendgroup": "Burkina Faso",
         "marker": {
          "color": "#FF97FF",
          "size": [
           6.26
          ],
          "sizemode": "area",
          "sizeref": 0.07045,
          "symbol": "circle"
         },
         "mode": "markers",
         "name": "Burkina Faso",
         "orientation": "v",
         "showlegend": true,
         "type": "scatter",
         "x": [
          37.93
         ],
         "xaxis": "x",
         "y": [
          55
         ],
         "yaxis": "y"
        },
        {
         "hovertemplate": "Countries and areas=Burundi<br>Birth Rate=%{x}<br>Female Literacy Rate (15-24)=%{y}<br>Unemployment_Rate=%{marker.size}<extra></extra>",
         "legendgroup": "Burundi",
         "marker": {
          "color": "#FECB52",
          "size": [
           1.43
          ],
          "sizemode": "area",
          "sizeref": 0.07045,
          "symbol": "circle"
         },
         "mode": "markers",
         "name": "Burundi",
         "orientation": "v",
         "showlegend": true,
         "type": "scatter",
         "x": [
          39.01
         ],
         "xaxis": "x",
         "y": [
          0
         ],
         "yaxis": "y"
        },
        {
         "hovertemplate": "Countries and areas=Cape Verde<br>Birth Rate=%{x}<br>Female Literacy Rate (15-24)=%{y}<br>Unemployment_Rate=%{marker.size}<extra></extra>",
         "legendgroup": "Cape Verde",
         "marker": {
          "color": "#636efa",
          "size": [
           12.25
          ],
          "sizemode": "area",
          "sizeref": 0.07045,
          "symbol": "circle"
         },
         "mode": "markers",
         "name": "Cape Verde",
         "orientation": "v",
         "showlegend": true,
         "type": "scatter",
         "x": [
          19.49
         ],
         "xaxis": "x",
         "y": [
          0
         ],
         "yaxis": "y"
        },
        {
         "hovertemplate": "Countries and areas=Cambodia<br>Birth Rate=%{x}<br>Female Literacy Rate (15-24)=%{y}<br>Unemployment_Rate=%{marker.size}<extra></extra>",
         "legendgroup": "Cambodia",
         "marker": {
          "color": "#EF553B",
          "size": [
           0.68
          ],
          "sizemode": "area",
          "sizeref": 0.07045,
          "symbol": "circle"
         },
         "mode": "markers",
         "name": "Cambodia",
         "orientation": "v",
         "showlegend": true,
         "type": "scatter",
         "x": [
          22.46
         ],
         "xaxis": "x",
         "y": [
          0
         ],
         "yaxis": "y"
        },
        {
         "hovertemplate": "Countries and areas=Cameroon<br>Birth Rate=%{x}<br>Female Literacy Rate (15-24)=%{y}<br>Unemployment_Rate=%{marker.size}<extra></extra>",
         "legendgroup": "Cameroon",
         "marker": {
          "color": "#00cc96",
          "size": [
           3.38
          ],
          "sizemode": "area",
          "sizeref": 0.07045,
          "symbol": "circle"
         },
         "mode": "markers",
         "name": "Cameroon",
         "orientation": "v",
         "showlegend": true,
         "type": "scatter",
         "x": [
          35.39
         ],
         "xaxis": "x",
         "y": [
          82
         ],
         "yaxis": "y"
        },
        {
         "hovertemplate": "Countries and areas=Canada<br>Birth Rate=%{x}<br>Female Literacy Rate (15-24)=%{y}<br>Unemployment_Rate=%{marker.size}<extra></extra>",
         "legendgroup": "Canada",
         "marker": {
          "color": "#ab63fa",
          "size": [
           5.56
          ],
          "sizemode": "area",
          "sizeref": 0.07045,
          "symbol": "circle"
         },
         "mode": "markers",
         "name": "Canada",
         "orientation": "v",
         "showlegend": true,
         "type": "scatter",
         "x": [
          10.1
         ],
         "xaxis": "x",
         "y": [
          0
         ],
         "yaxis": "y"
        },
        {
         "hovertemplate": "Countries and areas=Central African Republic<br>Birth Rate=%{x}<br>Female Literacy Rate (15-24)=%{y}<br>Unemployment_Rate=%{marker.size}<extra></extra>",
         "legendgroup": "Central African Republic",
         "marker": {
          "color": "#FFA15A",
          "size": [
           3.68
          ],
          "sizemode": "area",
          "sizeref": 0.07045,
          "symbol": "circle"
         },
         "mode": "markers",
         "name": "Central African Republic",
         "orientation": "v",
         "showlegend": true,
         "type": "scatter",
         "x": [
          35.35
         ],
         "xaxis": "x",
         "y": [
          29
         ],
         "yaxis": "y"
        },
        {
         "hovertemplate": "Countries and areas=Chad<br>Birth Rate=%{x}<br>Female Literacy Rate (15-24)=%{y}<br>Unemployment_Rate=%{marker.size}<extra></extra>",
         "legendgroup": "Chad",
         "marker": {
          "color": "#19d3f3",
          "size": [
           1.89
          ],
          "sizemode": "area",
          "sizeref": 0.07045,
          "symbol": "circle"
         },
         "mode": "markers",
         "name": "Chad",
         "orientation": "v",
         "showlegend": true,
         "type": "scatter",
         "x": [
          42.17
         ],
         "xaxis": "x",
         "y": [
          0
         ],
         "yaxis": "y"
        },
        {
         "hovertemplate": "Countries and areas=Chile<br>Birth Rate=%{x}<br>Female Literacy Rate (15-24)=%{y}<br>Unemployment_Rate=%{marker.size}<extra></extra>",
         "legendgroup": "Chile",
         "marker": {
          "color": "#FF6692",
          "size": [
           7.09
          ],
          "sizemode": "area",
          "sizeref": 0.07045,
          "symbol": "circle"
         },
         "mode": "markers",
         "name": "Chile",
         "orientation": "v",
         "showlegend": true,
         "type": "scatter",
         "x": [
          12.43
         ],
         "xaxis": "x",
         "y": [
          0
         ],
         "yaxis": "y"
        },
        {
         "hovertemplate": "Countries and areas=China<br>Birth Rate=%{x}<br>Female Literacy Rate (15-24)=%{y}<br>Unemployment_Rate=%{marker.size}<extra></extra>",
         "legendgroup": "China",
         "marker": {
          "color": "#B6E880",
          "size": [
           4.32
          ],
          "sizemode": "area",
          "sizeref": 0.07045,
          "symbol": "circle"
         },
         "mode": "markers",
         "name": "China",
         "orientation": "v",
         "showlegend": true,
         "type": "scatter",
         "x": [
          10.9
         ],
         "xaxis": "x",
         "y": [
          100
         ],
         "yaxis": "y"
        },
        {
         "hovertemplate": "Countries and areas=Colombia<br>Birth Rate=%{x}<br>Female Literacy Rate (15-24)=%{y}<br>Unemployment_Rate=%{marker.size}<extra></extra>",
         "legendgroup": "Colombia",
         "marker": {
          "color": "#FF97FF",
          "size": [
           9.71
          ],
          "sizemode": "area",
          "sizeref": 0.07045,
          "symbol": "circle"
         },
         "mode": "markers",
         "name": "Colombia",
         "orientation": "v",
         "showlegend": true,
         "type": "scatter",
         "x": [
          14.88
         ],
         "xaxis": "x",
         "y": [
          99
         ],
         "yaxis": "y"
        },
        {
         "hovertemplate": "Countries and areas=Comoros<br>Birth Rate=%{x}<br>Female Literacy Rate (15-24)=%{y}<br>Unemployment_Rate=%{marker.size}<extra></extra>",
         "legendgroup": "Comoros",
         "marker": {
          "color": "#FECB52",
          "size": [
           4.34
          ],
          "sizemode": "area",
          "sizeref": 0.07045,
          "symbol": "circle"
         },
         "mode": "markers",
         "name": "Comoros",
         "orientation": "v",
         "showlegend": true,
         "type": "scatter",
         "x": [
          31.88
         ],
         "xaxis": "x",
         "y": [
          78
         ],
         "yaxis": "y"
        },
        {
         "hovertemplate": "Countries and areas=Republic of the Congo<br>Birth Rate=%{x}<br>Female Literacy Rate (15-24)=%{y}<br>Unemployment_Rate=%{marker.size}<extra></extra>",
         "legendgroup": "Republic of the Congo",
         "marker": {
          "color": "#636efa",
          "size": [
           9.47
          ],
          "sizemode": "area",
          "sizeref": 0.07045,
          "symbol": "circle"
         },
         "mode": "markers",
         "name": "Republic of the Congo",
         "orientation": "v",
         "showlegend": true,
         "type": "scatter",
         "x": [
          32.86
         ],
         "xaxis": "x",
         "y": [
          79
         ],
         "yaxis": "y"
        },
        {
         "hovertemplate": "Countries and areas=Cook Islands<br>Birth Rate=%{x}<br>Female Literacy Rate (15-24)=%{y}<br>Unemployment_Rate=%{marker.size}<extra></extra>",
         "legendgroup": "Cook Islands",
         "marker": {
          "color": "#EF553B",
          "size": [
           0
          ],
          "sizemode": "area",
          "sizeref": 0.07045,
          "symbol": "circle"
         },
         "mode": "markers",
         "name": "Cook Islands",
         "orientation": "v",
         "showlegend": true,
         "type": "scatter",
         "x": [
          0
         ],
         "xaxis": "x",
         "y": [
          0
         ],
         "yaxis": "y"
        },
        {
         "hovertemplate": "Countries and areas=Costa Rica<br>Birth Rate=%{x}<br>Female Literacy Rate (15-24)=%{y}<br>Unemployment_Rate=%{marker.size}<extra></extra>",
         "legendgroup": "Costa Rica",
         "marker": {
          "color": "#00cc96",
          "size": [
           11.85
          ],
          "sizemode": "area",
          "sizeref": 0.07045,
          "symbol": "circle"
         },
         "mode": "markers",
         "name": "Costa Rica",
         "orientation": "v",
         "showlegend": true,
         "type": "scatter",
         "x": [
          13.97
         ],
         "xaxis": "x",
         "y": [
          100
         ],
         "yaxis": "y"
        },
        {
         "hovertemplate": "Countries and areas=Ivory Coast<br>Birth Rate=%{x}<br>Female Literacy Rate (15-24)=%{y}<br>Unemployment_Rate=%{marker.size}<extra></extra>",
         "legendgroup": "Ivory Coast",
         "marker": {
          "color": "#ab63fa",
          "size": [
           3.32
          ],
          "sizemode": "area",
          "sizeref": 0.07045,
          "symbol": "circle"
         },
         "mode": "markers",
         "name": "Ivory Coast",
         "orientation": "v",
         "showlegend": true,
         "type": "scatter",
         "x": [
          35.74
         ],
         "xaxis": "x",
         "y": [
          53
         ],
         "yaxis": "y"
        },
        {
         "hovertemplate": "Countries and areas=Croatia<br>Birth Rate=%{x}<br>Female Literacy Rate (15-24)=%{y}<br>Unemployment_Rate=%{marker.size}<extra></extra>",
         "legendgroup": "Croatia",
         "marker": {
          "color": "#FFA15A",
          "size": [
           6.93
          ],
          "sizemode": "area",
          "sizeref": 0.07045,
          "symbol": "circle"
         },
         "mode": "markers",
         "name": "Croatia",
         "orientation": "v",
         "showlegend": true,
         "type": "scatter",
         "x": [
          9
         ],
         "xaxis": "x",
         "y": [
          0
         ],
         "yaxis": "y"
        },
        {
         "hovertemplate": "Countries and areas=Cuba<br>Birth Rate=%{x}<br>Female Literacy Rate (15-24)=%{y}<br>Unemployment_Rate=%{marker.size}<extra></extra>",
         "legendgroup": "Cuba",
         "marker": {
          "color": "#19d3f3",
          "size": [
           1.64
          ],
          "sizemode": "area",
          "sizeref": 0.07045,
          "symbol": "circle"
         },
         "mode": "markers",
         "name": "Cuba",
         "orientation": "v",
         "showlegend": true,
         "type": "scatter",
         "x": [
          10.17
         ],
         "xaxis": "x",
         "y": [
          0
         ],
         "yaxis": "y"
        },
        {
         "hovertemplate": "Countries and areas=Cyprus<br>Birth Rate=%{x}<br>Female Literacy Rate (15-24)=%{y}<br>Unemployment_Rate=%{marker.size}<extra></extra>",
         "legendgroup": "Cyprus",
         "marker": {
          "color": "#FF6692",
          "size": [
           7.27
          ],
          "sizemode": "area",
          "sizeref": 0.07045,
          "symbol": "circle"
         },
         "mode": "markers",
         "name": "Cyprus",
         "orientation": "v",
         "showlegend": true,
         "type": "scatter",
         "x": [
          10.46
         ],
         "xaxis": "x",
         "y": [
          0
         ],
         "yaxis": "y"
        },
        {
         "hovertemplate": "Countries and areas=Czech Republic<br>Birth Rate=%{x}<br>Female Literacy Rate (15-24)=%{y}<br>Unemployment_Rate=%{marker.size}<extra></extra>",
         "legendgroup": "Czech Republic",
         "marker": {
          "color": "#B6E880",
          "size": [
           1.93
          ],
          "sizemode": "area",
          "sizeref": 0.07045,
          "symbol": "circle"
         },
         "mode": "markers",
         "name": "Czech Republic",
         "orientation": "v",
         "showlegend": true,
         "type": "scatter",
         "x": [
          10.7
         ],
         "xaxis": "x",
         "y": [
          0
         ],
         "yaxis": "y"
        },
        {
         "hovertemplate": "Countries and areas=North Korea<br>Birth Rate=%{x}<br>Female Literacy Rate (15-24)=%{y}<br>Unemployment_Rate=%{marker.size}<extra></extra>",
         "legendgroup": "North Korea",
         "marker": {
          "color": "#FF97FF",
          "size": [
           2.74
          ],
          "sizemode": "area",
          "sizeref": 0.07045,
          "symbol": "circle"
         },
         "mode": "markers",
         "name": "North Korea",
         "orientation": "v",
         "showlegend": true,
         "type": "scatter",
         "x": [
          13.89
         ],
         "xaxis": "x",
         "y": [
          0
         ],
         "yaxis": "y"
        },
        {
         "hovertemplate": "Countries and areas=Democratic Republic of the Congo<br>Birth Rate=%{x}<br>Female Literacy Rate (15-24)=%{y}<br>Unemployment_Rate=%{marker.size}<extra></extra>",
         "legendgroup": "Democratic Republic of the Congo",
         "marker": {
          "color": "#FECB52",
          "size": [
           4.24
          ],
          "sizemode": "area",
          "sizeref": 0.07045,
          "symbol": "circle"
         },
         "mode": "markers",
         "name": "Democratic Republic of the Congo",
         "orientation": "v",
         "showlegend": true,
         "type": "scatter",
         "x": [
          41.18
         ],
         "xaxis": "x",
         "y": [
          0
         ],
         "yaxis": "y"
        },
        {
         "hovertemplate": "Countries and areas=Denmark<br>Birth Rate=%{x}<br>Female Literacy Rate (15-24)=%{y}<br>Unemployment_Rate=%{marker.size}<extra></extra>",
         "legendgroup": "Denmark",
         "marker": {
          "color": "#636efa",
          "size": [
           4.91
          ],
          "sizemode": "area",
          "sizeref": 0.07045,
          "symbol": "circle"
         },
         "mode": "markers",
         "name": "Denmark",
         "orientation": "v",
         "showlegend": true,
         "type": "scatter",
         "x": [
          10.6
         ],
         "xaxis": "x",
         "y": [
          0
         ],
         "yaxis": "y"
        },
        {
         "hovertemplate": "Countries and areas=Djibouti<br>Birth Rate=%{x}<br>Female Literacy Rate (15-24)=%{y}<br>Unemployment_Rate=%{marker.size}<extra></extra>",
         "legendgroup": "Djibouti",
         "marker": {
          "color": "#EF553B",
          "size": [
           10.3
          ],
          "sizemode": "area",
          "sizeref": 0.07045,
          "symbol": "circle"
         },
         "mode": "markers",
         "name": "Djibouti",
         "orientation": "v",
         "showlegend": true,
         "type": "scatter",
         "x": [
          21.47
         ],
         "xaxis": "x",
         "y": [
          0
         ],
         "yaxis": "y"
        },
        {
         "hovertemplate": "Countries and areas=Dominica<br>Birth Rate=%{x}<br>Female Literacy Rate (15-24)=%{y}<br>Unemployment_Rate=%{marker.size}<extra></extra>",
         "legendgroup": "Dominica",
         "marker": {
          "color": "#00cc96",
          "size": [
           0
          ],
          "sizemode": "area",
          "sizeref": 0.07045,
          "symbol": "circle"
         },
         "mode": "markers",
         "name": "Dominica",
         "orientation": "v",
         "showlegend": true,
         "type": "scatter",
         "x": [
          12
         ],
         "xaxis": "x",
         "y": [
          0
         ],
         "yaxis": "y"
        },
        {
         "hovertemplate": "Countries and areas=Dominican Republic<br>Birth Rate=%{x}<br>Female Literacy Rate (15-24)=%{y}<br>Unemployment_Rate=%{marker.size}<extra></extra>",
         "legendgroup": "Dominican Republic",
         "marker": {
          "color": "#ab63fa",
          "size": [
           5.84
          ],
          "sizemode": "area",
          "sizeref": 0.07045,
          "symbol": "circle"
         },
         "mode": "markers",
         "name": "Dominican Republic",
         "orientation": "v",
         "showlegend": true,
         "type": "scatter",
         "x": [
          19.51
         ],
         "xaxis": "x",
         "y": [
          0
         ],
         "yaxis": "y"
        },
        {
         "hovertemplate": "Countries and areas=Ecuador<br>Birth Rate=%{x}<br>Female Literacy Rate (15-24)=%{y}<br>Unemployment_Rate=%{marker.size}<extra></extra>",
         "legendgroup": "Ecuador",
         "marker": {
          "color": "#FFA15A",
          "size": [
           3.97
          ],
          "sizemode": "area",
          "sizeref": 0.07045,
          "symbol": "circle"
         },
         "mode": "markers",
         "name": "Ecuador",
         "orientation": "v",
         "showlegend": true,
         "type": "scatter",
         "x": [
          19.72
         ],
         "xaxis": "x",
         "y": [
          0
         ],
         "yaxis": "y"
        },
        {
         "hovertemplate": "Countries and areas=Egypt<br>Birth Rate=%{x}<br>Female Literacy Rate (15-24)=%{y}<br>Unemployment_Rate=%{marker.size}<extra></extra>",
         "legendgroup": "Egypt",
         "marker": {
          "color": "#19d3f3",
          "size": [
           10.76
          ],
          "sizemode": "area",
          "sizeref": 0.07045,
          "symbol": "circle"
         },
         "mode": "markers",
         "name": "Egypt",
         "orientation": "v",
         "showlegend": true,
         "type": "scatter",
         "x": [
          26.38
         ],
         "xaxis": "x",
         "y": [
          0
         ],
         "yaxis": "y"
        },
        {
         "hovertemplate": "Countries and areas=El Salvador<br>Birth Rate=%{x}<br>Female Literacy Rate (15-24)=%{y}<br>Unemployment_Rate=%{marker.size}<extra></extra>",
         "legendgroup": "El Salvador",
         "marker": {
          "color": "#FF6692",
          "size": [
           4.11
          ],
          "sizemode": "area",
          "sizeref": 0.07045,
          "symbol": "circle"
         },
         "mode": "markers",
         "name": "El Salvador",
         "orientation": "v",
         "showlegend": true,
         "type": "scatter",
         "x": [
          18.25
         ],
         "xaxis": "x",
         "y": [
          98
         ],
         "yaxis": "y"
        },
        {
         "hovertemplate": "Countries and areas=Equatorial Guinea<br>Birth Rate=%{x}<br>Female Literacy Rate (15-24)=%{y}<br>Unemployment_Rate=%{marker.size}<extra></extra>",
         "legendgroup": "Equatorial Guinea",
         "marker": {
          "color": "#B6E880",
          "size": [
           6.43
          ],
          "sizemode": "area",
          "sizeref": 0.07045,
          "symbol": "circle"
         },
         "mode": "markers",
         "name": "Equatorial Guinea",
         "orientation": "v",
         "showlegend": true,
         "type": "scatter",
         "x": [
          33.24
         ],
         "xaxis": "x",
         "y": [
          0
         ],
         "yaxis": "y"
        },
        {
         "hovertemplate": "Countries and areas=Eritrea<br>Birth Rate=%{x}<br>Female Literacy Rate (15-24)=%{y}<br>Unemployment_Rate=%{marker.size}<extra></extra>",
         "legendgroup": "Eritrea",
         "marker": {
          "color": "#FF97FF",
          "size": [
           5.14
          ],
          "sizemode": "area",
          "sizeref": 0.07045,
          "symbol": "circle"
         },
         "mode": "markers",
         "name": "Eritrea",
         "orientation": "v",
         "showlegend": true,
         "type": "scatter",
         "x": [
          30.3
         ],
         "xaxis": "x",
         "y": [
          93
         ],
         "yaxis": "y"
        },
        {
         "hovertemplate": "Countries and areas=Estonia<br>Birth Rate=%{x}<br>Female Literacy Rate (15-24)=%{y}<br>Unemployment_Rate=%{marker.size}<extra></extra>",
         "legendgroup": "Estonia",
         "marker": {
          "color": "#FECB52",
          "size": [
           5.11
          ],
          "sizemode": "area",
          "sizeref": 0.07045,
          "symbol": "circle"
         },
         "mode": "markers",
         "name": "Estonia",
         "orientation": "v",
         "showlegend": true,
         "type": "scatter",
         "x": [
          10.9
         ],
         "xaxis": "x",
         "y": [
          0
         ],
         "yaxis": "y"
        },
        {
         "hovertemplate": "Countries and areas=Eswatini<br>Birth Rate=%{x}<br>Female Literacy Rate (15-24)=%{y}<br>Unemployment_Rate=%{marker.size}<extra></extra>",
         "legendgroup": "Eswatini",
         "marker": {
          "color": "#636efa",
          "size": [
           0
          ],
          "sizemode": "area",
          "sizeref": 0.07045,
          "symbol": "circle"
         },
         "mode": "markers",
         "name": "Eswatini",
         "orientation": "v",
         "showlegend": true,
         "type": "scatter",
         "x": [
          0
         ],
         "xaxis": "x",
         "y": [
          97
         ],
         "yaxis": "y"
        },
        {
         "hovertemplate": "Countries and areas=Ethiopia<br>Birth Rate=%{x}<br>Female Literacy Rate (15-24)=%{y}<br>Unemployment_Rate=%{marker.size}<extra></extra>",
         "legendgroup": "Ethiopia",
         "marker": {
          "color": "#EF553B",
          "size": [
           2.08
          ],
          "sizemode": "area",
          "sizeref": 0.07045,
          "symbol": "circle"
         },
         "mode": "markers",
         "name": "Ethiopia",
         "orientation": "v",
         "showlegend": true,
         "type": "scatter",
         "x": [
          32.34
         ],
         "xaxis": "x",
         "y": [
          0
         ],
         "yaxis": "y"
        },
        {
         "hovertemplate": "Countries and areas=Fiji<br>Birth Rate=%{x}<br>Female Literacy Rate (15-24)=%{y}<br>Unemployment_Rate=%{marker.size}<extra></extra>",
         "legendgroup": "Fiji",
         "marker": {
          "color": "#00cc96",
          "size": [
           4.1
          ],
          "sizemode": "area",
          "sizeref": 0.07045,
          "symbol": "circle"
         },
         "mode": "markers",
         "name": "Fiji",
         "orientation": "v",
         "showlegend": true,
         "type": "scatter",
         "x": [
          21.28
         ],
         "xaxis": "x",
         "y": [
          0
         ],
         "yaxis": "y"
        },
        {
         "hovertemplate": "Countries and areas=Finland<br>Birth Rate=%{x}<br>Female Literacy Rate (15-24)=%{y}<br>Unemployment_Rate=%{marker.size}<extra></extra>",
         "legendgroup": "Finland",
         "marker": {
          "color": "#ab63fa",
          "size": [
           6.59
          ],
          "sizemode": "area",
          "sizeref": 0.07045,
          "symbol": "circle"
         },
         "mode": "markers",
         "name": "Finland",
         "orientation": "v",
         "showlegend": true,
         "type": "scatter",
         "x": [
          8.6
         ],
         "xaxis": "x",
         "y": [
          0
         ],
         "yaxis": "y"
        },
        {
         "hovertemplate": "Countries and areas=France<br>Birth Rate=%{x}<br>Female Literacy Rate (15-24)=%{y}<br>Unemployment_Rate=%{marker.size}<extra></extra>",
         "legendgroup": "France",
         "marker": {
          "color": "#FFA15A",
          "size": [
           8.43
          ],
          "sizemode": "area",
          "sizeref": 0.07045,
          "symbol": "circle"
         },
         "mode": "markers",
         "name": "France",
         "orientation": "v",
         "showlegend": true,
         "type": "scatter",
         "x": [
          11.3
         ],
         "xaxis": "x",
         "y": [
          0
         ],
         "yaxis": "y"
        },
        {
         "hovertemplate": "Countries and areas=Gabon<br>Birth Rate=%{x}<br>Female Literacy Rate (15-24)=%{y}<br>Unemployment_Rate=%{marker.size}<extra></extra>",
         "legendgroup": "Gabon",
         "marker": {
          "color": "#19d3f3",
          "size": [
           20
          ],
          "sizemode": "area",
          "sizeref": 0.07045,
          "symbol": "circle"
         },
         "mode": "markers",
         "name": "Gabon",
         "orientation": "v",
         "showlegend": true,
         "type": "scatter",
         "x": [
          31.61
         ],
         "xaxis": "x",
         "y": [
          91
         ],
         "yaxis": "y"
        },
        {
         "hovertemplate": "Countries and areas=The Gambia<br>Birth Rate=%{x}<br>Female Literacy Rate (15-24)=%{y}<br>Unemployment_Rate=%{marker.size}<extra></extra>",
         "legendgroup": "The Gambia",
         "marker": {
          "color": "#FF6692",
          "size": [
           9.06
          ],
          "sizemode": "area",
          "sizeref": 0.07045,
          "symbol": "circle"
         },
         "mode": "markers",
         "name": "The Gambia",
         "orientation": "v",
         "showlegend": true,
         "type": "scatter",
         "x": [
          38.54
         ],
         "xaxis": "x",
         "y": [
          0
         ],
         "yaxis": "y"
        },
        {
         "hovertemplate": "Countries and areas=Georgia<br>Birth Rate=%{x}<br>Female Literacy Rate (15-24)=%{y}<br>Unemployment_Rate=%{marker.size}<extra></extra>",
         "legendgroup": "Georgia",
         "marker": {
          "color": "#B6E880",
          "size": [
           14.4
          ],
          "sizemode": "area",
          "sizeref": 0.07045,
          "symbol": "circle"
         },
         "mode": "markers",
         "name": "Georgia",
         "orientation": "v",
         "showlegend": true,
         "type": "scatter",
         "x": [
          13.47
         ],
         "xaxis": "x",
         "y": [
          0
         ],
         "yaxis": "y"
        },
        {
         "hovertemplate": "Countries and areas=Germany<br>Birth Rate=%{x}<br>Female Literacy Rate (15-24)=%{y}<br>Unemployment_Rate=%{marker.size}<extra></extra>",
         "legendgroup": "Germany",
         "marker": {
          "color": "#FF97FF",
          "size": [
           3.04
          ],
          "sizemode": "area",
          "sizeref": 0.07045,
          "symbol": "circle"
         },
         "mode": "markers",
         "name": "Germany",
         "orientation": "v",
         "showlegend": true,
         "type": "scatter",
         "x": [
          9.5
         ],
         "xaxis": "x",
         "y": [
          0
         ],
         "yaxis": "y"
        },
        {
         "hovertemplate": "Countries and areas=Ghana<br>Birth Rate=%{x}<br>Female Literacy Rate (15-24)=%{y}<br>Unemployment_Rate=%{marker.size}<extra></extra>",
         "legendgroup": "Ghana",
         "marker": {
          "color": "#FECB52",
          "size": [
           4.33
          ],
          "sizemode": "area",
          "sizeref": 0.07045,
          "symbol": "circle"
         },
         "mode": "markers",
         "name": "Ghana",
         "orientation": "v",
         "showlegend": true,
         "type": "scatter",
         "x": [
          29.41
         ],
         "xaxis": "x",
         "y": [
          92
         ],
         "yaxis": "y"
        },
        {
         "hovertemplate": "Countries and areas=Greece<br>Birth Rate=%{x}<br>Female Literacy Rate (15-24)=%{y}<br>Unemployment_Rate=%{marker.size}<extra></extra>",
         "legendgroup": "Greece",
         "marker": {
          "color": "#636efa",
          "size": [
           17.24
          ],
          "sizemode": "area",
          "sizeref": 0.07045,
          "symbol": "circle"
         },
         "mode": "markers",
         "name": "Greece",
         "orientation": "v",
         "showlegend": true,
         "type": "scatter",
         "x": [
          8.1
         ],
         "xaxis": "x",
         "y": [
          99
         ],
         "yaxis": "y"
        },
        {
         "hovertemplate": "Countries and areas=Grenada<br>Birth Rate=%{x}<br>Female Literacy Rate (15-24)=%{y}<br>Unemployment_Rate=%{marker.size}<extra></extra>",
         "legendgroup": "Grenada",
         "marker": {
          "color": "#EF553B",
          "size": [
           0
          ],
          "sizemode": "area",
          "sizeref": 0.07045,
          "symbol": "circle"
         },
         "mode": "markers",
         "name": "Grenada",
         "orientation": "v",
         "showlegend": true,
         "type": "scatter",
         "x": [
          16.47
         ],
         "xaxis": "x",
         "y": [
          0
         ],
         "yaxis": "y"
        },
        {
         "hovertemplate": "Countries and areas=Guatemala<br>Birth Rate=%{x}<br>Female Literacy Rate (15-24)=%{y}<br>Unemployment_Rate=%{marker.size}<extra></extra>",
         "legendgroup": "Guatemala",
         "marker": {
          "color": "#00cc96",
          "size": [
           2.46
          ],
          "sizemode": "area",
          "sizeref": 0.07045,
          "symbol": "circle"
         },
         "mode": "markers",
         "name": "Guatemala",
         "orientation": "v",
         "showlegend": true,
         "type": "scatter",
         "x": [
          24.56
         ],
         "xaxis": "x",
         "y": [
          0
         ],
         "yaxis": "y"
        },
        {
         "hovertemplate": "Countries and areas=Guinea<br>Birth Rate=%{x}<br>Female Literacy Rate (15-24)=%{y}<br>Unemployment_Rate=%{marker.size}<extra></extra>",
         "legendgroup": "Guinea",
         "marker": {
          "color": "#ab63fa",
          "size": [
           4.3
          ],
          "sizemode": "area",
          "sizeref": 0.07045,
          "symbol": "circle"
         },
         "mode": "markers",
         "name": "Guinea",
         "orientation": "v",
         "showlegend": true,
         "type": "scatter",
         "x": [
          36.36
         ],
         "xaxis": "x",
         "y": [
          43
         ],
         "yaxis": "y"
        },
        {
         "hovertemplate": "Countries and areas=Guinea0Bissau<br>Birth Rate=%{x}<br>Female Literacy Rate (15-24)=%{y}<br>Unemployment_Rate=%{marker.size}<extra></extra>",
         "legendgroup": "Guinea0Bissau",
         "marker": {
          "color": "#FFA15A",
          "size": [
           2.47
          ],
          "sizemode": "area",
          "sizeref": 0.07045,
          "symbol": "circle"
         },
         "mode": "markers",
         "name": "Guinea0Bissau",
         "orientation": "v",
         "showlegend": true,
         "type": "scatter",
         "x": [
          35.13
         ],
         "xaxis": "x",
         "y": [
          0
         ],
         "yaxis": "y"
        },
        {
         "hovertemplate": "Countries and areas=Guyana<br>Birth Rate=%{x}<br>Female Literacy Rate (15-24)=%{y}<br>Unemployment_Rate=%{marker.size}<extra></extra>",
         "legendgroup": "Guyana",
         "marker": {
          "color": "#19d3f3",
          "size": [
           11.85
          ],
          "sizemode": "area",
          "sizeref": 0.07045,
          "symbol": "circle"
         },
         "mode": "markers",
         "name": "Guyana",
         "orientation": "v",
         "showlegend": true,
         "type": "scatter",
         "x": [
          19.97
         ],
         "xaxis": "x",
         "y": [
          0
         ],
         "yaxis": "y"
        },
        {
         "hovertemplate": "Countries and areas=Haiti<br>Birth Rate=%{x}<br>Female Literacy Rate (15-24)=%{y}<br>Unemployment_Rate=%{marker.size}<extra></extra>",
         "legendgroup": "Haiti",
         "marker": {
          "color": "#FF6692",
          "size": [
           13.78
          ],
          "sizemode": "area",
          "sizeref": 0.07045,
          "symbol": "circle"
         },
         "mode": "markers",
         "name": "Haiti",
         "orientation": "v",
         "showlegend": true,
         "type": "scatter",
         "x": [
          24.35
         ],
         "xaxis": "x",
         "y": [
          0
         ],
         "yaxis": "y"
        },
        {
         "hovertemplate": "Countries and areas=Vatican City<br>Birth Rate=%{x}<br>Female Literacy Rate (15-24)=%{y}<br>Unemployment_Rate=%{marker.size}<extra></extra>",
         "legendgroup": "Vatican City",
         "marker": {
          "color": "#B6E880",
          "size": [
           0
          ],
          "sizemode": "area",
          "sizeref": 0.07045,
          "symbol": "circle"
         },
         "mode": "markers",
         "name": "Vatican City",
         "orientation": "v",
         "showlegend": true,
         "type": "scatter",
         "x": [
          0
         ],
         "xaxis": "x",
         "y": [
          0
         ],
         "yaxis": "y"
        },
        {
         "hovertemplate": "Countries and areas=Honduras<br>Birth Rate=%{x}<br>Female Literacy Rate (15-24)=%{y}<br>Unemployment_Rate=%{marker.size}<extra></extra>",
         "legendgroup": "Honduras",
         "marker": {
          "color": "#FF97FF",
          "size": [
           5.39
          ],
          "sizemode": "area",
          "sizeref": 0.07045,
          "symbol": "circle"
         },
         "mode": "markers",
         "name": "Honduras",
         "orientation": "v",
         "showlegend": true,
         "type": "scatter",
         "x": [
          21.6
         ],
         "xaxis": "x",
         "y": [
          98
         ],
         "yaxis": "y"
        },
        {
         "hovertemplate": "Countries and areas=Hungary<br>Birth Rate=%{x}<br>Female Literacy Rate (15-24)=%{y}<br>Unemployment_Rate=%{marker.size}<extra></extra>",
         "legendgroup": "Hungary",
         "marker": {
          "color": "#FECB52",
          "size": [
           3.4
          ],
          "sizemode": "area",
          "sizeref": 0.07045,
          "symbol": "circle"
         },
         "mode": "markers",
         "name": "Hungary",
         "orientation": "v",
         "showlegend": true,
         "type": "scatter",
         "x": [
          9.6
         ],
         "xaxis": "x",
         "y": [
          0
         ],
         "yaxis": "y"
        },
        {
         "hovertemplate": "Countries and areas=Iceland<br>Birth Rate=%{x}<br>Female Literacy Rate (15-24)=%{y}<br>Unemployment_Rate=%{marker.size}<extra></extra>",
         "legendgroup": "Iceland",
         "marker": {
          "color": "#636efa",
          "size": [
           2.84
          ],
          "sizemode": "area",
          "sizeref": 0.07045,
          "symbol": "circle"
         },
         "mode": "markers",
         "name": "Iceland",
         "orientation": "v",
         "showlegend": true,
         "type": "scatter",
         "x": [
          12
         ],
         "xaxis": "x",
         "y": [
          0
         ],
         "yaxis": "y"
        },
        {
         "hovertemplate": "Countries and areas=India<br>Birth Rate=%{x}<br>Female Literacy Rate (15-24)=%{y}<br>Unemployment_Rate=%{marker.size}<extra></extra>",
         "legendgroup": "India",
         "marker": {
          "color": "#EF553B",
          "size": [
           5.36
          ],
          "sizemode": "area",
          "sizeref": 0.07045,
          "symbol": "circle"
         },
         "mode": "markers",
         "name": "India",
         "orientation": "v",
         "showlegend": true,
         "type": "scatter",
         "x": [
          17.86
         ],
         "xaxis": "x",
         "y": [
          90
         ],
         "yaxis": "y"
        },
        {
         "hovertemplate": "Countries and areas=Indonesia<br>Birth Rate=%{x}<br>Female Literacy Rate (15-24)=%{y}<br>Unemployment_Rate=%{marker.size}<extra></extra>",
         "legendgroup": "Indonesia",
         "marker": {
          "color": "#00cc96",
          "size": [
           4.69
          ],
          "sizemode": "area",
          "sizeref": 0.07045,
          "symbol": "circle"
         },
         "mode": "markers",
         "name": "Indonesia",
         "orientation": "v",
         "showlegend": true,
         "type": "scatter",
         "x": [
          18.07
         ],
         "xaxis": "x",
         "y": [
          100
         ],
         "yaxis": "y"
        },
        {
         "hovertemplate": "Countries and areas=Iran<br>Birth Rate=%{x}<br>Female Literacy Rate (15-24)=%{y}<br>Unemployment_Rate=%{marker.size}<extra></extra>",
         "legendgroup": "Iran",
         "marker": {
          "color": "#ab63fa",
          "size": [
           11.38
          ],
          "sizemode": "area",
          "sizeref": 0.07045,
          "symbol": "circle"
         },
         "mode": "markers",
         "name": "Iran",
         "orientation": "v",
         "showlegend": true,
         "type": "scatter",
         "x": [
          18.78
         ],
         "xaxis": "x",
         "y": [
          0
         ],
         "yaxis": "y"
        },
        {
         "hovertemplate": "Countries and areas=Iraq<br>Birth Rate=%{x}<br>Female Literacy Rate (15-24)=%{y}<br>Unemployment_Rate=%{marker.size}<extra></extra>",
         "legendgroup": "Iraq",
         "marker": {
          "color": "#FFA15A",
          "size": [
           12.82
          ],
          "sizemode": "area",
          "sizeref": 0.07045,
          "symbol": "circle"
         },
         "mode": "markers",
         "name": "Iraq",
         "orientation": "v",
         "showlegend": true,
         "type": "scatter",
         "x": [
          29.08
         ],
         "xaxis": "x",
         "y": [
          0
         ],
         "yaxis": "y"
        },
        {
         "hovertemplate": "Countries and areas=Republic of Ireland<br>Birth Rate=%{x}<br>Female Literacy Rate (15-24)=%{y}<br>Unemployment_Rate=%{marker.size}<extra></extra>",
         "legendgroup": "Republic of Ireland",
         "marker": {
          "color": "#19d3f3",
          "size": [
           4.93
          ],
          "sizemode": "area",
          "sizeref": 0.07045,
          "symbol": "circle"
         },
         "mode": "markers",
         "name": "Republic of Ireland",
         "orientation": "v",
         "showlegend": true,
         "type": "scatter",
         "x": [
          12.5
         ],
         "xaxis": "x",
         "y": [
          0
         ],
         "yaxis": "y"
        },
        {
         "hovertemplate": "Countries and areas=Israel<br>Birth Rate=%{x}<br>Female Literacy Rate (15-24)=%{y}<br>Unemployment_Rate=%{marker.size}<extra></extra>",
         "legendgroup": "Israel",
         "marker": {
          "color": "#FF6692",
          "size": [
           3.86
          ],
          "sizemode": "area",
          "sizeref": 0.07045,
          "symbol": "circle"
         },
         "mode": "markers",
         "name": "Israel",
         "orientation": "v",
         "showlegend": true,
         "type": "scatter",
         "x": [
          20.8
         ],
         "xaxis": "x",
         "y": [
          0
         ],
         "yaxis": "y"
        },
        {
         "hovertemplate": "Countries and areas=Italy<br>Birth Rate=%{x}<br>Female Literacy Rate (15-24)=%{y}<br>Unemployment_Rate=%{marker.size}<extra></extra>",
         "legendgroup": "Italy",
         "marker": {
          "color": "#B6E880",
          "size": [
           9.89
          ],
          "sizemode": "area",
          "sizeref": 0.07045,
          "symbol": "circle"
         },
         "mode": "markers",
         "name": "Italy",
         "orientation": "v",
         "showlegend": true,
         "type": "scatter",
         "x": [
          7.3
         ],
         "xaxis": "x",
         "y": [
          100
         ],
         "yaxis": "y"
        },
        {
         "hovertemplate": "Countries and areas=Jamaica<br>Birth Rate=%{x}<br>Female Literacy Rate (15-24)=%{y}<br>Unemployment_Rate=%{marker.size}<extra></extra>",
         "legendgroup": "Jamaica",
         "marker": {
          "color": "#FF97FF",
          "size": [
           8
          ],
          "sizemode": "area",
          "sizeref": 0.07045,
          "symbol": "circle"
         },
         "mode": "markers",
         "name": "Jamaica",
         "orientation": "v",
         "showlegend": true,
         "type": "scatter",
         "x": [
          16.1
         ],
         "xaxis": "x",
         "y": [
          0
         ],
         "yaxis": "y"
        },
        {
         "hovertemplate": "Countries and areas=Japan<br>Birth Rate=%{x}<br>Female Literacy Rate (15-24)=%{y}<br>Unemployment_Rate=%{marker.size}<extra></extra>",
         "legendgroup": "Japan",
         "marker": {
          "color": "#FECB52",
          "size": [
           2.29
          ],
          "sizemode": "area",
          "sizeref": 0.07045,
          "symbol": "circle"
         },
         "mode": "markers",
         "name": "Japan",
         "orientation": "v",
         "showlegend": true,
         "type": "scatter",
         "x": [
          7.4
         ],
         "xaxis": "x",
         "y": [
          0
         ],
         "yaxis": "y"
        },
        {
         "hovertemplate": "Countries and areas=Jordan<br>Birth Rate=%{x}<br>Female Literacy Rate (15-24)=%{y}<br>Unemployment_Rate=%{marker.size}<extra></extra>",
         "legendgroup": "Jordan",
         "marker": {
          "color": "#636efa",
          "size": [
           14.72
          ],
          "sizemode": "area",
          "sizeref": 0.07045,
          "symbol": "circle"
         },
         "mode": "markers",
         "name": "Jordan",
         "orientation": "v",
         "showlegend": true,
         "type": "scatter",
         "x": [
          21.98
         ],
         "xaxis": "x",
         "y": [
          99
         ],
         "yaxis": "y"
        },
        {
         "hovertemplate": "Countries and areas=Kazakhstan<br>Birth Rate=%{x}<br>Female Literacy Rate (15-24)=%{y}<br>Unemployment_Rate=%{marker.size}<extra></extra>",
         "legendgroup": "Kazakhstan",
         "marker": {
          "color": "#EF553B",
          "size": [
           4.59
          ],
          "sizemode": "area",
          "sizeref": 0.07045,
          "symbol": "circle"
         },
         "mode": "markers",
         "name": "Kazakhstan",
         "orientation": "v",
         "showlegend": true,
         "type": "scatter",
         "x": [
          21.77
         ],
         "xaxis": "x",
         "y": [
          100
         ],
         "yaxis": "y"
        },
        {
         "hovertemplate": "Countries and areas=Kenya<br>Birth Rate=%{x}<br>Female Literacy Rate (15-24)=%{y}<br>Unemployment_Rate=%{marker.size}<extra></extra>",
         "legendgroup": "Kenya",
         "marker": {
          "color": "#00cc96",
          "size": [
           2.64
          ],
          "sizemode": "area",
          "sizeref": 0.07045,
          "symbol": "circle"
         },
         "mode": "markers",
         "name": "Kenya",
         "orientation": "v",
         "showlegend": true,
         "type": "scatter",
         "x": [
          28.75
         ],
         "xaxis": "x",
         "y": [
          88
         ],
         "yaxis": "y"
        },
        {
         "hovertemplate": "Countries and areas=Kiribati<br>Birth Rate=%{x}<br>Female Literacy Rate (15-24)=%{y}<br>Unemployment_Rate=%{marker.size}<extra></extra>",
         "legendgroup": "Kiribati",
         "marker": {
          "color": "#ab63fa",
          "size": [
           0
          ],
          "sizemode": "area",
          "sizeref": 0.07045,
          "symbol": "circle"
         },
         "mode": "markers",
         "name": "Kiribati",
         "orientation": "v",
         "showlegend": true,
         "type": "scatter",
         "x": [
          27.89
         ],
         "xaxis": "x",
         "y": [
          0
         ],
         "yaxis": "y"
        },
        {
         "hovertemplate": "Countries and areas=Kuwait<br>Birth Rate=%{x}<br>Female Literacy Rate (15-24)=%{y}<br>Unemployment_Rate=%{marker.size}<extra></extra>",
         "legendgroup": "Kuwait",
         "marker": {
          "color": "#FFA15A",
          "size": [
           2.18
          ],
          "sizemode": "area",
          "sizeref": 0.07045,
          "symbol": "circle"
         },
         "mode": "markers",
         "name": "Kuwait",
         "orientation": "v",
         "showlegend": true,
         "type": "scatter",
         "x": [
          13.94
         ],
         "xaxis": "x",
         "y": [
          100
         ],
         "yaxis": "y"
        },
        {
         "hovertemplate": "Countries and areas=Kyrgyzstan<br>Birth Rate=%{x}<br>Female Literacy Rate (15-24)=%{y}<br>Unemployment_Rate=%{marker.size}<extra></extra>",
         "legendgroup": "Kyrgyzstan",
         "marker": {
          "color": "#19d3f3",
          "size": [
           6.33
          ],
          "sizemode": "area",
          "sizeref": 0.07045,
          "symbol": "circle"
         },
         "mode": "markers",
         "name": "Kyrgyzstan",
         "orientation": "v",
         "showlegend": true,
         "type": "scatter",
         "x": [
          27.1
         ],
         "xaxis": "x",
         "y": [
          100
         ],
         "yaxis": "y"
        },
        {
         "hovertemplate": "Countries and areas=Laos<br>Birth Rate=%{x}<br>Female Literacy Rate (15-24)=%{y}<br>Unemployment_Rate=%{marker.size}<extra></extra>",
         "legendgroup": "Laos",
         "marker": {
          "color": "#FF6692",
          "size": [
           0.63
          ],
          "sizemode": "area",
          "sizeref": 0.07045,
          "symbol": "circle"
         },
         "mode": "markers",
         "name": "Laos",
         "orientation": "v",
         "showlegend": true,
         "type": "scatter",
         "x": [
          23.55
         ],
         "xaxis": "x",
         "y": [
          0
         ],
         "yaxis": "y"
        },
        {
         "hovertemplate": "Countries and areas=Latvia<br>Birth Rate=%{x}<br>Female Literacy Rate (15-24)=%{y}<br>Unemployment_Rate=%{marker.size}<extra></extra>",
         "legendgroup": "Latvia",
         "marker": {
          "color": "#B6E880",
          "size": [
           6.52
          ],
          "sizemode": "area",
          "sizeref": 0.07045,
          "symbol": "circle"
         },
         "mode": "markers",
         "name": "Latvia",
         "orientation": "v",
         "showlegend": true,
         "type": "scatter",
         "x": [
          10
         ],
         "xaxis": "x",
         "y": [
          100
         ],
         "yaxis": "y"
        },
        {
         "hovertemplate": "Countries and areas=Lebanon<br>Birth Rate=%{x}<br>Female Literacy Rate (15-24)=%{y}<br>Unemployment_Rate=%{marker.size}<extra></extra>",
         "legendgroup": "Lebanon",
         "marker": {
          "color": "#FF97FF",
          "size": [
           6.23
          ],
          "sizemode": "area",
          "sizeref": 0.07045,
          "symbol": "circle"
         },
         "mode": "markers",
         "name": "Lebanon",
         "orientation": "v",
         "showlegend": true,
         "type": "scatter",
         "x": [
          17.55
         ],
         "xaxis": "x",
         "y": [
          100
         ],
         "yaxis": "y"
        },
        {
         "hovertemplate": "Countries and areas=Lesotho<br>Birth Rate=%{x}<br>Female Literacy Rate (15-24)=%{y}<br>Unemployment_Rate=%{marker.size}<extra></extra>",
         "legendgroup": "Lesotho",
         "marker": {
          "color": "#FECB52",
          "size": [
           23.41
          ],
          "sizemode": "area",
          "sizeref": 0.07045,
          "symbol": "circle"
         },
         "mode": "markers",
         "name": "Lesotho",
         "orientation": "v",
         "showlegend": true,
         "type": "scatter",
         "x": [
          26.81
         ],
         "xaxis": "x",
         "y": [
          0
         ],
         "yaxis": "y"
        },
        {
         "hovertemplate": "Countries and areas=Liberia<br>Birth Rate=%{x}<br>Female Literacy Rate (15-24)=%{y}<br>Unemployment_Rate=%{marker.size}<extra></extra>",
         "legendgroup": "Liberia",
         "marker": {
          "color": "#636efa",
          "size": [
           2.81
          ],
          "sizemode": "area",
          "sizeref": 0.07045,
          "symbol": "circle"
         },
         "mode": "markers",
         "name": "Liberia",
         "orientation": "v",
         "showlegend": true,
         "type": "scatter",
         "x": [
          33.04
         ],
         "xaxis": "x",
         "y": [
          0
         ],
         "yaxis": "y"
        },
        {
         "hovertemplate": "Countries and areas=Libya<br>Birth Rate=%{x}<br>Female Literacy Rate (15-24)=%{y}<br>Unemployment_Rate=%{marker.size}<extra></extra>",
         "legendgroup": "Libya",
         "marker": {
          "color": "#EF553B",
          "size": [
           18.56
          ],
          "sizemode": "area",
          "sizeref": 0.07045,
          "symbol": "circle"
         },
         "mode": "markers",
         "name": "Libya",
         "orientation": "v",
         "showlegend": true,
         "type": "scatter",
         "x": [
          18.83
         ],
         "xaxis": "x",
         "y": [
          0
         ],
         "yaxis": "y"
        },
        {
         "hovertemplate": "Countries and areas=Liechtenstein<br>Birth Rate=%{x}<br>Female Literacy Rate (15-24)=%{y}<br>Unemployment_Rate=%{marker.size}<extra></extra>",
         "legendgroup": "Liechtenstein",
         "marker": {
          "color": "#00cc96",
          "size": [
           0
          ],
          "sizemode": "area",
          "sizeref": 0.07045,
          "symbol": "circle"
         },
         "mode": "markers",
         "name": "Liechtenstein",
         "orientation": "v",
         "showlegend": true,
         "type": "scatter",
         "x": [
          9.9
         ],
         "xaxis": "x",
         "y": [
          0
         ],
         "yaxis": "y"
        },
        {
         "hovertemplate": "Countries and areas=Lithuania<br>Birth Rate=%{x}<br>Female Literacy Rate (15-24)=%{y}<br>Unemployment_Rate=%{marker.size}<extra></extra>",
         "legendgroup": "Lithuania",
         "marker": {
          "color": "#ab63fa",
          "size": [
           6.35
          ],
          "sizemode": "area",
          "sizeref": 0.07045,
          "symbol": "circle"
         },
         "mode": "markers",
         "name": "Lithuania",
         "orientation": "v",
         "showlegend": true,
         "type": "scatter",
         "x": [
          10
         ],
         "xaxis": "x",
         "y": [
          0
         ],
         "yaxis": "y"
        },
        {
         "hovertemplate": "Countries and areas=Luxembourg<br>Birth Rate=%{x}<br>Female Literacy Rate (15-24)=%{y}<br>Unemployment_Rate=%{marker.size}<extra></extra>",
         "legendgroup": "Luxembourg",
         "marker": {
          "color": "#FFA15A",
          "size": [
           5.36
          ],
          "sizemode": "area",
          "sizeref": 0.07045,
          "symbol": "circle"
         },
         "mode": "markers",
         "name": "Luxembourg",
         "orientation": "v",
         "showlegend": true,
         "type": "scatter",
         "x": [
          10.3
         ],
         "xaxis": "x",
         "y": [
          0
         ],
         "yaxis": "y"
        },
        {
         "hovertemplate": "Countries and areas=Madagascar<br>Birth Rate=%{x}<br>Female Literacy Rate (15-24)=%{y}<br>Unemployment_Rate=%{marker.size}<extra></extra>",
         "legendgroup": "Madagascar",
         "marker": {
          "color": "#19d3f3",
          "size": [
           1.76
          ],
          "sizemode": "area",
          "sizeref": 0.07045,
          "symbol": "circle"
         },
         "mode": "markers",
         "name": "Madagascar",
         "orientation": "v",
         "showlegend": true,
         "type": "scatter",
         "x": [
          32.66
         ],
         "xaxis": "x",
         "y": [
          81
         ],
         "yaxis": "y"
        },
        {
         "hovertemplate": "Countries and areas=Malawi<br>Birth Rate=%{x}<br>Female Literacy Rate (15-24)=%{y}<br>Unemployment_Rate=%{marker.size}<extra></extra>",
         "legendgroup": "Malawi",
         "marker": {
          "color": "#FF6692",
          "size": [
           5.65
          ],
          "sizemode": "area",
          "sizeref": 0.07045,
          "symbol": "circle"
         },
         "mode": "markers",
         "name": "Malawi",
         "orientation": "v",
         "showlegend": true,
         "type": "scatter",
         "x": [
          34.12
         ],
         "xaxis": "x",
         "y": [
          0
         ],
         "yaxis": "y"
        },
        {
         "hovertemplate": "Countries and areas=Malaysia<br>Birth Rate=%{x}<br>Female Literacy Rate (15-24)=%{y}<br>Unemployment_Rate=%{marker.size}<extra></extra>",
         "legendgroup": "Malaysia",
         "marker": {
          "color": "#B6E880",
          "size": [
           3.32
          ],
          "sizemode": "area",
          "sizeref": 0.07045,
          "symbol": "circle"
         },
         "mode": "markers",
         "name": "Malaysia",
         "orientation": "v",
         "showlegend": true,
         "type": "scatter",
         "x": [
          16.75
         ],
         "xaxis": "x",
         "y": [
          97
         ],
         "yaxis": "y"
        },
        {
         "hovertemplate": "Countries and areas=Maldives<br>Birth Rate=%{x}<br>Female Literacy Rate (15-24)=%{y}<br>Unemployment_Rate=%{marker.size}<extra></extra>",
         "legendgroup": "Maldives",
         "marker": {
          "color": "#FF97FF",
          "size": [
           6.14
          ],
          "sizemode": "area",
          "sizeref": 0.07045,
          "symbol": "circle"
         },
         "mode": "markers",
         "name": "Maldives",
         "orientation": "v",
         "showlegend": true,
         "type": "scatter",
         "x": [
          14.2
         ],
         "xaxis": "x",
         "y": [
          0
         ],
         "yaxis": "y"
        },
        {
         "hovertemplate": "Countries and areas=Mali<br>Birth Rate=%{x}<br>Female Literacy Rate (15-24)=%{y}<br>Unemployment_Rate=%{marker.size}<extra></extra>",
         "legendgroup": "Mali",
         "marker": {
          "color": "#FECB52",
          "size": [
           7.22
          ],
          "sizemode": "area",
          "sizeref": 0.07045,
          "symbol": "circle"
         },
         "mode": "markers",
         "name": "Mali",
         "orientation": "v",
         "showlegend": true,
         "type": "scatter",
         "x": [
          41.54
         ],
         "xaxis": "x",
         "y": [
          43
         ],
         "yaxis": "y"
        },
        {
         "hovertemplate": "Countries and areas=Malta<br>Birth Rate=%{x}<br>Female Literacy Rate (15-24)=%{y}<br>Unemployment_Rate=%{marker.size}<extra></extra>",
         "legendgroup": "Malta",
         "marker": {
          "color": "#636efa",
          "size": [
           3.47
          ],
          "sizemode": "area",
          "sizeref": 0.07045,
          "symbol": "circle"
         },
         "mode": "markers",
         "name": "Malta",
         "orientation": "v",
         "showlegend": true,
         "type": "scatter",
         "x": [
          9.2
         ],
         "xaxis": "x",
         "y": [
          100
         ],
         "yaxis": "y"
        },
        {
         "hovertemplate": "Countries and areas=Marshall Islands<br>Birth Rate=%{x}<br>Female Literacy Rate (15-24)=%{y}<br>Unemployment_Rate=%{marker.size}<extra></extra>",
         "legendgroup": "Marshall Islands",
         "marker": {
          "color": "#EF553B",
          "size": [
           0
          ],
          "sizemode": "area",
          "sizeref": 0.07045,
          "symbol": "circle"
         },
         "mode": "markers",
         "name": "Marshall Islands",
         "orientation": "v",
         "showlegend": true,
         "type": "scatter",
         "x": [
          29.03
         ],
         "xaxis": "x",
         "y": [
          0
         ],
         "yaxis": "y"
        },
        {
         "hovertemplate": "Countries and areas=Mauritania<br>Birth Rate=%{x}<br>Female Literacy Rate (15-24)=%{y}<br>Unemployment_Rate=%{marker.size}<extra></extra>",
         "legendgroup": "Mauritania",
         "marker": {
          "color": "#00cc96",
          "size": [
           9.55
          ],
          "sizemode": "area",
          "sizeref": 0.07045,
          "symbol": "circle"
         },
         "mode": "markers",
         "name": "Mauritania",
         "orientation": "v",
         "showlegend": true,
         "type": "scatter",
         "x": [
          33.69
         ],
         "xaxis": "x",
         "y": [
          0
         ],
         "yaxis": "y"
        },
        {
         "hovertemplate": "Countries and areas=Mauritius<br>Birth Rate=%{x}<br>Female Literacy Rate (15-24)=%{y}<br>Unemployment_Rate=%{marker.size}<extra></extra>",
         "legendgroup": "Mauritius",
         "marker": {
          "color": "#ab63fa",
          "size": [
           6.67
          ],
          "sizemode": "area",
          "sizeref": 0.07045,
          "symbol": "circle"
         },
         "mode": "markers",
         "name": "Mauritius",
         "orientation": "v",
         "showlegend": true,
         "type": "scatter",
         "x": [
          10.2
         ],
         "xaxis": "x",
         "y": [
          99
         ],
         "yaxis": "y"
        },
        {
         "hovertemplate": "Countries and areas=Mexico<br>Birth Rate=%{x}<br>Female Literacy Rate (15-24)=%{y}<br>Unemployment_Rate=%{marker.size}<extra></extra>",
         "legendgroup": "Mexico",
         "marker": {
          "color": "#FFA15A",
          "size": [
           3.42
          ],
          "sizemode": "area",
          "sizeref": 0.07045,
          "symbol": "circle"
         },
         "mode": "markers",
         "name": "Mexico",
         "orientation": "v",
         "showlegend": true,
         "type": "scatter",
         "x": [
          17.6
         ],
         "xaxis": "x",
         "y": [
          99
         ],
         "yaxis": "y"
        },
        {
         "hovertemplate": "Countries and areas=Federated States of Micronesia<br>Birth Rate=%{x}<br>Female Literacy Rate (15-24)=%{y}<br>Unemployment_Rate=%{marker.size}<extra></extra>",
         "legendgroup": "Federated States of Micronesia",
         "marker": {
          "color": "#19d3f3",
          "size": [
           0
          ],
          "sizemode": "area",
          "sizeref": 0.07045,
          "symbol": "circle"
         },
         "mode": "markers",
         "name": "Federated States of Micronesia",
         "orientation": "v",
         "showlegend": true,
         "type": "scatter",
         "x": [
          22.82
         ],
         "xaxis": "x",
         "y": [
          0
         ],
         "yaxis": "y"
        },
        {
         "hovertemplate": "Countries and areas=Monaco<br>Birth Rate=%{x}<br>Female Literacy Rate (15-24)=%{y}<br>Unemployment_Rate=%{marker.size}<extra></extra>",
         "legendgroup": "Monaco",
         "marker": {
          "color": "#FF6692",
          "size": [
           0
          ],
          "sizemode": "area",
          "sizeref": 0.07045,
          "symbol": "circle"
         },
         "mode": "markers",
         "name": "Monaco",
         "orientation": "v",
         "showlegend": true,
         "type": "scatter",
         "x": [
          5.9
         ],
         "xaxis": "x",
         "y": [
          0
         ],
         "yaxis": "y"
        },
        {
         "hovertemplate": "Countries and areas=Mongolia<br>Birth Rate=%{x}<br>Female Literacy Rate (15-24)=%{y}<br>Unemployment_Rate=%{marker.size}<extra></extra>",
         "legendgroup": "Mongolia",
         "marker": {
          "color": "#B6E880",
          "size": [
           6.01
          ],
          "sizemode": "area",
          "sizeref": 0.07045,
          "symbol": "circle"
         },
         "mode": "markers",
         "name": "Mongolia",
         "orientation": "v",
         "showlegend": true,
         "type": "scatter",
         "x": [
          24.13
         ],
         "xaxis": "x",
         "y": [
          99
         ],
         "yaxis": "y"
        },
        {
         "hovertemplate": "Countries and areas=Montenegro<br>Birth Rate=%{x}<br>Female Literacy Rate (15-24)=%{y}<br>Unemployment_Rate=%{marker.size}<extra></extra>",
         "legendgroup": "Montenegro",
         "marker": {
          "color": "#FF97FF",
          "size": [
           14.88
          ],
          "sizemode": "area",
          "sizeref": 0.07045,
          "symbol": "circle"
         },
         "mode": "markers",
         "name": "Montenegro",
         "orientation": "v",
         "showlegend": true,
         "type": "scatter",
         "x": [
          11.73
         ],
         "xaxis": "x",
         "y": [
          99
         ],
         "yaxis": "y"
        },
        {
         "hovertemplate": "Countries and areas=Montserrat<br>Birth Rate=%{x}<br>Female Literacy Rate (15-24)=%{y}<br>Unemployment_Rate=%{marker.size}<extra></extra>",
         "legendgroup": "Montserrat",
         "marker": {
          "color": "#FECB52",
          "size": [
           0
          ],
          "sizemode": "area",
          "sizeref": 0.07045,
          "symbol": "circle"
         },
         "mode": "markers",
         "name": "Montserrat",
         "orientation": "v",
         "showlegend": true,
         "type": "scatter",
         "x": [
          0
         ],
         "xaxis": "x",
         "y": [
          0
         ],
         "yaxis": "y"
        },
        {
         "hovertemplate": "Countries and areas=Morocco<br>Birth Rate=%{x}<br>Female Literacy Rate (15-24)=%{y}<br>Unemployment_Rate=%{marker.size}<extra></extra>",
         "legendgroup": "Morocco",
         "marker": {
          "color": "#636efa",
          "size": [
           9.02
          ],
          "sizemode": "area",
          "sizeref": 0.07045,
          "symbol": "circle"
         },
         "mode": "markers",
         "name": "Morocco",
         "orientation": "v",
         "showlegend": true,
         "type": "scatter",
         "x": [
          18.94
         ],
         "xaxis": "x",
         "y": [
          97
         ],
         "yaxis": "y"
        },
        {
         "hovertemplate": "Countries and areas=Mozambique<br>Birth Rate=%{x}<br>Female Literacy Rate (15-24)=%{y}<br>Unemployment_Rate=%{marker.size}<extra></extra>",
         "legendgroup": "Mozambique",
         "marker": {
          "color": "#EF553B",
          "size": [
           3.24
          ],
          "sizemode": "area",
          "sizeref": 0.07045,
          "symbol": "circle"
         },
         "mode": "markers",
         "name": "Mozambique",
         "orientation": "v",
         "showlegend": true,
         "type": "scatter",
         "x": [
          37.52
         ],
         "xaxis": "x",
         "y": [
          0
         ],
         "yaxis": "y"
        },
        {
         "hovertemplate": "Countries and areas=Myanmar<br>Birth Rate=%{x}<br>Female Literacy Rate (15-24)=%{y}<br>Unemployment_Rate=%{marker.size}<extra></extra>",
         "legendgroup": "Myanmar",
         "marker": {
          "color": "#00cc96",
          "size": [
           1.58
          ],
          "sizemode": "area",
          "sizeref": 0.07045,
          "symbol": "circle"
         },
         "mode": "markers",
         "name": "Myanmar",
         "orientation": "v",
         "showlegend": true,
         "type": "scatter",
         "x": [
          17.55
         ],
         "xaxis": "x",
         "y": [
          0
         ],
         "yaxis": "y"
        },
        {
         "hovertemplate": "Countries and areas=Namibia<br>Birth Rate=%{x}<br>Female Literacy Rate (15-24)=%{y}<br>Unemployment_Rate=%{marker.size}<extra></extra>",
         "legendgroup": "Namibia",
         "marker": {
          "color": "#ab63fa",
          "size": [
           20.27
          ],
          "sizemode": "area",
          "sizeref": 0.07045,
          "symbol": "circle"
         },
         "mode": "markers",
         "name": "Namibia",
         "orientation": "v",
         "showlegend": true,
         "type": "scatter",
         "x": [
          28.64
         ],
         "xaxis": "x",
         "y": [
          96
         ],
         "yaxis": "y"
        },
        {
         "hovertemplate": "Countries and areas=Nauru<br>Birth Rate=%{x}<br>Female Literacy Rate (15-24)=%{y}<br>Unemployment_Rate=%{marker.size}<extra></extra>",
         "legendgroup": "Nauru",
         "marker": {
          "color": "#FFA15A",
          "size": [
           0
          ],
          "sizemode": "area",
          "sizeref": 0.07045,
          "symbol": "circle"
         },
         "mode": "markers",
         "name": "Nauru",
         "orientation": "v",
         "showlegend": true,
         "type": "scatter",
         "x": [
          0
         ],
         "xaxis": "x",
         "y": [
          0
         ],
         "yaxis": "y"
        },
        {
         "hovertemplate": "Countries and areas=Nepal<br>Birth Rate=%{x}<br>Female Literacy Rate (15-24)=%{y}<br>Unemployment_Rate=%{marker.size}<extra></extra>",
         "legendgroup": "Nepal",
         "marker": {
          "color": "#19d3f3",
          "size": [
           1.41
          ],
          "sizemode": "area",
          "sizeref": 0.07045,
          "symbol": "circle"
         },
         "mode": "markers",
         "name": "Nepal",
         "orientation": "v",
         "showlegend": true,
         "type": "scatter",
         "x": [
          19.89
         ],
         "xaxis": "x",
         "y": [
          91
         ],
         "yaxis": "y"
        },
        {
         "hovertemplate": "Countries and areas=Netherlands<br>Birth Rate=%{x}<br>Female Literacy Rate (15-24)=%{y}<br>Unemployment_Rate=%{marker.size}<extra></extra>",
         "legendgroup": "Netherlands",
         "marker": {
          "color": "#FF6692",
          "size": [
           3.2
          ],
          "sizemode": "area",
          "sizeref": 0.07045,
          "symbol": "circle"
         },
         "mode": "markers",
         "name": "Netherlands",
         "orientation": "v",
         "showlegend": true,
         "type": "scatter",
         "x": [
          9.7
         ],
         "xaxis": "x",
         "y": [
          0
         ],
         "yaxis": "y"
        },
        {
         "hovertemplate": "Countries and areas=New Zealand<br>Birth Rate=%{x}<br>Female Literacy Rate (15-24)=%{y}<br>Unemployment_Rate=%{marker.size}<extra></extra>",
         "legendgroup": "New Zealand",
         "marker": {
          "color": "#B6E880",
          "size": [
           4.07
          ],
          "sizemode": "area",
          "sizeref": 0.07045,
          "symbol": "circle"
         },
         "mode": "markers",
         "name": "New Zealand",
         "orientation": "v",
         "showlegend": true,
         "type": "scatter",
         "x": [
          11.98
         ],
         "xaxis": "x",
         "y": [
          0
         ],
         "yaxis": "y"
        },
        {
         "hovertemplate": "Countries and areas=Nicaragua<br>Birth Rate=%{x}<br>Female Literacy Rate (15-24)=%{y}<br>Unemployment_Rate=%{marker.size}<extra></extra>",
         "legendgroup": "Nicaragua",
         "marker": {
          "color": "#FF97FF",
          "size": [
           6.84
          ],
          "sizemode": "area",
          "sizeref": 0.07045,
          "symbol": "circle"
         },
         "mode": "markers",
         "name": "Nicaragua",
         "orientation": "v",
         "showlegend": true,
         "type": "scatter",
         "x": [
          20.64
         ],
         "xaxis": "x",
         "y": [
          0
         ],
         "yaxis": "y"
        },
        {
         "hovertemplate": "Countries and areas=Niger<br>Birth Rate=%{x}<br>Female Literacy Rate (15-24)=%{y}<br>Unemployment_Rate=%{marker.size}<extra></extra>",
         "legendgroup": "Niger",
         "marker": {
          "color": "#FECB52",
          "size": [
           0.47
          ],
          "sizemode": "area",
          "sizeref": 0.07045,
          "symbol": "circle"
         },
         "mode": "markers",
         "name": "Niger",
         "orientation": "v",
         "showlegend": true,
         "type": "scatter",
         "x": [
          46.08
         ],
         "xaxis": "x",
         "y": [
          36
         ],
         "yaxis": "y"
        },
        {
         "hovertemplate": "Countries and areas=Nigeria<br>Birth Rate=%{x}<br>Female Literacy Rate (15-24)=%{y}<br>Unemployment_Rate=%{marker.size}<extra></extra>",
         "legendgroup": "Nigeria",
         "marker": {
          "color": "#636efa",
          "size": [
           8.1
          ],
          "sizemode": "area",
          "sizeref": 0.07045,
          "symbol": "circle"
         },
         "mode": "markers",
         "name": "Nigeria",
         "orientation": "v",
         "showlegend": true,
         "type": "scatter",
         "x": [
          37.91
         ],
         "xaxis": "x",
         "y": [
          68
         ],
         "yaxis": "y"
        },
        {
         "hovertemplate": "Countries and areas=Niue<br>Birth Rate=%{x}<br>Female Literacy Rate (15-24)=%{y}<br>Unemployment_Rate=%{marker.size}<extra></extra>",
         "legendgroup": "Niue",
         "marker": {
          "color": "#EF553B",
          "size": [
           0
          ],
          "sizemode": "area",
          "sizeref": 0.07045,
          "symbol": "circle"
         },
         "mode": "markers",
         "name": "Niue",
         "orientation": "v",
         "showlegend": true,
         "type": "scatter",
         "x": [
          0
         ],
         "xaxis": "x",
         "y": [
          0
         ],
         "yaxis": "y"
        },
        {
         "hovertemplate": "Countries and areas=North Macedonia<br>Birth Rate=%{x}<br>Female Literacy Rate (15-24)=%{y}<br>Unemployment_Rate=%{marker.size}<extra></extra>",
         "legendgroup": "North Macedonia",
         "marker": {
          "color": "#00cc96",
          "size": [
           0
          ],
          "sizemode": "area",
          "sizeref": 0.07045,
          "symbol": "circle"
         },
         "mode": "markers",
         "name": "North Macedonia",
         "orientation": "v",
         "showlegend": true,
         "type": "scatter",
         "x": [
          0
         ],
         "xaxis": "x",
         "y": [
          0
         ],
         "yaxis": "y"
        },
        {
         "hovertemplate": "Countries and areas=Norway<br>Birth Rate=%{x}<br>Female Literacy Rate (15-24)=%{y}<br>Unemployment_Rate=%{marker.size}<extra></extra>",
         "legendgroup": "Norway",
         "marker": {
          "color": "#ab63fa",
          "size": [
           3.35
          ],
          "sizemode": "area",
          "sizeref": 0.07045,
          "symbol": "circle"
         },
         "mode": "markers",
         "name": "Norway",
         "orientation": "v",
         "showlegend": true,
         "type": "scatter",
         "x": [
          10.4
         ],
         "xaxis": "x",
         "y": [
          0
         ],
         "yaxis": "y"
        },
        {
         "hovertemplate": "Countries and areas=Oman<br>Birth Rate=%{x}<br>Female Literacy Rate (15-24)=%{y}<br>Unemployment_Rate=%{marker.size}<extra></extra>",
         "legendgroup": "Oman",
         "marker": {
          "color": "#FFA15A",
          "size": [
           2.67
          ],
          "sizemode": "area",
          "sizeref": 0.07045,
          "symbol": "circle"
         },
         "mode": "markers",
         "name": "Oman",
         "orientation": "v",
         "showlegend": true,
         "type": "scatter",
         "x": [
          19.19
         ],
         "xaxis": "x",
         "y": [
          99
         ],
         "yaxis": "y"
        },
        {
         "hovertemplate": "Countries and areas=Pakistan<br>Birth Rate=%{x}<br>Female Literacy Rate (15-24)=%{y}<br>Unemployment_Rate=%{marker.size}<extra></extra>",
         "legendgroup": "Pakistan",
         "marker": {
          "color": "#19d3f3",
          "size": [
           4.45
          ],
          "sizemode": "area",
          "sizeref": 0.07045,
          "symbol": "circle"
         },
         "mode": "markers",
         "name": "Pakistan",
         "orientation": "v",
         "showlegend": true,
         "type": "scatter",
         "x": [
          28.25
         ],
         "xaxis": "x",
         "y": [
          0
         ],
         "yaxis": "y"
        },
        {
         "hovertemplate": "Countries and areas=Palau<br>Birth Rate=%{x}<br>Female Literacy Rate (15-24)=%{y}<br>Unemployment_Rate=%{marker.size}<extra></extra>",
         "legendgroup": "Palau",
         "marker": {
          "color": "#FF6692",
          "size": [
           0
          ],
          "sizemode": "area",
          "sizeref": 0.07045,
          "symbol": "circle"
         },
         "mode": "markers",
         "name": "Palau",
         "orientation": "v",
         "showlegend": true,
         "type": "scatter",
         "x": [
          14
         ],
         "xaxis": "x",
         "y": [
          0
         ],
         "yaxis": "y"
        },
        {
         "hovertemplate": "Countries and areas=Panama<br>Birth Rate=%{x}<br>Female Literacy Rate (15-24)=%{y}<br>Unemployment_Rate=%{marker.size}<extra></extra>",
         "legendgroup": "Panama",
         "marker": {
          "color": "#B6E880",
          "size": [
           3.9
          ],
          "sizemode": "area",
          "sizeref": 0.07045,
          "symbol": "circle"
         },
         "mode": "markers",
         "name": "Panama",
         "orientation": "v",
         "showlegend": true,
         "type": "scatter",
         "x": [
          18.98
         ],
         "xaxis": "x",
         "y": [
          99
         ],
         "yaxis": "y"
        },
        {
         "hovertemplate": "Countries and areas=Papua New Guinea<br>Birth Rate=%{x}<br>Female Literacy Rate (15-24)=%{y}<br>Unemployment_Rate=%{marker.size}<extra></extra>",
         "legendgroup": "Papua New Guinea",
         "marker": {
          "color": "#FF97FF",
          "size": [
           2.46
          ],
          "sizemode": "area",
          "sizeref": 0.07045,
          "symbol": "circle"
         },
         "mode": "markers",
         "name": "Papua New Guinea",
         "orientation": "v",
         "showlegend": true,
         "type": "scatter",
         "x": [
          27.07
         ],
         "xaxis": "x",
         "y": [
          0
         ],
         "yaxis": "y"
        },
        {
         "hovertemplate": "Countries and areas=Paraguay<br>Birth Rate=%{x}<br>Female Literacy Rate (15-24)=%{y}<br>Unemployment_Rate=%{marker.size}<extra></extra>",
         "legendgroup": "Paraguay",
         "marker": {
          "color": "#FECB52",
          "size": [
           4.81
          ],
          "sizemode": "area",
          "sizeref": 0.07045,
          "symbol": "circle"
         },
         "mode": "markers",
         "name": "Paraguay",
         "orientation": "v",
         "showlegend": true,
         "type": "scatter",
         "x": [
          20.57
         ],
         "xaxis": "x",
         "y": [
          99
         ],
         "yaxis": "y"
        },
        {
         "hovertemplate": "Countries and areas=Peru<br>Birth Rate=%{x}<br>Female Literacy Rate (15-24)=%{y}<br>Unemployment_Rate=%{marker.size}<extra></extra>",
         "legendgroup": "Peru",
         "marker": {
          "color": "#636efa",
          "size": [
           3.31
          ],
          "sizemode": "area",
          "sizeref": 0.07045,
          "symbol": "circle"
         },
         "mode": "markers",
         "name": "Peru",
         "orientation": "v",
         "showlegend": true,
         "type": "scatter",
         "x": [
          17.95
         ],
         "xaxis": "x",
         "y": [
          99
         ],
         "yaxis": "y"
        },
        {
         "hovertemplate": "Countries and areas=Philippines<br>Birth Rate=%{x}<br>Female Literacy Rate (15-24)=%{y}<br>Unemployment_Rate=%{marker.size}<extra></extra>",
         "legendgroup": "Philippines",
         "marker": {
          "color": "#EF553B",
          "size": [
           2.15
          ],
          "sizemode": "area",
          "sizeref": 0.07045,
          "symbol": "circle"
         },
         "mode": "markers",
         "name": "Philippines",
         "orientation": "v",
         "showlegend": true,
         "type": "scatter",
         "x": [
          20.55
         ],
         "xaxis": "x",
         "y": [
          0
         ],
         "yaxis": "y"
        },
        {
         "hovertemplate": "Countries and areas=Poland<br>Birth Rate=%{x}<br>Female Literacy Rate (15-24)=%{y}<br>Unemployment_Rate=%{marker.size}<extra></extra>",
         "legendgroup": "Poland",
         "marker": {
          "color": "#00cc96",
          "size": [
           3.47
          ],
          "sizemode": "area",
          "sizeref": 0.07045,
          "symbol": "circle"
         },
         "mode": "markers",
         "name": "Poland",
         "orientation": "v",
         "showlegend": true,
         "type": "scatter",
         "x": [
          10.2
         ],
         "xaxis": "x",
         "y": [
          0
         ],
         "yaxis": "y"
        },
        {
         "hovertemplate": "Countries and areas=Portugal<br>Birth Rate=%{x}<br>Female Literacy Rate (15-24)=%{y}<br>Unemployment_Rate=%{marker.size}<extra></extra>",
         "legendgroup": "Portugal",
         "marker": {
          "color": "#ab63fa",
          "size": [
           6.33
          ],
          "sizemode": "area",
          "sizeref": 0.07045,
          "symbol": "circle"
         },
         "mode": "markers",
         "name": "Portugal",
         "orientation": "v",
         "showlegend": true,
         "type": "scatter",
         "x": [
          8.5
         ],
         "xaxis": "x",
         "y": [
          100
         ],
         "yaxis": "y"
        },
        {
         "hovertemplate": "Countries and areas=Qatar<br>Birth Rate=%{x}<br>Female Literacy Rate (15-24)=%{y}<br>Unemployment_Rate=%{marker.size}<extra></extra>",
         "legendgroup": "Qatar",
         "marker": {
          "color": "#FFA15A",
          "size": [
           0.09
          ],
          "sizemode": "area",
          "sizeref": 0.07045,
          "symbol": "circle"
         },
         "mode": "markers",
         "name": "Qatar",
         "orientation": "v",
         "showlegend": true,
         "type": "scatter",
         "x": [
          9.54
         ],
         "xaxis": "x",
         "y": [
          0
         ],
         "yaxis": "y"
        },
        {
         "hovertemplate": "Countries and areas=South Korea<br>Birth Rate=%{x}<br>Female Literacy Rate (15-24)=%{y}<br>Unemployment_Rate=%{marker.size}<extra></extra>",
         "legendgroup": "South Korea",
         "marker": {
          "color": "#19d3f3",
          "size": [
           4.15
          ],
          "sizemode": "area",
          "sizeref": 0.07045,
          "symbol": "circle"
         },
         "mode": "markers",
         "name": "South Korea",
         "orientation": "v",
         "showlegend": true,
         "type": "scatter",
         "x": [
          6.4
         ],
         "xaxis": "x",
         "y": [
          0
         ],
         "yaxis": "y"
        },
        {
         "hovertemplate": "Countries and areas=Moldova<br>Birth Rate=%{x}<br>Female Literacy Rate (15-24)=%{y}<br>Unemployment_Rate=%{marker.size}<extra></extra>",
         "legendgroup": "Moldova",
         "marker": {
          "color": "#FF6692",
          "size": [
           5.47
          ],
          "sizemode": "area",
          "sizeref": 0.07045,
          "symbol": "circle"
         },
         "mode": "markers",
         "name": "Moldova",
         "orientation": "v",
         "showlegend": true,
         "type": "scatter",
         "x": [
          10.1
         ],
         "xaxis": "x",
         "y": [
          0
         ],
         "yaxis": "y"
        },
        {
         "hovertemplate": "Countries and areas=Romania<br>Birth Rate=%{x}<br>Female Literacy Rate (15-24)=%{y}<br>Unemployment_Rate=%{marker.size}<extra></extra>",
         "legendgroup": "Romania",
         "marker": {
          "color": "#B6E880",
          "size": [
           3.98
          ],
          "sizemode": "area",
          "sizeref": 0.07045,
          "symbol": "circle"
         },
         "mode": "markers",
         "name": "Romania",
         "orientation": "v",
         "showlegend": true,
         "type": "scatter",
         "x": [
          9.6
         ],
         "xaxis": "x",
         "y": [
          99
         ],
         "yaxis": "y"
        },
        {
         "hovertemplate": "Countries and areas=Russia<br>Birth Rate=%{x}<br>Female Literacy Rate (15-24)=%{y}<br>Unemployment_Rate=%{marker.size}<extra></extra>",
         "legendgroup": "Russia",
         "marker": {
          "color": "#FF97FF",
          "size": [
           4.59
          ],
          "sizemode": "area",
          "sizeref": 0.07045,
          "symbol": "circle"
         },
         "mode": "markers",
         "name": "Russia",
         "orientation": "v",
         "showlegend": true,
         "type": "scatter",
         "x": [
          11.5
         ],
         "xaxis": "x",
         "y": [
          100
         ],
         "yaxis": "y"
        },
        {
         "hovertemplate": "Countries and areas=Rwanda<br>Birth Rate=%{x}<br>Female Literacy Rate (15-24)=%{y}<br>Unemployment_Rate=%{marker.size}<extra></extra>",
         "legendgroup": "Rwanda",
         "marker": {
          "color": "#FECB52",
          "size": [
           1.03
          ],
          "sizemode": "area",
          "sizeref": 0.07045,
          "symbol": "circle"
         },
         "mode": "markers",
         "name": "Rwanda",
         "orientation": "v",
         "showlegend": true,
         "type": "scatter",
         "x": [
          31.7
         ],
         "xaxis": "x",
         "y": [
          89
         ],
         "yaxis": "y"
        },
        {
         "hovertemplate": "Countries and areas=Saint Kitts and Nevis<br>Birth Rate=%{x}<br>Female Literacy Rate (15-24)=%{y}<br>Unemployment_Rate=%{marker.size}<extra></extra>",
         "legendgroup": "Saint Kitts and Nevis",
         "marker": {
          "color": "#636efa",
          "size": [
           0
          ],
          "sizemode": "area",
          "sizeref": 0.07045,
          "symbol": "circle"
         },
         "mode": "markers",
         "name": "Saint Kitts and Nevis",
         "orientation": "v",
         "showlegend": true,
         "type": "scatter",
         "x": [
          12.6
         ],
         "xaxis": "x",
         "y": [
          0
         ],
         "yaxis": "y"
        },
        {
         "hovertemplate": "Countries and areas=Saint Lucia<br>Birth Rate=%{x}<br>Female Literacy Rate (15-24)=%{y}<br>Unemployment_Rate=%{marker.size}<extra></extra>",
         "legendgroup": "Saint Lucia",
         "marker": {
          "color": "#EF553B",
          "size": [
           20.71
          ],
          "sizemode": "area",
          "sizeref": 0.07045,
          "symbol": "circle"
         },
         "mode": "markers",
         "name": "Saint Lucia",
         "orientation": "v",
         "showlegend": true,
         "type": "scatter",
         "x": [
          12
         ],
         "xaxis": "x",
         "y": [
          0
         ],
         "yaxis": "y"
        },
        {
         "hovertemplate": "Countries and areas=Saint Vincent and the Grenadines<br>Birth Rate=%{x}<br>Female Literacy Rate (15-24)=%{y}<br>Unemployment_Rate=%{marker.size}<extra></extra>",
         "legendgroup": "Saint Vincent and the Grenadines",
         "marker": {
          "color": "#00cc96",
          "size": [
           18.88
          ],
          "sizemode": "area",
          "sizeref": 0.07045,
          "symbol": "circle"
         },
         "mode": "markers",
         "name": "Saint Vincent and the Grenadines",
         "orientation": "v",
         "showlegend": true,
         "type": "scatter",
         "x": [
          14.24
         ],
         "xaxis": "x",
         "y": [
          0
         ],
         "yaxis": "y"
        },
        {
         "hovertemplate": "Countries and areas=Samoa<br>Birth Rate=%{x}<br>Female Literacy Rate (15-24)=%{y}<br>Unemployment_Rate=%{marker.size}<extra></extra>",
         "legendgroup": "Samoa",
         "marker": {
          "color": "#ab63fa",
          "size": [
           8.36
          ],
          "sizemode": "area",
          "sizeref": 0.07045,
          "symbol": "circle"
         },
         "mode": "markers",
         "name": "Samoa",
         "orientation": "v",
         "showlegend": true,
         "type": "scatter",
         "x": [
          24.38
         ],
         "xaxis": "x",
         "y": [
          99
         ],
         "yaxis": "y"
        },
        {
         "hovertemplate": "Countries and areas=San Marino<br>Birth Rate=%{x}<br>Female Literacy Rate (15-24)=%{y}<br>Unemployment_Rate=%{marker.size}<extra></extra>",
         "legendgroup": "San Marino",
         "marker": {
          "color": "#FFA15A",
          "size": [
           0
          ],
          "sizemode": "area",
          "sizeref": 0.07045,
          "symbol": "circle"
         },
         "mode": "markers",
         "name": "San Marino",
         "orientation": "v",
         "showlegend": true,
         "type": "scatter",
         "x": [
          6.8
         ],
         "xaxis": "x",
         "y": [
          100
         ],
         "yaxis": "y"
        },
        {
         "hovertemplate": "Countries and areas=Sï¿½ï¿½ï¿½ï¿½ï¿½ï¿½ï¿½ï¿<br>Birth Rate=%{x}<br>Female Literacy Rate (15-24)=%{y}<br>Unemployment_Rate=%{marker.size}<extra></extra>",
         "legendgroup": "Sï¿½ï¿½ï¿½ï¿½ï¿½ï¿½ï¿½ï¿",
         "marker": {
          "color": "#19d3f3",
          "size": [
           13.37
          ],
          "sizemode": "area",
          "sizeref": 0.07045,
          "symbol": "circle"
         },
         "mode": "markers",
         "name": "Sï¿½ï¿½ï¿½ï¿½ï¿½ï¿½ï¿½ï¿",
         "orientation": "v",
         "showlegend": true,
         "type": "scatter",
         "x": [
          31.54
         ],
         "xaxis": "x",
         "y": [
          98
         ],
         "yaxis": "y"
        },
        {
         "hovertemplate": "Countries and areas=Saudi Arabia<br>Birth Rate=%{x}<br>Female Literacy Rate (15-24)=%{y}<br>Unemployment_Rate=%{marker.size}<extra></extra>",
         "legendgroup": "Saudi Arabia",
         "marker": {
          "color": "#FF6692",
          "size": [
           5.93
          ],
          "sizemode": "area",
          "sizeref": 0.07045,
          "symbol": "circle"
         },
         "mode": "markers",
         "name": "Saudi Arabia",
         "orientation": "v",
         "showlegend": true,
         "type": "scatter",
         "x": [
          17.8
         ],
         "xaxis": "x",
         "y": [
          0
         ],
         "yaxis": "y"
        },
        {
         "hovertemplate": "Countries and areas=Senegal<br>Birth Rate=%{x}<br>Female Literacy Rate (15-24)=%{y}<br>Unemployment_Rate=%{marker.size}<extra></extra>",
         "legendgroup": "Senegal",
         "marker": {
          "color": "#B6E880",
          "size": [
           6.6
          ],
          "sizemode": "area",
          "sizeref": 0.07045,
          "symbol": "circle"
         },
         "mode": "markers",
         "name": "Senegal",
         "orientation": "v",
         "showlegend": true,
         "type": "scatter",
         "x": [
          34.52
         ],
         "xaxis": "x",
         "y": [
          0
         ],
         "yaxis": "y"
        },
        {
         "hovertemplate": "Countries and areas=Serbia<br>Birth Rate=%{x}<br>Female Literacy Rate (15-24)=%{y}<br>Unemployment_Rate=%{marker.size}<extra></extra>",
         "legendgroup": "Serbia",
         "marker": {
          "color": "#FF97FF",
          "size": [
           12.69
          ],
          "sizemode": "area",
          "sizeref": 0.07045,
          "symbol": "circle"
         },
         "mode": "markers",
         "name": "Serbia",
         "orientation": "v",
         "showlegend": true,
         "type": "scatter",
         "x": [
          9.2
         ],
         "xaxis": "x",
         "y": [
          0
         ],
         "yaxis": "y"
        },
        {
         "hovertemplate": "Countries and areas=Seychelles<br>Birth Rate=%{x}<br>Female Literacy Rate (15-24)=%{y}<br>Unemployment_Rate=%{marker.size}<extra></extra>",
         "legendgroup": "Seychelles",
         "marker": {
          "color": "#FECB52",
          "size": [
           0
          ],
          "sizemode": "area",
          "sizeref": 0.07045,
          "symbol": "circle"
         },
         "mode": "markers",
         "name": "Seychelles",
         "orientation": "v",
         "showlegend": true,
         "type": "scatter",
         "x": [
          17.1
         ],
         "xaxis": "x",
         "y": [
          100
         ],
         "yaxis": "y"
        },
        {
         "hovertemplate": "Countries and areas=Sierra Leone<br>Birth Rate=%{x}<br>Female Literacy Rate (15-24)=%{y}<br>Unemployment_Rate=%{marker.size}<extra></extra>",
         "legendgroup": "Sierra Leone",
         "marker": {
          "color": "#636efa",
          "size": [
           4.43
          ],
          "sizemode": "area",
          "sizeref": 0.07045,
          "symbol": "circle"
         },
         "mode": "markers",
         "name": "Sierra Leone",
         "orientation": "v",
         "showlegend": true,
         "type": "scatter",
         "x": [
          33.41
         ],
         "xaxis": "x",
         "y": [
          63
         ],
         "yaxis": "y"
        },
        {
         "hovertemplate": "Countries and areas=Singapore<br>Birth Rate=%{x}<br>Female Literacy Rate (15-24)=%{y}<br>Unemployment_Rate=%{marker.size}<extra></extra>",
         "legendgroup": "Singapore",
         "marker": {
          "color": "#EF553B",
          "size": [
           4.11
          ],
          "sizemode": "area",
          "sizeref": 0.07045,
          "symbol": "circle"
         },
         "mode": "markers",
         "name": "Singapore",
         "orientation": "v",
         "showlegend": true,
         "type": "scatter",
         "x": [
          8.8
         ],
         "xaxis": "x",
         "y": [
          100
         ],
         "yaxis": "y"
        },
        {
         "hovertemplate": "Countries and areas=Slovakia<br>Birth Rate=%{x}<br>Female Literacy Rate (15-24)=%{y}<br>Unemployment_Rate=%{marker.size}<extra></extra>",
         "legendgroup": "Slovakia",
         "marker": {
          "color": "#00cc96",
          "size": [
           5.56
          ],
          "sizemode": "area",
          "sizeref": 0.07045,
          "symbol": "circle"
         },
         "mode": "markers",
         "name": "Slovakia",
         "orientation": "v",
         "showlegend": true,
         "type": "scatter",
         "x": [
          10.6
         ],
         "xaxis": "x",
         "y": [
          0
         ],
         "yaxis": "y"
        },
        {
         "hovertemplate": "Countries and areas=Slovenia<br>Birth Rate=%{x}<br>Female Literacy Rate (15-24)=%{y}<br>Unemployment_Rate=%{marker.size}<extra></extra>",
         "legendgroup": "Slovenia",
         "marker": {
          "color": "#ab63fa",
          "size": [
           4.2
          ],
          "sizemode": "area",
          "sizeref": 0.07045,
          "symbol": "circle"
         },
         "mode": "markers",
         "name": "Slovenia",
         "orientation": "v",
         "showlegend": true,
         "type": "scatter",
         "x": [
          9.4
         ],
         "xaxis": "x",
         "y": [
          0
         ],
         "yaxis": "y"
        },
        {
         "hovertemplate": "Countries and areas=Solomon Islands<br>Birth Rate=%{x}<br>Female Literacy Rate (15-24)=%{y}<br>Unemployment_Rate=%{marker.size}<extra></extra>",
         "legendgroup": "Solomon Islands",
         "marker": {
          "color": "#FFA15A",
          "size": [
           0.58
          ],
          "sizemode": "area",
          "sizeref": 0.07045,
          "symbol": "circle"
         },
         "mode": "markers",
         "name": "Solomon Islands",
         "orientation": "v",
         "showlegend": true,
         "type": "scatter",
         "x": [
          32.44
         ],
         "xaxis": "x",
         "y": [
          0
         ],
         "yaxis": "y"
        },
        {
         "hovertemplate": "Countries and areas=Somalia<br>Birth Rate=%{x}<br>Female Literacy Rate (15-24)=%{y}<br>Unemployment_Rate=%{marker.size}<extra></extra>",
         "legendgroup": "Somalia",
         "marker": {
          "color": "#19d3f3",
          "size": [
           11.35
          ],
          "sizemode": "area",
          "sizeref": 0.07045,
          "symbol": "circle"
         },
         "mode": "markers",
         "name": "Somalia",
         "orientation": "v",
         "showlegend": true,
         "type": "scatter",
         "x": [
          41.75
         ],
         "xaxis": "x",
         "y": [
          0
         ],
         "yaxis": "y"
        },
        {
         "hovertemplate": "Countries and areas=South Africa<br>Birth Rate=%{x}<br>Female Literacy Rate (15-24)=%{y}<br>Unemployment_Rate=%{marker.size}<extra></extra>",
         "legendgroup": "South Africa",
         "marker": {
          "color": "#FF6692",
          "size": [
           28.18
          ],
          "sizemode": "area",
          "sizeref": 0.07045,
          "symbol": "circle"
         },
         "mode": "markers",
         "name": "South Africa",
         "orientation": "v",
         "showlegend": true,
         "type": "scatter",
         "x": [
          20.51
         ],
         "xaxis": "x",
         "y": [
          0
         ],
         "yaxis": "y"
        },
        {
         "hovertemplate": "Countries and areas=South Sudan<br>Birth Rate=%{x}<br>Female Literacy Rate (15-24)=%{y}<br>Unemployment_Rate=%{marker.size}<extra></extra>",
         "legendgroup": "South Sudan",
         "marker": {
          "color": "#B6E880",
          "size": [
           12.24
          ],
          "sizemode": "area",
          "sizeref": 0.07045,
          "symbol": "circle"
         },
         "mode": "markers",
         "name": "South Sudan",
         "orientation": "v",
         "showlegend": true,
         "type": "scatter",
         "x": [
          35.01
         ],
         "xaxis": "x",
         "y": [
          47
         ],
         "yaxis": "y"
        },
        {
         "hovertemplate": "Countries and areas=Spain<br>Birth Rate=%{x}<br>Female Literacy Rate (15-24)=%{y}<br>Unemployment_Rate=%{marker.size}<extra></extra>",
         "legendgroup": "Spain",
         "marker": {
          "color": "#FF97FF",
          "size": [
           13.96
          ],
          "sizemode": "area",
          "sizeref": 0.07045,
          "symbol": "circle"
         },
         "mode": "markers",
         "name": "Spain",
         "orientation": "v",
         "showlegend": true,
         "type": "scatter",
         "x": [
          7.9
         ],
         "xaxis": "x",
         "y": [
          100
         ],
         "yaxis": "y"
        },
        {
         "hovertemplate": "Countries and areas=Sri Lanka<br>Birth Rate=%{x}<br>Female Literacy Rate (15-24)=%{y}<br>Unemployment_Rate=%{marker.size}<extra></extra>",
         "legendgroup": "Sri Lanka",
         "marker": {
          "color": "#FECB52",
          "size": [
           4.2
          ],
          "sizemode": "area",
          "sizeref": 0.07045,
          "symbol": "circle"
         },
         "mode": "markers",
         "name": "Sri Lanka",
         "orientation": "v",
         "showlegend": true,
         "type": "scatter",
         "x": [
          15.83
         ],
         "xaxis": "x",
         "y": [
          99
         ],
         "yaxis": "y"
        },
        {
         "hovertemplate": "Countries and areas=Palestinian National Authority<br>Birth Rate=%{x}<br>Female Literacy Rate (15-24)=%{y}<br>Unemployment_Rate=%{marker.size}<extra></extra>",
         "legendgroup": "Palestinian National Authority",
         "marker": {
          "color": "#636efa",
          "size": [
           0
          ],
          "sizemode": "area",
          "sizeref": 0.07045,
          "symbol": "circle"
         },
         "mode": "markers",
         "name": "Palestinian National Authority",
         "orientation": "v",
         "showlegend": true,
         "type": "scatter",
         "x": [
          0
         ],
         "xaxis": "x",
         "y": [
          99
         ],
         "yaxis": "y"
        },
        {
         "hovertemplate": "Countries and areas=Sudan<br>Birth Rate=%{x}<br>Female Literacy Rate (15-24)=%{y}<br>Unemployment_Rate=%{marker.size}<extra></extra>",
         "legendgroup": "Sudan",
         "marker": {
          "color": "#EF553B",
          "size": [
           16.53
          ],
          "sizemode": "area",
          "sizeref": 0.07045,
          "symbol": "circle"
         },
         "mode": "markers",
         "name": "Sudan",
         "orientation": "v",
         "showlegend": true,
         "type": "scatter",
         "x": [
          32.18
         ],
         "xaxis": "x",
         "y": [
          73
         ],
         "yaxis": "y"
        },
        {
         "hovertemplate": "Countries and areas=Suriname<br>Birth Rate=%{x}<br>Female Literacy Rate (15-24)=%{y}<br>Unemployment_Rate=%{marker.size}<extra></extra>",
         "legendgroup": "Suriname",
         "marker": {
          "color": "#00cc96",
          "size": [
           7.33
          ],
          "sizemode": "area",
          "sizeref": 0.07045,
          "symbol": "circle"
         },
         "mode": "markers",
         "name": "Suriname",
         "orientation": "v",
         "showlegend": true,
         "type": "scatter",
         "x": [
          18.54
         ],
         "xaxis": "x",
         "y": [
          98
         ],
         "yaxis": "y"
        },
        {
         "hovertemplate": "Countries and areas=Sweden<br>Birth Rate=%{x}<br>Female Literacy Rate (15-24)=%{y}<br>Unemployment_Rate=%{marker.size}<extra></extra>",
         "legendgroup": "Sweden",
         "marker": {
          "color": "#ab63fa",
          "size": [
           6.48
          ],
          "sizemode": "area",
          "sizeref": 0.07045,
          "symbol": "circle"
         },
         "mode": "markers",
         "name": "Sweden",
         "orientation": "v",
         "showlegend": true,
         "type": "scatter",
         "x": [
          11.4
         ],
         "xaxis": "x",
         "y": [
          0
         ],
         "yaxis": "y"
        },
        {
         "hovertemplate": "Countries and areas=Switzerland<br>Birth Rate=%{x}<br>Female Literacy Rate (15-24)=%{y}<br>Unemployment_Rate=%{marker.size}<extra></extra>",
         "legendgroup": "Switzerland",
         "marker": {
          "color": "#FFA15A",
          "size": [
           4.58
          ],
          "sizemode": "area",
          "sizeref": 0.07045,
          "symbol": "circle"
         },
         "mode": "markers",
         "name": "Switzerland",
         "orientation": "v",
         "showlegend": true,
         "type": "scatter",
         "x": [
          10
         ],
         "xaxis": "x",
         "y": [
          0
         ],
         "yaxis": "y"
        },
        {
         "hovertemplate": "Countries and areas=Syria<br>Birth Rate=%{x}<br>Female Literacy Rate (15-24)=%{y}<br>Unemployment_Rate=%{marker.size}<extra></extra>",
         "legendgroup": "Syria",
         "marker": {
          "color": "#19d3f3",
          "size": [
           8.37
          ],
          "sizemode": "area",
          "sizeref": 0.07045,
          "symbol": "circle"
         },
         "mode": "markers",
         "name": "Syria",
         "orientation": "v",
         "showlegend": true,
         "type": "scatter",
         "x": [
          23.69
         ],
         "xaxis": "x",
         "y": [
          0
         ],
         "yaxis": "y"
        },
        {
         "hovertemplate": "Countries and areas=Tajikistan<br>Birth Rate=%{x}<br>Female Literacy Rate (15-24)=%{y}<br>Unemployment_Rate=%{marker.size}<extra></extra>",
         "legendgroup": "Tajikistan",
         "marker": {
          "color": "#FF6692",
          "size": [
           11.02
          ],
          "sizemode": "area",
          "sizeref": 0.07045,
          "symbol": "circle"
         },
         "mode": "markers",
         "name": "Tajikistan",
         "orientation": "v",
         "showlegend": true,
         "type": "scatter",
         "x": [
          30.76
         ],
         "xaxis": "x",
         "y": [
          0
         ],
         "yaxis": "y"
        },
        {
         "hovertemplate": "Countries and areas=Thailand<br>Birth Rate=%{x}<br>Female Literacy Rate (15-24)=%{y}<br>Unemployment_Rate=%{marker.size}<extra></extra>",
         "legendgroup": "Thailand",
         "marker": {
          "color": "#B6E880",
          "size": [
           0.75
          ],
          "sizemode": "area",
          "sizeref": 0.07045,
          "symbol": "circle"
         },
         "mode": "markers",
         "name": "Thailand",
         "orientation": "v",
         "showlegend": true,
         "type": "scatter",
         "x": [
          10.34
         ],
         "xaxis": "x",
         "y": [
          99
         ],
         "yaxis": "y"
        },
        {
         "hovertemplate": "Countries and areas=East Timor<br>Birth Rate=%{x}<br>Female Literacy Rate (15-24)=%{y}<br>Unemployment_Rate=%{marker.size}<extra></extra>",
         "legendgroup": "East Timor",
         "marker": {
          "color": "#FF97FF",
          "size": [
           4.55
          ],
          "sizemode": "area",
          "sizeref": 0.07045,
          "symbol": "circle"
         },
         "mode": "markers",
         "name": "East Timor",
         "orientation": "v",
         "showlegend": true,
         "type": "scatter",
         "x": [
          29.42
         ],
         "xaxis": "x",
         "y": [
          85
         ],
         "yaxis": "y"
        },
        {
         "hovertemplate": "Countries and areas=Togo<br>Birth Rate=%{x}<br>Female Literacy Rate (15-24)=%{y}<br>Unemployment_Rate=%{marker.size}<extra></extra>",
         "legendgroup": "Togo",
         "marker": {
          "color": "#FECB52",
          "size": [
           2.04
          ],
          "sizemode": "area",
          "sizeref": 0.07045,
          "symbol": "circle"
         },
         "mode": "markers",
         "name": "Togo",
         "orientation": "v",
         "showlegend": true,
         "type": "scatter",
         "x": [
          33.11
         ],
         "xaxis": "x",
         "y": [
          0
         ],
         "yaxis": "y"
        },
        {
         "hovertemplate": "Countries and areas=Tokelau<br>Birth Rate=%{x}<br>Female Literacy Rate (15-24)=%{y}<br>Unemployment_Rate=%{marker.size}<extra></extra>",
         "legendgroup": "Tokelau",
         "marker": {
          "color": "#636efa",
          "size": [
           0
          ],
          "sizemode": "area",
          "sizeref": 0.07045,
          "symbol": "circle"
         },
         "mode": "markers",
         "name": "Tokelau",
         "orientation": "v",
         "showlegend": true,
         "type": "scatter",
         "x": [
          0
         ],
         "xaxis": "x",
         "y": [
          0
         ],
         "yaxis": "y"
        },
        {
         "hovertemplate": "Countries and areas=Tonga<br>Birth Rate=%{x}<br>Female Literacy Rate (15-24)=%{y}<br>Unemployment_Rate=%{marker.size}<extra></extra>",
         "legendgroup": "Tonga",
         "marker": {
          "color": "#EF553B",
          "size": [
           1.12
          ],
          "sizemode": "area",
          "sizeref": 0.07045,
          "symbol": "circle"
         },
         "mode": "markers",
         "name": "Tonga",
         "orientation": "v",
         "showlegend": true,
         "type": "scatter",
         "x": [
          24.3
         ],
         "xaxis": "x",
         "y": [
          100
         ],
         "yaxis": "y"
        },
        {
         "hovertemplate": "Countries and areas=Trinidad and Tobago<br>Birth Rate=%{x}<br>Female Literacy Rate (15-24)=%{y}<br>Unemployment_Rate=%{marker.size}<extra></extra>",
         "legendgroup": "Trinidad and Tobago",
         "marker": {
          "color": "#00cc96",
          "size": [
           2.69
          ],
          "sizemode": "area",
          "sizeref": 0.07045,
          "symbol": "circle"
         },
         "mode": "markers",
         "name": "Trinidad and Tobago",
         "orientation": "v",
         "showlegend": true,
         "type": "scatter",
         "x": [
          12.94
         ],
         "xaxis": "x",
         "y": [
          0
         ],
         "yaxis": "y"
        },
        {
         "hovertemplate": "Countries and areas=Tunisia<br>Birth Rate=%{x}<br>Female Literacy Rate (15-24)=%{y}<br>Unemployment_Rate=%{marker.size}<extra></extra>",
         "legendgroup": "Tunisia",
         "marker": {
          "color": "#ab63fa",
          "size": [
           16.02
          ],
          "sizemode": "area",
          "sizeref": 0.07045,
          "symbol": "circle"
         },
         "mode": "markers",
         "name": "Tunisia",
         "orientation": "v",
         "showlegend": true,
         "type": "scatter",
         "x": [
          17.56
         ],
         "xaxis": "x",
         "y": [
          0
         ],
         "yaxis": "y"
        },
        {
         "hovertemplate": "Countries and areas=Turkey<br>Birth Rate=%{x}<br>Female Literacy Rate (15-24)=%{y}<br>Unemployment_Rate=%{marker.size}<extra></extra>",
         "legendgroup": "Turkey",
         "marker": {
          "color": "#FFA15A",
          "size": [
           13.49
          ],
          "sizemode": "area",
          "sizeref": 0.07045,
          "symbol": "circle"
         },
         "mode": "markers",
         "name": "Turkey",
         "orientation": "v",
         "showlegend": true,
         "type": "scatter",
         "x": [
          16.03
         ],
         "xaxis": "x",
         "y": [
          0
         ],
         "yaxis": "y"
        },
        {
         "hovertemplate": "Countries and areas=Turkmenistan<br>Birth Rate=%{x}<br>Female Literacy Rate (15-24)=%{y}<br>Unemployment_Rate=%{marker.size}<extra></extra>",
         "legendgroup": "Turkmenistan",
         "marker": {
          "color": "#19d3f3",
          "size": [
           3.91
          ],
          "sizemode": "area",
          "sizeref": 0.07045,
          "symbol": "circle"
         },
         "mode": "markers",
         "name": "Turkmenistan",
         "orientation": "v",
         "showlegend": true,
         "type": "scatter",
         "x": [
          23.83
         ],
         "xaxis": "x",
         "y": [
          0
         ],
         "yaxis": "y"
        },
        {
         "hovertemplate": "Countries and areas=Turks and Caicos Islands<br>Birth Rate=%{x}<br>Female Literacy Rate (15-24)=%{y}<br>Unemployment_Rate=%{marker.size}<extra></extra>",
         "legendgroup": "Turks and Caicos Islands",
         "marker": {
          "color": "#FF6692",
          "size": [
           0
          ],
          "sizemode": "area",
          "sizeref": 0.07045,
          "symbol": "circle"
         },
         "mode": "markers",
         "name": "Turks and Caicos Islands",
         "orientation": "v",
         "showlegend": true,
         "type": "scatter",
         "x": [
          0
         ],
         "xaxis": "x",
         "y": [
          0
         ],
         "yaxis": "y"
        },
        {
         "hovertemplate": "Countries and areas=Tuvalu<br>Birth Rate=%{x}<br>Female Literacy Rate (15-24)=%{y}<br>Unemployment_Rate=%{marker.size}<extra></extra>",
         "legendgroup": "Tuvalu",
         "marker": {
          "color": "#B6E880",
          "size": [
           0
          ],
          "sizemode": "area",
          "sizeref": 0.07045,
          "symbol": "circle"
         },
         "mode": "markers",
         "name": "Tuvalu",
         "orientation": "v",
         "showlegend": true,
         "type": "scatter",
         "x": [
          0
         ],
         "xaxis": "x",
         "y": [
          0
         ],
         "yaxis": "y"
        },
        {
         "hovertemplate": "Countries and areas=Uganda<br>Birth Rate=%{x}<br>Female Literacy Rate (15-24)=%{y}<br>Unemployment_Rate=%{marker.size}<extra></extra>",
         "legendgroup": "Uganda",
         "marker": {
          "color": "#FF97FF",
          "size": [
           1.84
          ],
          "sizemode": "area",
          "sizeref": 0.07045,
          "symbol": "circle"
         },
         "mode": "markers",
         "name": "Uganda",
         "orientation": "v",
         "showlegend": true,
         "type": "scatter",
         "x": [
          38.14
         ],
         "xaxis": "x",
         "y": [
          90
         ],
         "yaxis": "y"
        },
        {
         "hovertemplate": "Countries and areas=Ukraine<br>Birth Rate=%{x}<br>Female Literacy Rate (15-24)=%{y}<br>Unemployment_Rate=%{marker.size}<extra></extra>",
         "legendgroup": "Ukraine",
         "marker": {
          "color": "#FECB52",
          "size": [
           8.88
          ],
          "sizemode": "area",
          "sizeref": 0.07045,
          "symbol": "circle"
         },
         "mode": "markers",
         "name": "Ukraine",
         "orientation": "v",
         "showlegend": true,
         "type": "scatter",
         "x": [
          8.7
         ],
         "xaxis": "x",
         "y": [
          0
         ],
         "yaxis": "y"
        },
        {
         "hovertemplate": "Countries and areas=United Arab Emirates<br>Birth Rate=%{x}<br>Female Literacy Rate (15-24)=%{y}<br>Unemployment_Rate=%{marker.size}<extra></extra>",
         "legendgroup": "United Arab Emirates",
         "marker": {
          "color": "#636efa",
          "size": [
           2.35
          ],
          "sizemode": "area",
          "sizeref": 0.07045,
          "symbol": "circle"
         },
         "mode": "markers",
         "name": "United Arab Emirates",
         "orientation": "v",
         "showlegend": true,
         "type": "scatter",
         "x": [
          10.33
         ],
         "xaxis": "x",
         "y": [
          0
         ],
         "yaxis": "y"
        },
        {
         "hovertemplate": "Countries and areas=United Kingdom<br>Birth Rate=%{x}<br>Female Literacy Rate (15-24)=%{y}<br>Unemployment_Rate=%{marker.size}<extra></extra>",
         "legendgroup": "United Kingdom",
         "marker": {
          "color": "#EF553B",
          "size": [
           3.85
          ],
          "sizemode": "area",
          "sizeref": 0.07045,
          "symbol": "circle"
         },
         "mode": "markers",
         "name": "United Kingdom",
         "orientation": "v",
         "showlegend": true,
         "type": "scatter",
         "x": [
          11
         ],
         "xaxis": "x",
         "y": [
          0
         ],
         "yaxis": "y"
        },
        {
         "hovertemplate": "Countries and areas=Tanzania<br>Birth Rate=%{x}<br>Female Literacy Rate (15-24)=%{y}<br>Unemployment_Rate=%{marker.size}<extra></extra>",
         "legendgroup": "Tanzania",
         "marker": {
          "color": "#00cc96",
          "size": [
           1.98
          ],
          "sizemode": "area",
          "sizeref": 0.07045,
          "symbol": "circle"
         },
         "mode": "markers",
         "name": "Tanzania",
         "orientation": "v",
         "showlegend": true,
         "type": "scatter",
         "x": [
          36.7
         ],
         "xaxis": "x",
         "y": [
          0
         ],
         "yaxis": "y"
        },
        {
         "hovertemplate": "Countries and areas=United States<br>Birth Rate=%{x}<br>Female Literacy Rate (15-24)=%{y}<br>Unemployment_Rate=%{marker.size}<extra></extra>",
         "legendgroup": "United States",
         "marker": {
          "color": "#ab63fa",
          "size": [
           14.7
          ],
          "sizemode": "area",
          "sizeref": 0.07045,
          "symbol": "circle"
         },
         "mode": "markers",
         "name": "United States",
         "orientation": "v",
         "showlegend": true,
         "type": "scatter",
         "x": [
          11.6
         ],
         "xaxis": "x",
         "y": [
          0
         ],
         "yaxis": "y"
        },
        {
         "hovertemplate": "Countries and areas=Uruguay<br>Birth Rate=%{x}<br>Female Literacy Rate (15-24)=%{y}<br>Unemployment_Rate=%{marker.size}<extra></extra>",
         "legendgroup": "Uruguay",
         "marker": {
          "color": "#FFA15A",
          "size": [
           8.73
          ],
          "sizemode": "area",
          "sizeref": 0.07045,
          "symbol": "circle"
         },
         "mode": "markers",
         "name": "Uruguay",
         "orientation": "v",
         "showlegend": true,
         "type": "scatter",
         "x": [
          13.86
         ],
         "xaxis": "x",
         "y": [
          99
         ],
         "yaxis": "y"
        },
        {
         "hovertemplate": "Countries and areas=Uzbekistan<br>Birth Rate=%{x}<br>Female Literacy Rate (15-24)=%{y}<br>Unemployment_Rate=%{marker.size}<extra></extra>",
         "legendgroup": "Uzbekistan",
         "marker": {
          "color": "#19d3f3",
          "size": [
           5.92
          ],
          "sizemode": "area",
          "sizeref": 0.07045,
          "symbol": "circle"
         },
         "mode": "markers",
         "name": "Uzbekistan",
         "orientation": "v",
         "showlegend": true,
         "type": "scatter",
         "x": [
          23.3
         ],
         "xaxis": "x",
         "y": [
          100
         ],
         "yaxis": "y"
        },
        {
         "hovertemplate": "Countries and areas=Vanuatu<br>Birth Rate=%{x}<br>Female Literacy Rate (15-24)=%{y}<br>Unemployment_Rate=%{marker.size}<extra></extra>",
         "legendgroup": "Vanuatu",
         "marker": {
          "color": "#FF6692",
          "size": [
           4.39
          ],
          "sizemode": "area",
          "sizeref": 0.07045,
          "symbol": "circle"
         },
         "mode": "markers",
         "name": "Vanuatu",
         "orientation": "v",
         "showlegend": true,
         "type": "scatter",
         "x": [
          29.6
         ],
         "xaxis": "x",
         "y": [
          97
         ],
         "yaxis": "y"
        },
        {
         "hovertemplate": "Countries and areas=Venezuela<br>Birth Rate=%{x}<br>Female Literacy Rate (15-24)=%{y}<br>Unemployment_Rate=%{marker.size}<extra></extra>",
         "legendgroup": "Venezuela",
         "marker": {
          "color": "#B6E880",
          "size": [
           8.8
          ],
          "sizemode": "area",
          "sizeref": 0.07045,
          "symbol": "circle"
         },
         "mode": "markers",
         "name": "Venezuela",
         "orientation": "v",
         "showlegend": true,
         "type": "scatter",
         "x": [
          17.88
         ],
         "xaxis": "x",
         "y": [
          0
         ],
         "yaxis": "y"
        },
        {
         "hovertemplate": "Countries and areas=Vietnam<br>Birth Rate=%{x}<br>Female Literacy Rate (15-24)=%{y}<br>Unemployment_Rate=%{marker.size}<extra></extra>",
         "legendgroup": "Vietnam",
         "marker": {
          "color": "#FF97FF",
          "size": [
           2.01
          ],
          "sizemode": "area",
          "sizeref": 0.07045,
          "symbol": "circle"
         },
         "mode": "markers",
         "name": "Vietnam",
         "orientation": "v",
         "showlegend": true,
         "type": "scatter",
         "x": [
          16.75
         ],
         "xaxis": "x",
         "y": [
          98
         ],
         "yaxis": "y"
        },
        {
         "hovertemplate": "Countries and areas=Yemen<br>Birth Rate=%{x}<br>Female Literacy Rate (15-24)=%{y}<br>Unemployment_Rate=%{marker.size}<extra></extra>",
         "legendgroup": "Yemen",
         "marker": {
          "color": "#FECB52",
          "size": [
           12.91
          ],
          "sizemode": "area",
          "sizeref": 0.07045,
          "symbol": "circle"
         },
         "mode": "markers",
         "name": "Yemen",
         "orientation": "v",
         "showlegend": true,
         "type": "scatter",
         "x": [
          30.45
         ],
         "xaxis": "x",
         "y": [
          0
         ],
         "yaxis": "y"
        },
        {
         "hovertemplate": "Countries and areas=Zambia<br>Birth Rate=%{x}<br>Female Literacy Rate (15-24)=%{y}<br>Unemployment_Rate=%{marker.size}<extra></extra>",
         "legendgroup": "Zambia",
         "marker": {
          "color": "#636efa",
          "size": [
           11.43
          ],
          "sizemode": "area",
          "sizeref": 0.07045,
          "symbol": "circle"
         },
         "mode": "markers",
         "name": "Zambia",
         "orientation": "v",
         "showlegend": true,
         "type": "scatter",
         "x": [
          36.19
         ],
         "xaxis": "x",
         "y": [
          92
         ],
         "yaxis": "y"
        },
        {
         "hovertemplate": "Countries and areas=Zimbabwe<br>Birth Rate=%{x}<br>Female Literacy Rate (15-24)=%{y}<br>Unemployment_Rate=%{marker.size}<extra></extra>",
         "legendgroup": "Zimbabwe",
         "marker": {
          "color": "#EF553B",
          "size": [
           4.95
          ],
          "sizemode": "area",
          "sizeref": 0.07045,
          "symbol": "circle"
         },
         "mode": "markers",
         "name": "Zimbabwe",
         "orientation": "v",
         "showlegend": true,
         "type": "scatter",
         "x": [
          30.68
         ],
         "xaxis": "x",
         "y": [
          0
         ],
         "yaxis": "y"
        }
       ],
       "layout": {
        "legend": {
         "itemsizing": "constant",
         "title": {
          "text": "Countries and areas"
         },
         "tracegroupgap": 0
        },
        "template": {
         "data": {
          "bar": [
           {
            "error_x": {
             "color": "#2a3f5f"
            },
            "error_y": {
             "color": "#2a3f5f"
            },
            "marker": {
             "line": {
              "color": "#E5ECF6",
              "width": 0.5
             },
             "pattern": {
              "fillmode": "overlay",
              "size": 10,
              "solidity": 0.2
             }
            },
            "type": "bar"
           }
          ],
          "barpolar": [
           {
            "marker": {
             "line": {
              "color": "#E5ECF6",
              "width": 0.5
             },
             "pattern": {
              "fillmode": "overlay",
              "size": 10,
              "solidity": 0.2
             }
            },
            "type": "barpolar"
           }
          ],
          "carpet": [
           {
            "aaxis": {
             "endlinecolor": "#2a3f5f",
             "gridcolor": "white",
             "linecolor": "white",
             "minorgridcolor": "white",
             "startlinecolor": "#2a3f5f"
            },
            "baxis": {
             "endlinecolor": "#2a3f5f",
             "gridcolor": "white",
             "linecolor": "white",
             "minorgridcolor": "white",
             "startlinecolor": "#2a3f5f"
            },
            "type": "carpet"
           }
          ],
          "choropleth": [
           {
            "colorbar": {
             "outlinewidth": 0,
             "ticks": ""
            },
            "type": "choropleth"
           }
          ],
          "contour": [
           {
            "colorbar": {
             "outlinewidth": 0,
             "ticks": ""
            },
            "colorscale": [
             [
              0,
              "#0d0887"
             ],
             [
              0.1111111111111111,
              "#46039f"
             ],
             [
              0.2222222222222222,
              "#7201a8"
             ],
             [
              0.3333333333333333,
              "#9c179e"
             ],
             [
              0.4444444444444444,
              "#bd3786"
             ],
             [
              0.5555555555555556,
              "#d8576b"
             ],
             [
              0.6666666666666666,
              "#ed7953"
             ],
             [
              0.7777777777777778,
              "#fb9f3a"
             ],
             [
              0.8888888888888888,
              "#fdca26"
             ],
             [
              1,
              "#f0f921"
             ]
            ],
            "type": "contour"
           }
          ],
          "contourcarpet": [
           {
            "colorbar": {
             "outlinewidth": 0,
             "ticks": ""
            },
            "type": "contourcarpet"
           }
          ],
          "heatmap": [
           {
            "colorbar": {
             "outlinewidth": 0,
             "ticks": ""
            },
            "colorscale": [
             [
              0,
              "#0d0887"
             ],
             [
              0.1111111111111111,
              "#46039f"
             ],
             [
              0.2222222222222222,
              "#7201a8"
             ],
             [
              0.3333333333333333,
              "#9c179e"
             ],
             [
              0.4444444444444444,
              "#bd3786"
             ],
             [
              0.5555555555555556,
              "#d8576b"
             ],
             [
              0.6666666666666666,
              "#ed7953"
             ],
             [
              0.7777777777777778,
              "#fb9f3a"
             ],
             [
              0.8888888888888888,
              "#fdca26"
             ],
             [
              1,
              "#f0f921"
             ]
            ],
            "type": "heatmap"
           }
          ],
          "heatmapgl": [
           {
            "colorbar": {
             "outlinewidth": 0,
             "ticks": ""
            },
            "colorscale": [
             [
              0,
              "#0d0887"
             ],
             [
              0.1111111111111111,
              "#46039f"
             ],
             [
              0.2222222222222222,
              "#7201a8"
             ],
             [
              0.3333333333333333,
              "#9c179e"
             ],
             [
              0.4444444444444444,
              "#bd3786"
             ],
             [
              0.5555555555555556,
              "#d8576b"
             ],
             [
              0.6666666666666666,
              "#ed7953"
             ],
             [
              0.7777777777777778,
              "#fb9f3a"
             ],
             [
              0.8888888888888888,
              "#fdca26"
             ],
             [
              1,
              "#f0f921"
             ]
            ],
            "type": "heatmapgl"
           }
          ],
          "histogram": [
           {
            "marker": {
             "pattern": {
              "fillmode": "overlay",
              "size": 10,
              "solidity": 0.2
             }
            },
            "type": "histogram"
           }
          ],
          "histogram2d": [
           {
            "colorbar": {
             "outlinewidth": 0,
             "ticks": ""
            },
            "colorscale": [
             [
              0,
              "#0d0887"
             ],
             [
              0.1111111111111111,
              "#46039f"
             ],
             [
              0.2222222222222222,
              "#7201a8"
             ],
             [
              0.3333333333333333,
              "#9c179e"
             ],
             [
              0.4444444444444444,
              "#bd3786"
             ],
             [
              0.5555555555555556,
              "#d8576b"
             ],
             [
              0.6666666666666666,
              "#ed7953"
             ],
             [
              0.7777777777777778,
              "#fb9f3a"
             ],
             [
              0.8888888888888888,
              "#fdca26"
             ],
             [
              1,
              "#f0f921"
             ]
            ],
            "type": "histogram2d"
           }
          ],
          "histogram2dcontour": [
           {
            "colorbar": {
             "outlinewidth": 0,
             "ticks": ""
            },
            "colorscale": [
             [
              0,
              "#0d0887"
             ],
             [
              0.1111111111111111,
              "#46039f"
             ],
             [
              0.2222222222222222,
              "#7201a8"
             ],
             [
              0.3333333333333333,
              "#9c179e"
             ],
             [
              0.4444444444444444,
              "#bd3786"
             ],
             [
              0.5555555555555556,
              "#d8576b"
             ],
             [
              0.6666666666666666,
              "#ed7953"
             ],
             [
              0.7777777777777778,
              "#fb9f3a"
             ],
             [
              0.8888888888888888,
              "#fdca26"
             ],
             [
              1,
              "#f0f921"
             ]
            ],
            "type": "histogram2dcontour"
           }
          ],
          "mesh3d": [
           {
            "colorbar": {
             "outlinewidth": 0,
             "ticks": ""
            },
            "type": "mesh3d"
           }
          ],
          "parcoords": [
           {
            "line": {
             "colorbar": {
              "outlinewidth": 0,
              "ticks": ""
             }
            },
            "type": "parcoords"
           }
          ],
          "pie": [
           {
            "automargin": true,
            "type": "pie"
           }
          ],
          "scatter": [
           {
            "fillpattern": {
             "fillmode": "overlay",
             "size": 10,
             "solidity": 0.2
            },
            "type": "scatter"
           }
          ],
          "scatter3d": [
           {
            "line": {
             "colorbar": {
              "outlinewidth": 0,
              "ticks": ""
             }
            },
            "marker": {
             "colorbar": {
              "outlinewidth": 0,
              "ticks": ""
             }
            },
            "type": "scatter3d"
           }
          ],
          "scattercarpet": [
           {
            "marker": {
             "colorbar": {
              "outlinewidth": 0,
              "ticks": ""
             }
            },
            "type": "scattercarpet"
           }
          ],
          "scattergeo": [
           {
            "marker": {
             "colorbar": {
              "outlinewidth": 0,
              "ticks": ""
             }
            },
            "type": "scattergeo"
           }
          ],
          "scattergl": [
           {
            "marker": {
             "colorbar": {
              "outlinewidth": 0,
              "ticks": ""
             }
            },
            "type": "scattergl"
           }
          ],
          "scattermapbox": [
           {
            "marker": {
             "colorbar": {
              "outlinewidth": 0,
              "ticks": ""
             }
            },
            "type": "scattermapbox"
           }
          ],
          "scatterpolar": [
           {
            "marker": {
             "colorbar": {
              "outlinewidth": 0,
              "ticks": ""
             }
            },
            "type": "scatterpolar"
           }
          ],
          "scatterpolargl": [
           {
            "marker": {
             "colorbar": {
              "outlinewidth": 0,
              "ticks": ""
             }
            },
            "type": "scatterpolargl"
           }
          ],
          "scatterternary": [
           {
            "marker": {
             "colorbar": {
              "outlinewidth": 0,
              "ticks": ""
             }
            },
            "type": "scatterternary"
           }
          ],
          "surface": [
           {
            "colorbar": {
             "outlinewidth": 0,
             "ticks": ""
            },
            "colorscale": [
             [
              0,
              "#0d0887"
             ],
             [
              0.1111111111111111,
              "#46039f"
             ],
             [
              0.2222222222222222,
              "#7201a8"
             ],
             [
              0.3333333333333333,
              "#9c179e"
             ],
             [
              0.4444444444444444,
              "#bd3786"
             ],
             [
              0.5555555555555556,
              "#d8576b"
             ],
             [
              0.6666666666666666,
              "#ed7953"
             ],
             [
              0.7777777777777778,
              "#fb9f3a"
             ],
             [
              0.8888888888888888,
              "#fdca26"
             ],
             [
              1,
              "#f0f921"
             ]
            ],
            "type": "surface"
           }
          ],
          "table": [
           {
            "cells": {
             "fill": {
              "color": "#EBF0F8"
             },
             "line": {
              "color": "white"
             }
            },
            "header": {
             "fill": {
              "color": "#C8D4E3"
             },
             "line": {
              "color": "white"
             }
            },
            "type": "table"
           }
          ]
         },
         "layout": {
          "annotationdefaults": {
           "arrowcolor": "#2a3f5f",
           "arrowhead": 0,
           "arrowwidth": 1
          },
          "autotypenumbers": "strict",
          "coloraxis": {
           "colorbar": {
            "outlinewidth": 0,
            "ticks": ""
           }
          },
          "colorscale": {
           "diverging": [
            [
             0,
             "#8e0152"
            ],
            [
             0.1,
             "#c51b7d"
            ],
            [
             0.2,
             "#de77ae"
            ],
            [
             0.3,
             "#f1b6da"
            ],
            [
             0.4,
             "#fde0ef"
            ],
            [
             0.5,
             "#f7f7f7"
            ],
            [
             0.6,
             "#e6f5d0"
            ],
            [
             0.7,
             "#b8e186"
            ],
            [
             0.8,
             "#7fbc41"
            ],
            [
             0.9,
             "#4d9221"
            ],
            [
             1,
             "#276419"
            ]
           ],
           "sequential": [
            [
             0,
             "#0d0887"
            ],
            [
             0.1111111111111111,
             "#46039f"
            ],
            [
             0.2222222222222222,
             "#7201a8"
            ],
            [
             0.3333333333333333,
             "#9c179e"
            ],
            [
             0.4444444444444444,
             "#bd3786"
            ],
            [
             0.5555555555555556,
             "#d8576b"
            ],
            [
             0.6666666666666666,
             "#ed7953"
            ],
            [
             0.7777777777777778,
             "#fb9f3a"
            ],
            [
             0.8888888888888888,
             "#fdca26"
            ],
            [
             1,
             "#f0f921"
            ]
           ],
           "sequentialminus": [
            [
             0,
             "#0d0887"
            ],
            [
             0.1111111111111111,
             "#46039f"
            ],
            [
             0.2222222222222222,
             "#7201a8"
            ],
            [
             0.3333333333333333,
             "#9c179e"
            ],
            [
             0.4444444444444444,
             "#bd3786"
            ],
            [
             0.5555555555555556,
             "#d8576b"
            ],
            [
             0.6666666666666666,
             "#ed7953"
            ],
            [
             0.7777777777777778,
             "#fb9f3a"
            ],
            [
             0.8888888888888888,
             "#fdca26"
            ],
            [
             1,
             "#f0f921"
            ]
           ]
          },
          "colorway": [
           "#636efa",
           "#EF553B",
           "#00cc96",
           "#ab63fa",
           "#FFA15A",
           "#19d3f3",
           "#FF6692",
           "#B6E880",
           "#FF97FF",
           "#FECB52"
          ],
          "font": {
           "color": "#2a3f5f"
          },
          "geo": {
           "bgcolor": "white",
           "lakecolor": "white",
           "landcolor": "#E5ECF6",
           "showlakes": true,
           "showland": true,
           "subunitcolor": "white"
          },
          "hoverlabel": {
           "align": "left"
          },
          "hovermode": "closest",
          "mapbox": {
           "style": "light"
          },
          "paper_bgcolor": "white",
          "plot_bgcolor": "#E5ECF6",
          "polar": {
           "angularaxis": {
            "gridcolor": "white",
            "linecolor": "white",
            "ticks": ""
           },
           "bgcolor": "#E5ECF6",
           "radialaxis": {
            "gridcolor": "white",
            "linecolor": "white",
            "ticks": ""
           }
          },
          "scene": {
           "xaxis": {
            "backgroundcolor": "#E5ECF6",
            "gridcolor": "white",
            "gridwidth": 2,
            "linecolor": "white",
            "showbackground": true,
            "ticks": "",
            "zerolinecolor": "white"
           },
           "yaxis": {
            "backgroundcolor": "#E5ECF6",
            "gridcolor": "white",
            "gridwidth": 2,
            "linecolor": "white",
            "showbackground": true,
            "ticks": "",
            "zerolinecolor": "white"
           },
           "zaxis": {
            "backgroundcolor": "#E5ECF6",
            "gridcolor": "white",
            "gridwidth": 2,
            "linecolor": "white",
            "showbackground": true,
            "ticks": "",
            "zerolinecolor": "white"
           }
          },
          "shapedefaults": {
           "line": {
            "color": "#2a3f5f"
           }
          },
          "ternary": {
           "aaxis": {
            "gridcolor": "white",
            "linecolor": "white",
            "ticks": ""
           },
           "baxis": {
            "gridcolor": "white",
            "linecolor": "white",
            "ticks": ""
           },
           "bgcolor": "#E5ECF6",
           "caxis": {
            "gridcolor": "white",
            "linecolor": "white",
            "ticks": ""
           }
          },
          "title": {
           "x": 0.05
          },
          "xaxis": {
           "automargin": true,
           "gridcolor": "white",
           "linecolor": "white",
           "ticks": "",
           "title": {
            "standoff": 15
           },
           "zerolinecolor": "white",
           "zerolinewidth": 2
          },
          "yaxis": {
           "automargin": true,
           "gridcolor": "white",
           "linecolor": "white",
           "ticks": "",
           "title": {
            "standoff": 15
           },
           "zerolinecolor": "white",
           "zerolinewidth": 2
          }
         }
        },
        "title": {
         "text": "Birth Rate vs. Female Literacy Rate"
        },
        "xaxis": {
         "anchor": "y",
         "domain": [
          0,
          1
         ],
         "title": {
          "text": "Birth Rate"
         }
        },
        "yaxis": {
         "anchor": "x",
         "domain": [
          0,
          1
         ],
         "title": {
          "text": "Female Literacy Rate (15-24)"
         }
        }
       }
      }
     },
     "metadata": {},
     "output_type": "display_data"
    }
   ],
   "source": [
    "fig2 = px.scatter(\n",
    "    data,\n",
    "    x='Birth_Rate',\n",
    "    y='Youth_15_24_Literacy_Rate_Female',\n",
    "    color='Countries and areas',\n",
    "    size='Unemployment_Rate',\n",
    "    title='Birth Rate vs. Female Literacy Rate',\n",
    "    labels={\"Birth_Rate\": \"Birth Rate\", \"Youth_15_24_Literacy_Rate_Female\": \"Female Literacy Rate (15-24)\"}\n",
    ")\n",
    "fig2.show()"
   ]
  },
  {
   "cell_type": "code",
   "execution_count": 10,
   "metadata": {},
   "outputs": [
    {
     "data": {
      "application/vnd.plotly.v1+json": {
       "config": {
        "plotlyServerURL": "https://plot.ly"
       },
       "data": [
        {
         "alignmentgroup": "True",
         "hovertemplate": "Countries and areas=%{x}<br>Primary Education Enrollment=%{y}<extra></extra>",
         "legendgroup": "",
         "marker": {
          "color": "#636efa",
          "pattern": {
           "shape": ""
          }
         },
         "name": "",
         "offsetgroup": "",
         "orientation": "v",
         "showlegend": false,
         "textposition": "auto",
         "type": "bar",
         "x": [
          "Malawi",
          "Madagascar",
          "Nepal",
          "Gabon",
          "Rwanda",
          "Sweden",
          "Namibia",
          "Togo",
          "Benin",
          "Burundi",
          "Lesotho",
          "Nicaragua",
          "Guinea0Bissau",
          "Bangladesh",
          "Tonga",
          "Tunisia",
          "Brazil",
          "East Timor",
          "Dominica",
          "Colombia",
          "Morocco",
          "Haiti",
          "Angola",
          "Saint Vincent and the Grenadines",
          "Costa Rica",
          "India",
          "Sierra Leone",
          "North Korea",
          "Mozambique",
          "Palau",
          "Myanmar",
          "Belize",
          "Iran",
          "Vietnam",
          "Samoa",
          "Algeria",
          "Zimbabwe",
          "Argentina",
          "Vanuatu",
          "Libya",
          "Suriname",
          "Saint Kitts and Nevis",
          "Iraq",
          "Papua New Guinea",
          "Uruguay",
          "United Arab Emirates",
          "San Marino",
          "Democratic Republic of the Congo",
          "Kyrgyzstan",
          "Philippines",
          "Cambodia",
          "Albania",
          "Grenada",
          "Peru",
          "Sï¿½ï¿½ï¿½ï¿½ï¿½ï¿½ï¿½ï¿",
          "Republic of the Congo",
          "Fiji",
          "Andorra",
          "Indonesia",
          "Egypt",
          "Trinidad and Tobago",
          "Portugal",
          "Solomon Islands",
          "Mexico",
          "Dominican Republic",
          "Malaysia",
          "Switzerland",
          "Antigua and Barbuda",
          "Malta",
          "Israel",
          "Ghana",
          "Liechtenstein",
          "Kazakhstan",
          "Paraguay",
          "Netherlands",
          "Uzbekistan",
          "Afghanistan",
          "Cape Verde",
          "Mongolia",
          "Germany",
          "Belgium",
          "Lithuania",
          "Qatar",
          "Cameroon",
          "Oman",
          "Ecuador",
          "Kenya",
          "Botswana",
          "Brunei",
          "Austria",
          "Uganda",
          "Spain",
          "Russia",
          "Saint Lucia",
          "France",
          "Laos",
          "Luxembourg",
          "Central African Republic",
          "Guatemala",
          "Cuba",
          "Italy",
          "United States",
          "Chile",
          "Kiribati",
          "Denmark",
          "United Kingdom",
          "Mauritius",
          "Ethiopia",
          "South Africa",
          "Canada",
          "Tajikistan",
          "Republic of Ireland",
          "Hungary",
          "Czech Republic",
          "Singapore",
          "Belarus",
          "Slovenia",
          "Seychelles",
          "Iceland",
          "Norway",
          "Australia",
          "Serbia",
          "China",
          "Finland",
          "Sri Lanka",
          "Bhutan",
          "Montenegro",
          "New Zealand",
          "Poland",
          "Mauritania",
          "Saudi Arabia",
          "Thailand",
          "Ivory Coast",
          "Azerbaijan",
          "Greece",
          "Comoros",
          "Barbados",
          "Bahrain",
          "Latvia",
          "Cyprus",
          "Ukraine",
          "Japan",
          "Slovakia",
          "Zambia",
          "Georgia",
          "Bolivia",
          "South Korea",
          "The Gambia",
          "Guyana",
          "Estonia",
          "Venezuela",
          "Federated States of Micronesia",
          "Maldives",
          "Croatia",
          "Burkina Faso",
          "Lebanon",
          "El Salvador",
          "Panama",
          "Pakistan",
          "Tanzania",
          "Yemen",
          "Turkey",
          "Armenia",
          "Kuwait",
          "Honduras",
          "Guinea",
          "Jamaica",
          "Moldova",
          "Bulgaria",
          "Turkmenistan",
          "Chad",
          "Romania",
          "Liberia",
          "Marshall Islands",
          "Nigeria",
          "Syria",
          "Jordan",
          "The Bahamas",
          "Senegal",
          "Sudan",
          "Mali",
          "Djibouti",
          "Niger",
          "South Sudan",
          "Eritrea",
          "Equatorial Guinea",
          "Somalia",
          "Eswatini",
          "British Virgin Islands",
          "Cook Islands",
          "Anguilla",
          "Bosnia and Herzegovina",
          "Monaco",
          "Vatican City",
          "Niue",
          "North Macedonia",
          "Nauru",
          "Montserrat",
          "Tokelau",
          "Palestinian National Authority",
          "Tuvalu",
          "Turks and Caicos Islands"
         ],
         "xaxis": "x",
         "y": [
          142.5,
          142.5,
          142.1,
          139.9,
          133,
          126.6,
          124.2,
          123.8,
          122,
          121.4,
          120.9,
          120.6,
          118.7,
          116.5,
          116.3,
          115.4,
          115.4,
          115.3,
          114.7,
          114.5,
          113.9,
          113.6,
          113.5,
          113.4,
          113.3,
          113,
          112.8,
          112.8,
          112.6,
          112.6,
          112.3,
          111.7,
          110.7,
          110.6,
          110.5,
          109.9,
          109.9,
          109.7,
          109.3,
          109,
          108.8,
          108.7,
          108.7,
          108.5,
          108.5,
          108.4,
          108.1,
          108,
          107.6,
          107.5,
          107.4,
          107,
          106.9,
          106.9,
          106.8,
          106.6,
          106.4,
          106.4,
          106.4,
          106.3,
          106.2,
          106.2,
          106.2,
          105.8,
          105.7,
          105.3,
          105.2,
          105,
          105,
          104.9,
          104.8,
          104.7,
          104.4,
          104.4,
          104.2,
          104.2,
          104,
          104,
          104,
          104,
          103.9,
          103.9,
          103.8,
          103.4,
          103.4,
          103.3,
          103.2,
          103.2,
          103.2,
          103.1,
          102.7,
          102.7,
          102.6,
          102.6,
          102.5,
          102.4,
          102.3,
          102,
          101.9,
          101.9,
          101.9,
          101.8,
          101.4,
          101.3,
          101.3,
          101.2,
          101.1,
          101,
          100.9,
          100.9,
          100.9,
          100.9,
          100.8,
          100.7,
          100.6,
          100.5,
          100.4,
          100.4,
          100.4,
          100.3,
          100.3,
          100.3,
          100.2,
          100.2,
          100.2,
          100.1,
          100,
          100,
          100,
          99.9,
          99.8,
          99.8,
          99.8,
          99.7,
          99.6,
          99.5,
          99.4,
          99.4,
          99.4,
          99.3,
          99,
          98.8,
          98.7,
          98.7,
          98.6,
          98.2,
          98.1,
          98,
          97.8,
          97.2,
          97.2,
          97.2,
          97.1,
          96.5,
          96.1,
          95.1,
          94.8,
          94.4,
          94.3,
          94.2,
          93.6,
          93.2,
          92.7,
          92.4,
          91.5,
          91.5,
          91,
          90.6,
          89.3,
          88.4,
          86.8,
          85.2,
          85.1,
          84.7,
          84.7,
          81.7,
          81.5,
          81.4,
          81,
          76.8,
          75.6,
          75.3,
          74.7,
          73,
          68.4,
          61.8,
          23.4,
          0,
          0,
          0,
          0,
          0,
          0,
          0,
          0,
          0,
          0,
          0,
          0,
          0,
          0,
          0
         ],
         "yaxis": "y"
        }
       ],
       "layout": {
        "barmode": "relative",
        "legend": {
         "tracegroupgap": 0
        },
        "template": {
         "data": {
          "bar": [
           {
            "error_x": {
             "color": "#2a3f5f"
            },
            "error_y": {
             "color": "#2a3f5f"
            },
            "marker": {
             "line": {
              "color": "#E5ECF6",
              "width": 0.5
             },
             "pattern": {
              "fillmode": "overlay",
              "size": 10,
              "solidity": 0.2
             }
            },
            "type": "bar"
           }
          ],
          "barpolar": [
           {
            "marker": {
             "line": {
              "color": "#E5ECF6",
              "width": 0.5
             },
             "pattern": {
              "fillmode": "overlay",
              "size": 10,
              "solidity": 0.2
             }
            },
            "type": "barpolar"
           }
          ],
          "carpet": [
           {
            "aaxis": {
             "endlinecolor": "#2a3f5f",
             "gridcolor": "white",
             "linecolor": "white",
             "minorgridcolor": "white",
             "startlinecolor": "#2a3f5f"
            },
            "baxis": {
             "endlinecolor": "#2a3f5f",
             "gridcolor": "white",
             "linecolor": "white",
             "minorgridcolor": "white",
             "startlinecolor": "#2a3f5f"
            },
            "type": "carpet"
           }
          ],
          "choropleth": [
           {
            "colorbar": {
             "outlinewidth": 0,
             "ticks": ""
            },
            "type": "choropleth"
           }
          ],
          "contour": [
           {
            "colorbar": {
             "outlinewidth": 0,
             "ticks": ""
            },
            "colorscale": [
             [
              0,
              "#0d0887"
             ],
             [
              0.1111111111111111,
              "#46039f"
             ],
             [
              0.2222222222222222,
              "#7201a8"
             ],
             [
              0.3333333333333333,
              "#9c179e"
             ],
             [
              0.4444444444444444,
              "#bd3786"
             ],
             [
              0.5555555555555556,
              "#d8576b"
             ],
             [
              0.6666666666666666,
              "#ed7953"
             ],
             [
              0.7777777777777778,
              "#fb9f3a"
             ],
             [
              0.8888888888888888,
              "#fdca26"
             ],
             [
              1,
              "#f0f921"
             ]
            ],
            "type": "contour"
           }
          ],
          "contourcarpet": [
           {
            "colorbar": {
             "outlinewidth": 0,
             "ticks": ""
            },
            "type": "contourcarpet"
           }
          ],
          "heatmap": [
           {
            "colorbar": {
             "outlinewidth": 0,
             "ticks": ""
            },
            "colorscale": [
             [
              0,
              "#0d0887"
             ],
             [
              0.1111111111111111,
              "#46039f"
             ],
             [
              0.2222222222222222,
              "#7201a8"
             ],
             [
              0.3333333333333333,
              "#9c179e"
             ],
             [
              0.4444444444444444,
              "#bd3786"
             ],
             [
              0.5555555555555556,
              "#d8576b"
             ],
             [
              0.6666666666666666,
              "#ed7953"
             ],
             [
              0.7777777777777778,
              "#fb9f3a"
             ],
             [
              0.8888888888888888,
              "#fdca26"
             ],
             [
              1,
              "#f0f921"
             ]
            ],
            "type": "heatmap"
           }
          ],
          "heatmapgl": [
           {
            "colorbar": {
             "outlinewidth": 0,
             "ticks": ""
            },
            "colorscale": [
             [
              0,
              "#0d0887"
             ],
             [
              0.1111111111111111,
              "#46039f"
             ],
             [
              0.2222222222222222,
              "#7201a8"
             ],
             [
              0.3333333333333333,
              "#9c179e"
             ],
             [
              0.4444444444444444,
              "#bd3786"
             ],
             [
              0.5555555555555556,
              "#d8576b"
             ],
             [
              0.6666666666666666,
              "#ed7953"
             ],
             [
              0.7777777777777778,
              "#fb9f3a"
             ],
             [
              0.8888888888888888,
              "#fdca26"
             ],
             [
              1,
              "#f0f921"
             ]
            ],
            "type": "heatmapgl"
           }
          ],
          "histogram": [
           {
            "marker": {
             "pattern": {
              "fillmode": "overlay",
              "size": 10,
              "solidity": 0.2
             }
            },
            "type": "histogram"
           }
          ],
          "histogram2d": [
           {
            "colorbar": {
             "outlinewidth": 0,
             "ticks": ""
            },
            "colorscale": [
             [
              0,
              "#0d0887"
             ],
             [
              0.1111111111111111,
              "#46039f"
             ],
             [
              0.2222222222222222,
              "#7201a8"
             ],
             [
              0.3333333333333333,
              "#9c179e"
             ],
             [
              0.4444444444444444,
              "#bd3786"
             ],
             [
              0.5555555555555556,
              "#d8576b"
             ],
             [
              0.6666666666666666,
              "#ed7953"
             ],
             [
              0.7777777777777778,
              "#fb9f3a"
             ],
             [
              0.8888888888888888,
              "#fdca26"
             ],
             [
              1,
              "#f0f921"
             ]
            ],
            "type": "histogram2d"
           }
          ],
          "histogram2dcontour": [
           {
            "colorbar": {
             "outlinewidth": 0,
             "ticks": ""
            },
            "colorscale": [
             [
              0,
              "#0d0887"
             ],
             [
              0.1111111111111111,
              "#46039f"
             ],
             [
              0.2222222222222222,
              "#7201a8"
             ],
             [
              0.3333333333333333,
              "#9c179e"
             ],
             [
              0.4444444444444444,
              "#bd3786"
             ],
             [
              0.5555555555555556,
              "#d8576b"
             ],
             [
              0.6666666666666666,
              "#ed7953"
             ],
             [
              0.7777777777777778,
              "#fb9f3a"
             ],
             [
              0.8888888888888888,
              "#fdca26"
             ],
             [
              1,
              "#f0f921"
             ]
            ],
            "type": "histogram2dcontour"
           }
          ],
          "mesh3d": [
           {
            "colorbar": {
             "outlinewidth": 0,
             "ticks": ""
            },
            "type": "mesh3d"
           }
          ],
          "parcoords": [
           {
            "line": {
             "colorbar": {
              "outlinewidth": 0,
              "ticks": ""
             }
            },
            "type": "parcoords"
           }
          ],
          "pie": [
           {
            "automargin": true,
            "type": "pie"
           }
          ],
          "scatter": [
           {
            "fillpattern": {
             "fillmode": "overlay",
             "size": 10,
             "solidity": 0.2
            },
            "type": "scatter"
           }
          ],
          "scatter3d": [
           {
            "line": {
             "colorbar": {
              "outlinewidth": 0,
              "ticks": ""
             }
            },
            "marker": {
             "colorbar": {
              "outlinewidth": 0,
              "ticks": ""
             }
            },
            "type": "scatter3d"
           }
          ],
          "scattercarpet": [
           {
            "marker": {
             "colorbar": {
              "outlinewidth": 0,
              "ticks": ""
             }
            },
            "type": "scattercarpet"
           }
          ],
          "scattergeo": [
           {
            "marker": {
             "colorbar": {
              "outlinewidth": 0,
              "ticks": ""
             }
            },
            "type": "scattergeo"
           }
          ],
          "scattergl": [
           {
            "marker": {
             "colorbar": {
              "outlinewidth": 0,
              "ticks": ""
             }
            },
            "type": "scattergl"
           }
          ],
          "scattermapbox": [
           {
            "marker": {
             "colorbar": {
              "outlinewidth": 0,
              "ticks": ""
             }
            },
            "type": "scattermapbox"
           }
          ],
          "scatterpolar": [
           {
            "marker": {
             "colorbar": {
              "outlinewidth": 0,
              "ticks": ""
             }
            },
            "type": "scatterpolar"
           }
          ],
          "scatterpolargl": [
           {
            "marker": {
             "colorbar": {
              "outlinewidth": 0,
              "ticks": ""
             }
            },
            "type": "scatterpolargl"
           }
          ],
          "scatterternary": [
           {
            "marker": {
             "colorbar": {
              "outlinewidth": 0,
              "ticks": ""
             }
            },
            "type": "scatterternary"
           }
          ],
          "surface": [
           {
            "colorbar": {
             "outlinewidth": 0,
             "ticks": ""
            },
            "colorscale": [
             [
              0,
              "#0d0887"
             ],
             [
              0.1111111111111111,
              "#46039f"
             ],
             [
              0.2222222222222222,
              "#7201a8"
             ],
             [
              0.3333333333333333,
              "#9c179e"
             ],
             [
              0.4444444444444444,
              "#bd3786"
             ],
             [
              0.5555555555555556,
              "#d8576b"
             ],
             [
              0.6666666666666666,
              "#ed7953"
             ],
             [
              0.7777777777777778,
              "#fb9f3a"
             ],
             [
              0.8888888888888888,
              "#fdca26"
             ],
             [
              1,
              "#f0f921"
             ]
            ],
            "type": "surface"
           }
          ],
          "table": [
           {
            "cells": {
             "fill": {
              "color": "#EBF0F8"
             },
             "line": {
              "color": "white"
             }
            },
            "header": {
             "fill": {
              "color": "#C8D4E3"
             },
             "line": {
              "color": "white"
             }
            },
            "type": "table"
           }
          ]
         },
         "layout": {
          "annotationdefaults": {
           "arrowcolor": "#2a3f5f",
           "arrowhead": 0,
           "arrowwidth": 1
          },
          "autotypenumbers": "strict",
          "coloraxis": {
           "colorbar": {
            "outlinewidth": 0,
            "ticks": ""
           }
          },
          "colorscale": {
           "diverging": [
            [
             0,
             "#8e0152"
            ],
            [
             0.1,
             "#c51b7d"
            ],
            [
             0.2,
             "#de77ae"
            ],
            [
             0.3,
             "#f1b6da"
            ],
            [
             0.4,
             "#fde0ef"
            ],
            [
             0.5,
             "#f7f7f7"
            ],
            [
             0.6,
             "#e6f5d0"
            ],
            [
             0.7,
             "#b8e186"
            ],
            [
             0.8,
             "#7fbc41"
            ],
            [
             0.9,
             "#4d9221"
            ],
            [
             1,
             "#276419"
            ]
           ],
           "sequential": [
            [
             0,
             "#0d0887"
            ],
            [
             0.1111111111111111,
             "#46039f"
            ],
            [
             0.2222222222222222,
             "#7201a8"
            ],
            [
             0.3333333333333333,
             "#9c179e"
            ],
            [
             0.4444444444444444,
             "#bd3786"
            ],
            [
             0.5555555555555556,
             "#d8576b"
            ],
            [
             0.6666666666666666,
             "#ed7953"
            ],
            [
             0.7777777777777778,
             "#fb9f3a"
            ],
            [
             0.8888888888888888,
             "#fdca26"
            ],
            [
             1,
             "#f0f921"
            ]
           ],
           "sequentialminus": [
            [
             0,
             "#0d0887"
            ],
            [
             0.1111111111111111,
             "#46039f"
            ],
            [
             0.2222222222222222,
             "#7201a8"
            ],
            [
             0.3333333333333333,
             "#9c179e"
            ],
            [
             0.4444444444444444,
             "#bd3786"
            ],
            [
             0.5555555555555556,
             "#d8576b"
            ],
            [
             0.6666666666666666,
             "#ed7953"
            ],
            [
             0.7777777777777778,
             "#fb9f3a"
            ],
            [
             0.8888888888888888,
             "#fdca26"
            ],
            [
             1,
             "#f0f921"
            ]
           ]
          },
          "colorway": [
           "#636efa",
           "#EF553B",
           "#00cc96",
           "#ab63fa",
           "#FFA15A",
           "#19d3f3",
           "#FF6692",
           "#B6E880",
           "#FF97FF",
           "#FECB52"
          ],
          "font": {
           "color": "#2a3f5f"
          },
          "geo": {
           "bgcolor": "white",
           "lakecolor": "white",
           "landcolor": "#E5ECF6",
           "showlakes": true,
           "showland": true,
           "subunitcolor": "white"
          },
          "hoverlabel": {
           "align": "left"
          },
          "hovermode": "closest",
          "mapbox": {
           "style": "light"
          },
          "paper_bgcolor": "white",
          "plot_bgcolor": "#E5ECF6",
          "polar": {
           "angularaxis": {
            "gridcolor": "white",
            "linecolor": "white",
            "ticks": ""
           },
           "bgcolor": "#E5ECF6",
           "radialaxis": {
            "gridcolor": "white",
            "linecolor": "white",
            "ticks": ""
           }
          },
          "scene": {
           "xaxis": {
            "backgroundcolor": "#E5ECF6",
            "gridcolor": "white",
            "gridwidth": 2,
            "linecolor": "white",
            "showbackground": true,
            "ticks": "",
            "zerolinecolor": "white"
           },
           "yaxis": {
            "backgroundcolor": "#E5ECF6",
            "gridcolor": "white",
            "gridwidth": 2,
            "linecolor": "white",
            "showbackground": true,
            "ticks": "",
            "zerolinecolor": "white"
           },
           "zaxis": {
            "backgroundcolor": "#E5ECF6",
            "gridcolor": "white",
            "gridwidth": 2,
            "linecolor": "white",
            "showbackground": true,
            "ticks": "",
            "zerolinecolor": "white"
           }
          },
          "shapedefaults": {
           "line": {
            "color": "#2a3f5f"
           }
          },
          "ternary": {
           "aaxis": {
            "gridcolor": "white",
            "linecolor": "white",
            "ticks": ""
           },
           "baxis": {
            "gridcolor": "white",
            "linecolor": "white",
            "ticks": ""
           },
           "bgcolor": "#E5ECF6",
           "caxis": {
            "gridcolor": "white",
            "linecolor": "white",
            "ticks": ""
           }
          },
          "title": {
           "x": 0.05
          },
          "xaxis": {
           "automargin": true,
           "gridcolor": "white",
           "linecolor": "white",
           "ticks": "",
           "title": {
            "standoff": 15
           },
           "zerolinecolor": "white",
           "zerolinewidth": 2
          },
          "yaxis": {
           "automargin": true,
           "gridcolor": "white",
           "linecolor": "white",
           "ticks": "",
           "title": {
            "standoff": 15
           },
           "zerolinecolor": "white",
           "zerolinewidth": 2
          }
         }
        },
        "title": {
         "text": "Gross Primary Education Enrollment by Country"
        },
        "xaxis": {
         "anchor": "y",
         "domain": [
          0,
          1
         ],
         "title": {
          "text": "Countries and areas"
         }
        },
        "yaxis": {
         "anchor": "x",
         "domain": [
          0,
          1
         ],
         "title": {
          "text": "Primary Education Enrollment"
         }
        }
       }
      }
     },
     "metadata": {},
     "output_type": "display_data"
    }
   ],
   "source": [
    "fig3 = px.bar(\n",
    "    data.sort_values('Gross_Primary_Education_Enrollment', ascending=False),\n",
    "    x='Countries and areas',\n",
    "    y='Gross_Primary_Education_Enrollment',\n",
    "    title='Gross Primary Education Enrollment by Country',\n",
    "    labels={\"Gross_Primary_Education_Enrollment\": \"Primary Education Enrollment\"},\n",
    ")\n",
    "fig3.show()\n"
   ]
  },
  {
   "cell_type": "code",
   "execution_count": 11,
   "metadata": {},
   "outputs": [
    {
     "data": {
      "application/vnd.plotly.v1+json": {
       "config": {
        "plotlyServerURL": "https://plot.ly"
       },
       "data": [
        {
         "hovertemplate": "Countries and areas=Afghanistan<br>Male Literacy Rate (15-24)=%{x}<br>Female Literacy Rate (15-24)=%{y}<br>Unemployment_Rate=%{marker.size}<extra></extra>",
         "legendgroup": "Afghanistan",
         "marker": {
          "color": "#636efa",
          "size": [
           11.12
          ],
          "sizemode": "area",
          "sizeref": 0.07045,
          "symbol": "circle"
         },
         "mode": "markers",
         "name": "Afghanistan",
         "orientation": "v",
         "showlegend": true,
         "type": "scatter",
         "x": [
          74
         ],
         "xaxis": "x",
         "y": [
          56
         ],
         "yaxis": "y"
        },
        {
         "hovertemplate": "Countries and areas=Albania<br>Male Literacy Rate (15-24)=%{x}<br>Female Literacy Rate (15-24)=%{y}<br>Unemployment_Rate=%{marker.size}<extra></extra>",
         "legendgroup": "Albania",
         "marker": {
          "color": "#EF553B",
          "size": [
           12.33
          ],
          "sizemode": "area",
          "sizeref": 0.07045,
          "symbol": "circle"
         },
         "mode": "markers",
         "name": "Albania",
         "orientation": "v",
         "showlegend": true,
         "type": "scatter",
         "x": [
          99
         ],
         "xaxis": "x",
         "y": [
          100
         ],
         "yaxis": "y"
        },
        {
         "hovertemplate": "Countries and areas=Algeria<br>Male Literacy Rate (15-24)=%{x}<br>Female Literacy Rate (15-24)=%{y}<br>Unemployment_Rate=%{marker.size}<extra></extra>",
         "legendgroup": "Algeria",
         "marker": {
          "color": "#00cc96",
          "size": [
           11.7
          ],
          "sizemode": "area",
          "sizeref": 0.07045,
          "symbol": "circle"
         },
         "mode": "markers",
         "name": "Algeria",
         "orientation": "v",
         "showlegend": true,
         "type": "scatter",
         "x": [
          98
         ],
         "xaxis": "x",
         "y": [
          97
         ],
         "yaxis": "y"
        },
        {
         "hovertemplate": "Countries and areas=Andorra<br>Male Literacy Rate (15-24)=%{x}<br>Female Literacy Rate (15-24)=%{y}<br>Unemployment_Rate=%{marker.size}<extra></extra>",
         "legendgroup": "Andorra",
         "marker": {
          "color": "#ab63fa",
          "size": [
           0
          ],
          "sizemode": "area",
          "sizeref": 0.07045,
          "symbol": "circle"
         },
         "mode": "markers",
         "name": "Andorra",
         "orientation": "v",
         "showlegend": true,
         "type": "scatter",
         "x": [
          0
         ],
         "xaxis": "x",
         "y": [
          0
         ],
         "yaxis": "y"
        },
        {
         "hovertemplate": "Countries and areas=Angola<br>Male Literacy Rate (15-24)=%{x}<br>Female Literacy Rate (15-24)=%{y}<br>Unemployment_Rate=%{marker.size}<extra></extra>",
         "legendgroup": "Angola",
         "marker": {
          "color": "#FFA15A",
          "size": [
           6.89
          ],
          "sizemode": "area",
          "sizeref": 0.07045,
          "symbol": "circle"
         },
         "mode": "markers",
         "name": "Angola",
         "orientation": "v",
         "showlegend": true,
         "type": "scatter",
         "x": [
          0
         ],
         "xaxis": "x",
         "y": [
          0
         ],
         "yaxis": "y"
        },
        {
         "hovertemplate": "Countries and areas=Anguilla<br>Male Literacy Rate (15-24)=%{x}<br>Female Literacy Rate (15-24)=%{y}<br>Unemployment_Rate=%{marker.size}<extra></extra>",
         "legendgroup": "Anguilla",
         "marker": {
          "color": "#19d3f3",
          "size": [
           0
          ],
          "sizemode": "area",
          "sizeref": 0.07045,
          "symbol": "circle"
         },
         "mode": "markers",
         "name": "Anguilla",
         "orientation": "v",
         "showlegend": true,
         "type": "scatter",
         "x": [
          0
         ],
         "xaxis": "x",
         "y": [
          0
         ],
         "yaxis": "y"
        },
        {
         "hovertemplate": "Countries and areas=Antigua and Barbuda<br>Male Literacy Rate (15-24)=%{x}<br>Female Literacy Rate (15-24)=%{y}<br>Unemployment_Rate=%{marker.size}<extra></extra>",
         "legendgroup": "Antigua and Barbuda",
         "marker": {
          "color": "#FF6692",
          "size": [
           0
          ],
          "sizemode": "area",
          "sizeref": 0.07045,
          "symbol": "circle"
         },
         "mode": "markers",
         "name": "Antigua and Barbuda",
         "orientation": "v",
         "showlegend": true,
         "type": "scatter",
         "x": [
          0
         ],
         "xaxis": "x",
         "y": [
          0
         ],
         "yaxis": "y"
        },
        {
         "hovertemplate": "Countries and areas=Argentina<br>Male Literacy Rate (15-24)=%{x}<br>Female Literacy Rate (15-24)=%{y}<br>Unemployment_Rate=%{marker.size}<extra></extra>",
         "legendgroup": "Argentina",
         "marker": {
          "color": "#B6E880",
          "size": [
           9.79
          ],
          "sizemode": "area",
          "sizeref": 0.07045,
          "symbol": "circle"
         },
         "mode": "markers",
         "name": "Argentina",
         "orientation": "v",
         "showlegend": true,
         "type": "scatter",
         "x": [
          99
         ],
         "xaxis": "x",
         "y": [
          100
         ],
         "yaxis": "y"
        },
        {
         "hovertemplate": "Countries and areas=Armenia<br>Male Literacy Rate (15-24)=%{x}<br>Female Literacy Rate (15-24)=%{y}<br>Unemployment_Rate=%{marker.size}<extra></extra>",
         "legendgroup": "Armenia",
         "marker": {
          "color": "#FF97FF",
          "size": [
           16.99
          ],
          "sizemode": "area",
          "sizeref": 0.07045,
          "symbol": "circle"
         },
         "mode": "markers",
         "name": "Armenia",
         "orientation": "v",
         "showlegend": true,
         "type": "scatter",
         "x": [
          0
         ],
         "xaxis": "x",
         "y": [
          0
         ],
         "yaxis": "y"
        },
        {
         "hovertemplate": "Countries and areas=Australia<br>Male Literacy Rate (15-24)=%{x}<br>Female Literacy Rate (15-24)=%{y}<br>Unemployment_Rate=%{marker.size}<extra></extra>",
         "legendgroup": "Australia",
         "marker": {
          "color": "#FECB52",
          "size": [
           5.27
          ],
          "sizemode": "area",
          "sizeref": 0.07045,
          "symbol": "circle"
         },
         "mode": "markers",
         "name": "Australia",
         "orientation": "v",
         "showlegend": true,
         "type": "scatter",
         "x": [
          0
         ],
         "xaxis": "x",
         "y": [
          0
         ],
         "yaxis": "y"
        },
        {
         "hovertemplate": "Countries and areas=Austria<br>Male Literacy Rate (15-24)=%{x}<br>Female Literacy Rate (15-24)=%{y}<br>Unemployment_Rate=%{marker.size}<extra></extra>",
         "legendgroup": "Austria",
         "marker": {
          "color": "#636efa",
          "size": [
           4.67
          ],
          "sizemode": "area",
          "sizeref": 0.07045,
          "symbol": "circle"
         },
         "mode": "markers",
         "name": "Austria",
         "orientation": "v",
         "showlegend": true,
         "type": "scatter",
         "x": [
          0
         ],
         "xaxis": "x",
         "y": [
          0
         ],
         "yaxis": "y"
        },
        {
         "hovertemplate": "Countries and areas=Azerbaijan<br>Male Literacy Rate (15-24)=%{x}<br>Female Literacy Rate (15-24)=%{y}<br>Unemployment_Rate=%{marker.size}<extra></extra>",
         "legendgroup": "Azerbaijan",
         "marker": {
          "color": "#EF553B",
          "size": [
           5.51
          ],
          "sizemode": "area",
          "sizeref": 0.07045,
          "symbol": "circle"
         },
         "mode": "markers",
         "name": "Azerbaijan",
         "orientation": "v",
         "showlegend": true,
         "type": "scatter",
         "x": [
          0
         ],
         "xaxis": "x",
         "y": [
          0
         ],
         "yaxis": "y"
        },
        {
         "hovertemplate": "Countries and areas=The Bahamas<br>Male Literacy Rate (15-24)=%{x}<br>Female Literacy Rate (15-24)=%{y}<br>Unemployment_Rate=%{marker.size}<extra></extra>",
         "legendgroup": "The Bahamas",
         "marker": {
          "color": "#00cc96",
          "size": [
           10.36
          ],
          "sizemode": "area",
          "sizeref": 0.07045,
          "symbol": "circle"
         },
         "mode": "markers",
         "name": "The Bahamas",
         "orientation": "v",
         "showlegend": true,
         "type": "scatter",
         "x": [
          0
         ],
         "xaxis": "x",
         "y": [
          0
         ],
         "yaxis": "y"
        },
        {
         "hovertemplate": "Countries and areas=Bahrain<br>Male Literacy Rate (15-24)=%{x}<br>Female Literacy Rate (15-24)=%{y}<br>Unemployment_Rate=%{marker.size}<extra></extra>",
         "legendgroup": "Bahrain",
         "marker": {
          "color": "#ab63fa",
          "size": [
           0.71
          ],
          "sizemode": "area",
          "sizeref": 0.07045,
          "symbol": "circle"
         },
         "mode": "markers",
         "name": "Bahrain",
         "orientation": "v",
         "showlegend": true,
         "type": "scatter",
         "x": [
          100
         ],
         "xaxis": "x",
         "y": [
          99
         ],
         "yaxis": "y"
        },
        {
         "hovertemplate": "Countries and areas=Bangladesh<br>Male Literacy Rate (15-24)=%{x}<br>Female Literacy Rate (15-24)=%{y}<br>Unemployment_Rate=%{marker.size}<extra></extra>",
         "legendgroup": "Bangladesh",
         "marker": {
          "color": "#FFA15A",
          "size": [
           4.19
          ],
          "sizemode": "area",
          "sizeref": 0.07045,
          "symbol": "circle"
         },
         "mode": "markers",
         "name": "Bangladesh",
         "orientation": "v",
         "showlegend": true,
         "type": "scatter",
         "x": [
          94
         ],
         "xaxis": "x",
         "y": [
          96
         ],
         "yaxis": "y"
        },
        {
         "hovertemplate": "Countries and areas=Barbados<br>Male Literacy Rate (15-24)=%{x}<br>Female Literacy Rate (15-24)=%{y}<br>Unemployment_Rate=%{marker.size}<extra></extra>",
         "legendgroup": "Barbados",
         "marker": {
          "color": "#19d3f3",
          "size": [
           10.33
          ],
          "sizemode": "area",
          "sizeref": 0.07045,
          "symbol": "circle"
         },
         "mode": "markers",
         "name": "Barbados",
         "orientation": "v",
         "showlegend": true,
         "type": "scatter",
         "x": [
          0
         ],
         "xaxis": "x",
         "y": [
          0
         ],
         "yaxis": "y"
        },
        {
         "hovertemplate": "Countries and areas=Belarus<br>Male Literacy Rate (15-24)=%{x}<br>Female Literacy Rate (15-24)=%{y}<br>Unemployment_Rate=%{marker.size}<extra></extra>",
         "legendgroup": "Belarus",
         "marker": {
          "color": "#FF6692",
          "size": [
           4.59
          ],
          "sizemode": "area",
          "sizeref": 0.07045,
          "symbol": "circle"
         },
         "mode": "markers",
         "name": "Belarus",
         "orientation": "v",
         "showlegend": true,
         "type": "scatter",
         "x": [
          100
         ],
         "xaxis": "x",
         "y": [
          100
         ],
         "yaxis": "y"
        },
        {
         "hovertemplate": "Countries and areas=Belgium<br>Male Literacy Rate (15-24)=%{x}<br>Female Literacy Rate (15-24)=%{y}<br>Unemployment_Rate=%{marker.size}<extra></extra>",
         "legendgroup": "Belgium",
         "marker": {
          "color": "#B6E880",
          "size": [
           5.59
          ],
          "sizemode": "area",
          "sizeref": 0.07045,
          "symbol": "circle"
         },
         "mode": "markers",
         "name": "Belgium",
         "orientation": "v",
         "showlegend": true,
         "type": "scatter",
         "x": [
          0
         ],
         "xaxis": "x",
         "y": [
          0
         ],
         "yaxis": "y"
        },
        {
         "hovertemplate": "Countries and areas=Belize<br>Male Literacy Rate (15-24)=%{x}<br>Female Literacy Rate (15-24)=%{y}<br>Unemployment_Rate=%{marker.size}<extra></extra>",
         "legendgroup": "Belize",
         "marker": {
          "color": "#FF97FF",
          "size": [
           6.41
          ],
          "sizemode": "area",
          "sizeref": 0.07045,
          "symbol": "circle"
         },
         "mode": "markers",
         "name": "Belize",
         "orientation": "v",
         "showlegend": true,
         "type": "scatter",
         "x": [
          0
         ],
         "xaxis": "x",
         "y": [
          0
         ],
         "yaxis": "y"
        },
        {
         "hovertemplate": "Countries and areas=Benin<br>Male Literacy Rate (15-24)=%{x}<br>Female Literacy Rate (15-24)=%{y}<br>Unemployment_Rate=%{marker.size}<extra></extra>",
         "legendgroup": "Benin",
         "marker": {
          "color": "#FECB52",
          "size": [
           2.23
          ],
          "sizemode": "area",
          "sizeref": 0.07045,
          "symbol": "circle"
         },
         "mode": "markers",
         "name": "Benin",
         "orientation": "v",
         "showlegend": true,
         "type": "scatter",
         "x": [
          70
         ],
         "xaxis": "x",
         "y": [
          52
         ],
         "yaxis": "y"
        },
        {
         "hovertemplate": "Countries and areas=Bhutan<br>Male Literacy Rate (15-24)=%{x}<br>Female Literacy Rate (15-24)=%{y}<br>Unemployment_Rate=%{marker.size}<extra></extra>",
         "legendgroup": "Bhutan",
         "marker": {
          "color": "#636efa",
          "size": [
           2.34
          ],
          "sizemode": "area",
          "sizeref": 0.07045,
          "symbol": "circle"
         },
         "mode": "markers",
         "name": "Bhutan",
         "orientation": "v",
         "showlegend": true,
         "type": "scatter",
         "x": [
          0
         ],
         "xaxis": "x",
         "y": [
          0
         ],
         "yaxis": "y"
        },
        {
         "hovertemplate": "Countries and areas=Bolivia<br>Male Literacy Rate (15-24)=%{x}<br>Female Literacy Rate (15-24)=%{y}<br>Unemployment_Rate=%{marker.size}<extra></extra>",
         "legendgroup": "Bolivia",
         "marker": {
          "color": "#EF553B",
          "size": [
           3.5
          ],
          "sizemode": "area",
          "sizeref": 0.07045,
          "symbol": "circle"
         },
         "mode": "markers",
         "name": "Bolivia",
         "orientation": "v",
         "showlegend": true,
         "type": "scatter",
         "x": [
          0
         ],
         "xaxis": "x",
         "y": [
          0
         ],
         "yaxis": "y"
        },
        {
         "hovertemplate": "Countries and areas=Bosnia and Herzegovina<br>Male Literacy Rate (15-24)=%{x}<br>Female Literacy Rate (15-24)=%{y}<br>Unemployment_Rate=%{marker.size}<extra></extra>",
         "legendgroup": "Bosnia and Herzegovina",
         "marker": {
          "color": "#00cc96",
          "size": [
           18.42
          ],
          "sizemode": "area",
          "sizeref": 0.07045,
          "symbol": "circle"
         },
         "mode": "markers",
         "name": "Bosnia and Herzegovina",
         "orientation": "v",
         "showlegend": true,
         "type": "scatter",
         "x": [
          0
         ],
         "xaxis": "x",
         "y": [
          0
         ],
         "yaxis": "y"
        },
        {
         "hovertemplate": "Countries and areas=Botswana<br>Male Literacy Rate (15-24)=%{x}<br>Female Literacy Rate (15-24)=%{y}<br>Unemployment_Rate=%{marker.size}<extra></extra>",
         "legendgroup": "Botswana",
         "marker": {
          "color": "#ab63fa",
          "size": [
           18.19
          ],
          "sizemode": "area",
          "sizeref": 0.07045,
          "symbol": "circle"
         },
         "mode": "markers",
         "name": "Botswana",
         "orientation": "v",
         "showlegend": true,
         "type": "scatter",
         "x": [
          0
         ],
         "xaxis": "x",
         "y": [
          0
         ],
         "yaxis": "y"
        },
        {
         "hovertemplate": "Countries and areas=Brazil<br>Male Literacy Rate (15-24)=%{x}<br>Female Literacy Rate (15-24)=%{y}<br>Unemployment_Rate=%{marker.size}<extra></extra>",
         "legendgroup": "Brazil",
         "marker": {
          "color": "#FFA15A",
          "size": [
           12.08
          ],
          "sizemode": "area",
          "sizeref": 0.07045,
          "symbol": "circle"
         },
         "mode": "markers",
         "name": "Brazil",
         "orientation": "v",
         "showlegend": true,
         "type": "scatter",
         "x": [
          99
         ],
         "xaxis": "x",
         "y": [
          99
         ],
         "yaxis": "y"
        },
        {
         "hovertemplate": "Countries and areas=British Virgin Islands<br>Male Literacy Rate (15-24)=%{x}<br>Female Literacy Rate (15-24)=%{y}<br>Unemployment_Rate=%{marker.size}<extra></extra>",
         "legendgroup": "British Virgin Islands",
         "marker": {
          "color": "#19d3f3",
          "size": [
           0
          ],
          "sizemode": "area",
          "sizeref": 0.07045,
          "symbol": "circle"
         },
         "mode": "markers",
         "name": "British Virgin Islands",
         "orientation": "v",
         "showlegend": true,
         "type": "scatter",
         "x": [
          0
         ],
         "xaxis": "x",
         "y": [
          0
         ],
         "yaxis": "y"
        },
        {
         "hovertemplate": "Countries and areas=Brunei<br>Male Literacy Rate (15-24)=%{x}<br>Female Literacy Rate (15-24)=%{y}<br>Unemployment_Rate=%{marker.size}<extra></extra>",
         "legendgroup": "Brunei",
         "marker": {
          "color": "#FF6692",
          "size": [
           9.12
          ],
          "sizemode": "area",
          "sizeref": 0.07045,
          "symbol": "circle"
         },
         "mode": "markers",
         "name": "Brunei",
         "orientation": "v",
         "showlegend": true,
         "type": "scatter",
         "x": [
          100
         ],
         "xaxis": "x",
         "y": [
          100
         ],
         "yaxis": "y"
        },
        {
         "hovertemplate": "Countries and areas=Bulgaria<br>Male Literacy Rate (15-24)=%{x}<br>Female Literacy Rate (15-24)=%{y}<br>Unemployment_Rate=%{marker.size}<extra></extra>",
         "legendgroup": "Bulgaria",
         "marker": {
          "color": "#B6E880",
          "size": [
           4.34
          ],
          "sizemode": "area",
          "sizeref": 0.07045,
          "symbol": "circle"
         },
         "mode": "markers",
         "name": "Bulgaria",
         "orientation": "v",
         "showlegend": true,
         "type": "scatter",
         "x": [
          0
         ],
         "xaxis": "x",
         "y": [
          0
         ],
         "yaxis": "y"
        },
        {
         "hovertemplate": "Countries and areas=Burkina Faso<br>Male Literacy Rate (15-24)=%{x}<br>Female Literacy Rate (15-24)=%{y}<br>Unemployment_Rate=%{marker.size}<extra></extra>",
         "legendgroup": "Burkina Faso",
         "marker": {
          "color": "#FF97FF",
          "size": [
           6.26
          ],
          "sizemode": "area",
          "sizeref": 0.07045,
          "symbol": "circle"
         },
         "mode": "markers",
         "name": "Burkina Faso",
         "orientation": "v",
         "showlegend": true,
         "type": "scatter",
         "x": [
          62
         ],
         "xaxis": "x",
         "y": [
          55
         ],
         "yaxis": "y"
        },
        {
         "hovertemplate": "Countries and areas=Burundi<br>Male Literacy Rate (15-24)=%{x}<br>Female Literacy Rate (15-24)=%{y}<br>Unemployment_Rate=%{marker.size}<extra></extra>",
         "legendgroup": "Burundi",
         "marker": {
          "color": "#FECB52",
          "size": [
           1.43
          ],
          "sizemode": "area",
          "sizeref": 0.07045,
          "symbol": "circle"
         },
         "mode": "markers",
         "name": "Burundi",
         "orientation": "v",
         "showlegend": true,
         "type": "scatter",
         "x": [
          0
         ],
         "xaxis": "x",
         "y": [
          0
         ],
         "yaxis": "y"
        },
        {
         "hovertemplate": "Countries and areas=Cape Verde<br>Male Literacy Rate (15-24)=%{x}<br>Female Literacy Rate (15-24)=%{y}<br>Unemployment_Rate=%{marker.size}<extra></extra>",
         "legendgroup": "Cape Verde",
         "marker": {
          "color": "#636efa",
          "size": [
           12.25
          ],
          "sizemode": "area",
          "sizeref": 0.07045,
          "symbol": "circle"
         },
         "mode": "markers",
         "name": "Cape Verde",
         "orientation": "v",
         "showlegend": true,
         "type": "scatter",
         "x": [
          0
         ],
         "xaxis": "x",
         "y": [
          0
         ],
         "yaxis": "y"
        },
        {
         "hovertemplate": "Countries and areas=Cambodia<br>Male Literacy Rate (15-24)=%{x}<br>Female Literacy Rate (15-24)=%{y}<br>Unemployment_Rate=%{marker.size}<extra></extra>",
         "legendgroup": "Cambodia",
         "marker": {
          "color": "#EF553B",
          "size": [
           0.68
          ],
          "sizemode": "area",
          "sizeref": 0.07045,
          "symbol": "circle"
         },
         "mode": "markers",
         "name": "Cambodia",
         "orientation": "v",
         "showlegend": true,
         "type": "scatter",
         "x": [
          0
         ],
         "xaxis": "x",
         "y": [
          0
         ],
         "yaxis": "y"
        },
        {
         "hovertemplate": "Countries and areas=Cameroon<br>Male Literacy Rate (15-24)=%{x}<br>Female Literacy Rate (15-24)=%{y}<br>Unemployment_Rate=%{marker.size}<extra></extra>",
         "legendgroup": "Cameroon",
         "marker": {
          "color": "#00cc96",
          "size": [
           3.38
          ],
          "sizemode": "area",
          "sizeref": 0.07045,
          "symbol": "circle"
         },
         "mode": "markers",
         "name": "Cameroon",
         "orientation": "v",
         "showlegend": true,
         "type": "scatter",
         "x": [
          88
         ],
         "xaxis": "x",
         "y": [
          82
         ],
         "yaxis": "y"
        },
        {
         "hovertemplate": "Countries and areas=Canada<br>Male Literacy Rate (15-24)=%{x}<br>Female Literacy Rate (15-24)=%{y}<br>Unemployment_Rate=%{marker.size}<extra></extra>",
         "legendgroup": "Canada",
         "marker": {
          "color": "#ab63fa",
          "size": [
           5.56
          ],
          "sizemode": "area",
          "sizeref": 0.07045,
          "symbol": "circle"
         },
         "mode": "markers",
         "name": "Canada",
         "orientation": "v",
         "showlegend": true,
         "type": "scatter",
         "x": [
          0
         ],
         "xaxis": "x",
         "y": [
          0
         ],
         "yaxis": "y"
        },
        {
         "hovertemplate": "Countries and areas=Central African Republic<br>Male Literacy Rate (15-24)=%{x}<br>Female Literacy Rate (15-24)=%{y}<br>Unemployment_Rate=%{marker.size}<extra></extra>",
         "legendgroup": "Central African Republic",
         "marker": {
          "color": "#FFA15A",
          "size": [
           3.68
          ],
          "sizemode": "area",
          "sizeref": 0.07045,
          "symbol": "circle"
         },
         "mode": "markers",
         "name": "Central African Republic",
         "orientation": "v",
         "showlegend": true,
         "type": "scatter",
         "x": [
          48
         ],
         "xaxis": "x",
         "y": [
          29
         ],
         "yaxis": "y"
        },
        {
         "hovertemplate": "Countries and areas=Chad<br>Male Literacy Rate (15-24)=%{x}<br>Female Literacy Rate (15-24)=%{y}<br>Unemployment_Rate=%{marker.size}<extra></extra>",
         "legendgroup": "Chad",
         "marker": {
          "color": "#19d3f3",
          "size": [
           1.89
          ],
          "sizemode": "area",
          "sizeref": 0.07045,
          "symbol": "circle"
         },
         "mode": "markers",
         "name": "Chad",
         "orientation": "v",
         "showlegend": true,
         "type": "scatter",
         "x": [
          0
         ],
         "xaxis": "x",
         "y": [
          0
         ],
         "yaxis": "y"
        },
        {
         "hovertemplate": "Countries and areas=Chile<br>Male Literacy Rate (15-24)=%{x}<br>Female Literacy Rate (15-24)=%{y}<br>Unemployment_Rate=%{marker.size}<extra></extra>",
         "legendgroup": "Chile",
         "marker": {
          "color": "#FF6692",
          "size": [
           7.09
          ],
          "sizemode": "area",
          "sizeref": 0.07045,
          "symbol": "circle"
         },
         "mode": "markers",
         "name": "Chile",
         "orientation": "v",
         "showlegend": true,
         "type": "scatter",
         "x": [
          0
         ],
         "xaxis": "x",
         "y": [
          0
         ],
         "yaxis": "y"
        },
        {
         "hovertemplate": "Countries and areas=China<br>Male Literacy Rate (15-24)=%{x}<br>Female Literacy Rate (15-24)=%{y}<br>Unemployment_Rate=%{marker.size}<extra></extra>",
         "legendgroup": "China",
         "marker": {
          "color": "#B6E880",
          "size": [
           4.32
          ],
          "sizemode": "area",
          "sizeref": 0.07045,
          "symbol": "circle"
         },
         "mode": "markers",
         "name": "China",
         "orientation": "v",
         "showlegend": true,
         "type": "scatter",
         "x": [
          100
         ],
         "xaxis": "x",
         "y": [
          100
         ],
         "yaxis": "y"
        },
        {
         "hovertemplate": "Countries and areas=Colombia<br>Male Literacy Rate (15-24)=%{x}<br>Female Literacy Rate (15-24)=%{y}<br>Unemployment_Rate=%{marker.size}<extra></extra>",
         "legendgroup": "Colombia",
         "marker": {
          "color": "#FF97FF",
          "size": [
           9.71
          ],
          "sizemode": "area",
          "sizeref": 0.07045,
          "symbol": "circle"
         },
         "mode": "markers",
         "name": "Colombia",
         "orientation": "v",
         "showlegend": true,
         "type": "scatter",
         "x": [
          99
         ],
         "xaxis": "x",
         "y": [
          99
         ],
         "yaxis": "y"
        },
        {
         "hovertemplate": "Countries and areas=Comoros<br>Male Literacy Rate (15-24)=%{x}<br>Female Literacy Rate (15-24)=%{y}<br>Unemployment_Rate=%{marker.size}<extra></extra>",
         "legendgroup": "Comoros",
         "marker": {
          "color": "#FECB52",
          "size": [
           4.34
          ],
          "sizemode": "area",
          "sizeref": 0.07045,
          "symbol": "circle"
         },
         "mode": "markers",
         "name": "Comoros",
         "orientation": "v",
         "showlegend": true,
         "type": "scatter",
         "x": [
          78
         ],
         "xaxis": "x",
         "y": [
          78
         ],
         "yaxis": "y"
        },
        {
         "hovertemplate": "Countries and areas=Republic of the Congo<br>Male Literacy Rate (15-24)=%{x}<br>Female Literacy Rate (15-24)=%{y}<br>Unemployment_Rate=%{marker.size}<extra></extra>",
         "legendgroup": "Republic of the Congo",
         "marker": {
          "color": "#636efa",
          "size": [
           9.47
          ],
          "sizemode": "area",
          "sizeref": 0.07045,
          "symbol": "circle"
         },
         "mode": "markers",
         "name": "Republic of the Congo",
         "orientation": "v",
         "showlegend": true,
         "type": "scatter",
         "x": [
          85
         ],
         "xaxis": "x",
         "y": [
          79
         ],
         "yaxis": "y"
        },
        {
         "hovertemplate": "Countries and areas=Cook Islands<br>Male Literacy Rate (15-24)=%{x}<br>Female Literacy Rate (15-24)=%{y}<br>Unemployment_Rate=%{marker.size}<extra></extra>",
         "legendgroup": "Cook Islands",
         "marker": {
          "color": "#EF553B",
          "size": [
           0
          ],
          "sizemode": "area",
          "sizeref": 0.07045,
          "symbol": "circle"
         },
         "mode": "markers",
         "name": "Cook Islands",
         "orientation": "v",
         "showlegend": true,
         "type": "scatter",
         "x": [
          0
         ],
         "xaxis": "x",
         "y": [
          0
         ],
         "yaxis": "y"
        },
        {
         "hovertemplate": "Countries and areas=Costa Rica<br>Male Literacy Rate (15-24)=%{x}<br>Female Literacy Rate (15-24)=%{y}<br>Unemployment_Rate=%{marker.size}<extra></extra>",
         "legendgroup": "Costa Rica",
         "marker": {
          "color": "#00cc96",
          "size": [
           11.85
          ],
          "sizemode": "area",
          "sizeref": 0.07045,
          "symbol": "circle"
         },
         "mode": "markers",
         "name": "Costa Rica",
         "orientation": "v",
         "showlegend": true,
         "type": "scatter",
         "x": [
          99
         ],
         "xaxis": "x",
         "y": [
          100
         ],
         "yaxis": "y"
        },
        {
         "hovertemplate": "Countries and areas=Ivory Coast<br>Male Literacy Rate (15-24)=%{x}<br>Female Literacy Rate (15-24)=%{y}<br>Unemployment_Rate=%{marker.size}<extra></extra>",
         "legendgroup": "Ivory Coast",
         "marker": {
          "color": "#ab63fa",
          "size": [
           3.32
          ],
          "sizemode": "area",
          "sizeref": 0.07045,
          "symbol": "circle"
         },
         "mode": "markers",
         "name": "Ivory Coast",
         "orientation": "v",
         "showlegend": true,
         "type": "scatter",
         "x": [
          64
         ],
         "xaxis": "x",
         "y": [
          53
         ],
         "yaxis": "y"
        },
        {
         "hovertemplate": "Countries and areas=Croatia<br>Male Literacy Rate (15-24)=%{x}<br>Female Literacy Rate (15-24)=%{y}<br>Unemployment_Rate=%{marker.size}<extra></extra>",
         "legendgroup": "Croatia",
         "marker": {
          "color": "#FFA15A",
          "size": [
           6.93
          ],
          "sizemode": "area",
          "sizeref": 0.07045,
          "symbol": "circle"
         },
         "mode": "markers",
         "name": "Croatia",
         "orientation": "v",
         "showlegend": true,
         "type": "scatter",
         "x": [
          0
         ],
         "xaxis": "x",
         "y": [
          0
         ],
         "yaxis": "y"
        },
        {
         "hovertemplate": "Countries and areas=Cuba<br>Male Literacy Rate (15-24)=%{x}<br>Female Literacy Rate (15-24)=%{y}<br>Unemployment_Rate=%{marker.size}<extra></extra>",
         "legendgroup": "Cuba",
         "marker": {
          "color": "#19d3f3",
          "size": [
           1.64
          ],
          "sizemode": "area",
          "sizeref": 0.07045,
          "symbol": "circle"
         },
         "mode": "markers",
         "name": "Cuba",
         "orientation": "v",
         "showlegend": true,
         "type": "scatter",
         "x": [
          0
         ],
         "xaxis": "x",
         "y": [
          0
         ],
         "yaxis": "y"
        },
        {
         "hovertemplate": "Countries and areas=Cyprus<br>Male Literacy Rate (15-24)=%{x}<br>Female Literacy Rate (15-24)=%{y}<br>Unemployment_Rate=%{marker.size}<extra></extra>",
         "legendgroup": "Cyprus",
         "marker": {
          "color": "#FF6692",
          "size": [
           7.27
          ],
          "sizemode": "area",
          "sizeref": 0.07045,
          "symbol": "circle"
         },
         "mode": "markers",
         "name": "Cyprus",
         "orientation": "v",
         "showlegend": true,
         "type": "scatter",
         "x": [
          0
         ],
         "xaxis": "x",
         "y": [
          0
         ],
         "yaxis": "y"
        },
        {
         "hovertemplate": "Countries and areas=Czech Republic<br>Male Literacy Rate (15-24)=%{x}<br>Female Literacy Rate (15-24)=%{y}<br>Unemployment_Rate=%{marker.size}<extra></extra>",
         "legendgroup": "Czech Republic",
         "marker": {
          "color": "#B6E880",
          "size": [
           1.93
          ],
          "sizemode": "area",
          "sizeref": 0.07045,
          "symbol": "circle"
         },
         "mode": "markers",
         "name": "Czech Republic",
         "orientation": "v",
         "showlegend": true,
         "type": "scatter",
         "x": [
          0
         ],
         "xaxis": "x",
         "y": [
          0
         ],
         "yaxis": "y"
        },
        {
         "hovertemplate": "Countries and areas=North Korea<br>Male Literacy Rate (15-24)=%{x}<br>Female Literacy Rate (15-24)=%{y}<br>Unemployment_Rate=%{marker.size}<extra></extra>",
         "legendgroup": "North Korea",
         "marker": {
          "color": "#FF97FF",
          "size": [
           2.74
          ],
          "sizemode": "area",
          "sizeref": 0.07045,
          "symbol": "circle"
         },
         "mode": "markers",
         "name": "North Korea",
         "orientation": "v",
         "showlegend": true,
         "type": "scatter",
         "x": [
          0
         ],
         "xaxis": "x",
         "y": [
          0
         ],
         "yaxis": "y"
        },
        {
         "hovertemplate": "Countries and areas=Democratic Republic of the Congo<br>Male Literacy Rate (15-24)=%{x}<br>Female Literacy Rate (15-24)=%{y}<br>Unemployment_Rate=%{marker.size}<extra></extra>",
         "legendgroup": "Democratic Republic of the Congo",
         "marker": {
          "color": "#FECB52",
          "size": [
           4.24
          ],
          "sizemode": "area",
          "sizeref": 0.07045,
          "symbol": "circle"
         },
         "mode": "markers",
         "name": "Democratic Republic of the Congo",
         "orientation": "v",
         "showlegend": true,
         "type": "scatter",
         "x": [
          0
         ],
         "xaxis": "x",
         "y": [
          0
         ],
         "yaxis": "y"
        },
        {
         "hovertemplate": "Countries and areas=Denmark<br>Male Literacy Rate (15-24)=%{x}<br>Female Literacy Rate (15-24)=%{y}<br>Unemployment_Rate=%{marker.size}<extra></extra>",
         "legendgroup": "Denmark",
         "marker": {
          "color": "#636efa",
          "size": [
           4.91
          ],
          "sizemode": "area",
          "sizeref": 0.07045,
          "symbol": "circle"
         },
         "mode": "markers",
         "name": "Denmark",
         "orientation": "v",
         "showlegend": true,
         "type": "scatter",
         "x": [
          0
         ],
         "xaxis": "x",
         "y": [
          0
         ],
         "yaxis": "y"
        },
        {
         "hovertemplate": "Countries and areas=Djibouti<br>Male Literacy Rate (15-24)=%{x}<br>Female Literacy Rate (15-24)=%{y}<br>Unemployment_Rate=%{marker.size}<extra></extra>",
         "legendgroup": "Djibouti",
         "marker": {
          "color": "#EF553B",
          "size": [
           10.3
          ],
          "sizemode": "area",
          "sizeref": 0.07045,
          "symbol": "circle"
         },
         "mode": "markers",
         "name": "Djibouti",
         "orientation": "v",
         "showlegend": true,
         "type": "scatter",
         "x": [
          0
         ],
         "xaxis": "x",
         "y": [
          0
         ],
         "yaxis": "y"
        },
        {
         "hovertemplate": "Countries and areas=Dominica<br>Male Literacy Rate (15-24)=%{x}<br>Female Literacy Rate (15-24)=%{y}<br>Unemployment_Rate=%{marker.size}<extra></extra>",
         "legendgroup": "Dominica",
         "marker": {
          "color": "#00cc96",
          "size": [
           0
          ],
          "sizemode": "area",
          "sizeref": 0.07045,
          "symbol": "circle"
         },
         "mode": "markers",
         "name": "Dominica",
         "orientation": "v",
         "showlegend": true,
         "type": "scatter",
         "x": [
          0
         ],
         "xaxis": "x",
         "y": [
          0
         ],
         "yaxis": "y"
        },
        {
         "hovertemplate": "Countries and areas=Dominican Republic<br>Male Literacy Rate (15-24)=%{x}<br>Female Literacy Rate (15-24)=%{y}<br>Unemployment_Rate=%{marker.size}<extra></extra>",
         "legendgroup": "Dominican Republic",
         "marker": {
          "color": "#ab63fa",
          "size": [
           5.84
          ],
          "sizemode": "area",
          "sizeref": 0.07045,
          "symbol": "circle"
         },
         "mode": "markers",
         "name": "Dominican Republic",
         "orientation": "v",
         "showlegend": true,
         "type": "scatter",
         "x": [
          0
         ],
         "xaxis": "x",
         "y": [
          0
         ],
         "yaxis": "y"
        },
        {
         "hovertemplate": "Countries and areas=Ecuador<br>Male Literacy Rate (15-24)=%{x}<br>Female Literacy Rate (15-24)=%{y}<br>Unemployment_Rate=%{marker.size}<extra></extra>",
         "legendgroup": "Ecuador",
         "marker": {
          "color": "#FFA15A",
          "size": [
           3.97
          ],
          "sizemode": "area",
          "sizeref": 0.07045,
          "symbol": "circle"
         },
         "mode": "markers",
         "name": "Ecuador",
         "orientation": "v",
         "showlegend": true,
         "type": "scatter",
         "x": [
          0
         ],
         "xaxis": "x",
         "y": [
          0
         ],
         "yaxis": "y"
        },
        {
         "hovertemplate": "Countries and areas=Egypt<br>Male Literacy Rate (15-24)=%{x}<br>Female Literacy Rate (15-24)=%{y}<br>Unemployment_Rate=%{marker.size}<extra></extra>",
         "legendgroup": "Egypt",
         "marker": {
          "color": "#19d3f3",
          "size": [
           10.76
          ],
          "sizemode": "area",
          "sizeref": 0.07045,
          "symbol": "circle"
         },
         "mode": "markers",
         "name": "Egypt",
         "orientation": "v",
         "showlegend": true,
         "type": "scatter",
         "x": [
          0
         ],
         "xaxis": "x",
         "y": [
          0
         ],
         "yaxis": "y"
        },
        {
         "hovertemplate": "Countries and areas=El Salvador<br>Male Literacy Rate (15-24)=%{x}<br>Female Literacy Rate (15-24)=%{y}<br>Unemployment_Rate=%{marker.size}<extra></extra>",
         "legendgroup": "El Salvador",
         "marker": {
          "color": "#FF6692",
          "size": [
           4.11
          ],
          "sizemode": "area",
          "sizeref": 0.07045,
          "symbol": "circle"
         },
         "mode": "markers",
         "name": "El Salvador",
         "orientation": "v",
         "showlegend": true,
         "type": "scatter",
         "x": [
          98
         ],
         "xaxis": "x",
         "y": [
          98
         ],
         "yaxis": "y"
        },
        {
         "hovertemplate": "Countries and areas=Equatorial Guinea<br>Male Literacy Rate (15-24)=%{x}<br>Female Literacy Rate (15-24)=%{y}<br>Unemployment_Rate=%{marker.size}<extra></extra>",
         "legendgroup": "Equatorial Guinea",
         "marker": {
          "color": "#B6E880",
          "size": [
           6.43
          ],
          "sizemode": "area",
          "sizeref": 0.07045,
          "symbol": "circle"
         },
         "mode": "markers",
         "name": "Equatorial Guinea",
         "orientation": "v",
         "showlegend": true,
         "type": "scatter",
         "x": [
          0
         ],
         "xaxis": "x",
         "y": [
          0
         ],
         "yaxis": "y"
        },
        {
         "hovertemplate": "Countries and areas=Eritrea<br>Male Literacy Rate (15-24)=%{x}<br>Female Literacy Rate (15-24)=%{y}<br>Unemployment_Rate=%{marker.size}<extra></extra>",
         "legendgroup": "Eritrea",
         "marker": {
          "color": "#FF97FF",
          "size": [
           5.14
          ],
          "sizemode": "area",
          "sizeref": 0.07045,
          "symbol": "circle"
         },
         "mode": "markers",
         "name": "Eritrea",
         "orientation": "v",
         "showlegend": true,
         "type": "scatter",
         "x": [
          94
         ],
         "xaxis": "x",
         "y": [
          93
         ],
         "yaxis": "y"
        },
        {
         "hovertemplate": "Countries and areas=Estonia<br>Male Literacy Rate (15-24)=%{x}<br>Female Literacy Rate (15-24)=%{y}<br>Unemployment_Rate=%{marker.size}<extra></extra>",
         "legendgroup": "Estonia",
         "marker": {
          "color": "#FECB52",
          "size": [
           5.11
          ],
          "sizemode": "area",
          "sizeref": 0.07045,
          "symbol": "circle"
         },
         "mode": "markers",
         "name": "Estonia",
         "orientation": "v",
         "showlegend": true,
         "type": "scatter",
         "x": [
          0
         ],
         "xaxis": "x",
         "y": [
          0
         ],
         "yaxis": "y"
        },
        {
         "hovertemplate": "Countries and areas=Eswatini<br>Male Literacy Rate (15-24)=%{x}<br>Female Literacy Rate (15-24)=%{y}<br>Unemployment_Rate=%{marker.size}<extra></extra>",
         "legendgroup": "Eswatini",
         "marker": {
          "color": "#636efa",
          "size": [
           0
          ],
          "sizemode": "area",
          "sizeref": 0.07045,
          "symbol": "circle"
         },
         "mode": "markers",
         "name": "Eswatini",
         "orientation": "v",
         "showlegend": true,
         "type": "scatter",
         "x": [
          94
         ],
         "xaxis": "x",
         "y": [
          97
         ],
         "yaxis": "y"
        },
        {
         "hovertemplate": "Countries and areas=Ethiopia<br>Male Literacy Rate (15-24)=%{x}<br>Female Literacy Rate (15-24)=%{y}<br>Unemployment_Rate=%{marker.size}<extra></extra>",
         "legendgroup": "Ethiopia",
         "marker": {
          "color": "#EF553B",
          "size": [
           2.08
          ],
          "sizemode": "area",
          "sizeref": 0.07045,
          "symbol": "circle"
         },
         "mode": "markers",
         "name": "Ethiopia",
         "orientation": "v",
         "showlegend": true,
         "type": "scatter",
         "x": [
          0
         ],
         "xaxis": "x",
         "y": [
          0
         ],
         "yaxis": "y"
        },
        {
         "hovertemplate": "Countries and areas=Fiji<br>Male Literacy Rate (15-24)=%{x}<br>Female Literacy Rate (15-24)=%{y}<br>Unemployment_Rate=%{marker.size}<extra></extra>",
         "legendgroup": "Fiji",
         "marker": {
          "color": "#00cc96",
          "size": [
           4.1
          ],
          "sizemode": "area",
          "sizeref": 0.07045,
          "symbol": "circle"
         },
         "mode": "markers",
         "name": "Fiji",
         "orientation": "v",
         "showlegend": true,
         "type": "scatter",
         "x": [
          0
         ],
         "xaxis": "x",
         "y": [
          0
         ],
         "yaxis": "y"
        },
        {
         "hovertemplate": "Countries and areas=Finland<br>Male Literacy Rate (15-24)=%{x}<br>Female Literacy Rate (15-24)=%{y}<br>Unemployment_Rate=%{marker.size}<extra></extra>",
         "legendgroup": "Finland",
         "marker": {
          "color": "#ab63fa",
          "size": [
           6.59
          ],
          "sizemode": "area",
          "sizeref": 0.07045,
          "symbol": "circle"
         },
         "mode": "markers",
         "name": "Finland",
         "orientation": "v",
         "showlegend": true,
         "type": "scatter",
         "x": [
          0
         ],
         "xaxis": "x",
         "y": [
          0
         ],
         "yaxis": "y"
        },
        {
         "hovertemplate": "Countries and areas=France<br>Male Literacy Rate (15-24)=%{x}<br>Female Literacy Rate (15-24)=%{y}<br>Unemployment_Rate=%{marker.size}<extra></extra>",
         "legendgroup": "France",
         "marker": {
          "color": "#FFA15A",
          "size": [
           8.43
          ],
          "sizemode": "area",
          "sizeref": 0.07045,
          "symbol": "circle"
         },
         "mode": "markers",
         "name": "France",
         "orientation": "v",
         "showlegend": true,
         "type": "scatter",
         "x": [
          0
         ],
         "xaxis": "x",
         "y": [
          0
         ],
         "yaxis": "y"
        },
        {
         "hovertemplate": "Countries and areas=Gabon<br>Male Literacy Rate (15-24)=%{x}<br>Female Literacy Rate (15-24)=%{y}<br>Unemployment_Rate=%{marker.size}<extra></extra>",
         "legendgroup": "Gabon",
         "marker": {
          "color": "#19d3f3",
          "size": [
           20
          ],
          "sizemode": "area",
          "sizeref": 0.07045,
          "symbol": "circle"
         },
         "mode": "markers",
         "name": "Gabon",
         "orientation": "v",
         "showlegend": true,
         "type": "scatter",
         "x": [
          88
         ],
         "xaxis": "x",
         "y": [
          91
         ],
         "yaxis": "y"
        },
        {
         "hovertemplate": "Countries and areas=The Gambia<br>Male Literacy Rate (15-24)=%{x}<br>Female Literacy Rate (15-24)=%{y}<br>Unemployment_Rate=%{marker.size}<extra></extra>",
         "legendgroup": "The Gambia",
         "marker": {
          "color": "#FF6692",
          "size": [
           9.06
          ],
          "sizemode": "area",
          "sizeref": 0.07045,
          "symbol": "circle"
         },
         "mode": "markers",
         "name": "The Gambia",
         "orientation": "v",
         "showlegend": true,
         "type": "scatter",
         "x": [
          0
         ],
         "xaxis": "x",
         "y": [
          0
         ],
         "yaxis": "y"
        },
        {
         "hovertemplate": "Countries and areas=Georgia<br>Male Literacy Rate (15-24)=%{x}<br>Female Literacy Rate (15-24)=%{y}<br>Unemployment_Rate=%{marker.size}<extra></extra>",
         "legendgroup": "Georgia",
         "marker": {
          "color": "#B6E880",
          "size": [
           14.4
          ],
          "sizemode": "area",
          "sizeref": 0.07045,
          "symbol": "circle"
         },
         "mode": "markers",
         "name": "Georgia",
         "orientation": "v",
         "showlegend": true,
         "type": "scatter",
         "x": [
          0
         ],
         "xaxis": "x",
         "y": [
          0
         ],
         "yaxis": "y"
        },
        {
         "hovertemplate": "Countries and areas=Germany<br>Male Literacy Rate (15-24)=%{x}<br>Female Literacy Rate (15-24)=%{y}<br>Unemployment_Rate=%{marker.size}<extra></extra>",
         "legendgroup": "Germany",
         "marker": {
          "color": "#FF97FF",
          "size": [
           3.04
          ],
          "sizemode": "area",
          "sizeref": 0.07045,
          "symbol": "circle"
         },
         "mode": "markers",
         "name": "Germany",
         "orientation": "v",
         "showlegend": true,
         "type": "scatter",
         "x": [
          0
         ],
         "xaxis": "x",
         "y": [
          0
         ],
         "yaxis": "y"
        },
        {
         "hovertemplate": "Countries and areas=Ghana<br>Male Literacy Rate (15-24)=%{x}<br>Female Literacy Rate (15-24)=%{y}<br>Unemployment_Rate=%{marker.size}<extra></extra>",
         "legendgroup": "Ghana",
         "marker": {
          "color": "#FECB52",
          "size": [
           4.33
          ],
          "sizemode": "area",
          "sizeref": 0.07045,
          "symbol": "circle"
         },
         "mode": "markers",
         "name": "Ghana",
         "orientation": "v",
         "showlegend": true,
         "type": "scatter",
         "x": [
          93
         ],
         "xaxis": "x",
         "y": [
          92
         ],
         "yaxis": "y"
        },
        {
         "hovertemplate": "Countries and areas=Greece<br>Male Literacy Rate (15-24)=%{x}<br>Female Literacy Rate (15-24)=%{y}<br>Unemployment_Rate=%{marker.size}<extra></extra>",
         "legendgroup": "Greece",
         "marker": {
          "color": "#636efa",
          "size": [
           17.24
          ],
          "sizemode": "area",
          "sizeref": 0.07045,
          "symbol": "circle"
         },
         "mode": "markers",
         "name": "Greece",
         "orientation": "v",
         "showlegend": true,
         "type": "scatter",
         "x": [
          99
         ],
         "xaxis": "x",
         "y": [
          99
         ],
         "yaxis": "y"
        },
        {
         "hovertemplate": "Countries and areas=Grenada<br>Male Literacy Rate (15-24)=%{x}<br>Female Literacy Rate (15-24)=%{y}<br>Unemployment_Rate=%{marker.size}<extra></extra>",
         "legendgroup": "Grenada",
         "marker": {
          "color": "#EF553B",
          "size": [
           0
          ],
          "sizemode": "area",
          "sizeref": 0.07045,
          "symbol": "circle"
         },
         "mode": "markers",
         "name": "Grenada",
         "orientation": "v",
         "showlegend": true,
         "type": "scatter",
         "x": [
          0
         ],
         "xaxis": "x",
         "y": [
          0
         ],
         "yaxis": "y"
        },
        {
         "hovertemplate": "Countries and areas=Guatemala<br>Male Literacy Rate (15-24)=%{x}<br>Female Literacy Rate (15-24)=%{y}<br>Unemployment_Rate=%{marker.size}<extra></extra>",
         "legendgroup": "Guatemala",
         "marker": {
          "color": "#00cc96",
          "size": [
           2.46
          ],
          "sizemode": "area",
          "sizeref": 0.07045,
          "symbol": "circle"
         },
         "mode": "markers",
         "name": "Guatemala",
         "orientation": "v",
         "showlegend": true,
         "type": "scatter",
         "x": [
          0
         ],
         "xaxis": "x",
         "y": [
          0
         ],
         "yaxis": "y"
        },
        {
         "hovertemplate": "Countries and areas=Guinea<br>Male Literacy Rate (15-24)=%{x}<br>Female Literacy Rate (15-24)=%{y}<br>Unemployment_Rate=%{marker.size}<extra></extra>",
         "legendgroup": "Guinea",
         "marker": {
          "color": "#ab63fa",
          "size": [
           4.3
          ],
          "sizemode": "area",
          "sizeref": 0.07045,
          "symbol": "circle"
         },
         "mode": "markers",
         "name": "Guinea",
         "orientation": "v",
         "showlegend": true,
         "type": "scatter",
         "x": [
          70
         ],
         "xaxis": "x",
         "y": [
          43
         ],
         "yaxis": "y"
        },
        {
         "hovertemplate": "Countries and areas=Guinea0Bissau<br>Male Literacy Rate (15-24)=%{x}<br>Female Literacy Rate (15-24)=%{y}<br>Unemployment_Rate=%{marker.size}<extra></extra>",
         "legendgroup": "Guinea0Bissau",
         "marker": {
          "color": "#FFA15A",
          "size": [
           2.47
          ],
          "sizemode": "area",
          "sizeref": 0.07045,
          "symbol": "circle"
         },
         "mode": "markers",
         "name": "Guinea0Bissau",
         "orientation": "v",
         "showlegend": true,
         "type": "scatter",
         "x": [
          0
         ],
         "xaxis": "x",
         "y": [
          0
         ],
         "yaxis": "y"
        },
        {
         "hovertemplate": "Countries and areas=Guyana<br>Male Literacy Rate (15-24)=%{x}<br>Female Literacy Rate (15-24)=%{y}<br>Unemployment_Rate=%{marker.size}<extra></extra>",
         "legendgroup": "Guyana",
         "marker": {
          "color": "#19d3f3",
          "size": [
           11.85
          ],
          "sizemode": "area",
          "sizeref": 0.07045,
          "symbol": "circle"
         },
         "mode": "markers",
         "name": "Guyana",
         "orientation": "v",
         "showlegend": true,
         "type": "scatter",
         "x": [
          0
         ],
         "xaxis": "x",
         "y": [
          0
         ],
         "yaxis": "y"
        },
        {
         "hovertemplate": "Countries and areas=Haiti<br>Male Literacy Rate (15-24)=%{x}<br>Female Literacy Rate (15-24)=%{y}<br>Unemployment_Rate=%{marker.size}<extra></extra>",
         "legendgroup": "Haiti",
         "marker": {
          "color": "#FF6692",
          "size": [
           13.78
          ],
          "sizemode": "area",
          "sizeref": 0.07045,
          "symbol": "circle"
         },
         "mode": "markers",
         "name": "Haiti",
         "orientation": "v",
         "showlegend": true,
         "type": "scatter",
         "x": [
          0
         ],
         "xaxis": "x",
         "y": [
          0
         ],
         "yaxis": "y"
        },
        {
         "hovertemplate": "Countries and areas=Vatican City<br>Male Literacy Rate (15-24)=%{x}<br>Female Literacy Rate (15-24)=%{y}<br>Unemployment_Rate=%{marker.size}<extra></extra>",
         "legendgroup": "Vatican City",
         "marker": {
          "color": "#B6E880",
          "size": [
           0
          ],
          "sizemode": "area",
          "sizeref": 0.07045,
          "symbol": "circle"
         },
         "mode": "markers",
         "name": "Vatican City",
         "orientation": "v",
         "showlegend": true,
         "type": "scatter",
         "x": [
          0
         ],
         "xaxis": "x",
         "y": [
          0
         ],
         "yaxis": "y"
        },
        {
         "hovertemplate": "Countries and areas=Honduras<br>Male Literacy Rate (15-24)=%{x}<br>Female Literacy Rate (15-24)=%{y}<br>Unemployment_Rate=%{marker.size}<extra></extra>",
         "legendgroup": "Honduras",
         "marker": {
          "color": "#FF97FF",
          "size": [
           5.39
          ],
          "sizemode": "area",
          "sizeref": 0.07045,
          "symbol": "circle"
         },
         "mode": "markers",
         "name": "Honduras",
         "orientation": "v",
         "showlegend": true,
         "type": "scatter",
         "x": [
          95
         ],
         "xaxis": "x",
         "y": [
          98
         ],
         "yaxis": "y"
        },
        {
         "hovertemplate": "Countries and areas=Hungary<br>Male Literacy Rate (15-24)=%{x}<br>Female Literacy Rate (15-24)=%{y}<br>Unemployment_Rate=%{marker.size}<extra></extra>",
         "legendgroup": "Hungary",
         "marker": {
          "color": "#FECB52",
          "size": [
           3.4
          ],
          "sizemode": "area",
          "sizeref": 0.07045,
          "symbol": "circle"
         },
         "mode": "markers",
         "name": "Hungary",
         "orientation": "v",
         "showlegend": true,
         "type": "scatter",
         "x": [
          0
         ],
         "xaxis": "x",
         "y": [
          0
         ],
         "yaxis": "y"
        },
        {
         "hovertemplate": "Countries and areas=Iceland<br>Male Literacy Rate (15-24)=%{x}<br>Female Literacy Rate (15-24)=%{y}<br>Unemployment_Rate=%{marker.size}<extra></extra>",
         "legendgroup": "Iceland",
         "marker": {
          "color": "#636efa",
          "size": [
           2.84
          ],
          "sizemode": "area",
          "sizeref": 0.07045,
          "symbol": "circle"
         },
         "mode": "markers",
         "name": "Iceland",
         "orientation": "v",
         "showlegend": true,
         "type": "scatter",
         "x": [
          0
         ],
         "xaxis": "x",
         "y": [
          0
         ],
         "yaxis": "y"
        },
        {
         "hovertemplate": "Countries and areas=India<br>Male Literacy Rate (15-24)=%{x}<br>Female Literacy Rate (15-24)=%{y}<br>Unemployment_Rate=%{marker.size}<extra></extra>",
         "legendgroup": "India",
         "marker": {
          "color": "#EF553B",
          "size": [
           5.36
          ],
          "sizemode": "area",
          "sizeref": 0.07045,
          "symbol": "circle"
         },
         "mode": "markers",
         "name": "India",
         "orientation": "v",
         "showlegend": true,
         "type": "scatter",
         "x": [
          93
         ],
         "xaxis": "x",
         "y": [
          90
         ],
         "yaxis": "y"
        },
        {
         "hovertemplate": "Countries and areas=Indonesia<br>Male Literacy Rate (15-24)=%{x}<br>Female Literacy Rate (15-24)=%{y}<br>Unemployment_Rate=%{marker.size}<extra></extra>",
         "legendgroup": "Indonesia",
         "marker": {
          "color": "#00cc96",
          "size": [
           4.69
          ],
          "sizemode": "area",
          "sizeref": 0.07045,
          "symbol": "circle"
         },
         "mode": "markers",
         "name": "Indonesia",
         "orientation": "v",
         "showlegend": true,
         "type": "scatter",
         "x": [
          100
         ],
         "xaxis": "x",
         "y": [
          100
         ],
         "yaxis": "y"
        },
        {
         "hovertemplate": "Countries and areas=Iran<br>Male Literacy Rate (15-24)=%{x}<br>Female Literacy Rate (15-24)=%{y}<br>Unemployment_Rate=%{marker.size}<extra></extra>",
         "legendgroup": "Iran",
         "marker": {
          "color": "#ab63fa",
          "size": [
           11.38
          ],
          "sizemode": "area",
          "sizeref": 0.07045,
          "symbol": "circle"
         },
         "mode": "markers",
         "name": "Iran",
         "orientation": "v",
         "showlegend": true,
         "type": "scatter",
         "x": [
          0
         ],
         "xaxis": "x",
         "y": [
          0
         ],
         "yaxis": "y"
        },
        {
         "hovertemplate": "Countries and areas=Iraq<br>Male Literacy Rate (15-24)=%{x}<br>Female Literacy Rate (15-24)=%{y}<br>Unemployment_Rate=%{marker.size}<extra></extra>",
         "legendgroup": "Iraq",
         "marker": {
          "color": "#FFA15A",
          "size": [
           12.82
          ],
          "sizemode": "area",
          "sizeref": 0.07045,
          "symbol": "circle"
         },
         "mode": "markers",
         "name": "Iraq",
         "orientation": "v",
         "showlegend": true,
         "type": "scatter",
         "x": [
          0
         ],
         "xaxis": "x",
         "y": [
          0
         ],
         "yaxis": "y"
        },
        {
         "hovertemplate": "Countries and areas=Republic of Ireland<br>Male Literacy Rate (15-24)=%{x}<br>Female Literacy Rate (15-24)=%{y}<br>Unemployment_Rate=%{marker.size}<extra></extra>",
         "legendgroup": "Republic of Ireland",
         "marker": {
          "color": "#19d3f3",
          "size": [
           4.93
          ],
          "sizemode": "area",
          "sizeref": 0.07045,
          "symbol": "circle"
         },
         "mode": "markers",
         "name": "Republic of Ireland",
         "orientation": "v",
         "showlegend": true,
         "type": "scatter",
         "x": [
          0
         ],
         "xaxis": "x",
         "y": [
          0
         ],
         "yaxis": "y"
        },
        {
         "hovertemplate": "Countries and areas=Israel<br>Male Literacy Rate (15-24)=%{x}<br>Female Literacy Rate (15-24)=%{y}<br>Unemployment_Rate=%{marker.size}<extra></extra>",
         "legendgroup": "Israel",
         "marker": {
          "color": "#FF6692",
          "size": [
           3.86
          ],
          "sizemode": "area",
          "sizeref": 0.07045,
          "symbol": "circle"
         },
         "mode": "markers",
         "name": "Israel",
         "orientation": "v",
         "showlegend": true,
         "type": "scatter",
         "x": [
          0
         ],
         "xaxis": "x",
         "y": [
          0
         ],
         "yaxis": "y"
        },
        {
         "hovertemplate": "Countries and areas=Italy<br>Male Literacy Rate (15-24)=%{x}<br>Female Literacy Rate (15-24)=%{y}<br>Unemployment_Rate=%{marker.size}<extra></extra>",
         "legendgroup": "Italy",
         "marker": {
          "color": "#B6E880",
          "size": [
           9.89
          ],
          "sizemode": "area",
          "sizeref": 0.07045,
          "symbol": "circle"
         },
         "mode": "markers",
         "name": "Italy",
         "orientation": "v",
         "showlegend": true,
         "type": "scatter",
         "x": [
          100
         ],
         "xaxis": "x",
         "y": [
          100
         ],
         "yaxis": "y"
        },
        {
         "hovertemplate": "Countries and areas=Jamaica<br>Male Literacy Rate (15-24)=%{x}<br>Female Literacy Rate (15-24)=%{y}<br>Unemployment_Rate=%{marker.size}<extra></extra>",
         "legendgroup": "Jamaica",
         "marker": {
          "color": "#FF97FF",
          "size": [
           8
          ],
          "sizemode": "area",
          "sizeref": 0.07045,
          "symbol": "circle"
         },
         "mode": "markers",
         "name": "Jamaica",
         "orientation": "v",
         "showlegend": true,
         "type": "scatter",
         "x": [
          0
         ],
         "xaxis": "x",
         "y": [
          0
         ],
         "yaxis": "y"
        },
        {
         "hovertemplate": "Countries and areas=Japan<br>Male Literacy Rate (15-24)=%{x}<br>Female Literacy Rate (15-24)=%{y}<br>Unemployment_Rate=%{marker.size}<extra></extra>",
         "legendgroup": "Japan",
         "marker": {
          "color": "#FECB52",
          "size": [
           2.29
          ],
          "sizemode": "area",
          "sizeref": 0.07045,
          "symbol": "circle"
         },
         "mode": "markers",
         "name": "Japan",
         "orientation": "v",
         "showlegend": true,
         "type": "scatter",
         "x": [
          0
         ],
         "xaxis": "x",
         "y": [
          0
         ],
         "yaxis": "y"
        },
        {
         "hovertemplate": "Countries and areas=Jordan<br>Male Literacy Rate (15-24)=%{x}<br>Female Literacy Rate (15-24)=%{y}<br>Unemployment_Rate=%{marker.size}<extra></extra>",
         "legendgroup": "Jordan",
         "marker": {
          "color": "#636efa",
          "size": [
           14.72
          ],
          "sizemode": "area",
          "sizeref": 0.07045,
          "symbol": "circle"
         },
         "mode": "markers",
         "name": "Jordan",
         "orientation": "v",
         "showlegend": true,
         "type": "scatter",
         "x": [
          99
         ],
         "xaxis": "x",
         "y": [
          99
         ],
         "yaxis": "y"
        },
        {
         "hovertemplate": "Countries and areas=Kazakhstan<br>Male Literacy Rate (15-24)=%{x}<br>Female Literacy Rate (15-24)=%{y}<br>Unemployment_Rate=%{marker.size}<extra></extra>",
         "legendgroup": "Kazakhstan",
         "marker": {
          "color": "#EF553B",
          "size": [
           4.59
          ],
          "sizemode": "area",
          "sizeref": 0.07045,
          "symbol": "circle"
         },
         "mode": "markers",
         "name": "Kazakhstan",
         "orientation": "v",
         "showlegend": true,
         "type": "scatter",
         "x": [
          100
         ],
         "xaxis": "x",
         "y": [
          100
         ],
         "yaxis": "y"
        },
        {
         "hovertemplate": "Countries and areas=Kenya<br>Male Literacy Rate (15-24)=%{x}<br>Female Literacy Rate (15-24)=%{y}<br>Unemployment_Rate=%{marker.size}<extra></extra>",
         "legendgroup": "Kenya",
         "marker": {
          "color": "#00cc96",
          "size": [
           2.64
          ],
          "sizemode": "area",
          "sizeref": 0.07045,
          "symbol": "circle"
         },
         "mode": "markers",
         "name": "Kenya",
         "orientation": "v",
         "showlegend": true,
         "type": "scatter",
         "x": [
          88
         ],
         "xaxis": "x",
         "y": [
          88
         ],
         "yaxis": "y"
        },
        {
         "hovertemplate": "Countries and areas=Kiribati<br>Male Literacy Rate (15-24)=%{x}<br>Female Literacy Rate (15-24)=%{y}<br>Unemployment_Rate=%{marker.size}<extra></extra>",
         "legendgroup": "Kiribati",
         "marker": {
          "color": "#ab63fa",
          "size": [
           0
          ],
          "sizemode": "area",
          "sizeref": 0.07045,
          "symbol": "circle"
         },
         "mode": "markers",
         "name": "Kiribati",
         "orientation": "v",
         "showlegend": true,
         "type": "scatter",
         "x": [
          0
         ],
         "xaxis": "x",
         "y": [
          0
         ],
         "yaxis": "y"
        },
        {
         "hovertemplate": "Countries and areas=Kuwait<br>Male Literacy Rate (15-24)=%{x}<br>Female Literacy Rate (15-24)=%{y}<br>Unemployment_Rate=%{marker.size}<extra></extra>",
         "legendgroup": "Kuwait",
         "marker": {
          "color": "#FFA15A",
          "size": [
           2.18
          ],
          "sizemode": "area",
          "sizeref": 0.07045,
          "symbol": "circle"
         },
         "mode": "markers",
         "name": "Kuwait",
         "orientation": "v",
         "showlegend": true,
         "type": "scatter",
         "x": [
          99
         ],
         "xaxis": "x",
         "y": [
          100
         ],
         "yaxis": "y"
        },
        {
         "hovertemplate": "Countries and areas=Kyrgyzstan<br>Male Literacy Rate (15-24)=%{x}<br>Female Literacy Rate (15-24)=%{y}<br>Unemployment_Rate=%{marker.size}<extra></extra>",
         "legendgroup": "Kyrgyzstan",
         "marker": {
          "color": "#19d3f3",
          "size": [
           6.33
          ],
          "sizemode": "area",
          "sizeref": 0.07045,
          "symbol": "circle"
         },
         "mode": "markers",
         "name": "Kyrgyzstan",
         "orientation": "v",
         "showlegend": true,
         "type": "scatter",
         "x": [
          100
         ],
         "xaxis": "x",
         "y": [
          100
         ],
         "yaxis": "y"
        },
        {
         "hovertemplate": "Countries and areas=Laos<br>Male Literacy Rate (15-24)=%{x}<br>Female Literacy Rate (15-24)=%{y}<br>Unemployment_Rate=%{marker.size}<extra></extra>",
         "legendgroup": "Laos",
         "marker": {
          "color": "#FF6692",
          "size": [
           0.63
          ],
          "sizemode": "area",
          "sizeref": 0.07045,
          "symbol": "circle"
         },
         "mode": "markers",
         "name": "Laos",
         "orientation": "v",
         "showlegend": true,
         "type": "scatter",
         "x": [
          0
         ],
         "xaxis": "x",
         "y": [
          0
         ],
         "yaxis": "y"
        },
        {
         "hovertemplate": "Countries and areas=Latvia<br>Male Literacy Rate (15-24)=%{x}<br>Female Literacy Rate (15-24)=%{y}<br>Unemployment_Rate=%{marker.size}<extra></extra>",
         "legendgroup": "Latvia",
         "marker": {
          "color": "#B6E880",
          "size": [
           6.52
          ],
          "sizemode": "area",
          "sizeref": 0.07045,
          "symbol": "circle"
         },
         "mode": "markers",
         "name": "Latvia",
         "orientation": "v",
         "showlegend": true,
         "type": "scatter",
         "x": [
          100
         ],
         "xaxis": "x",
         "y": [
          100
         ],
         "yaxis": "y"
        },
        {
         "hovertemplate": "Countries and areas=Lebanon<br>Male Literacy Rate (15-24)=%{x}<br>Female Literacy Rate (15-24)=%{y}<br>Unemployment_Rate=%{marker.size}<extra></extra>",
         "legendgroup": "Lebanon",
         "marker": {
          "color": "#FF97FF",
          "size": [
           6.23
          ],
          "sizemode": "area",
          "sizeref": 0.07045,
          "symbol": "circle"
         },
         "mode": "markers",
         "name": "Lebanon",
         "orientation": "v",
         "showlegend": true,
         "type": "scatter",
         "x": [
          100
         ],
         "xaxis": "x",
         "y": [
          100
         ],
         "yaxis": "y"
        },
        {
         "hovertemplate": "Countries and areas=Lesotho<br>Male Literacy Rate (15-24)=%{x}<br>Female Literacy Rate (15-24)=%{y}<br>Unemployment_Rate=%{marker.size}<extra></extra>",
         "legendgroup": "Lesotho",
         "marker": {
          "color": "#FECB52",
          "size": [
           23.41
          ],
          "sizemode": "area",
          "sizeref": 0.07045,
          "symbol": "circle"
         },
         "mode": "markers",
         "name": "Lesotho",
         "orientation": "v",
         "showlegend": true,
         "type": "scatter",
         "x": [
          0
         ],
         "xaxis": "x",
         "y": [
          0
         ],
         "yaxis": "y"
        },
        {
         "hovertemplate": "Countries and areas=Liberia<br>Male Literacy Rate (15-24)=%{x}<br>Female Literacy Rate (15-24)=%{y}<br>Unemployment_Rate=%{marker.size}<extra></extra>",
         "legendgroup": "Liberia",
         "marker": {
          "color": "#636efa",
          "size": [
           2.81
          ],
          "sizemode": "area",
          "sizeref": 0.07045,
          "symbol": "circle"
         },
         "mode": "markers",
         "name": "Liberia",
         "orientation": "v",
         "showlegend": true,
         "type": "scatter",
         "x": [
          0
         ],
         "xaxis": "x",
         "y": [
          0
         ],
         "yaxis": "y"
        },
        {
         "hovertemplate": "Countries and areas=Libya<br>Male Literacy Rate (15-24)=%{x}<br>Female Literacy Rate (15-24)=%{y}<br>Unemployment_Rate=%{marker.size}<extra></extra>",
         "legendgroup": "Libya",
         "marker": {
          "color": "#EF553B",
          "size": [
           18.56
          ],
          "sizemode": "area",
          "sizeref": 0.07045,
          "symbol": "circle"
         },
         "mode": "markers",
         "name": "Libya",
         "orientation": "v",
         "showlegend": true,
         "type": "scatter",
         "x": [
          0
         ],
         "xaxis": "x",
         "y": [
          0
         ],
         "yaxis": "y"
        },
        {
         "hovertemplate": "Countries and areas=Liechtenstein<br>Male Literacy Rate (15-24)=%{x}<br>Female Literacy Rate (15-24)=%{y}<br>Unemployment_Rate=%{marker.size}<extra></extra>",
         "legendgroup": "Liechtenstein",
         "marker": {
          "color": "#00cc96",
          "size": [
           0
          ],
          "sizemode": "area",
          "sizeref": 0.07045,
          "symbol": "circle"
         },
         "mode": "markers",
         "name": "Liechtenstein",
         "orientation": "v",
         "showlegend": true,
         "type": "scatter",
         "x": [
          0
         ],
         "xaxis": "x",
         "y": [
          0
         ],
         "yaxis": "y"
        },
        {
         "hovertemplate": "Countries and areas=Lithuania<br>Male Literacy Rate (15-24)=%{x}<br>Female Literacy Rate (15-24)=%{y}<br>Unemployment_Rate=%{marker.size}<extra></extra>",
         "legendgroup": "Lithuania",
         "marker": {
          "color": "#ab63fa",
          "size": [
           6.35
          ],
          "sizemode": "area",
          "sizeref": 0.07045,
          "symbol": "circle"
         },
         "mode": "markers",
         "name": "Lithuania",
         "orientation": "v",
         "showlegend": true,
         "type": "scatter",
         "x": [
          0
         ],
         "xaxis": "x",
         "y": [
          0
         ],
         "yaxis": "y"
        },
        {
         "hovertemplate": "Countries and areas=Luxembourg<br>Male Literacy Rate (15-24)=%{x}<br>Female Literacy Rate (15-24)=%{y}<br>Unemployment_Rate=%{marker.size}<extra></extra>",
         "legendgroup": "Luxembourg",
         "marker": {
          "color": "#FFA15A",
          "size": [
           5.36
          ],
          "sizemode": "area",
          "sizeref": 0.07045,
          "symbol": "circle"
         },
         "mode": "markers",
         "name": "Luxembourg",
         "orientation": "v",
         "showlegend": true,
         "type": "scatter",
         "x": [
          0
         ],
         "xaxis": "x",
         "y": [
          0
         ],
         "yaxis": "y"
        },
        {
         "hovertemplate": "Countries and areas=Madagascar<br>Male Literacy Rate (15-24)=%{x}<br>Female Literacy Rate (15-24)=%{y}<br>Unemployment_Rate=%{marker.size}<extra></extra>",
         "legendgroup": "Madagascar",
         "marker": {
          "color": "#19d3f3",
          "size": [
           1.76
          ],
          "sizemode": "area",
          "sizeref": 0.07045,
          "symbol": "circle"
         },
         "mode": "markers",
         "name": "Madagascar",
         "orientation": "v",
         "showlegend": true,
         "type": "scatter",
         "x": [
          82
         ],
         "xaxis": "x",
         "y": [
          81
         ],
         "yaxis": "y"
        },
        {
         "hovertemplate": "Countries and areas=Malawi<br>Male Literacy Rate (15-24)=%{x}<br>Female Literacy Rate (15-24)=%{y}<br>Unemployment_Rate=%{marker.size}<extra></extra>",
         "legendgroup": "Malawi",
         "marker": {
          "color": "#FF6692",
          "size": [
           5.65
          ],
          "sizemode": "area",
          "sizeref": 0.07045,
          "symbol": "circle"
         },
         "mode": "markers",
         "name": "Malawi",
         "orientation": "v",
         "showlegend": true,
         "type": "scatter",
         "x": [
          0
         ],
         "xaxis": "x",
         "y": [
          0
         ],
         "yaxis": "y"
        },
        {
         "hovertemplate": "Countries and areas=Malaysia<br>Male Literacy Rate (15-24)=%{x}<br>Female Literacy Rate (15-24)=%{y}<br>Unemployment_Rate=%{marker.size}<extra></extra>",
         "legendgroup": "Malaysia",
         "marker": {
          "color": "#B6E880",
          "size": [
           3.32
          ],
          "sizemode": "area",
          "sizeref": 0.07045,
          "symbol": "circle"
         },
         "mode": "markers",
         "name": "Malaysia",
         "orientation": "v",
         "showlegend": true,
         "type": "scatter",
         "x": [
          97
         ],
         "xaxis": "x",
         "y": [
          97
         ],
         "yaxis": "y"
        },
        {
         "hovertemplate": "Countries and areas=Maldives<br>Male Literacy Rate (15-24)=%{x}<br>Female Literacy Rate (15-24)=%{y}<br>Unemployment_Rate=%{marker.size}<extra></extra>",
         "legendgroup": "Maldives",
         "marker": {
          "color": "#FF97FF",
          "size": [
           6.14
          ],
          "sizemode": "area",
          "sizeref": 0.07045,
          "symbol": "circle"
         },
         "mode": "markers",
         "name": "Maldives",
         "orientation": "v",
         "showlegend": true,
         "type": "scatter",
         "x": [
          0
         ],
         "xaxis": "x",
         "y": [
          0
         ],
         "yaxis": "y"
        },
        {
         "hovertemplate": "Countries and areas=Mali<br>Male Literacy Rate (15-24)=%{x}<br>Female Literacy Rate (15-24)=%{y}<br>Unemployment_Rate=%{marker.size}<extra></extra>",
         "legendgroup": "Mali",
         "marker": {
          "color": "#FECB52",
          "size": [
           7.22
          ],
          "sizemode": "area",
          "sizeref": 0.07045,
          "symbol": "circle"
         },
         "mode": "markers",
         "name": "Mali",
         "orientation": "v",
         "showlegend": true,
         "type": "scatter",
         "x": [
          58
         ],
         "xaxis": "x",
         "y": [
          43
         ],
         "yaxis": "y"
        },
        {
         "hovertemplate": "Countries and areas=Malta<br>Male Literacy Rate (15-24)=%{x}<br>Female Literacy Rate (15-24)=%{y}<br>Unemployment_Rate=%{marker.size}<extra></extra>",
         "legendgroup": "Malta",
         "marker": {
          "color": "#636efa",
          "size": [
           3.47
          ],
          "sizemode": "area",
          "sizeref": 0.07045,
          "symbol": "circle"
         },
         "mode": "markers",
         "name": "Malta",
         "orientation": "v",
         "showlegend": true,
         "type": "scatter",
         "x": [
          99
         ],
         "xaxis": "x",
         "y": [
          100
         ],
         "yaxis": "y"
        },
        {
         "hovertemplate": "Countries and areas=Marshall Islands<br>Male Literacy Rate (15-24)=%{x}<br>Female Literacy Rate (15-24)=%{y}<br>Unemployment_Rate=%{marker.size}<extra></extra>",
         "legendgroup": "Marshall Islands",
         "marker": {
          "color": "#EF553B",
          "size": [
           0
          ],
          "sizemode": "area",
          "sizeref": 0.07045,
          "symbol": "circle"
         },
         "mode": "markers",
         "name": "Marshall Islands",
         "orientation": "v",
         "showlegend": true,
         "type": "scatter",
         "x": [
          0
         ],
         "xaxis": "x",
         "y": [
          0
         ],
         "yaxis": "y"
        },
        {
         "hovertemplate": "Countries and areas=Mauritania<br>Male Literacy Rate (15-24)=%{x}<br>Female Literacy Rate (15-24)=%{y}<br>Unemployment_Rate=%{marker.size}<extra></extra>",
         "legendgroup": "Mauritania",
         "marker": {
          "color": "#00cc96",
          "size": [
           9.55
          ],
          "sizemode": "area",
          "sizeref": 0.07045,
          "symbol": "circle"
         },
         "mode": "markers",
         "name": "Mauritania",
         "orientation": "v",
         "showlegend": true,
         "type": "scatter",
         "x": [
          0
         ],
         "xaxis": "x",
         "y": [
          0
         ],
         "yaxis": "y"
        },
        {
         "hovertemplate": "Countries and areas=Mauritius<br>Male Literacy Rate (15-24)=%{x}<br>Female Literacy Rate (15-24)=%{y}<br>Unemployment_Rate=%{marker.size}<extra></extra>",
         "legendgroup": "Mauritius",
         "marker": {
          "color": "#ab63fa",
          "size": [
           6.67
          ],
          "sizemode": "area",
          "sizeref": 0.07045,
          "symbol": "circle"
         },
         "mode": "markers",
         "name": "Mauritius",
         "orientation": "v",
         "showlegend": true,
         "type": "scatter",
         "x": [
          99
         ],
         "xaxis": "x",
         "y": [
          99
         ],
         "yaxis": "y"
        },
        {
         "hovertemplate": "Countries and areas=Mexico<br>Male Literacy Rate (15-24)=%{x}<br>Female Literacy Rate (15-24)=%{y}<br>Unemployment_Rate=%{marker.size}<extra></extra>",
         "legendgroup": "Mexico",
         "marker": {
          "color": "#FFA15A",
          "size": [
           3.42
          ],
          "sizemode": "area",
          "sizeref": 0.07045,
          "symbol": "circle"
         },
         "mode": "markers",
         "name": "Mexico",
         "orientation": "v",
         "showlegend": true,
         "type": "scatter",
         "x": [
          99
         ],
         "xaxis": "x",
         "y": [
          99
         ],
         "yaxis": "y"
        },
        {
         "hovertemplate": "Countries and areas=Federated States of Micronesia<br>Male Literacy Rate (15-24)=%{x}<br>Female Literacy Rate (15-24)=%{y}<br>Unemployment_Rate=%{marker.size}<extra></extra>",
         "legendgroup": "Federated States of Micronesia",
         "marker": {
          "color": "#19d3f3",
          "size": [
           0
          ],
          "sizemode": "area",
          "sizeref": 0.07045,
          "symbol": "circle"
         },
         "mode": "markers",
         "name": "Federated States of Micronesia",
         "orientation": "v",
         "showlegend": true,
         "type": "scatter",
         "x": [
          0
         ],
         "xaxis": "x",
         "y": [
          0
         ],
         "yaxis": "y"
        },
        {
         "hovertemplate": "Countries and areas=Monaco<br>Male Literacy Rate (15-24)=%{x}<br>Female Literacy Rate (15-24)=%{y}<br>Unemployment_Rate=%{marker.size}<extra></extra>",
         "legendgroup": "Monaco",
         "marker": {
          "color": "#FF6692",
          "size": [
           0
          ],
          "sizemode": "area",
          "sizeref": 0.07045,
          "symbol": "circle"
         },
         "mode": "markers",
         "name": "Monaco",
         "orientation": "v",
         "showlegend": true,
         "type": "scatter",
         "x": [
          0
         ],
         "xaxis": "x",
         "y": [
          0
         ],
         "yaxis": "y"
        },
        {
         "hovertemplate": "Countries and areas=Mongolia<br>Male Literacy Rate (15-24)=%{x}<br>Female Literacy Rate (15-24)=%{y}<br>Unemployment_Rate=%{marker.size}<extra></extra>",
         "legendgroup": "Mongolia",
         "marker": {
          "color": "#B6E880",
          "size": [
           6.01
          ],
          "sizemode": "area",
          "sizeref": 0.07045,
          "symbol": "circle"
         },
         "mode": "markers",
         "name": "Mongolia",
         "orientation": "v",
         "showlegend": true,
         "type": "scatter",
         "x": [
          98
         ],
         "xaxis": "x",
         "y": [
          99
         ],
         "yaxis": "y"
        },
        {
         "hovertemplate": "Countries and areas=Montenegro<br>Male Literacy Rate (15-24)=%{x}<br>Female Literacy Rate (15-24)=%{y}<br>Unemployment_Rate=%{marker.size}<extra></extra>",
         "legendgroup": "Montenegro",
         "marker": {
          "color": "#FF97FF",
          "size": [
           14.88
          ],
          "sizemode": "area",
          "sizeref": 0.07045,
          "symbol": "circle"
         },
         "mode": "markers",
         "name": "Montenegro",
         "orientation": "v",
         "showlegend": true,
         "type": "scatter",
         "x": [
          99
         ],
         "xaxis": "x",
         "y": [
          99
         ],
         "yaxis": "y"
        },
        {
         "hovertemplate": "Countries and areas=Montserrat<br>Male Literacy Rate (15-24)=%{x}<br>Female Literacy Rate (15-24)=%{y}<br>Unemployment_Rate=%{marker.size}<extra></extra>",
         "legendgroup": "Montserrat",
         "marker": {
          "color": "#FECB52",
          "size": [
           0
          ],
          "sizemode": "area",
          "sizeref": 0.07045,
          "symbol": "circle"
         },
         "mode": "markers",
         "name": "Montserrat",
         "orientation": "v",
         "showlegend": true,
         "type": "scatter",
         "x": [
          0
         ],
         "xaxis": "x",
         "y": [
          0
         ],
         "yaxis": "y"
        },
        {
         "hovertemplate": "Countries and areas=Morocco<br>Male Literacy Rate (15-24)=%{x}<br>Female Literacy Rate (15-24)=%{y}<br>Unemployment_Rate=%{marker.size}<extra></extra>",
         "legendgroup": "Morocco",
         "marker": {
          "color": "#636efa",
          "size": [
           9.02
          ],
          "sizemode": "area",
          "sizeref": 0.07045,
          "symbol": "circle"
         },
         "mode": "markers",
         "name": "Morocco",
         "orientation": "v",
         "showlegend": true,
         "type": "scatter",
         "x": [
          98
         ],
         "xaxis": "x",
         "y": [
          97
         ],
         "yaxis": "y"
        },
        {
         "hovertemplate": "Countries and areas=Mozambique<br>Male Literacy Rate (15-24)=%{x}<br>Female Literacy Rate (15-24)=%{y}<br>Unemployment_Rate=%{marker.size}<extra></extra>",
         "legendgroup": "Mozambique",
         "marker": {
          "color": "#EF553B",
          "size": [
           3.24
          ],
          "sizemode": "area",
          "sizeref": 0.07045,
          "symbol": "circle"
         },
         "mode": "markers",
         "name": "Mozambique",
         "orientation": "v",
         "showlegend": true,
         "type": "scatter",
         "x": [
          0
         ],
         "xaxis": "x",
         "y": [
          0
         ],
         "yaxis": "y"
        },
        {
         "hovertemplate": "Countries and areas=Myanmar<br>Male Literacy Rate (15-24)=%{x}<br>Female Literacy Rate (15-24)=%{y}<br>Unemployment_Rate=%{marker.size}<extra></extra>",
         "legendgroup": "Myanmar",
         "marker": {
          "color": "#00cc96",
          "size": [
           1.58
          ],
          "sizemode": "area",
          "sizeref": 0.07045,
          "symbol": "circle"
         },
         "mode": "markers",
         "name": "Myanmar",
         "orientation": "v",
         "showlegend": true,
         "type": "scatter",
         "x": [
          0
         ],
         "xaxis": "x",
         "y": [
          0
         ],
         "yaxis": "y"
        },
        {
         "hovertemplate": "Countries and areas=Namibia<br>Male Literacy Rate (15-24)=%{x}<br>Female Literacy Rate (15-24)=%{y}<br>Unemployment_Rate=%{marker.size}<extra></extra>",
         "legendgroup": "Namibia",
         "marker": {
          "color": "#ab63fa",
          "size": [
           20.27
          ],
          "sizemode": "area",
          "sizeref": 0.07045,
          "symbol": "circle"
         },
         "mode": "markers",
         "name": "Namibia",
         "orientation": "v",
         "showlegend": true,
         "type": "scatter",
         "x": [
          94
         ],
         "xaxis": "x",
         "y": [
          96
         ],
         "yaxis": "y"
        },
        {
         "hovertemplate": "Countries and areas=Nauru<br>Male Literacy Rate (15-24)=%{x}<br>Female Literacy Rate (15-24)=%{y}<br>Unemployment_Rate=%{marker.size}<extra></extra>",
         "legendgroup": "Nauru",
         "marker": {
          "color": "#FFA15A",
          "size": [
           0
          ],
          "sizemode": "area",
          "sizeref": 0.07045,
          "symbol": "circle"
         },
         "mode": "markers",
         "name": "Nauru",
         "orientation": "v",
         "showlegend": true,
         "type": "scatter",
         "x": [
          0
         ],
         "xaxis": "x",
         "y": [
          0
         ],
         "yaxis": "y"
        },
        {
         "hovertemplate": "Countries and areas=Nepal<br>Male Literacy Rate (15-24)=%{x}<br>Female Literacy Rate (15-24)=%{y}<br>Unemployment_Rate=%{marker.size}<extra></extra>",
         "legendgroup": "Nepal",
         "marker": {
          "color": "#19d3f3",
          "size": [
           1.41
          ],
          "sizemode": "area",
          "sizeref": 0.07045,
          "symbol": "circle"
         },
         "mode": "markers",
         "name": "Nepal",
         "orientation": "v",
         "showlegend": true,
         "type": "scatter",
         "x": [
          94
         ],
         "xaxis": "x",
         "y": [
          91
         ],
         "yaxis": "y"
        },
        {
         "hovertemplate": "Countries and areas=Netherlands<br>Male Literacy Rate (15-24)=%{x}<br>Female Literacy Rate (15-24)=%{y}<br>Unemployment_Rate=%{marker.size}<extra></extra>",
         "legendgroup": "Netherlands",
         "marker": {
          "color": "#FF6692",
          "size": [
           3.2
          ],
          "sizemode": "area",
          "sizeref": 0.07045,
          "symbol": "circle"
         },
         "mode": "markers",
         "name": "Netherlands",
         "orientation": "v",
         "showlegend": true,
         "type": "scatter",
         "x": [
          0
         ],
         "xaxis": "x",
         "y": [
          0
         ],
         "yaxis": "y"
        },
        {
         "hovertemplate": "Countries and areas=New Zealand<br>Male Literacy Rate (15-24)=%{x}<br>Female Literacy Rate (15-24)=%{y}<br>Unemployment_Rate=%{marker.size}<extra></extra>",
         "legendgroup": "New Zealand",
         "marker": {
          "color": "#B6E880",
          "size": [
           4.07
          ],
          "sizemode": "area",
          "sizeref": 0.07045,
          "symbol": "circle"
         },
         "mode": "markers",
         "name": "New Zealand",
         "orientation": "v",
         "showlegend": true,
         "type": "scatter",
         "x": [
          0
         ],
         "xaxis": "x",
         "y": [
          0
         ],
         "yaxis": "y"
        },
        {
         "hovertemplate": "Countries and areas=Nicaragua<br>Male Literacy Rate (15-24)=%{x}<br>Female Literacy Rate (15-24)=%{y}<br>Unemployment_Rate=%{marker.size}<extra></extra>",
         "legendgroup": "Nicaragua",
         "marker": {
          "color": "#FF97FF",
          "size": [
           6.84
          ],
          "sizemode": "area",
          "sizeref": 0.07045,
          "symbol": "circle"
         },
         "mode": "markers",
         "name": "Nicaragua",
         "orientation": "v",
         "showlegend": true,
         "type": "scatter",
         "x": [
          0
         ],
         "xaxis": "x",
         "y": [
          0
         ],
         "yaxis": "y"
        },
        {
         "hovertemplate": "Countries and areas=Niger<br>Male Literacy Rate (15-24)=%{x}<br>Female Literacy Rate (15-24)=%{y}<br>Unemployment_Rate=%{marker.size}<extra></extra>",
         "legendgroup": "Niger",
         "marker": {
          "color": "#FECB52",
          "size": [
           0.47
          ],
          "sizemode": "area",
          "sizeref": 0.07045,
          "symbol": "circle"
         },
         "mode": "markers",
         "name": "Niger",
         "orientation": "v",
         "showlegend": true,
         "type": "scatter",
         "x": [
          51
         ],
         "xaxis": "x",
         "y": [
          36
         ],
         "yaxis": "y"
        },
        {
         "hovertemplate": "Countries and areas=Nigeria<br>Male Literacy Rate (15-24)=%{x}<br>Female Literacy Rate (15-24)=%{y}<br>Unemployment_Rate=%{marker.size}<extra></extra>",
         "legendgroup": "Nigeria",
         "marker": {
          "color": "#636efa",
          "size": [
           8.1
          ],
          "sizemode": "area",
          "sizeref": 0.07045,
          "symbol": "circle"
         },
         "mode": "markers",
         "name": "Nigeria",
         "orientation": "v",
         "showlegend": true,
         "type": "scatter",
         "x": [
          82
         ],
         "xaxis": "x",
         "y": [
          68
         ],
         "yaxis": "y"
        },
        {
         "hovertemplate": "Countries and areas=Niue<br>Male Literacy Rate (15-24)=%{x}<br>Female Literacy Rate (15-24)=%{y}<br>Unemployment_Rate=%{marker.size}<extra></extra>",
         "legendgroup": "Niue",
         "marker": {
          "color": "#EF553B",
          "size": [
           0
          ],
          "sizemode": "area",
          "sizeref": 0.07045,
          "symbol": "circle"
         },
         "mode": "markers",
         "name": "Niue",
         "orientation": "v",
         "showlegend": true,
         "type": "scatter",
         "x": [
          0
         ],
         "xaxis": "x",
         "y": [
          0
         ],
         "yaxis": "y"
        },
        {
         "hovertemplate": "Countries and areas=North Macedonia<br>Male Literacy Rate (15-24)=%{x}<br>Female Literacy Rate (15-24)=%{y}<br>Unemployment_Rate=%{marker.size}<extra></extra>",
         "legendgroup": "North Macedonia",
         "marker": {
          "color": "#00cc96",
          "size": [
           0
          ],
          "sizemode": "area",
          "sizeref": 0.07045,
          "symbol": "circle"
         },
         "mode": "markers",
         "name": "North Macedonia",
         "orientation": "v",
         "showlegend": true,
         "type": "scatter",
         "x": [
          0
         ],
         "xaxis": "x",
         "y": [
          0
         ],
         "yaxis": "y"
        },
        {
         "hovertemplate": "Countries and areas=Norway<br>Male Literacy Rate (15-24)=%{x}<br>Female Literacy Rate (15-24)=%{y}<br>Unemployment_Rate=%{marker.size}<extra></extra>",
         "legendgroup": "Norway",
         "marker": {
          "color": "#ab63fa",
          "size": [
           3.35
          ],
          "sizemode": "area",
          "sizeref": 0.07045,
          "symbol": "circle"
         },
         "mode": "markers",
         "name": "Norway",
         "orientation": "v",
         "showlegend": true,
         "type": "scatter",
         "x": [
          0
         ],
         "xaxis": "x",
         "y": [
          0
         ],
         "yaxis": "y"
        },
        {
         "hovertemplate": "Countries and areas=Oman<br>Male Literacy Rate (15-24)=%{x}<br>Female Literacy Rate (15-24)=%{y}<br>Unemployment_Rate=%{marker.size}<extra></extra>",
         "legendgroup": "Oman",
         "marker": {
          "color": "#FFA15A",
          "size": [
           2.67
          ],
          "sizemode": "area",
          "sizeref": 0.07045,
          "symbol": "circle"
         },
         "mode": "markers",
         "name": "Oman",
         "orientation": "v",
         "showlegend": true,
         "type": "scatter",
         "x": [
          98
         ],
         "xaxis": "x",
         "y": [
          99
         ],
         "yaxis": "y"
        },
        {
         "hovertemplate": "Countries and areas=Pakistan<br>Male Literacy Rate (15-24)=%{x}<br>Female Literacy Rate (15-24)=%{y}<br>Unemployment_Rate=%{marker.size}<extra></extra>",
         "legendgroup": "Pakistan",
         "marker": {
          "color": "#19d3f3",
          "size": [
           4.45
          ],
          "sizemode": "area",
          "sizeref": 0.07045,
          "symbol": "circle"
         },
         "mode": "markers",
         "name": "Pakistan",
         "orientation": "v",
         "showlegend": true,
         "type": "scatter",
         "x": [
          0
         ],
         "xaxis": "x",
         "y": [
          0
         ],
         "yaxis": "y"
        },
        {
         "hovertemplate": "Countries and areas=Palau<br>Male Literacy Rate (15-24)=%{x}<br>Female Literacy Rate (15-24)=%{y}<br>Unemployment_Rate=%{marker.size}<extra></extra>",
         "legendgroup": "Palau",
         "marker": {
          "color": "#FF6692",
          "size": [
           0
          ],
          "sizemode": "area",
          "sizeref": 0.07045,
          "symbol": "circle"
         },
         "mode": "markers",
         "name": "Palau",
         "orientation": "v",
         "showlegend": true,
         "type": "scatter",
         "x": [
          0
         ],
         "xaxis": "x",
         "y": [
          0
         ],
         "yaxis": "y"
        },
        {
         "hovertemplate": "Countries and areas=Panama<br>Male Literacy Rate (15-24)=%{x}<br>Female Literacy Rate (15-24)=%{y}<br>Unemployment_Rate=%{marker.size}<extra></extra>",
         "legendgroup": "Panama",
         "marker": {
          "color": "#B6E880",
          "size": [
           3.9
          ],
          "sizemode": "area",
          "sizeref": 0.07045,
          "symbol": "circle"
         },
         "mode": "markers",
         "name": "Panama",
         "orientation": "v",
         "showlegend": true,
         "type": "scatter",
         "x": [
          99
         ],
         "xaxis": "x",
         "y": [
          99
         ],
         "yaxis": "y"
        },
        {
         "hovertemplate": "Countries and areas=Papua New Guinea<br>Male Literacy Rate (15-24)=%{x}<br>Female Literacy Rate (15-24)=%{y}<br>Unemployment_Rate=%{marker.size}<extra></extra>",
         "legendgroup": "Papua New Guinea",
         "marker": {
          "color": "#FF97FF",
          "size": [
           2.46
          ],
          "sizemode": "area",
          "sizeref": 0.07045,
          "symbol": "circle"
         },
         "mode": "markers",
         "name": "Papua New Guinea",
         "orientation": "v",
         "showlegend": true,
         "type": "scatter",
         "x": [
          0
         ],
         "xaxis": "x",
         "y": [
          0
         ],
         "yaxis": "y"
        },
        {
         "hovertemplate": "Countries and areas=Paraguay<br>Male Literacy Rate (15-24)=%{x}<br>Female Literacy Rate (15-24)=%{y}<br>Unemployment_Rate=%{marker.size}<extra></extra>",
         "legendgroup": "Paraguay",
         "marker": {
          "color": "#FECB52",
          "size": [
           4.81
          ],
          "sizemode": "area",
          "sizeref": 0.07045,
          "symbol": "circle"
         },
         "mode": "markers",
         "name": "Paraguay",
         "orientation": "v",
         "showlegend": true,
         "type": "scatter",
         "x": [
          98
         ],
         "xaxis": "x",
         "y": [
          99
         ],
         "yaxis": "y"
        },
        {
         "hovertemplate": "Countries and areas=Peru<br>Male Literacy Rate (15-24)=%{x}<br>Female Literacy Rate (15-24)=%{y}<br>Unemployment_Rate=%{marker.size}<extra></extra>",
         "legendgroup": "Peru",
         "marker": {
          "color": "#636efa",
          "size": [
           3.31
          ],
          "sizemode": "area",
          "sizeref": 0.07045,
          "symbol": "circle"
         },
         "mode": "markers",
         "name": "Peru",
         "orientation": "v",
         "showlegend": true,
         "type": "scatter",
         "x": [
          99
         ],
         "xaxis": "x",
         "y": [
          99
         ],
         "yaxis": "y"
        },
        {
         "hovertemplate": "Countries and areas=Philippines<br>Male Literacy Rate (15-24)=%{x}<br>Female Literacy Rate (15-24)=%{y}<br>Unemployment_Rate=%{marker.size}<extra></extra>",
         "legendgroup": "Philippines",
         "marker": {
          "color": "#EF553B",
          "size": [
           2.15
          ],
          "sizemode": "area",
          "sizeref": 0.07045,
          "symbol": "circle"
         },
         "mode": "markers",
         "name": "Philippines",
         "orientation": "v",
         "showlegend": true,
         "type": "scatter",
         "x": [
          0
         ],
         "xaxis": "x",
         "y": [
          0
         ],
         "yaxis": "y"
        },
        {
         "hovertemplate": "Countries and areas=Poland<br>Male Literacy Rate (15-24)=%{x}<br>Female Literacy Rate (15-24)=%{y}<br>Unemployment_Rate=%{marker.size}<extra></extra>",
         "legendgroup": "Poland",
         "marker": {
          "color": "#00cc96",
          "size": [
           3.47
          ],
          "sizemode": "area",
          "sizeref": 0.07045,
          "symbol": "circle"
         },
         "mode": "markers",
         "name": "Poland",
         "orientation": "v",
         "showlegend": true,
         "type": "scatter",
         "x": [
          0
         ],
         "xaxis": "x",
         "y": [
          0
         ],
         "yaxis": "y"
        },
        {
         "hovertemplate": "Countries and areas=Portugal<br>Male Literacy Rate (15-24)=%{x}<br>Female Literacy Rate (15-24)=%{y}<br>Unemployment_Rate=%{marker.size}<extra></extra>",
         "legendgroup": "Portugal",
         "marker": {
          "color": "#ab63fa",
          "size": [
           6.33
          ],
          "sizemode": "area",
          "sizeref": 0.07045,
          "symbol": "circle"
         },
         "mode": "markers",
         "name": "Portugal",
         "orientation": "v",
         "showlegend": true,
         "type": "scatter",
         "x": [
          100
         ],
         "xaxis": "x",
         "y": [
          100
         ],
         "yaxis": "y"
        },
        {
         "hovertemplate": "Countries and areas=Qatar<br>Male Literacy Rate (15-24)=%{x}<br>Female Literacy Rate (15-24)=%{y}<br>Unemployment_Rate=%{marker.size}<extra></extra>",
         "legendgroup": "Qatar",
         "marker": {
          "color": "#FFA15A",
          "size": [
           0.09
          ],
          "sizemode": "area",
          "sizeref": 0.07045,
          "symbol": "circle"
         },
         "mode": "markers",
         "name": "Qatar",
         "orientation": "v",
         "showlegend": true,
         "type": "scatter",
         "x": [
          0
         ],
         "xaxis": "x",
         "y": [
          0
         ],
         "yaxis": "y"
        },
        {
         "hovertemplate": "Countries and areas=South Korea<br>Male Literacy Rate (15-24)=%{x}<br>Female Literacy Rate (15-24)=%{y}<br>Unemployment_Rate=%{marker.size}<extra></extra>",
         "legendgroup": "South Korea",
         "marker": {
          "color": "#19d3f3",
          "size": [
           4.15
          ],
          "sizemode": "area",
          "sizeref": 0.07045,
          "symbol": "circle"
         },
         "mode": "markers",
         "name": "South Korea",
         "orientation": "v",
         "showlegend": true,
         "type": "scatter",
         "x": [
          0
         ],
         "xaxis": "x",
         "y": [
          0
         ],
         "yaxis": "y"
        },
        {
         "hovertemplate": "Countries and areas=Moldova<br>Male Literacy Rate (15-24)=%{x}<br>Female Literacy Rate (15-24)=%{y}<br>Unemployment_Rate=%{marker.size}<extra></extra>",
         "legendgroup": "Moldova",
         "marker": {
          "color": "#FF6692",
          "size": [
           5.47
          ],
          "sizemode": "area",
          "sizeref": 0.07045,
          "symbol": "circle"
         },
         "mode": "markers",
         "name": "Moldova",
         "orientation": "v",
         "showlegend": true,
         "type": "scatter",
         "x": [
          0
         ],
         "xaxis": "x",
         "y": [
          0
         ],
         "yaxis": "y"
        },
        {
         "hovertemplate": "Countries and areas=Romania<br>Male Literacy Rate (15-24)=%{x}<br>Female Literacy Rate (15-24)=%{y}<br>Unemployment_Rate=%{marker.size}<extra></extra>",
         "legendgroup": "Romania",
         "marker": {
          "color": "#B6E880",
          "size": [
           3.98
          ],
          "sizemode": "area",
          "sizeref": 0.07045,
          "symbol": "circle"
         },
         "mode": "markers",
         "name": "Romania",
         "orientation": "v",
         "showlegend": true,
         "type": "scatter",
         "x": [
          99
         ],
         "xaxis": "x",
         "y": [
          99
         ],
         "yaxis": "y"
        },
        {
         "hovertemplate": "Countries and areas=Russia<br>Male Literacy Rate (15-24)=%{x}<br>Female Literacy Rate (15-24)=%{y}<br>Unemployment_Rate=%{marker.size}<extra></extra>",
         "legendgroup": "Russia",
         "marker": {
          "color": "#FF97FF",
          "size": [
           4.59
          ],
          "sizemode": "area",
          "sizeref": 0.07045,
          "symbol": "circle"
         },
         "mode": "markers",
         "name": "Russia",
         "orientation": "v",
         "showlegend": true,
         "type": "scatter",
         "x": [
          100
         ],
         "xaxis": "x",
         "y": [
          100
         ],
         "yaxis": "y"
        },
        {
         "hovertemplate": "Countries and areas=Rwanda<br>Male Literacy Rate (15-24)=%{x}<br>Female Literacy Rate (15-24)=%{y}<br>Unemployment_Rate=%{marker.size}<extra></extra>",
         "legendgroup": "Rwanda",
         "marker": {
          "color": "#FECB52",
          "size": [
           1.03
          ],
          "sizemode": "area",
          "sizeref": 0.07045,
          "symbol": "circle"
         },
         "mode": "markers",
         "name": "Rwanda",
         "orientation": "v",
         "showlegend": true,
         "type": "scatter",
         "x": [
          84
         ],
         "xaxis": "x",
         "y": [
          89
         ],
         "yaxis": "y"
        },
        {
         "hovertemplate": "Countries and areas=Saint Kitts and Nevis<br>Male Literacy Rate (15-24)=%{x}<br>Female Literacy Rate (15-24)=%{y}<br>Unemployment_Rate=%{marker.size}<extra></extra>",
         "legendgroup": "Saint Kitts and Nevis",
         "marker": {
          "color": "#636efa",
          "size": [
           0
          ],
          "sizemode": "area",
          "sizeref": 0.07045,
          "symbol": "circle"
         },
         "mode": "markers",
         "name": "Saint Kitts and Nevis",
         "orientation": "v",
         "showlegend": true,
         "type": "scatter",
         "x": [
          0
         ],
         "xaxis": "x",
         "y": [
          0
         ],
         "yaxis": "y"
        },
        {
         "hovertemplate": "Countries and areas=Saint Lucia<br>Male Literacy Rate (15-24)=%{x}<br>Female Literacy Rate (15-24)=%{y}<br>Unemployment_Rate=%{marker.size}<extra></extra>",
         "legendgroup": "Saint Lucia",
         "marker": {
          "color": "#EF553B",
          "size": [
           20.71
          ],
          "sizemode": "area",
          "sizeref": 0.07045,
          "symbol": "circle"
         },
         "mode": "markers",
         "name": "Saint Lucia",
         "orientation": "v",
         "showlegend": true,
         "type": "scatter",
         "x": [
          0
         ],
         "xaxis": "x",
         "y": [
          0
         ],
         "yaxis": "y"
        },
        {
         "hovertemplate": "Countries and areas=Saint Vincent and the Grenadines<br>Male Literacy Rate (15-24)=%{x}<br>Female Literacy Rate (15-24)=%{y}<br>Unemployment_Rate=%{marker.size}<extra></extra>",
         "legendgroup": "Saint Vincent and the Grenadines",
         "marker": {
          "color": "#00cc96",
          "size": [
           18.88
          ],
          "sizemode": "area",
          "sizeref": 0.07045,
          "symbol": "circle"
         },
         "mode": "markers",
         "name": "Saint Vincent and the Grenadines",
         "orientation": "v",
         "showlegend": true,
         "type": "scatter",
         "x": [
          0
         ],
         "xaxis": "x",
         "y": [
          0
         ],
         "yaxis": "y"
        },
        {
         "hovertemplate": "Countries and areas=Samoa<br>Male Literacy Rate (15-24)=%{x}<br>Female Literacy Rate (15-24)=%{y}<br>Unemployment_Rate=%{marker.size}<extra></extra>",
         "legendgroup": "Samoa",
         "marker": {
          "color": "#ab63fa",
          "size": [
           8.36
          ],
          "sizemode": "area",
          "sizeref": 0.07045,
          "symbol": "circle"
         },
         "mode": "markers",
         "name": "Samoa",
         "orientation": "v",
         "showlegend": true,
         "type": "scatter",
         "x": [
          99
         ],
         "xaxis": "x",
         "y": [
          99
         ],
         "yaxis": "y"
        },
        {
         "hovertemplate": "Countries and areas=San Marino<br>Male Literacy Rate (15-24)=%{x}<br>Female Literacy Rate (15-24)=%{y}<br>Unemployment_Rate=%{marker.size}<extra></extra>",
         "legendgroup": "San Marino",
         "marker": {
          "color": "#FFA15A",
          "size": [
           0
          ],
          "sizemode": "area",
          "sizeref": 0.07045,
          "symbol": "circle"
         },
         "mode": "markers",
         "name": "San Marino",
         "orientation": "v",
         "showlegend": true,
         "type": "scatter",
         "x": [
          100
         ],
         "xaxis": "x",
         "y": [
          100
         ],
         "yaxis": "y"
        },
        {
         "hovertemplate": "Countries and areas=Sï¿½ï¿½ï¿½ï¿½ï¿½ï¿½ï¿½ï¿<br>Male Literacy Rate (15-24)=%{x}<br>Female Literacy Rate (15-24)=%{y}<br>Unemployment_Rate=%{marker.size}<extra></extra>",
         "legendgroup": "Sï¿½ï¿½ï¿½ï¿½ï¿½ï¿½ï¿½ï¿",
         "marker": {
          "color": "#19d3f3",
          "size": [
           13.37
          ],
          "sizemode": "area",
          "sizeref": 0.07045,
          "symbol": "circle"
         },
         "mode": "markers",
         "name": "Sï¿½ï¿½ï¿½ï¿½ï¿½ï¿½ï¿½ï¿",
         "orientation": "v",
         "showlegend": true,
         "type": "scatter",
         "x": [
          98
         ],
         "xaxis": "x",
         "y": [
          98
         ],
         "yaxis": "y"
        },
        {
         "hovertemplate": "Countries and areas=Saudi Arabia<br>Male Literacy Rate (15-24)=%{x}<br>Female Literacy Rate (15-24)=%{y}<br>Unemployment_Rate=%{marker.size}<extra></extra>",
         "legendgroup": "Saudi Arabia",
         "marker": {
          "color": "#FF6692",
          "size": [
           5.93
          ],
          "sizemode": "area",
          "sizeref": 0.07045,
          "symbol": "circle"
         },
         "mode": "markers",
         "name": "Saudi Arabia",
         "orientation": "v",
         "showlegend": true,
         "type": "scatter",
         "x": [
          0
         ],
         "xaxis": "x",
         "y": [
          0
         ],
         "yaxis": "y"
        },
        {
         "hovertemplate": "Countries and areas=Senegal<br>Male Literacy Rate (15-24)=%{x}<br>Female Literacy Rate (15-24)=%{y}<br>Unemployment_Rate=%{marker.size}<extra></extra>",
         "legendgroup": "Senegal",
         "marker": {
          "color": "#B6E880",
          "size": [
           6.6
          ],
          "sizemode": "area",
          "sizeref": 0.07045,
          "symbol": "circle"
         },
         "mode": "markers",
         "name": "Senegal",
         "orientation": "v",
         "showlegend": true,
         "type": "scatter",
         "x": [
          0
         ],
         "xaxis": "x",
         "y": [
          0
         ],
         "yaxis": "y"
        },
        {
         "hovertemplate": "Countries and areas=Serbia<br>Male Literacy Rate (15-24)=%{x}<br>Female Literacy Rate (15-24)=%{y}<br>Unemployment_Rate=%{marker.size}<extra></extra>",
         "legendgroup": "Serbia",
         "marker": {
          "color": "#FF97FF",
          "size": [
           12.69
          ],
          "sizemode": "area",
          "sizeref": 0.07045,
          "symbol": "circle"
         },
         "mode": "markers",
         "name": "Serbia",
         "orientation": "v",
         "showlegend": true,
         "type": "scatter",
         "x": [
          0
         ],
         "xaxis": "x",
         "y": [
          0
         ],
         "yaxis": "y"
        },
        {
         "hovertemplate": "Countries and areas=Seychelles<br>Male Literacy Rate (15-24)=%{x}<br>Female Literacy Rate (15-24)=%{y}<br>Unemployment_Rate=%{marker.size}<extra></extra>",
         "legendgroup": "Seychelles",
         "marker": {
          "color": "#FECB52",
          "size": [
           0
          ],
          "sizemode": "area",
          "sizeref": 0.07045,
          "symbol": "circle"
         },
         "mode": "markers",
         "name": "Seychelles",
         "orientation": "v",
         "showlegend": true,
         "type": "scatter",
         "x": [
          99
         ],
         "xaxis": "x",
         "y": [
          100
         ],
         "yaxis": "y"
        },
        {
         "hovertemplate": "Countries and areas=Sierra Leone<br>Male Literacy Rate (15-24)=%{x}<br>Female Literacy Rate (15-24)=%{y}<br>Unemployment_Rate=%{marker.size}<extra></extra>",
         "legendgroup": "Sierra Leone",
         "marker": {
          "color": "#636efa",
          "size": [
           4.43
          ],
          "sizemode": "area",
          "sizeref": 0.07045,
          "symbol": "circle"
         },
         "mode": "markers",
         "name": "Sierra Leone",
         "orientation": "v",
         "showlegend": true,
         "type": "scatter",
         "x": [
          71
         ],
         "xaxis": "x",
         "y": [
          63
         ],
         "yaxis": "y"
        },
        {
         "hovertemplate": "Countries and areas=Singapore<br>Male Literacy Rate (15-24)=%{x}<br>Female Literacy Rate (15-24)=%{y}<br>Unemployment_Rate=%{marker.size}<extra></extra>",
         "legendgroup": "Singapore",
         "marker": {
          "color": "#EF553B",
          "size": [
           4.11
          ],
          "sizemode": "area",
          "sizeref": 0.07045,
          "symbol": "circle"
         },
         "mode": "markers",
         "name": "Singapore",
         "orientation": "v",
         "showlegend": true,
         "type": "scatter",
         "x": [
          100
         ],
         "xaxis": "x",
         "y": [
          100
         ],
         "yaxis": "y"
        },
        {
         "hovertemplate": "Countries and areas=Slovakia<br>Male Literacy Rate (15-24)=%{x}<br>Female Literacy Rate (15-24)=%{y}<br>Unemployment_Rate=%{marker.size}<extra></extra>",
         "legendgroup": "Slovakia",
         "marker": {
          "color": "#00cc96",
          "size": [
           5.56
          ],
          "sizemode": "area",
          "sizeref": 0.07045,
          "symbol": "circle"
         },
         "mode": "markers",
         "name": "Slovakia",
         "orientation": "v",
         "showlegend": true,
         "type": "scatter",
         "x": [
          0
         ],
         "xaxis": "x",
         "y": [
          0
         ],
         "yaxis": "y"
        },
        {
         "hovertemplate": "Countries and areas=Slovenia<br>Male Literacy Rate (15-24)=%{x}<br>Female Literacy Rate (15-24)=%{y}<br>Unemployment_Rate=%{marker.size}<extra></extra>",
         "legendgroup": "Slovenia",
         "marker": {
          "color": "#ab63fa",
          "size": [
           4.2
          ],
          "sizemode": "area",
          "sizeref": 0.07045,
          "symbol": "circle"
         },
         "mode": "markers",
         "name": "Slovenia",
         "orientation": "v",
         "showlegend": true,
         "type": "scatter",
         "x": [
          0
         ],
         "xaxis": "x",
         "y": [
          0
         ],
         "yaxis": "y"
        },
        {
         "hovertemplate": "Countries and areas=Solomon Islands<br>Male Literacy Rate (15-24)=%{x}<br>Female Literacy Rate (15-24)=%{y}<br>Unemployment_Rate=%{marker.size}<extra></extra>",
         "legendgroup": "Solomon Islands",
         "marker": {
          "color": "#FFA15A",
          "size": [
           0.58
          ],
          "sizemode": "area",
          "sizeref": 0.07045,
          "symbol": "circle"
         },
         "mode": "markers",
         "name": "Solomon Islands",
         "orientation": "v",
         "showlegend": true,
         "type": "scatter",
         "x": [
          0
         ],
         "xaxis": "x",
         "y": [
          0
         ],
         "yaxis": "y"
        },
        {
         "hovertemplate": "Countries and areas=Somalia<br>Male Literacy Rate (15-24)=%{x}<br>Female Literacy Rate (15-24)=%{y}<br>Unemployment_Rate=%{marker.size}<extra></extra>",
         "legendgroup": "Somalia",
         "marker": {
          "color": "#19d3f3",
          "size": [
           11.35
          ],
          "sizemode": "area",
          "sizeref": 0.07045,
          "symbol": "circle"
         },
         "mode": "markers",
         "name": "Somalia",
         "orientation": "v",
         "showlegend": true,
         "type": "scatter",
         "x": [
          0
         ],
         "xaxis": "x",
         "y": [
          0
         ],
         "yaxis": "y"
        },
        {
         "hovertemplate": "Countries and areas=South Africa<br>Male Literacy Rate (15-24)=%{x}<br>Female Literacy Rate (15-24)=%{y}<br>Unemployment_Rate=%{marker.size}<extra></extra>",
         "legendgroup": "South Africa",
         "marker": {
          "color": "#FF6692",
          "size": [
           28.18
          ],
          "sizemode": "area",
          "sizeref": 0.07045,
          "symbol": "circle"
         },
         "mode": "markers",
         "name": "South Africa",
         "orientation": "v",
         "showlegend": true,
         "type": "scatter",
         "x": [
          0
         ],
         "xaxis": "x",
         "y": [
          0
         ],
         "yaxis": "y"
        },
        {
         "hovertemplate": "Countries and areas=South Sudan<br>Male Literacy Rate (15-24)=%{x}<br>Female Literacy Rate (15-24)=%{y}<br>Unemployment_Rate=%{marker.size}<extra></extra>",
         "legendgroup": "South Sudan",
         "marker": {
          "color": "#B6E880",
          "size": [
           12.24
          ],
          "sizemode": "area",
          "sizeref": 0.07045,
          "symbol": "circle"
         },
         "mode": "markers",
         "name": "South Sudan",
         "orientation": "v",
         "showlegend": true,
         "type": "scatter",
         "x": [
          48
         ],
         "xaxis": "x",
         "y": [
          47
         ],
         "yaxis": "y"
        },
        {
         "hovertemplate": "Countries and areas=Spain<br>Male Literacy Rate (15-24)=%{x}<br>Female Literacy Rate (15-24)=%{y}<br>Unemployment_Rate=%{marker.size}<extra></extra>",
         "legendgroup": "Spain",
         "marker": {
          "color": "#FF97FF",
          "size": [
           13.96
          ],
          "sizemode": "area",
          "sizeref": 0.07045,
          "symbol": "circle"
         },
         "mode": "markers",
         "name": "Spain",
         "orientation": "v",
         "showlegend": true,
         "type": "scatter",
         "x": [
          100
         ],
         "xaxis": "x",
         "y": [
          100
         ],
         "yaxis": "y"
        },
        {
         "hovertemplate": "Countries and areas=Sri Lanka<br>Male Literacy Rate (15-24)=%{x}<br>Female Literacy Rate (15-24)=%{y}<br>Unemployment_Rate=%{marker.size}<extra></extra>",
         "legendgroup": "Sri Lanka",
         "marker": {
          "color": "#FECB52",
          "size": [
           4.2
          ],
          "sizemode": "area",
          "sizeref": 0.07045,
          "symbol": "circle"
         },
         "mode": "markers",
         "name": "Sri Lanka",
         "orientation": "v",
         "showlegend": true,
         "type": "scatter",
         "x": [
          99
         ],
         "xaxis": "x",
         "y": [
          99
         ],
         "yaxis": "y"
        },
        {
         "hovertemplate": "Countries and areas=Palestinian National Authority<br>Male Literacy Rate (15-24)=%{x}<br>Female Literacy Rate (15-24)=%{y}<br>Unemployment_Rate=%{marker.size}<extra></extra>",
         "legendgroup": "Palestinian National Authority",
         "marker": {
          "color": "#636efa",
          "size": [
           0
          ],
          "sizemode": "area",
          "sizeref": 0.07045,
          "symbol": "circle"
         },
         "mode": "markers",
         "name": "Palestinian National Authority",
         "orientation": "v",
         "showlegend": true,
         "type": "scatter",
         "x": [
          99
         ],
         "xaxis": "x",
         "y": [
          99
         ],
         "yaxis": "y"
        },
        {
         "hovertemplate": "Countries and areas=Sudan<br>Male Literacy Rate (15-24)=%{x}<br>Female Literacy Rate (15-24)=%{y}<br>Unemployment_Rate=%{marker.size}<extra></extra>",
         "legendgroup": "Sudan",
         "marker": {
          "color": "#EF553B",
          "size": [
           16.53
          ],
          "sizemode": "area",
          "sizeref": 0.07045,
          "symbol": "circle"
         },
         "mode": "markers",
         "name": "Sudan",
         "orientation": "v",
         "showlegend": true,
         "type": "scatter",
         "x": [
          73
         ],
         "xaxis": "x",
         "y": [
          73
         ],
         "yaxis": "y"
        },
        {
         "hovertemplate": "Countries and areas=Suriname<br>Male Literacy Rate (15-24)=%{x}<br>Female Literacy Rate (15-24)=%{y}<br>Unemployment_Rate=%{marker.size}<extra></extra>",
         "legendgroup": "Suriname",
         "marker": {
          "color": "#00cc96",
          "size": [
           7.33
          ],
          "sizemode": "area",
          "sizeref": 0.07045,
          "symbol": "circle"
         },
         "mode": "markers",
         "name": "Suriname",
         "orientation": "v",
         "showlegend": true,
         "type": "scatter",
         "x": [
          99
         ],
         "xaxis": "x",
         "y": [
          98
         ],
         "yaxis": "y"
        },
        {
         "hovertemplate": "Countries and areas=Sweden<br>Male Literacy Rate (15-24)=%{x}<br>Female Literacy Rate (15-24)=%{y}<br>Unemployment_Rate=%{marker.size}<extra></extra>",
         "legendgroup": "Sweden",
         "marker": {
          "color": "#ab63fa",
          "size": [
           6.48
          ],
          "sizemode": "area",
          "sizeref": 0.07045,
          "symbol": "circle"
         },
         "mode": "markers",
         "name": "Sweden",
         "orientation": "v",
         "showlegend": true,
         "type": "scatter",
         "x": [
          0
         ],
         "xaxis": "x",
         "y": [
          0
         ],
         "yaxis": "y"
        },
        {
         "hovertemplate": "Countries and areas=Switzerland<br>Male Literacy Rate (15-24)=%{x}<br>Female Literacy Rate (15-24)=%{y}<br>Unemployment_Rate=%{marker.size}<extra></extra>",
         "legendgroup": "Switzerland",
         "marker": {
          "color": "#FFA15A",
          "size": [
           4.58
          ],
          "sizemode": "area",
          "sizeref": 0.07045,
          "symbol": "circle"
         },
         "mode": "markers",
         "name": "Switzerland",
         "orientation": "v",
         "showlegend": true,
         "type": "scatter",
         "x": [
          0
         ],
         "xaxis": "x",
         "y": [
          0
         ],
         "yaxis": "y"
        },
        {
         "hovertemplate": "Countries and areas=Syria<br>Male Literacy Rate (15-24)=%{x}<br>Female Literacy Rate (15-24)=%{y}<br>Unemployment_Rate=%{marker.size}<extra></extra>",
         "legendgroup": "Syria",
         "marker": {
          "color": "#19d3f3",
          "size": [
           8.37
          ],
          "sizemode": "area",
          "sizeref": 0.07045,
          "symbol": "circle"
         },
         "mode": "markers",
         "name": "Syria",
         "orientation": "v",
         "showlegend": true,
         "type": "scatter",
         "x": [
          0
         ],
         "xaxis": "x",
         "y": [
          0
         ],
         "yaxis": "y"
        },
        {
         "hovertemplate": "Countries and areas=Tajikistan<br>Male Literacy Rate (15-24)=%{x}<br>Female Literacy Rate (15-24)=%{y}<br>Unemployment_Rate=%{marker.size}<extra></extra>",
         "legendgroup": "Tajikistan",
         "marker": {
          "color": "#FF6692",
          "size": [
           11.02
          ],
          "sizemode": "area",
          "sizeref": 0.07045,
          "symbol": "circle"
         },
         "mode": "markers",
         "name": "Tajikistan",
         "orientation": "v",
         "showlegend": true,
         "type": "scatter",
         "x": [
          0
         ],
         "xaxis": "x",
         "y": [
          0
         ],
         "yaxis": "y"
        },
        {
         "hovertemplate": "Countries and areas=Thailand<br>Male Literacy Rate (15-24)=%{x}<br>Female Literacy Rate (15-24)=%{y}<br>Unemployment_Rate=%{marker.size}<extra></extra>",
         "legendgroup": "Thailand",
         "marker": {
          "color": "#B6E880",
          "size": [
           0.75
          ],
          "sizemode": "area",
          "sizeref": 0.07045,
          "symbol": "circle"
         },
         "mode": "markers",
         "name": "Thailand",
         "orientation": "v",
         "showlegend": true,
         "type": "scatter",
         "x": [
          98
         ],
         "xaxis": "x",
         "y": [
          99
         ],
         "yaxis": "y"
        },
        {
         "hovertemplate": "Countries and areas=East Timor<br>Male Literacy Rate (15-24)=%{x}<br>Female Literacy Rate (15-24)=%{y}<br>Unemployment_Rate=%{marker.size}<extra></extra>",
         "legendgroup": "East Timor",
         "marker": {
          "color": "#FF97FF",
          "size": [
           4.55
          ],
          "sizemode": "area",
          "sizeref": 0.07045,
          "symbol": "circle"
         },
         "mode": "markers",
         "name": "East Timor",
         "orientation": "v",
         "showlegend": true,
         "type": "scatter",
         "x": [
          82
         ],
         "xaxis": "x",
         "y": [
          85
         ],
         "yaxis": "y"
        },
        {
         "hovertemplate": "Countries and areas=Togo<br>Male Literacy Rate (15-24)=%{x}<br>Female Literacy Rate (15-24)=%{y}<br>Unemployment_Rate=%{marker.size}<extra></extra>",
         "legendgroup": "Togo",
         "marker": {
          "color": "#FECB52",
          "size": [
           2.04
          ],
          "sizemode": "area",
          "sizeref": 0.07045,
          "symbol": "circle"
         },
         "mode": "markers",
         "name": "Togo",
         "orientation": "v",
         "showlegend": true,
         "type": "scatter",
         "x": [
          0
         ],
         "xaxis": "x",
         "y": [
          0
         ],
         "yaxis": "y"
        },
        {
         "hovertemplate": "Countries and areas=Tokelau<br>Male Literacy Rate (15-24)=%{x}<br>Female Literacy Rate (15-24)=%{y}<br>Unemployment_Rate=%{marker.size}<extra></extra>",
         "legendgroup": "Tokelau",
         "marker": {
          "color": "#636efa",
          "size": [
           0
          ],
          "sizemode": "area",
          "sizeref": 0.07045,
          "symbol": "circle"
         },
         "mode": "markers",
         "name": "Tokelau",
         "orientation": "v",
         "showlegend": true,
         "type": "scatter",
         "x": [
          0
         ],
         "xaxis": "x",
         "y": [
          0
         ],
         "yaxis": "y"
        },
        {
         "hovertemplate": "Countries and areas=Tonga<br>Male Literacy Rate (15-24)=%{x}<br>Female Literacy Rate (15-24)=%{y}<br>Unemployment_Rate=%{marker.size}<extra></extra>",
         "legendgroup": "Tonga",
         "marker": {
          "color": "#EF553B",
          "size": [
           1.12
          ],
          "sizemode": "area",
          "sizeref": 0.07045,
          "symbol": "circle"
         },
         "mode": "markers",
         "name": "Tonga",
         "orientation": "v",
         "showlegend": true,
         "type": "scatter",
         "x": [
          99
         ],
         "xaxis": "x",
         "y": [
          100
         ],
         "yaxis": "y"
        },
        {
         "hovertemplate": "Countries and areas=Trinidad and Tobago<br>Male Literacy Rate (15-24)=%{x}<br>Female Literacy Rate (15-24)=%{y}<br>Unemployment_Rate=%{marker.size}<extra></extra>",
         "legendgroup": "Trinidad and Tobago",
         "marker": {
          "color": "#00cc96",
          "size": [
           2.69
          ],
          "sizemode": "area",
          "sizeref": 0.07045,
          "symbol": "circle"
         },
         "mode": "markers",
         "name": "Trinidad and Tobago",
         "orientation": "v",
         "showlegend": true,
         "type": "scatter",
         "x": [
          0
         ],
         "xaxis": "x",
         "y": [
          0
         ],
         "yaxis": "y"
        },
        {
         "hovertemplate": "Countries and areas=Tunisia<br>Male Literacy Rate (15-24)=%{x}<br>Female Literacy Rate (15-24)=%{y}<br>Unemployment_Rate=%{marker.size}<extra></extra>",
         "legendgroup": "Tunisia",
         "marker": {
          "color": "#ab63fa",
          "size": [
           16.02
          ],
          "sizemode": "area",
          "sizeref": 0.07045,
          "symbol": "circle"
         },
         "mode": "markers",
         "name": "Tunisia",
         "orientation": "v",
         "showlegend": true,
         "type": "scatter",
         "x": [
          0
         ],
         "xaxis": "x",
         "y": [
          0
         ],
         "yaxis": "y"
        },
        {
         "hovertemplate": "Countries and areas=Turkey<br>Male Literacy Rate (15-24)=%{x}<br>Female Literacy Rate (15-24)=%{y}<br>Unemployment_Rate=%{marker.size}<extra></extra>",
         "legendgroup": "Turkey",
         "marker": {
          "color": "#FFA15A",
          "size": [
           13.49
          ],
          "sizemode": "area",
          "sizeref": 0.07045,
          "symbol": "circle"
         },
         "mode": "markers",
         "name": "Turkey",
         "orientation": "v",
         "showlegend": true,
         "type": "scatter",
         "x": [
          0
         ],
         "xaxis": "x",
         "y": [
          0
         ],
         "yaxis": "y"
        },
        {
         "hovertemplate": "Countries and areas=Turkmenistan<br>Male Literacy Rate (15-24)=%{x}<br>Female Literacy Rate (15-24)=%{y}<br>Unemployment_Rate=%{marker.size}<extra></extra>",
         "legendgroup": "Turkmenistan",
         "marker": {
          "color": "#19d3f3",
          "size": [
           3.91
          ],
          "sizemode": "area",
          "sizeref": 0.07045,
          "symbol": "circle"
         },
         "mode": "markers",
         "name": "Turkmenistan",
         "orientation": "v",
         "showlegend": true,
         "type": "scatter",
         "x": [
          0
         ],
         "xaxis": "x",
         "y": [
          0
         ],
         "yaxis": "y"
        },
        {
         "hovertemplate": "Countries and areas=Turks and Caicos Islands<br>Male Literacy Rate (15-24)=%{x}<br>Female Literacy Rate (15-24)=%{y}<br>Unemployment_Rate=%{marker.size}<extra></extra>",
         "legendgroup": "Turks and Caicos Islands",
         "marker": {
          "color": "#FF6692",
          "size": [
           0
          ],
          "sizemode": "area",
          "sizeref": 0.07045,
          "symbol": "circle"
         },
         "mode": "markers",
         "name": "Turks and Caicos Islands",
         "orientation": "v",
         "showlegend": true,
         "type": "scatter",
         "x": [
          0
         ],
         "xaxis": "x",
         "y": [
          0
         ],
         "yaxis": "y"
        },
        {
         "hovertemplate": "Countries and areas=Tuvalu<br>Male Literacy Rate (15-24)=%{x}<br>Female Literacy Rate (15-24)=%{y}<br>Unemployment_Rate=%{marker.size}<extra></extra>",
         "legendgroup": "Tuvalu",
         "marker": {
          "color": "#B6E880",
          "size": [
           0
          ],
          "sizemode": "area",
          "sizeref": 0.07045,
          "symbol": "circle"
         },
         "mode": "markers",
         "name": "Tuvalu",
         "orientation": "v",
         "showlegend": true,
         "type": "scatter",
         "x": [
          0
         ],
         "xaxis": "x",
         "y": [
          0
         ],
         "yaxis": "y"
        },
        {
         "hovertemplate": "Countries and areas=Uganda<br>Male Literacy Rate (15-24)=%{x}<br>Female Literacy Rate (15-24)=%{y}<br>Unemployment_Rate=%{marker.size}<extra></extra>",
         "legendgroup": "Uganda",
         "marker": {
          "color": "#FF97FF",
          "size": [
           1.84
          ],
          "sizemode": "area",
          "sizeref": 0.07045,
          "symbol": "circle"
         },
         "mode": "markers",
         "name": "Uganda",
         "orientation": "v",
         "showlegend": true,
         "type": "scatter",
         "x": [
          89
         ],
         "xaxis": "x",
         "y": [
          90
         ],
         "yaxis": "y"
        },
        {
         "hovertemplate": "Countries and areas=Ukraine<br>Male Literacy Rate (15-24)=%{x}<br>Female Literacy Rate (15-24)=%{y}<br>Unemployment_Rate=%{marker.size}<extra></extra>",
         "legendgroup": "Ukraine",
         "marker": {
          "color": "#FECB52",
          "size": [
           8.88
          ],
          "sizemode": "area",
          "sizeref": 0.07045,
          "symbol": "circle"
         },
         "mode": "markers",
         "name": "Ukraine",
         "orientation": "v",
         "showlegend": true,
         "type": "scatter",
         "x": [
          0
         ],
         "xaxis": "x",
         "y": [
          0
         ],
         "yaxis": "y"
        },
        {
         "hovertemplate": "Countries and areas=United Arab Emirates<br>Male Literacy Rate (15-24)=%{x}<br>Female Literacy Rate (15-24)=%{y}<br>Unemployment_Rate=%{marker.size}<extra></extra>",
         "legendgroup": "United Arab Emirates",
         "marker": {
          "color": "#636efa",
          "size": [
           2.35
          ],
          "sizemode": "area",
          "sizeref": 0.07045,
          "symbol": "circle"
         },
         "mode": "markers",
         "name": "United Arab Emirates",
         "orientation": "v",
         "showlegend": true,
         "type": "scatter",
         "x": [
          0
         ],
         "xaxis": "x",
         "y": [
          0
         ],
         "yaxis": "y"
        },
        {
         "hovertemplate": "Countries and areas=United Kingdom<br>Male Literacy Rate (15-24)=%{x}<br>Female Literacy Rate (15-24)=%{y}<br>Unemployment_Rate=%{marker.size}<extra></extra>",
         "legendgroup": "United Kingdom",
         "marker": {
          "color": "#EF553B",
          "size": [
           3.85
          ],
          "sizemode": "area",
          "sizeref": 0.07045,
          "symbol": "circle"
         },
         "mode": "markers",
         "name": "United Kingdom",
         "orientation": "v",
         "showlegend": true,
         "type": "scatter",
         "x": [
          0
         ],
         "xaxis": "x",
         "y": [
          0
         ],
         "yaxis": "y"
        },
        {
         "hovertemplate": "Countries and areas=Tanzania<br>Male Literacy Rate (15-24)=%{x}<br>Female Literacy Rate (15-24)=%{y}<br>Unemployment_Rate=%{marker.size}<extra></extra>",
         "legendgroup": "Tanzania",
         "marker": {
          "color": "#00cc96",
          "size": [
           1.98
          ],
          "sizemode": "area",
          "sizeref": 0.07045,
          "symbol": "circle"
         },
         "mode": "markers",
         "name": "Tanzania",
         "orientation": "v",
         "showlegend": true,
         "type": "scatter",
         "x": [
          0
         ],
         "xaxis": "x",
         "y": [
          0
         ],
         "yaxis": "y"
        },
        {
         "hovertemplate": "Countries and areas=United States<br>Male Literacy Rate (15-24)=%{x}<br>Female Literacy Rate (15-24)=%{y}<br>Unemployment_Rate=%{marker.size}<extra></extra>",
         "legendgroup": "United States",
         "marker": {
          "color": "#ab63fa",
          "size": [
           14.7
          ],
          "sizemode": "area",
          "sizeref": 0.07045,
          "symbol": "circle"
         },
         "mode": "markers",
         "name": "United States",
         "orientation": "v",
         "showlegend": true,
         "type": "scatter",
         "x": [
          0
         ],
         "xaxis": "x",
         "y": [
          0
         ],
         "yaxis": "y"
        },
        {
         "hovertemplate": "Countries and areas=Uruguay<br>Male Literacy Rate (15-24)=%{x}<br>Female Literacy Rate (15-24)=%{y}<br>Unemployment_Rate=%{marker.size}<extra></extra>",
         "legendgroup": "Uruguay",
         "marker": {
          "color": "#FFA15A",
          "size": [
           8.73
          ],
          "sizemode": "area",
          "sizeref": 0.07045,
          "symbol": "circle"
         },
         "mode": "markers",
         "name": "Uruguay",
         "orientation": "v",
         "showlegend": true,
         "type": "scatter",
         "x": [
          99
         ],
         "xaxis": "x",
         "y": [
          99
         ],
         "yaxis": "y"
        },
        {
         "hovertemplate": "Countries and areas=Uzbekistan<br>Male Literacy Rate (15-24)=%{x}<br>Female Literacy Rate (15-24)=%{y}<br>Unemployment_Rate=%{marker.size}<extra></extra>",
         "legendgroup": "Uzbekistan",
         "marker": {
          "color": "#19d3f3",
          "size": [
           5.92
          ],
          "sizemode": "area",
          "sizeref": 0.07045,
          "symbol": "circle"
         },
         "mode": "markers",
         "name": "Uzbekistan",
         "orientation": "v",
         "showlegend": true,
         "type": "scatter",
         "x": [
          100
         ],
         "xaxis": "x",
         "y": [
          100
         ],
         "yaxis": "y"
        },
        {
         "hovertemplate": "Countries and areas=Vanuatu<br>Male Literacy Rate (15-24)=%{x}<br>Female Literacy Rate (15-24)=%{y}<br>Unemployment_Rate=%{marker.size}<extra></extra>",
         "legendgroup": "Vanuatu",
         "marker": {
          "color": "#FF6692",
          "size": [
           4.39
          ],
          "sizemode": "area",
          "sizeref": 0.07045,
          "symbol": "circle"
         },
         "mode": "markers",
         "name": "Vanuatu",
         "orientation": "v",
         "showlegend": true,
         "type": "scatter",
         "x": [
          96
         ],
         "xaxis": "x",
         "y": [
          97
         ],
         "yaxis": "y"
        },
        {
         "hovertemplate": "Countries and areas=Venezuela<br>Male Literacy Rate (15-24)=%{x}<br>Female Literacy Rate (15-24)=%{y}<br>Unemployment_Rate=%{marker.size}<extra></extra>",
         "legendgroup": "Venezuela",
         "marker": {
          "color": "#B6E880",
          "size": [
           8.8
          ],
          "sizemode": "area",
          "sizeref": 0.07045,
          "symbol": "circle"
         },
         "mode": "markers",
         "name": "Venezuela",
         "orientation": "v",
         "showlegend": true,
         "type": "scatter",
         "x": [
          0
         ],
         "xaxis": "x",
         "y": [
          0
         ],
         "yaxis": "y"
        },
        {
         "hovertemplate": "Countries and areas=Vietnam<br>Male Literacy Rate (15-24)=%{x}<br>Female Literacy Rate (15-24)=%{y}<br>Unemployment_Rate=%{marker.size}<extra></extra>",
         "legendgroup": "Vietnam",
         "marker": {
          "color": "#FF97FF",
          "size": [
           2.01
          ],
          "sizemode": "area",
          "sizeref": 0.07045,
          "symbol": "circle"
         },
         "mode": "markers",
         "name": "Vietnam",
         "orientation": "v",
         "showlegend": true,
         "type": "scatter",
         "x": [
          98
         ],
         "xaxis": "x",
         "y": [
          98
         ],
         "yaxis": "y"
        },
        {
         "hovertemplate": "Countries and areas=Yemen<br>Male Literacy Rate (15-24)=%{x}<br>Female Literacy Rate (15-24)=%{y}<br>Unemployment_Rate=%{marker.size}<extra></extra>",
         "legendgroup": "Yemen",
         "marker": {
          "color": "#FECB52",
          "size": [
           12.91
          ],
          "sizemode": "area",
          "sizeref": 0.07045,
          "symbol": "circle"
         },
         "mode": "markers",
         "name": "Yemen",
         "orientation": "v",
         "showlegend": true,
         "type": "scatter",
         "x": [
          0
         ],
         "xaxis": "x",
         "y": [
          0
         ],
         "yaxis": "y"
        },
        {
         "hovertemplate": "Countries and areas=Zambia<br>Male Literacy Rate (15-24)=%{x}<br>Female Literacy Rate (15-24)=%{y}<br>Unemployment_Rate=%{marker.size}<extra></extra>",
         "legendgroup": "Zambia",
         "marker": {
          "color": "#636efa",
          "size": [
           11.43
          ],
          "sizemode": "area",
          "sizeref": 0.07045,
          "symbol": "circle"
         },
         "mode": "markers",
         "name": "Zambia",
         "orientation": "v",
         "showlegend": true,
         "type": "scatter",
         "x": [
          93
         ],
         "xaxis": "x",
         "y": [
          92
         ],
         "yaxis": "y"
        },
        {
         "hovertemplate": "Countries and areas=Zimbabwe<br>Male Literacy Rate (15-24)=%{x}<br>Female Literacy Rate (15-24)=%{y}<br>Unemployment_Rate=%{marker.size}<extra></extra>",
         "legendgroup": "Zimbabwe",
         "marker": {
          "color": "#EF553B",
          "size": [
           4.95
          ],
          "sizemode": "area",
          "sizeref": 0.07045,
          "symbol": "circle"
         },
         "mode": "markers",
         "name": "Zimbabwe",
         "orientation": "v",
         "showlegend": true,
         "type": "scatter",
         "x": [
          0
         ],
         "xaxis": "x",
         "y": [
          0
         ],
         "yaxis": "y"
        }
       ],
       "layout": {
        "legend": {
         "itemsizing": "constant",
         "title": {
          "text": "Countries and areas"
         },
         "tracegroupgap": 0
        },
        "template": {
         "data": {
          "bar": [
           {
            "error_x": {
             "color": "#2a3f5f"
            },
            "error_y": {
             "color": "#2a3f5f"
            },
            "marker": {
             "line": {
              "color": "#E5ECF6",
              "width": 0.5
             },
             "pattern": {
              "fillmode": "overlay",
              "size": 10,
              "solidity": 0.2
             }
            },
            "type": "bar"
           }
          ],
          "barpolar": [
           {
            "marker": {
             "line": {
              "color": "#E5ECF6",
              "width": 0.5
             },
             "pattern": {
              "fillmode": "overlay",
              "size": 10,
              "solidity": 0.2
             }
            },
            "type": "barpolar"
           }
          ],
          "carpet": [
           {
            "aaxis": {
             "endlinecolor": "#2a3f5f",
             "gridcolor": "white",
             "linecolor": "white",
             "minorgridcolor": "white",
             "startlinecolor": "#2a3f5f"
            },
            "baxis": {
             "endlinecolor": "#2a3f5f",
             "gridcolor": "white",
             "linecolor": "white",
             "minorgridcolor": "white",
             "startlinecolor": "#2a3f5f"
            },
            "type": "carpet"
           }
          ],
          "choropleth": [
           {
            "colorbar": {
             "outlinewidth": 0,
             "ticks": ""
            },
            "type": "choropleth"
           }
          ],
          "contour": [
           {
            "colorbar": {
             "outlinewidth": 0,
             "ticks": ""
            },
            "colorscale": [
             [
              0,
              "#0d0887"
             ],
             [
              0.1111111111111111,
              "#46039f"
             ],
             [
              0.2222222222222222,
              "#7201a8"
             ],
             [
              0.3333333333333333,
              "#9c179e"
             ],
             [
              0.4444444444444444,
              "#bd3786"
             ],
             [
              0.5555555555555556,
              "#d8576b"
             ],
             [
              0.6666666666666666,
              "#ed7953"
             ],
             [
              0.7777777777777778,
              "#fb9f3a"
             ],
             [
              0.8888888888888888,
              "#fdca26"
             ],
             [
              1,
              "#f0f921"
             ]
            ],
            "type": "contour"
           }
          ],
          "contourcarpet": [
           {
            "colorbar": {
             "outlinewidth": 0,
             "ticks": ""
            },
            "type": "contourcarpet"
           }
          ],
          "heatmap": [
           {
            "colorbar": {
             "outlinewidth": 0,
             "ticks": ""
            },
            "colorscale": [
             [
              0,
              "#0d0887"
             ],
             [
              0.1111111111111111,
              "#46039f"
             ],
             [
              0.2222222222222222,
              "#7201a8"
             ],
             [
              0.3333333333333333,
              "#9c179e"
             ],
             [
              0.4444444444444444,
              "#bd3786"
             ],
             [
              0.5555555555555556,
              "#d8576b"
             ],
             [
              0.6666666666666666,
              "#ed7953"
             ],
             [
              0.7777777777777778,
              "#fb9f3a"
             ],
             [
              0.8888888888888888,
              "#fdca26"
             ],
             [
              1,
              "#f0f921"
             ]
            ],
            "type": "heatmap"
           }
          ],
          "heatmapgl": [
           {
            "colorbar": {
             "outlinewidth": 0,
             "ticks": ""
            },
            "colorscale": [
             [
              0,
              "#0d0887"
             ],
             [
              0.1111111111111111,
              "#46039f"
             ],
             [
              0.2222222222222222,
              "#7201a8"
             ],
             [
              0.3333333333333333,
              "#9c179e"
             ],
             [
              0.4444444444444444,
              "#bd3786"
             ],
             [
              0.5555555555555556,
              "#d8576b"
             ],
             [
              0.6666666666666666,
              "#ed7953"
             ],
             [
              0.7777777777777778,
              "#fb9f3a"
             ],
             [
              0.8888888888888888,
              "#fdca26"
             ],
             [
              1,
              "#f0f921"
             ]
            ],
            "type": "heatmapgl"
           }
          ],
          "histogram": [
           {
            "marker": {
             "pattern": {
              "fillmode": "overlay",
              "size": 10,
              "solidity": 0.2
             }
            },
            "type": "histogram"
           }
          ],
          "histogram2d": [
           {
            "colorbar": {
             "outlinewidth": 0,
             "ticks": ""
            },
            "colorscale": [
             [
              0,
              "#0d0887"
             ],
             [
              0.1111111111111111,
              "#46039f"
             ],
             [
              0.2222222222222222,
              "#7201a8"
             ],
             [
              0.3333333333333333,
              "#9c179e"
             ],
             [
              0.4444444444444444,
              "#bd3786"
             ],
             [
              0.5555555555555556,
              "#d8576b"
             ],
             [
              0.6666666666666666,
              "#ed7953"
             ],
             [
              0.7777777777777778,
              "#fb9f3a"
             ],
             [
              0.8888888888888888,
              "#fdca26"
             ],
             [
              1,
              "#f0f921"
             ]
            ],
            "type": "histogram2d"
           }
          ],
          "histogram2dcontour": [
           {
            "colorbar": {
             "outlinewidth": 0,
             "ticks": ""
            },
            "colorscale": [
             [
              0,
              "#0d0887"
             ],
             [
              0.1111111111111111,
              "#46039f"
             ],
             [
              0.2222222222222222,
              "#7201a8"
             ],
             [
              0.3333333333333333,
              "#9c179e"
             ],
             [
              0.4444444444444444,
              "#bd3786"
             ],
             [
              0.5555555555555556,
              "#d8576b"
             ],
             [
              0.6666666666666666,
              "#ed7953"
             ],
             [
              0.7777777777777778,
              "#fb9f3a"
             ],
             [
              0.8888888888888888,
              "#fdca26"
             ],
             [
              1,
              "#f0f921"
             ]
            ],
            "type": "histogram2dcontour"
           }
          ],
          "mesh3d": [
           {
            "colorbar": {
             "outlinewidth": 0,
             "ticks": ""
            },
            "type": "mesh3d"
           }
          ],
          "parcoords": [
           {
            "line": {
             "colorbar": {
              "outlinewidth": 0,
              "ticks": ""
             }
            },
            "type": "parcoords"
           }
          ],
          "pie": [
           {
            "automargin": true,
            "type": "pie"
           }
          ],
          "scatter": [
           {
            "fillpattern": {
             "fillmode": "overlay",
             "size": 10,
             "solidity": 0.2
            },
            "type": "scatter"
           }
          ],
          "scatter3d": [
           {
            "line": {
             "colorbar": {
              "outlinewidth": 0,
              "ticks": ""
             }
            },
            "marker": {
             "colorbar": {
              "outlinewidth": 0,
              "ticks": ""
             }
            },
            "type": "scatter3d"
           }
          ],
          "scattercarpet": [
           {
            "marker": {
             "colorbar": {
              "outlinewidth": 0,
              "ticks": ""
             }
            },
            "type": "scattercarpet"
           }
          ],
          "scattergeo": [
           {
            "marker": {
             "colorbar": {
              "outlinewidth": 0,
              "ticks": ""
             }
            },
            "type": "scattergeo"
           }
          ],
          "scattergl": [
           {
            "marker": {
             "colorbar": {
              "outlinewidth": 0,
              "ticks": ""
             }
            },
            "type": "scattergl"
           }
          ],
          "scattermapbox": [
           {
            "marker": {
             "colorbar": {
              "outlinewidth": 0,
              "ticks": ""
             }
            },
            "type": "scattermapbox"
           }
          ],
          "scatterpolar": [
           {
            "marker": {
             "colorbar": {
              "outlinewidth": 0,
              "ticks": ""
             }
            },
            "type": "scatterpolar"
           }
          ],
          "scatterpolargl": [
           {
            "marker": {
             "colorbar": {
              "outlinewidth": 0,
              "ticks": ""
             }
            },
            "type": "scatterpolargl"
           }
          ],
          "scatterternary": [
           {
            "marker": {
             "colorbar": {
              "outlinewidth": 0,
              "ticks": ""
             }
            },
            "type": "scatterternary"
           }
          ],
          "surface": [
           {
            "colorbar": {
             "outlinewidth": 0,
             "ticks": ""
            },
            "colorscale": [
             [
              0,
              "#0d0887"
             ],
             [
              0.1111111111111111,
              "#46039f"
             ],
             [
              0.2222222222222222,
              "#7201a8"
             ],
             [
              0.3333333333333333,
              "#9c179e"
             ],
             [
              0.4444444444444444,
              "#bd3786"
             ],
             [
              0.5555555555555556,
              "#d8576b"
             ],
             [
              0.6666666666666666,
              "#ed7953"
             ],
             [
              0.7777777777777778,
              "#fb9f3a"
             ],
             [
              0.8888888888888888,
              "#fdca26"
             ],
             [
              1,
              "#f0f921"
             ]
            ],
            "type": "surface"
           }
          ],
          "table": [
           {
            "cells": {
             "fill": {
              "color": "#EBF0F8"
             },
             "line": {
              "color": "white"
             }
            },
            "header": {
             "fill": {
              "color": "#C8D4E3"
             },
             "line": {
              "color": "white"
             }
            },
            "type": "table"
           }
          ]
         },
         "layout": {
          "annotationdefaults": {
           "arrowcolor": "#2a3f5f",
           "arrowhead": 0,
           "arrowwidth": 1
          },
          "autotypenumbers": "strict",
          "coloraxis": {
           "colorbar": {
            "outlinewidth": 0,
            "ticks": ""
           }
          },
          "colorscale": {
           "diverging": [
            [
             0,
             "#8e0152"
            ],
            [
             0.1,
             "#c51b7d"
            ],
            [
             0.2,
             "#de77ae"
            ],
            [
             0.3,
             "#f1b6da"
            ],
            [
             0.4,
             "#fde0ef"
            ],
            [
             0.5,
             "#f7f7f7"
            ],
            [
             0.6,
             "#e6f5d0"
            ],
            [
             0.7,
             "#b8e186"
            ],
            [
             0.8,
             "#7fbc41"
            ],
            [
             0.9,
             "#4d9221"
            ],
            [
             1,
             "#276419"
            ]
           ],
           "sequential": [
            [
             0,
             "#0d0887"
            ],
            [
             0.1111111111111111,
             "#46039f"
            ],
            [
             0.2222222222222222,
             "#7201a8"
            ],
            [
             0.3333333333333333,
             "#9c179e"
            ],
            [
             0.4444444444444444,
             "#bd3786"
            ],
            [
             0.5555555555555556,
             "#d8576b"
            ],
            [
             0.6666666666666666,
             "#ed7953"
            ],
            [
             0.7777777777777778,
             "#fb9f3a"
            ],
            [
             0.8888888888888888,
             "#fdca26"
            ],
            [
             1,
             "#f0f921"
            ]
           ],
           "sequentialminus": [
            [
             0,
             "#0d0887"
            ],
            [
             0.1111111111111111,
             "#46039f"
            ],
            [
             0.2222222222222222,
             "#7201a8"
            ],
            [
             0.3333333333333333,
             "#9c179e"
            ],
            [
             0.4444444444444444,
             "#bd3786"
            ],
            [
             0.5555555555555556,
             "#d8576b"
            ],
            [
             0.6666666666666666,
             "#ed7953"
            ],
            [
             0.7777777777777778,
             "#fb9f3a"
            ],
            [
             0.8888888888888888,
             "#fdca26"
            ],
            [
             1,
             "#f0f921"
            ]
           ]
          },
          "colorway": [
           "#636efa",
           "#EF553B",
           "#00cc96",
           "#ab63fa",
           "#FFA15A",
           "#19d3f3",
           "#FF6692",
           "#B6E880",
           "#FF97FF",
           "#FECB52"
          ],
          "font": {
           "color": "#2a3f5f"
          },
          "geo": {
           "bgcolor": "white",
           "lakecolor": "white",
           "landcolor": "#E5ECF6",
           "showlakes": true,
           "showland": true,
           "subunitcolor": "white"
          },
          "hoverlabel": {
           "align": "left"
          },
          "hovermode": "closest",
          "mapbox": {
           "style": "light"
          },
          "paper_bgcolor": "white",
          "plot_bgcolor": "#E5ECF6",
          "polar": {
           "angularaxis": {
            "gridcolor": "white",
            "linecolor": "white",
            "ticks": ""
           },
           "bgcolor": "#E5ECF6",
           "radialaxis": {
            "gridcolor": "white",
            "linecolor": "white",
            "ticks": ""
           }
          },
          "scene": {
           "xaxis": {
            "backgroundcolor": "#E5ECF6",
            "gridcolor": "white",
            "gridwidth": 2,
            "linecolor": "white",
            "showbackground": true,
            "ticks": "",
            "zerolinecolor": "white"
           },
           "yaxis": {
            "backgroundcolor": "#E5ECF6",
            "gridcolor": "white",
            "gridwidth": 2,
            "linecolor": "white",
            "showbackground": true,
            "ticks": "",
            "zerolinecolor": "white"
           },
           "zaxis": {
            "backgroundcolor": "#E5ECF6",
            "gridcolor": "white",
            "gridwidth": 2,
            "linecolor": "white",
            "showbackground": true,
            "ticks": "",
            "zerolinecolor": "white"
           }
          },
          "shapedefaults": {
           "line": {
            "color": "#2a3f5f"
           }
          },
          "ternary": {
           "aaxis": {
            "gridcolor": "white",
            "linecolor": "white",
            "ticks": ""
           },
           "baxis": {
            "gridcolor": "white",
            "linecolor": "white",
            "ticks": ""
           },
           "bgcolor": "#E5ECF6",
           "caxis": {
            "gridcolor": "white",
            "linecolor": "white",
            "ticks": ""
           }
          },
          "title": {
           "x": 0.05
          },
          "xaxis": {
           "automargin": true,
           "gridcolor": "white",
           "linecolor": "white",
           "ticks": "",
           "title": {
            "standoff": 15
           },
           "zerolinecolor": "white",
           "zerolinewidth": 2
          },
          "yaxis": {
           "automargin": true,
           "gridcolor": "white",
           "linecolor": "white",
           "ticks": "",
           "title": {
            "standoff": 15
           },
           "zerolinecolor": "white",
           "zerolinewidth": 2
          }
         }
        },
        "title": {
         "text": "Unemployment Rate vs Literacy Rates"
        },
        "xaxis": {
         "anchor": "y",
         "domain": [
          0,
          1
         ],
         "title": {
          "text": "Male Literacy Rate (15-24)"
         }
        },
        "yaxis": {
         "anchor": "x",
         "domain": [
          0,
          1
         ],
         "title": {
          "text": "Female Literacy Rate (15-24)"
         }
        }
       }
      }
     },
     "metadata": {},
     "output_type": "display_data"
    }
   ],
   "source": [
    "fig4 = px.scatter(\n",
    "    data,\n",
    "    x='Youth_15_24_Literacy_Rate_Male',\n",
    "    y='Youth_15_24_Literacy_Rate_Female',\n",
    "    size='Unemployment_Rate',\n",
    "    color='Countries and areas',\n",
    "    title='Unemployment Rate vs Literacy Rates',\n",
    "    labels={\n",
    "        \"Youth_15_24_Literacy_Rate_Male\": \"Male Literacy Rate (15-24)\",\n",
    "        \"Youth_15_24_Literacy_Rate_Female\": \"Female Literacy Rate (15-24)\"\n",
    "    }\n",
    ")\n",
    "fig4.show()"
   ]
  },
  {
   "cell_type": "code",
   "execution_count": 12,
   "metadata": {},
   "outputs": [
    {
     "data": {
      "application/vnd.plotly.v1+json": {
       "config": {
        "plotlyServerURL": "https://plot.ly"
       },
       "data": [
        {
         "hovertemplate": "Countries and areas=Afghanistan<br>Male Completion Rate=%{x}<br>Female Completion Rate=%{y}<br>Gross_Tertiary_Education_Enrollment=%{marker.size}<extra></extra>",
         "legendgroup": "Afghanistan",
         "marker": {
          "color": "#636efa",
          "size": [
           9.7
          ],
          "sizemode": "area",
          "sizeref": 0.34149999999999997,
          "symbol": "circle"
         },
         "mode": "markers",
         "name": "Afghanistan",
         "orientation": "v",
         "showlegend": true,
         "type": "scatter",
         "x": [
          32
         ],
         "xaxis": "x",
         "y": [
          14
         ],
         "yaxis": "y"
        },
        {
         "hovertemplate": "Countries and areas=Albania<br>Male Completion Rate=%{x}<br>Female Completion Rate=%{y}<br>Gross_Tertiary_Education_Enrollment=%{marker.size}<extra></extra>",
         "legendgroup": "Albania",
         "marker": {
          "color": "#EF553B",
          "size": [
           55
          ],
          "sizemode": "area",
          "sizeref": 0.34149999999999997,
          "symbol": "circle"
         },
         "mode": "markers",
         "name": "Albania",
         "orientation": "v",
         "showlegend": true,
         "type": "scatter",
         "x": [
          76
         ],
         "xaxis": "x",
         "y": [
          80
         ],
         "yaxis": "y"
        },
        {
         "hovertemplate": "Countries and areas=Algeria<br>Male Completion Rate=%{x}<br>Female Completion Rate=%{y}<br>Gross_Tertiary_Education_Enrollment=%{marker.size}<extra></extra>",
         "legendgroup": "Algeria",
         "marker": {
          "color": "#00cc96",
          "size": [
           51.4
          ],
          "sizemode": "area",
          "sizeref": 0.34149999999999997,
          "symbol": "circle"
         },
         "mode": "markers",
         "name": "Algeria",
         "orientation": "v",
         "showlegend": true,
         "type": "scatter",
         "x": [
          22
         ],
         "xaxis": "x",
         "y": [
          37
         ],
         "yaxis": "y"
        },
        {
         "hovertemplate": "Countries and areas=Andorra<br>Male Completion Rate=%{x}<br>Female Completion Rate=%{y}<br>Gross_Tertiary_Education_Enrollment=%{marker.size}<extra></extra>",
         "legendgroup": "Andorra",
         "marker": {
          "color": "#ab63fa",
          "size": [
           0
          ],
          "sizemode": "area",
          "sizeref": 0.34149999999999997,
          "symbol": "circle"
         },
         "mode": "markers",
         "name": "Andorra",
         "orientation": "v",
         "showlegend": true,
         "type": "scatter",
         "x": [
          0
         ],
         "xaxis": "x",
         "y": [
          0
         ],
         "yaxis": "y"
        },
        {
         "hovertemplate": "Countries and areas=Angola<br>Male Completion Rate=%{x}<br>Female Completion Rate=%{y}<br>Gross_Tertiary_Education_Enrollment=%{marker.size}<extra></extra>",
         "legendgroup": "Angola",
         "marker": {
          "color": "#FFA15A",
          "size": [
           9.3
          ],
          "sizemode": "area",
          "sizeref": 0.34149999999999997,
          "symbol": "circle"
         },
         "mode": "markers",
         "name": "Angola",
         "orientation": "v",
         "showlegend": true,
         "type": "scatter",
         "x": [
          24
         ],
         "xaxis": "x",
         "y": [
          15
         ],
         "yaxis": "y"
        },
        {
         "hovertemplate": "Countries and areas=Anguilla<br>Male Completion Rate=%{x}<br>Female Completion Rate=%{y}<br>Gross_Tertiary_Education_Enrollment=%{marker.size}<extra></extra>",
         "legendgroup": "Anguilla",
         "marker": {
          "color": "#19d3f3",
          "size": [
           0
          ],
          "sizemode": "area",
          "sizeref": 0.34149999999999997,
          "symbol": "circle"
         },
         "mode": "markers",
         "name": "Anguilla",
         "orientation": "v",
         "showlegend": true,
         "type": "scatter",
         "x": [
          0
         ],
         "xaxis": "x",
         "y": [
          0
         ],
         "yaxis": "y"
        },
        {
         "hovertemplate": "Countries and areas=Antigua and Barbuda<br>Male Completion Rate=%{x}<br>Female Completion Rate=%{y}<br>Gross_Tertiary_Education_Enrollment=%{marker.size}<extra></extra>",
         "legendgroup": "Antigua and Barbuda",
         "marker": {
          "color": "#FF6692",
          "size": [
           24.8
          ],
          "sizemode": "area",
          "sizeref": 0.34149999999999997,
          "symbol": "circle"
         },
         "mode": "markers",
         "name": "Antigua and Barbuda",
         "orientation": "v",
         "showlegend": true,
         "type": "scatter",
         "x": [
          0
         ],
         "xaxis": "x",
         "y": [
          0
         ],
         "yaxis": "y"
        },
        {
         "hovertemplate": "Countries and areas=Argentina<br>Male Completion Rate=%{x}<br>Female Completion Rate=%{y}<br>Gross_Tertiary_Education_Enrollment=%{marker.size}<extra></extra>",
         "legendgroup": "Argentina",
         "marker": {
          "color": "#B6E880",
          "size": [
           90
          ],
          "sizemode": "area",
          "sizeref": 0.34149999999999997,
          "symbol": "circle"
         },
         "mode": "markers",
         "name": "Argentina",
         "orientation": "v",
         "showlegend": true,
         "type": "scatter",
         "x": [
          46
         ],
         "xaxis": "x",
         "y": [
          53
         ],
         "yaxis": "y"
        },
        {
         "hovertemplate": "Countries and areas=Armenia<br>Male Completion Rate=%{x}<br>Female Completion Rate=%{y}<br>Gross_Tertiary_Education_Enrollment=%{marker.size}<extra></extra>",
         "legendgroup": "Armenia",
         "marker": {
          "color": "#FF97FF",
          "size": [
           54.6
          ],
          "sizemode": "area",
          "sizeref": 0.34149999999999997,
          "symbol": "circle"
         },
         "mode": "markers",
         "name": "Armenia",
         "orientation": "v",
         "showlegend": true,
         "type": "scatter",
         "x": [
          69
         ],
         "xaxis": "x",
         "y": [
          79
         ],
         "yaxis": "y"
        },
        {
         "hovertemplate": "Countries and areas=Australia<br>Male Completion Rate=%{x}<br>Female Completion Rate=%{y}<br>Gross_Tertiary_Education_Enrollment=%{marker.size}<extra></extra>",
         "legendgroup": "Australia",
         "marker": {
          "color": "#FECB52",
          "size": [
           113.1
          ],
          "sizemode": "area",
          "sizeref": 0.34149999999999997,
          "symbol": "circle"
         },
         "mode": "markers",
         "name": "Australia",
         "orientation": "v",
         "showlegend": true,
         "type": "scatter",
         "x": [
          0
         ],
         "xaxis": "x",
         "y": [
          0
         ],
         "yaxis": "y"
        },
        {
         "hovertemplate": "Countries and areas=Austria<br>Male Completion Rate=%{x}<br>Female Completion Rate=%{y}<br>Gross_Tertiary_Education_Enrollment=%{marker.size}<extra></extra>",
         "legendgroup": "Austria",
         "marker": {
          "color": "#636efa",
          "size": [
           85.1
          ],
          "sizemode": "area",
          "sizeref": 0.34149999999999997,
          "symbol": "circle"
         },
         "mode": "markers",
         "name": "Austria",
         "orientation": "v",
         "showlegend": true,
         "type": "scatter",
         "x": [
          0
         ],
         "xaxis": "x",
         "y": [
          0
         ],
         "yaxis": "y"
        },
        {
         "hovertemplate": "Countries and areas=Azerbaijan<br>Male Completion Rate=%{x}<br>Female Completion Rate=%{y}<br>Gross_Tertiary_Education_Enrollment=%{marker.size}<extra></extra>",
         "legendgroup": "Azerbaijan",
         "marker": {
          "color": "#EF553B",
          "size": [
           27.7
          ],
          "sizemode": "area",
          "sizeref": 0.34149999999999997,
          "symbol": "circle"
         },
         "mode": "markers",
         "name": "Azerbaijan",
         "orientation": "v",
         "showlegend": true,
         "type": "scatter",
         "x": [
          0
         ],
         "xaxis": "x",
         "y": [
          0
         ],
         "yaxis": "y"
        },
        {
         "hovertemplate": "Countries and areas=The Bahamas<br>Male Completion Rate=%{x}<br>Female Completion Rate=%{y}<br>Gross_Tertiary_Education_Enrollment=%{marker.size}<extra></extra>",
         "legendgroup": "The Bahamas",
         "marker": {
          "color": "#00cc96",
          "size": [
           15.1
          ],
          "sizemode": "area",
          "sizeref": 0.34149999999999997,
          "symbol": "circle"
         },
         "mode": "markers",
         "name": "The Bahamas",
         "orientation": "v",
         "showlegend": true,
         "type": "scatter",
         "x": [
          0
         ],
         "xaxis": "x",
         "y": [
          0
         ],
         "yaxis": "y"
        },
        {
         "hovertemplate": "Countries and areas=Bahrain<br>Male Completion Rate=%{x}<br>Female Completion Rate=%{y}<br>Gross_Tertiary_Education_Enrollment=%{marker.size}<extra></extra>",
         "legendgroup": "Bahrain",
         "marker": {
          "color": "#ab63fa",
          "size": [
           50.5
          ],
          "sizemode": "area",
          "sizeref": 0.34149999999999997,
          "symbol": "circle"
         },
         "mode": "markers",
         "name": "Bahrain",
         "orientation": "v",
         "showlegend": true,
         "type": "scatter",
         "x": [
          0
         ],
         "xaxis": "x",
         "y": [
          0
         ],
         "yaxis": "y"
        },
        {
         "hovertemplate": "Countries and areas=Bangladesh<br>Male Completion Rate=%{x}<br>Female Completion Rate=%{y}<br>Gross_Tertiary_Education_Enrollment=%{marker.size}<extra></extra>",
         "legendgroup": "Bangladesh",
         "marker": {
          "color": "#FFA15A",
          "size": [
           20.6
          ],
          "sizemode": "area",
          "sizeref": 0.34149999999999997,
          "symbol": "circle"
         },
         "mode": "markers",
         "name": "Bangladesh",
         "orientation": "v",
         "showlegend": true,
         "type": "scatter",
         "x": [
          32
         ],
         "xaxis": "x",
         "y": [
          27
         ],
         "yaxis": "y"
        },
        {
         "hovertemplate": "Countries and areas=Barbados<br>Male Completion Rate=%{x}<br>Female Completion Rate=%{y}<br>Gross_Tertiary_Education_Enrollment=%{marker.size}<extra></extra>",
         "legendgroup": "Barbados",
         "marker": {
          "color": "#19d3f3",
          "size": [
           65.4
          ],
          "sizemode": "area",
          "sizeref": 0.34149999999999997,
          "symbol": "circle"
         },
         "mode": "markers",
         "name": "Barbados",
         "orientation": "v",
         "showlegend": true,
         "type": "scatter",
         "x": [
          91
         ],
         "xaxis": "x",
         "y": [
          97
         ],
         "yaxis": "y"
        },
        {
         "hovertemplate": "Countries and areas=Belarus<br>Male Completion Rate=%{x}<br>Female Completion Rate=%{y}<br>Gross_Tertiary_Education_Enrollment=%{marker.size}<extra></extra>",
         "legendgroup": "Belarus",
         "marker": {
          "color": "#FF6692",
          "size": [
           87.4
          ],
          "sizemode": "area",
          "sizeref": 0.34149999999999997,
          "symbol": "circle"
         },
         "mode": "markers",
         "name": "Belarus",
         "orientation": "v",
         "showlegend": true,
         "type": "scatter",
         "x": [
          91
         ],
         "xaxis": "x",
         "y": [
          94
         ],
         "yaxis": "y"
        },
        {
         "hovertemplate": "Countries and areas=Belgium<br>Male Completion Rate=%{x}<br>Female Completion Rate=%{y}<br>Gross_Tertiary_Education_Enrollment=%{marker.size}<extra></extra>",
         "legendgroup": "Belgium",
         "marker": {
          "color": "#B6E880",
          "size": [
           79.7
          ],
          "sizemode": "area",
          "sizeref": 0.34149999999999997,
          "symbol": "circle"
         },
         "mode": "markers",
         "name": "Belgium",
         "orientation": "v",
         "showlegend": true,
         "type": "scatter",
         "x": [
          0
         ],
         "xaxis": "x",
         "y": [
          0
         ],
         "yaxis": "y"
        },
        {
         "hovertemplate": "Countries and areas=Belize<br>Male Completion Rate=%{x}<br>Female Completion Rate=%{y}<br>Gross_Tertiary_Education_Enrollment=%{marker.size}<extra></extra>",
         "legendgroup": "Belize",
         "marker": {
          "color": "#FF97FF",
          "size": [
           24.7
          ],
          "sizemode": "area",
          "sizeref": 0.34149999999999997,
          "symbol": "circle"
         },
         "mode": "markers",
         "name": "Belize",
         "orientation": "v",
         "showlegend": true,
         "type": "scatter",
         "x": [
          48
         ],
         "xaxis": "x",
         "y": [
          51
         ],
         "yaxis": "y"
        },
        {
         "hovertemplate": "Countries and areas=Benin<br>Male Completion Rate=%{x}<br>Female Completion Rate=%{y}<br>Gross_Tertiary_Education_Enrollment=%{marker.size}<extra></extra>",
         "legendgroup": "Benin",
         "marker": {
          "color": "#FECB52",
          "size": [
           12.3
          ],
          "sizemode": "area",
          "sizeref": 0.34149999999999997,
          "symbol": "circle"
         },
         "mode": "markers",
         "name": "Benin",
         "orientation": "v",
         "showlegend": true,
         "type": "scatter",
         "x": [
          12
         ],
         "xaxis": "x",
         "y": [
          5
         ],
         "yaxis": "y"
        },
        {
         "hovertemplate": "Countries and areas=Bhutan<br>Male Completion Rate=%{x}<br>Female Completion Rate=%{y}<br>Gross_Tertiary_Education_Enrollment=%{marker.size}<extra></extra>",
         "legendgroup": "Bhutan",
         "marker": {
          "color": "#636efa",
          "size": [
           15.6
          ],
          "sizemode": "area",
          "sizeref": 0.34149999999999997,
          "symbol": "circle"
         },
         "mode": "markers",
         "name": "Bhutan",
         "orientation": "v",
         "showlegend": true,
         "type": "scatter",
         "x": [
          25
         ],
         "xaxis": "x",
         "y": [
          18
         ],
         "yaxis": "y"
        },
        {
         "hovertemplate": "Countries and areas=Bolivia<br>Male Completion Rate=%{x}<br>Female Completion Rate=%{y}<br>Gross_Tertiary_Education_Enrollment=%{marker.size}<extra></extra>",
         "legendgroup": "Bolivia",
         "marker": {
          "color": "#EF553B",
          "size": [
           0
          ],
          "sizemode": "area",
          "sizeref": 0.34149999999999997,
          "symbol": "circle"
         },
         "mode": "markers",
         "name": "Bolivia",
         "orientation": "v",
         "showlegend": true,
         "type": "scatter",
         "x": [
          0
         ],
         "xaxis": "x",
         "y": [
          0
         ],
         "yaxis": "y"
        },
        {
         "hovertemplate": "Countries and areas=Bosnia and Herzegovina<br>Male Completion Rate=%{x}<br>Female Completion Rate=%{y}<br>Gross_Tertiary_Education_Enrollment=%{marker.size}<extra></extra>",
         "legendgroup": "Bosnia and Herzegovina",
         "marker": {
          "color": "#00cc96",
          "size": [
           23.3
          ],
          "sizemode": "area",
          "sizeref": 0.34149999999999997,
          "symbol": "circle"
         },
         "mode": "markers",
         "name": "Bosnia and Herzegovina",
         "orientation": "v",
         "showlegend": true,
         "type": "scatter",
         "x": [
          92
         ],
         "xaxis": "x",
         "y": [
          92
         ],
         "yaxis": "y"
        },
        {
         "hovertemplate": "Countries and areas=Botswana<br>Male Completion Rate=%{x}<br>Female Completion Rate=%{y}<br>Gross_Tertiary_Education_Enrollment=%{marker.size}<extra></extra>",
         "legendgroup": "Botswana",
         "marker": {
          "color": "#ab63fa",
          "size": [
           24.9
          ],
          "sizemode": "area",
          "sizeref": 0.34149999999999997,
          "symbol": "circle"
         },
         "mode": "markers",
         "name": "Botswana",
         "orientation": "v",
         "showlegend": true,
         "type": "scatter",
         "x": [
          55
         ],
         "xaxis": "x",
         "y": [
          66
         ],
         "yaxis": "y"
        },
        {
         "hovertemplate": "Countries and areas=Brazil<br>Male Completion Rate=%{x}<br>Female Completion Rate=%{y}<br>Gross_Tertiary_Education_Enrollment=%{marker.size}<extra></extra>",
         "legendgroup": "Brazil",
         "marker": {
          "color": "#FFA15A",
          "size": [
           51.3
          ],
          "sizemode": "area",
          "sizeref": 0.34149999999999997,
          "symbol": "circle"
         },
         "mode": "markers",
         "name": "Brazil",
         "orientation": "v",
         "showlegend": true,
         "type": "scatter",
         "x": [
          65
         ],
         "xaxis": "x",
         "y": [
          75
         ],
         "yaxis": "y"
        },
        {
         "hovertemplate": "Countries and areas=British Virgin Islands<br>Male Completion Rate=%{x}<br>Female Completion Rate=%{y}<br>Gross_Tertiary_Education_Enrollment=%{marker.size}<extra></extra>",
         "legendgroup": "British Virgin Islands",
         "marker": {
          "color": "#19d3f3",
          "size": [
           0
          ],
          "sizemode": "area",
          "sizeref": 0.34149999999999997,
          "symbol": "circle"
         },
         "mode": "markers",
         "name": "British Virgin Islands",
         "orientation": "v",
         "showlegend": true,
         "type": "scatter",
         "x": [
          0
         ],
         "xaxis": "x",
         "y": [
          0
         ],
         "yaxis": "y"
        },
        {
         "hovertemplate": "Countries and areas=Brunei<br>Male Completion Rate=%{x}<br>Female Completion Rate=%{y}<br>Gross_Tertiary_Education_Enrollment=%{marker.size}<extra></extra>",
         "legendgroup": "Brunei",
         "marker": {
          "color": "#FF6692",
          "size": [
           31.4
          ],
          "sizemode": "area",
          "sizeref": 0.34149999999999997,
          "symbol": "circle"
         },
         "mode": "markers",
         "name": "Brunei",
         "orientation": "v",
         "showlegend": true,
         "type": "scatter",
         "x": [
          0
         ],
         "xaxis": "x",
         "y": [
          0
         ],
         "yaxis": "y"
        },
        {
         "hovertemplate": "Countries and areas=Bulgaria<br>Male Completion Rate=%{x}<br>Female Completion Rate=%{y}<br>Gross_Tertiary_Education_Enrollment=%{marker.size}<extra></extra>",
         "legendgroup": "Bulgaria",
         "marker": {
          "color": "#B6E880",
          "size": [
           71
          ],
          "sizemode": "area",
          "sizeref": 0.34149999999999997,
          "symbol": "circle"
         },
         "mode": "markers",
         "name": "Bulgaria",
         "orientation": "v",
         "showlegend": true,
         "type": "scatter",
         "x": [
          0
         ],
         "xaxis": "x",
         "y": [
          0
         ],
         "yaxis": "y"
        },
        {
         "hovertemplate": "Countries and areas=Burkina Faso<br>Male Completion Rate=%{x}<br>Female Completion Rate=%{y}<br>Gross_Tertiary_Education_Enrollment=%{marker.size}<extra></extra>",
         "legendgroup": "Burkina Faso",
         "marker": {
          "color": "#FF97FF",
          "size": [
           6.5
          ],
          "sizemode": "area",
          "sizeref": 0.34149999999999997,
          "symbol": "circle"
         },
         "mode": "markers",
         "name": "Burkina Faso",
         "orientation": "v",
         "showlegend": true,
         "type": "scatter",
         "x": [
          6
         ],
         "xaxis": "x",
         "y": [
          2
         ],
         "yaxis": "y"
        },
        {
         "hovertemplate": "Countries and areas=Burundi<br>Male Completion Rate=%{x}<br>Female Completion Rate=%{y}<br>Gross_Tertiary_Education_Enrollment=%{marker.size}<extra></extra>",
         "legendgroup": "Burundi",
         "marker": {
          "color": "#FECB52",
          "size": [
           6.1
          ],
          "sizemode": "area",
          "sizeref": 0.34149999999999997,
          "symbol": "circle"
         },
         "mode": "markers",
         "name": "Burundi",
         "orientation": "v",
         "showlegend": true,
         "type": "scatter",
         "x": [
          4
         ],
         "xaxis": "x",
         "y": [
          3
         ],
         "yaxis": "y"
        },
        {
         "hovertemplate": "Countries and areas=Cape Verde<br>Male Completion Rate=%{x}<br>Female Completion Rate=%{y}<br>Gross_Tertiary_Education_Enrollment=%{marker.size}<extra></extra>",
         "legendgroup": "Cape Verde",
         "marker": {
          "color": "#636efa",
          "size": [
           23.6
          ],
          "sizemode": "area",
          "sizeref": 0.34149999999999997,
          "symbol": "circle"
         },
         "mode": "markers",
         "name": "Cape Verde",
         "orientation": "v",
         "showlegend": true,
         "type": "scatter",
         "x": [
          0
         ],
         "xaxis": "x",
         "y": [
          0
         ],
         "yaxis": "y"
        },
        {
         "hovertemplate": "Countries and areas=Cambodia<br>Male Completion Rate=%{x}<br>Female Completion Rate=%{y}<br>Gross_Tertiary_Education_Enrollment=%{marker.size}<extra></extra>",
         "legendgroup": "Cambodia",
         "marker": {
          "color": "#EF553B",
          "size": [
           13.7
          ],
          "sizemode": "area",
          "sizeref": 0.34149999999999997,
          "symbol": "circle"
         },
         "mode": "markers",
         "name": "Cambodia",
         "orientation": "v",
         "showlegend": true,
         "type": "scatter",
         "x": [
          20
         ],
         "xaxis": "x",
         "y": [
          20
         ],
         "yaxis": "y"
        },
        {
         "hovertemplate": "Countries and areas=Cameroon<br>Male Completion Rate=%{x}<br>Female Completion Rate=%{y}<br>Gross_Tertiary_Education_Enrollment=%{marker.size}<extra></extra>",
         "legendgroup": "Cameroon",
         "marker": {
          "color": "#00cc96",
          "size": [
           12.8
          ],
          "sizemode": "area",
          "sizeref": 0.34149999999999997,
          "symbol": "circle"
         },
         "mode": "markers",
         "name": "Cameroon",
         "orientation": "v",
         "showlegend": true,
         "type": "scatter",
         "x": [
          26
         ],
         "xaxis": "x",
         "y": [
          21
         ],
         "yaxis": "y"
        },
        {
         "hovertemplate": "Countries and areas=Canada<br>Male Completion Rate=%{x}<br>Female Completion Rate=%{y}<br>Gross_Tertiary_Education_Enrollment=%{marker.size}<extra></extra>",
         "legendgroup": "Canada",
         "marker": {
          "color": "#ab63fa",
          "size": [
           68.9
          ],
          "sizemode": "area",
          "sizeref": 0.34149999999999997,
          "symbol": "circle"
         },
         "mode": "markers",
         "name": "Canada",
         "orientation": "v",
         "showlegend": true,
         "type": "scatter",
         "x": [
          0
         ],
         "xaxis": "x",
         "y": [
          0
         ],
         "yaxis": "y"
        },
        {
         "hovertemplate": "Countries and areas=Central African Republic<br>Male Completion Rate=%{x}<br>Female Completion Rate=%{y}<br>Gross_Tertiary_Education_Enrollment=%{marker.size}<extra></extra>",
         "legendgroup": "Central African Republic",
         "marker": {
          "color": "#FFA15A",
          "size": [
           3
          ],
          "sizemode": "area",
          "sizeref": 0.34149999999999997,
          "symbol": "circle"
         },
         "mode": "markers",
         "name": "Central African Republic",
         "orientation": "v",
         "showlegend": true,
         "type": "scatter",
         "x": [
          8
         ],
         "xaxis": "x",
         "y": [
          6
         ],
         "yaxis": "y"
        },
        {
         "hovertemplate": "Countries and areas=Chad<br>Male Completion Rate=%{x}<br>Female Completion Rate=%{y}<br>Gross_Tertiary_Education_Enrollment=%{marker.size}<extra></extra>",
         "legendgroup": "Chad",
         "marker": {
          "color": "#19d3f3",
          "size": [
           3.3
          ],
          "sizemode": "area",
          "sizeref": 0.34149999999999997,
          "symbol": "circle"
         },
         "mode": "markers",
         "name": "Chad",
         "orientation": "v",
         "showlegend": true,
         "type": "scatter",
         "x": [
          15
         ],
         "xaxis": "x",
         "y": [
          6
         ],
         "yaxis": "y"
        },
        {
         "hovertemplate": "Countries and areas=Chile<br>Male Completion Rate=%{x}<br>Female Completion Rate=%{y}<br>Gross_Tertiary_Education_Enrollment=%{marker.size}<extra></extra>",
         "legendgroup": "Chile",
         "marker": {
          "color": "#FF6692",
          "size": [
           88.5
          ],
          "sizemode": "area",
          "sizeref": 0.34149999999999997,
          "symbol": "circle"
         },
         "mode": "markers",
         "name": "Chile",
         "orientation": "v",
         "showlegend": true,
         "type": "scatter",
         "x": [
          83
         ],
         "xaxis": "x",
         "y": [
          88
         ],
         "yaxis": "y"
        },
        {
         "hovertemplate": "Countries and areas=China<br>Male Completion Rate=%{x}<br>Female Completion Rate=%{y}<br>Gross_Tertiary_Education_Enrollment=%{marker.size}<extra></extra>",
         "legendgroup": "China",
         "marker": {
          "color": "#B6E880",
          "size": [
           50.6
          ],
          "sizemode": "area",
          "sizeref": 0.34149999999999997,
          "symbol": "circle"
         },
         "mode": "markers",
         "name": "China",
         "orientation": "v",
         "showlegend": true,
         "type": "scatter",
         "x": [
          63
         ],
         "xaxis": "x",
         "y": [
          67
         ],
         "yaxis": "y"
        },
        {
         "hovertemplate": "Countries and areas=Colombia<br>Male Completion Rate=%{x}<br>Female Completion Rate=%{y}<br>Gross_Tertiary_Education_Enrollment=%{marker.size}<extra></extra>",
         "legendgroup": "Colombia",
         "marker": {
          "color": "#FF97FF",
          "size": [
           55.3
          ],
          "sizemode": "area",
          "sizeref": 0.34149999999999997,
          "symbol": "circle"
         },
         "mode": "markers",
         "name": "Colombia",
         "orientation": "v",
         "showlegend": true,
         "type": "scatter",
         "x": [
          69
         ],
         "xaxis": "x",
         "y": [
          78
         ],
         "yaxis": "y"
        },
        {
         "hovertemplate": "Countries and areas=Comoros<br>Male Completion Rate=%{x}<br>Female Completion Rate=%{y}<br>Gross_Tertiary_Education_Enrollment=%{marker.size}<extra></extra>",
         "legendgroup": "Comoros",
         "marker": {
          "color": "#FECB52",
          "size": [
           9
          ],
          "sizemode": "area",
          "sizeref": 0.34149999999999997,
          "symbol": "circle"
         },
         "mode": "markers",
         "name": "Comoros",
         "orientation": "v",
         "showlegend": true,
         "type": "scatter",
         "x": [
          24
         ],
         "xaxis": "x",
         "y": [
          32
         ],
         "yaxis": "y"
        },
        {
         "hovertemplate": "Countries and areas=Republic of the Congo<br>Male Completion Rate=%{x}<br>Female Completion Rate=%{y}<br>Gross_Tertiary_Education_Enrollment=%{marker.size}<extra></extra>",
         "legendgroup": "Republic of the Congo",
         "marker": {
          "color": "#636efa",
          "size": [
           12.7
          ],
          "sizemode": "area",
          "sizeref": 0.34149999999999997,
          "symbol": "circle"
         },
         "mode": "markers",
         "name": "Republic of the Congo",
         "orientation": "v",
         "showlegend": true,
         "type": "scatter",
         "x": [
          28
         ],
         "xaxis": "x",
         "y": [
          19
         ],
         "yaxis": "y"
        },
        {
         "hovertemplate": "Countries and areas=Cook Islands<br>Male Completion Rate=%{x}<br>Female Completion Rate=%{y}<br>Gross_Tertiary_Education_Enrollment=%{marker.size}<extra></extra>",
         "legendgroup": "Cook Islands",
         "marker": {
          "color": "#EF553B",
          "size": [
           0
          ],
          "sizemode": "area",
          "sizeref": 0.34149999999999997,
          "symbol": "circle"
         },
         "mode": "markers",
         "name": "Cook Islands",
         "orientation": "v",
         "showlegend": true,
         "type": "scatter",
         "x": [
          0
         ],
         "xaxis": "x",
         "y": [
          0
         ],
         "yaxis": "y"
        },
        {
         "hovertemplate": "Countries and areas=Costa Rica<br>Male Completion Rate=%{x}<br>Female Completion Rate=%{y}<br>Gross_Tertiary_Education_Enrollment=%{marker.size}<extra></extra>",
         "legendgroup": "Costa Rica",
         "marker": {
          "color": "#00cc96",
          "size": [
           55.2
          ],
          "sizemode": "area",
          "sizeref": 0.34149999999999997,
          "symbol": "circle"
         },
         "mode": "markers",
         "name": "Costa Rica",
         "orientation": "v",
         "showlegend": true,
         "type": "scatter",
         "x": [
          56
         ],
         "xaxis": "x",
         "y": [
          60
         ],
         "yaxis": "y"
        },
        {
         "hovertemplate": "Countries and areas=Ivory Coast<br>Male Completion Rate=%{x}<br>Female Completion Rate=%{y}<br>Gross_Tertiary_Education_Enrollment=%{marker.size}<extra></extra>",
         "legendgroup": "Ivory Coast",
         "marker": {
          "color": "#ab63fa",
          "size": [
           9.3
          ],
          "sizemode": "area",
          "sizeref": 0.34149999999999997,
          "symbol": "circle"
         },
         "mode": "markers",
         "name": "Ivory Coast",
         "orientation": "v",
         "showlegend": true,
         "type": "scatter",
         "x": [
          17
         ],
         "xaxis": "x",
         "y": [
          15
         ],
         "yaxis": "y"
        },
        {
         "hovertemplate": "Countries and areas=Croatia<br>Male Completion Rate=%{x}<br>Female Completion Rate=%{y}<br>Gross_Tertiary_Education_Enrollment=%{marker.size}<extra></extra>",
         "legendgroup": "Croatia",
         "marker": {
          "color": "#FFA15A",
          "size": [
           67.9
          ],
          "sizemode": "area",
          "sizeref": 0.34149999999999997,
          "symbol": "circle"
         },
         "mode": "markers",
         "name": "Croatia",
         "orientation": "v",
         "showlegend": true,
         "type": "scatter",
         "x": [
          0
         ],
         "xaxis": "x",
         "y": [
          0
         ],
         "yaxis": "y"
        },
        {
         "hovertemplate": "Countries and areas=Cuba<br>Male Completion Rate=%{x}<br>Female Completion Rate=%{y}<br>Gross_Tertiary_Education_Enrollment=%{marker.size}<extra></extra>",
         "legendgroup": "Cuba",
         "marker": {
          "color": "#19d3f3",
          "size": [
           41.4
          ],
          "sizemode": "area",
          "sizeref": 0.34149999999999997,
          "symbol": "circle"
         },
         "mode": "markers",
         "name": "Cuba",
         "orientation": "v",
         "showlegend": true,
         "type": "scatter",
         "x": [
          85
         ],
         "xaxis": "x",
         "y": [
          86
         ],
         "yaxis": "y"
        },
        {
         "hovertemplate": "Countries and areas=Cyprus<br>Male Completion Rate=%{x}<br>Female Completion Rate=%{y}<br>Gross_Tertiary_Education_Enrollment=%{marker.size}<extra></extra>",
         "legendgroup": "Cyprus",
         "marker": {
          "color": "#FF6692",
          "size": [
           75.9
          ],
          "sizemode": "area",
          "sizeref": 0.34149999999999997,
          "symbol": "circle"
         },
         "mode": "markers",
         "name": "Cyprus",
         "orientation": "v",
         "showlegend": true,
         "type": "scatter",
         "x": [
          0
         ],
         "xaxis": "x",
         "y": [
          0
         ],
         "yaxis": "y"
        },
        {
         "hovertemplate": "Countries and areas=Czech Republic<br>Male Completion Rate=%{x}<br>Female Completion Rate=%{y}<br>Gross_Tertiary_Education_Enrollment=%{marker.size}<extra></extra>",
         "legendgroup": "Czech Republic",
         "marker": {
          "color": "#B6E880",
          "size": [
           64.1
          ],
          "sizemode": "area",
          "sizeref": 0.34149999999999997,
          "symbol": "circle"
         },
         "mode": "markers",
         "name": "Czech Republic",
         "orientation": "v",
         "showlegend": true,
         "type": "scatter",
         "x": [
          0
         ],
         "xaxis": "x",
         "y": [
          0
         ],
         "yaxis": "y"
        },
        {
         "hovertemplate": "Countries and areas=North Korea<br>Male Completion Rate=%{x}<br>Female Completion Rate=%{y}<br>Gross_Tertiary_Education_Enrollment=%{marker.size}<extra></extra>",
         "legendgroup": "North Korea",
         "marker": {
          "color": "#FF97FF",
          "size": [
           27
          ],
          "sizemode": "area",
          "sizeref": 0.34149999999999997,
          "symbol": "circle"
         },
         "mode": "markers",
         "name": "North Korea",
         "orientation": "v",
         "showlegend": true,
         "type": "scatter",
         "x": [
          100
         ],
         "xaxis": "x",
         "y": [
          100
         ],
         "yaxis": "y"
        },
        {
         "hovertemplate": "Countries and areas=Democratic Republic of the Congo<br>Male Completion Rate=%{x}<br>Female Completion Rate=%{y}<br>Gross_Tertiary_Education_Enrollment=%{marker.size}<extra></extra>",
         "legendgroup": "Democratic Republic of the Congo",
         "marker": {
          "color": "#FECB52",
          "size": [
           6.6
          ],
          "sizemode": "area",
          "sizeref": 0.34149999999999997,
          "symbol": "circle"
         },
         "mode": "markers",
         "name": "Democratic Republic of the Congo",
         "orientation": "v",
         "showlegend": true,
         "type": "scatter",
         "x": [
          36
         ],
         "xaxis": "x",
         "y": [
          27
         ],
         "yaxis": "y"
        },
        {
         "hovertemplate": "Countries and areas=Denmark<br>Male Completion Rate=%{x}<br>Female Completion Rate=%{y}<br>Gross_Tertiary_Education_Enrollment=%{marker.size}<extra></extra>",
         "legendgroup": "Denmark",
         "marker": {
          "color": "#636efa",
          "size": [
           80.6
          ],
          "sizemode": "area",
          "sizeref": 0.34149999999999997,
          "symbol": "circle"
         },
         "mode": "markers",
         "name": "Denmark",
         "orientation": "v",
         "showlegend": true,
         "type": "scatter",
         "x": [
          0
         ],
         "xaxis": "x",
         "y": [
          0
         ],
         "yaxis": "y"
        },
        {
         "hovertemplate": "Countries and areas=Djibouti<br>Male Completion Rate=%{x}<br>Female Completion Rate=%{y}<br>Gross_Tertiary_Education_Enrollment=%{marker.size}<extra></extra>",
         "legendgroup": "Djibouti",
         "marker": {
          "color": "#EF553B",
          "size": [
           5.3
          ],
          "sizemode": "area",
          "sizeref": 0.34149999999999997,
          "symbol": "circle"
         },
         "mode": "markers",
         "name": "Djibouti",
         "orientation": "v",
         "showlegend": true,
         "type": "scatter",
         "x": [
          0
         ],
         "xaxis": "x",
         "y": [
          0
         ],
         "yaxis": "y"
        },
        {
         "hovertemplate": "Countries and areas=Dominica<br>Male Completion Rate=%{x}<br>Female Completion Rate=%{y}<br>Gross_Tertiary_Education_Enrollment=%{marker.size}<extra></extra>",
         "legendgroup": "Dominica",
         "marker": {
          "color": "#00cc96",
          "size": [
           7.2
          ],
          "sizemode": "area",
          "sizeref": 0.34149999999999997,
          "symbol": "circle"
         },
         "mode": "markers",
         "name": "Dominica",
         "orientation": "v",
         "showlegend": true,
         "type": "scatter",
         "x": [
          0
         ],
         "xaxis": "x",
         "y": [
          0
         ],
         "yaxis": "y"
        },
        {
         "hovertemplate": "Countries and areas=Dominican Republic<br>Male Completion Rate=%{x}<br>Female Completion Rate=%{y}<br>Gross_Tertiary_Education_Enrollment=%{marker.size}<extra></extra>",
         "legendgroup": "Dominican Republic",
         "marker": {
          "color": "#ab63fa",
          "size": [
           59.9
          ],
          "sizemode": "area",
          "sizeref": 0.34149999999999997,
          "symbol": "circle"
         },
         "mode": "markers",
         "name": "Dominican Republic",
         "orientation": "v",
         "showlegend": true,
         "type": "scatter",
         "x": [
          48
         ],
         "xaxis": "x",
         "y": [
          66
         ],
         "yaxis": "y"
        },
        {
         "hovertemplate": "Countries and areas=Ecuador<br>Male Completion Rate=%{x}<br>Female Completion Rate=%{y}<br>Gross_Tertiary_Education_Enrollment=%{marker.size}<extra></extra>",
         "legendgroup": "Ecuador",
         "marker": {
          "color": "#FFA15A",
          "size": [
           44.9
          ],
          "sizemode": "area",
          "sizeref": 0.34149999999999997,
          "symbol": "circle"
         },
         "mode": "markers",
         "name": "Ecuador",
         "orientation": "v",
         "showlegend": true,
         "type": "scatter",
         "x": [
          78
         ],
         "xaxis": "x",
         "y": [
          79
         ],
         "yaxis": "y"
        },
        {
         "hovertemplate": "Countries and areas=Egypt<br>Male Completion Rate=%{x}<br>Female Completion Rate=%{y}<br>Gross_Tertiary_Education_Enrollment=%{marker.size}<extra></extra>",
         "legendgroup": "Egypt",
         "marker": {
          "color": "#19d3f3",
          "size": [
           35.2
          ],
          "sizemode": "area",
          "sizeref": 0.34149999999999997,
          "symbol": "circle"
         },
         "mode": "markers",
         "name": "Egypt",
         "orientation": "v",
         "showlegend": true,
         "type": "scatter",
         "x": [
          43
         ],
         "xaxis": "x",
         "y": [
          41
         ],
         "yaxis": "y"
        },
        {
         "hovertemplate": "Countries and areas=El Salvador<br>Male Completion Rate=%{x}<br>Female Completion Rate=%{y}<br>Gross_Tertiary_Education_Enrollment=%{marker.size}<extra></extra>",
         "legendgroup": "El Salvador",
         "marker": {
          "color": "#FF6692",
          "size": [
           29.4
          ],
          "sizemode": "area",
          "sizeref": 0.34149999999999997,
          "symbol": "circle"
         },
         "mode": "markers",
         "name": "El Salvador",
         "orientation": "v",
         "showlegend": true,
         "type": "scatter",
         "x": [
          34
         ],
         "xaxis": "x",
         "y": [
          36
         ],
         "yaxis": "y"
        },
        {
         "hovertemplate": "Countries and areas=Equatorial Guinea<br>Male Completion Rate=%{x}<br>Female Completion Rate=%{y}<br>Gross_Tertiary_Education_Enrollment=%{marker.size}<extra></extra>",
         "legendgroup": "Equatorial Guinea",
         "marker": {
          "color": "#B6E880",
          "size": [
           1.9
          ],
          "sizemode": "area",
          "sizeref": 0.34149999999999997,
          "symbol": "circle"
         },
         "mode": "markers",
         "name": "Equatorial Guinea",
         "orientation": "v",
         "showlegend": true,
         "type": "scatter",
         "x": [
          0
         ],
         "xaxis": "x",
         "y": [
          0
         ],
         "yaxis": "y"
        },
        {
         "hovertemplate": "Countries and areas=Eritrea<br>Male Completion Rate=%{x}<br>Female Completion Rate=%{y}<br>Gross_Tertiary_Education_Enrollment=%{marker.size}<extra></extra>",
         "legendgroup": "Eritrea",
         "marker": {
          "color": "#FF97FF",
          "size": [
           3.4
          ],
          "sizemode": "area",
          "sizeref": 0.34149999999999997,
          "symbol": "circle"
         },
         "mode": "markers",
         "name": "Eritrea",
         "orientation": "v",
         "showlegend": true,
         "type": "scatter",
         "x": [
          0
         ],
         "xaxis": "x",
         "y": [
          0
         ],
         "yaxis": "y"
        },
        {
         "hovertemplate": "Countries and areas=Estonia<br>Male Completion Rate=%{x}<br>Female Completion Rate=%{y}<br>Gross_Tertiary_Education_Enrollment=%{marker.size}<extra></extra>",
         "legendgroup": "Estonia",
         "marker": {
          "color": "#FECB52",
          "size": [
           69.6
          ],
          "sizemode": "area",
          "sizeref": 0.34149999999999997,
          "symbol": "circle"
         },
         "mode": "markers",
         "name": "Estonia",
         "orientation": "v",
         "showlegend": true,
         "type": "scatter",
         "x": [
          0
         ],
         "xaxis": "x",
         "y": [
          0
         ],
         "yaxis": "y"
        },
        {
         "hovertemplate": "Countries and areas=Eswatini<br>Male Completion Rate=%{x}<br>Female Completion Rate=%{y}<br>Gross_Tertiary_Education_Enrollment=%{marker.size}<extra></extra>",
         "legendgroup": "Eswatini",
         "marker": {
          "color": "#636efa",
          "size": [
           0
          ],
          "sizemode": "area",
          "sizeref": 0.34149999999999997,
          "symbol": "circle"
         },
         "mode": "markers",
         "name": "Eswatini",
         "orientation": "v",
         "showlegend": true,
         "type": "scatter",
         "x": [
          31
         ],
         "xaxis": "x",
         "y": [
          33
         ],
         "yaxis": "y"
        },
        {
         "hovertemplate": "Countries and areas=Ethiopia<br>Male Completion Rate=%{x}<br>Female Completion Rate=%{y}<br>Gross_Tertiary_Education_Enrollment=%{marker.size}<extra></extra>",
         "legendgroup": "Ethiopia",
         "marker": {
          "color": "#EF553B",
          "size": [
           8.1
          ],
          "sizemode": "area",
          "sizeref": 0.34149999999999997,
          "symbol": "circle"
         },
         "mode": "markers",
         "name": "Ethiopia",
         "orientation": "v",
         "showlegend": true,
         "type": "scatter",
         "x": [
          11
         ],
         "xaxis": "x",
         "y": [
          14
         ],
         "yaxis": "y"
        },
        {
         "hovertemplate": "Countries and areas=Fiji<br>Male Completion Rate=%{x}<br>Female Completion Rate=%{y}<br>Gross_Tertiary_Education_Enrollment=%{marker.size}<extra></extra>",
         "legendgroup": "Fiji",
         "marker": {
          "color": "#00cc96",
          "size": [
           16.1
          ],
          "sizemode": "area",
          "sizeref": 0.34149999999999997,
          "symbol": "circle"
         },
         "mode": "markers",
         "name": "Fiji",
         "orientation": "v",
         "showlegend": true,
         "type": "scatter",
         "x": [
          0
         ],
         "xaxis": "x",
         "y": [
          0
         ],
         "yaxis": "y"
        },
        {
         "hovertemplate": "Countries and areas=Finland<br>Male Completion Rate=%{x}<br>Female Completion Rate=%{y}<br>Gross_Tertiary_Education_Enrollment=%{marker.size}<extra></extra>",
         "legendgroup": "Finland",
         "marker": {
          "color": "#ab63fa",
          "size": [
           88.2
          ],
          "sizemode": "area",
          "sizeref": 0.34149999999999997,
          "symbol": "circle"
         },
         "mode": "markers",
         "name": "Finland",
         "orientation": "v",
         "showlegend": true,
         "type": "scatter",
         "x": [
          0
         ],
         "xaxis": "x",
         "y": [
          0
         ],
         "yaxis": "y"
        },
        {
         "hovertemplate": "Countries and areas=France<br>Male Completion Rate=%{x}<br>Female Completion Rate=%{y}<br>Gross_Tertiary_Education_Enrollment=%{marker.size}<extra></extra>",
         "legendgroup": "France",
         "marker": {
          "color": "#FFA15A",
          "size": [
           65.6
          ],
          "sizemode": "area",
          "sizeref": 0.34149999999999997,
          "symbol": "circle"
         },
         "mode": "markers",
         "name": "France",
         "orientation": "v",
         "showlegend": true,
         "type": "scatter",
         "x": [
          0
         ],
         "xaxis": "x",
         "y": [
          0
         ],
         "yaxis": "y"
        },
        {
         "hovertemplate": "Countries and areas=Gabon<br>Male Completion Rate=%{x}<br>Female Completion Rate=%{y}<br>Gross_Tertiary_Education_Enrollment=%{marker.size}<extra></extra>",
         "legendgroup": "Gabon",
         "marker": {
          "color": "#19d3f3",
          "size": [
           8.3
          ],
          "sizemode": "area",
          "sizeref": 0.34149999999999997,
          "symbol": "circle"
         },
         "mode": "markers",
         "name": "Gabon",
         "orientation": "v",
         "showlegend": true,
         "type": "scatter",
         "x": [
          14
         ],
         "xaxis": "x",
         "y": [
          14
         ],
         "yaxis": "y"
        },
        {
         "hovertemplate": "Countries and areas=The Gambia<br>Male Completion Rate=%{x}<br>Female Completion Rate=%{y}<br>Gross_Tertiary_Education_Enrollment=%{marker.size}<extra></extra>",
         "legendgroup": "The Gambia",
         "marker": {
          "color": "#FF6692",
          "size": [
           2.7
          ],
          "sizemode": "area",
          "sizeref": 0.34149999999999997,
          "symbol": "circle"
         },
         "mode": "markers",
         "name": "The Gambia",
         "orientation": "v",
         "showlegend": true,
         "type": "scatter",
         "x": [
          33
         ],
         "xaxis": "x",
         "y": [
          28
         ],
         "yaxis": "y"
        },
        {
         "hovertemplate": "Countries and areas=Georgia<br>Male Completion Rate=%{x}<br>Female Completion Rate=%{y}<br>Gross_Tertiary_Education_Enrollment=%{marker.size}<extra></extra>",
         "legendgroup": "Georgia",
         "marker": {
          "color": "#B6E880",
          "size": [
           63.9
          ],
          "sizemode": "area",
          "sizeref": 0.34149999999999997,
          "symbol": "circle"
         },
         "mode": "markers",
         "name": "Georgia",
         "orientation": "v",
         "showlegend": true,
         "type": "scatter",
         "x": [
          79
         ],
         "xaxis": "x",
         "y": [
          83
         ],
         "yaxis": "y"
        },
        {
         "hovertemplate": "Countries and areas=Germany<br>Male Completion Rate=%{x}<br>Female Completion Rate=%{y}<br>Gross_Tertiary_Education_Enrollment=%{marker.size}<extra></extra>",
         "legendgroup": "Germany",
         "marker": {
          "color": "#FF97FF",
          "size": [
           70.2
          ],
          "sizemode": "area",
          "sizeref": 0.34149999999999997,
          "symbol": "circle"
         },
         "mode": "markers",
         "name": "Germany",
         "orientation": "v",
         "showlegend": true,
         "type": "scatter",
         "x": [
          0
         ],
         "xaxis": "x",
         "y": [
          0
         ],
         "yaxis": "y"
        },
        {
         "hovertemplate": "Countries and areas=Ghana<br>Male Completion Rate=%{x}<br>Female Completion Rate=%{y}<br>Gross_Tertiary_Education_Enrollment=%{marker.size}<extra></extra>",
         "legendgroup": "Ghana",
         "marker": {
          "color": "#FECB52",
          "size": [
           15.7
          ],
          "sizemode": "area",
          "sizeref": 0.34149999999999997,
          "symbol": "circle"
         },
         "mode": "markers",
         "name": "Ghana",
         "orientation": "v",
         "showlegend": true,
         "type": "scatter",
         "x": [
          12
         ],
         "xaxis": "x",
         "y": [
          9
         ],
         "yaxis": "y"
        },
        {
         "hovertemplate": "Countries and areas=Greece<br>Male Completion Rate=%{x}<br>Female Completion Rate=%{y}<br>Gross_Tertiary_Education_Enrollment=%{marker.size}<extra></extra>",
         "legendgroup": "Greece",
         "marker": {
          "color": "#636efa",
          "size": [
           136.6
          ],
          "sizemode": "area",
          "sizeref": 0.34149999999999997,
          "symbol": "circle"
         },
         "mode": "markers",
         "name": "Greece",
         "orientation": "v",
         "showlegend": true,
         "type": "scatter",
         "x": [
          0
         ],
         "xaxis": "x",
         "y": [
          0
         ],
         "yaxis": "y"
        },
        {
         "hovertemplate": "Countries and areas=Grenada<br>Male Completion Rate=%{x}<br>Female Completion Rate=%{y}<br>Gross_Tertiary_Education_Enrollment=%{marker.size}<extra></extra>",
         "legendgroup": "Grenada",
         "marker": {
          "color": "#EF553B",
          "size": [
           104.6
          ],
          "sizemode": "area",
          "sizeref": 0.34149999999999997,
          "symbol": "circle"
         },
         "mode": "markers",
         "name": "Grenada",
         "orientation": "v",
         "showlegend": true,
         "type": "scatter",
         "x": [
          0
         ],
         "xaxis": "x",
         "y": [
          0
         ],
         "yaxis": "y"
        },
        {
         "hovertemplate": "Countries and areas=Guatemala<br>Male Completion Rate=%{x}<br>Female Completion Rate=%{y}<br>Gross_Tertiary_Education_Enrollment=%{marker.size}<extra></extra>",
         "legendgroup": "Guatemala",
         "marker": {
          "color": "#00cc96",
          "size": [
           21.8
          ],
          "sizemode": "area",
          "sizeref": 0.34149999999999997,
          "symbol": "circle"
         },
         "mode": "markers",
         "name": "Guatemala",
         "orientation": "v",
         "showlegend": true,
         "type": "scatter",
         "x": [
          27
         ],
         "xaxis": "x",
         "y": [
          25
         ],
         "yaxis": "y"
        },
        {
         "hovertemplate": "Countries and areas=Guinea<br>Male Completion Rate=%{x}<br>Female Completion Rate=%{y}<br>Gross_Tertiary_Education_Enrollment=%{marker.size}<extra></extra>",
         "legendgroup": "Guinea",
         "marker": {
          "color": "#ab63fa",
          "size": [
           11.6
          ],
          "sizemode": "area",
          "sizeref": 0.34149999999999997,
          "symbol": "circle"
         },
         "mode": "markers",
         "name": "Guinea",
         "orientation": "v",
         "showlegend": true,
         "type": "scatter",
         "x": [
          22
         ],
         "xaxis": "x",
         "y": [
          13
         ],
         "yaxis": "y"
        },
        {
         "hovertemplate": "Countries and areas=Guinea0Bissau<br>Male Completion Rate=%{x}<br>Female Completion Rate=%{y}<br>Gross_Tertiary_Education_Enrollment=%{marker.size}<extra></extra>",
         "legendgroup": "Guinea0Bissau",
         "marker": {
          "color": "#FFA15A",
          "size": [
           2.6
          ],
          "sizemode": "area",
          "sizeref": 0.34149999999999997,
          "symbol": "circle"
         },
         "mode": "markers",
         "name": "Guinea0Bissau",
         "orientation": "v",
         "showlegend": true,
         "type": "scatter",
         "x": [
          14
         ],
         "xaxis": "x",
         "y": [
          8
         ],
         "yaxis": "y"
        },
        {
         "hovertemplate": "Countries and areas=Guyana<br>Male Completion Rate=%{x}<br>Female Completion Rate=%{y}<br>Gross_Tertiary_Education_Enrollment=%{marker.size}<extra></extra>",
         "legendgroup": "Guyana",
         "marker": {
          "color": "#19d3f3",
          "size": [
           11.6
          ],
          "sizemode": "area",
          "sizeref": 0.34149999999999997,
          "symbol": "circle"
         },
         "mode": "markers",
         "name": "Guyana",
         "orientation": "v",
         "showlegend": true,
         "type": "scatter",
         "x": [
          49
         ],
         "xaxis": "x",
         "y": [
          64
         ],
         "yaxis": "y"
        },
        {
         "hovertemplate": "Countries and areas=Haiti<br>Male Completion Rate=%{x}<br>Female Completion Rate=%{y}<br>Gross_Tertiary_Education_Enrollment=%{marker.size}<extra></extra>",
         "legendgroup": "Haiti",
         "marker": {
          "color": "#FF6692",
          "size": [
           1.1
          ],
          "sizemode": "area",
          "sizeref": 0.34149999999999997,
          "symbol": "circle"
         },
         "mode": "markers",
         "name": "Haiti",
         "orientation": "v",
         "showlegend": true,
         "type": "scatter",
         "x": [
          17
         ],
         "xaxis": "x",
         "y": [
          16
         ],
         "yaxis": "y"
        },
        {
         "hovertemplate": "Countries and areas=Vatican City<br>Male Completion Rate=%{x}<br>Female Completion Rate=%{y}<br>Gross_Tertiary_Education_Enrollment=%{marker.size}<extra></extra>",
         "legendgroup": "Vatican City",
         "marker": {
          "color": "#B6E880",
          "size": [
           0
          ],
          "sizemode": "area",
          "sizeref": 0.34149999999999997,
          "symbol": "circle"
         },
         "mode": "markers",
         "name": "Vatican City",
         "orientation": "v",
         "showlegend": true,
         "type": "scatter",
         "x": [
          0
         ],
         "xaxis": "x",
         "y": [
          0
         ],
         "yaxis": "y"
        },
        {
         "hovertemplate": "Countries and areas=Honduras<br>Male Completion Rate=%{x}<br>Female Completion Rate=%{y}<br>Gross_Tertiary_Education_Enrollment=%{marker.size}<extra></extra>",
         "legendgroup": "Honduras",
         "marker": {
          "color": "#FF97FF",
          "size": [
           26.2
          ],
          "sizemode": "area",
          "sizeref": 0.34149999999999997,
          "symbol": "circle"
         },
         "mode": "markers",
         "name": "Honduras",
         "orientation": "v",
         "showlegend": true,
         "type": "scatter",
         "x": [
          29
         ],
         "xaxis": "x",
         "y": [
          35
         ],
         "yaxis": "y"
        },
        {
         "hovertemplate": "Countries and areas=Hungary<br>Male Completion Rate=%{x}<br>Female Completion Rate=%{y}<br>Gross_Tertiary_Education_Enrollment=%{marker.size}<extra></extra>",
         "legendgroup": "Hungary",
         "marker": {
          "color": "#FECB52",
          "size": [
           48.5
          ],
          "sizemode": "area",
          "sizeref": 0.34149999999999997,
          "symbol": "circle"
         },
         "mode": "markers",
         "name": "Hungary",
         "orientation": "v",
         "showlegend": true,
         "type": "scatter",
         "x": [
          0
         ],
         "xaxis": "x",
         "y": [
          0
         ],
         "yaxis": "y"
        },
        {
         "hovertemplate": "Countries and areas=Iceland<br>Male Completion Rate=%{x}<br>Female Completion Rate=%{y}<br>Gross_Tertiary_Education_Enrollment=%{marker.size}<extra></extra>",
         "legendgroup": "Iceland",
         "marker": {
          "color": "#636efa",
          "size": [
           71.8
          ],
          "sizemode": "area",
          "sizeref": 0.34149999999999997,
          "symbol": "circle"
         },
         "mode": "markers",
         "name": "Iceland",
         "orientation": "v",
         "showlegend": true,
         "type": "scatter",
         "x": [
          0
         ],
         "xaxis": "x",
         "y": [
          0
         ],
         "yaxis": "y"
        },
        {
         "hovertemplate": "Countries and areas=India<br>Male Completion Rate=%{x}<br>Female Completion Rate=%{y}<br>Gross_Tertiary_Education_Enrollment=%{marker.size}<extra></extra>",
         "legendgroup": "India",
         "marker": {
          "color": "#EF553B",
          "size": [
           28.1
          ],
          "sizemode": "area",
          "sizeref": 0.34149999999999997,
          "symbol": "circle"
         },
         "mode": "markers",
         "name": "India",
         "orientation": "v",
         "showlegend": true,
         "type": "scatter",
         "x": [
          46
         ],
         "xaxis": "x",
         "y": [
          40
         ],
         "yaxis": "y"
        },
        {
         "hovertemplate": "Countries and areas=Indonesia<br>Male Completion Rate=%{x}<br>Female Completion Rate=%{y}<br>Gross_Tertiary_Education_Enrollment=%{marker.size}<extra></extra>",
         "legendgroup": "Indonesia",
         "marker": {
          "color": "#00cc96",
          "size": [
           36.3
          ],
          "sizemode": "area",
          "sizeref": 0.34149999999999997,
          "symbol": "circle"
         },
         "mode": "markers",
         "name": "Indonesia",
         "orientation": "v",
         "showlegend": true,
         "type": "scatter",
         "x": [
          40
         ],
         "xaxis": "x",
         "y": [
          37
         ],
         "yaxis": "y"
        },
        {
         "hovertemplate": "Countries and areas=Iran<br>Male Completion Rate=%{x}<br>Female Completion Rate=%{y}<br>Gross_Tertiary_Education_Enrollment=%{marker.size}<extra></extra>",
         "legendgroup": "Iran",
         "marker": {
          "color": "#ab63fa",
          "size": [
           68.1
          ],
          "sizemode": "area",
          "sizeref": 0.34149999999999997,
          "symbol": "circle"
         },
         "mode": "markers",
         "name": "Iran",
         "orientation": "v",
         "showlegend": true,
         "type": "scatter",
         "x": [
          0
         ],
         "xaxis": "x",
         "y": [
          0
         ],
         "yaxis": "y"
        },
        {
         "hovertemplate": "Countries and areas=Iraq<br>Male Completion Rate=%{x}<br>Female Completion Rate=%{y}<br>Gross_Tertiary_Education_Enrollment=%{marker.size}<extra></extra>",
         "legendgroup": "Iraq",
         "marker": {
          "color": "#FFA15A",
          "size": [
           16.2
          ],
          "sizemode": "area",
          "sizeref": 0.34149999999999997,
          "symbol": "circle"
         },
         "mode": "markers",
         "name": "Iraq",
         "orientation": "v",
         "showlegend": true,
         "type": "scatter",
         "x": [
          45
         ],
         "xaxis": "x",
         "y": [
          43
         ],
         "yaxis": "y"
        },
        {
         "hovertemplate": "Countries and areas=Republic of Ireland<br>Male Completion Rate=%{x}<br>Female Completion Rate=%{y}<br>Gross_Tertiary_Education_Enrollment=%{marker.size}<extra></extra>",
         "legendgroup": "Republic of Ireland",
         "marker": {
          "color": "#19d3f3",
          "size": [
           77.8
          ],
          "sizemode": "area",
          "sizeref": 0.34149999999999997,
          "symbol": "circle"
         },
         "mode": "markers",
         "name": "Republic of Ireland",
         "orientation": "v",
         "showlegend": true,
         "type": "scatter",
         "x": [
          0
         ],
         "xaxis": "x",
         "y": [
          0
         ],
         "yaxis": "y"
        },
        {
         "hovertemplate": "Countries and areas=Israel<br>Male Completion Rate=%{x}<br>Female Completion Rate=%{y}<br>Gross_Tertiary_Education_Enrollment=%{marker.size}<extra></extra>",
         "legendgroup": "Israel",
         "marker": {
          "color": "#FF6692",
          "size": [
           63.4
          ],
          "sizemode": "area",
          "sizeref": 0.34149999999999997,
          "symbol": "circle"
         },
         "mode": "markers",
         "name": "Israel",
         "orientation": "v",
         "showlegend": true,
         "type": "scatter",
         "x": [
          0
         ],
         "xaxis": "x",
         "y": [
          0
         ],
         "yaxis": "y"
        },
        {
         "hovertemplate": "Countries and areas=Italy<br>Male Completion Rate=%{x}<br>Female Completion Rate=%{y}<br>Gross_Tertiary_Education_Enrollment=%{marker.size}<extra></extra>",
         "legendgroup": "Italy",
         "marker": {
          "color": "#B6E880",
          "size": [
           61.9
          ],
          "sizemode": "area",
          "sizeref": 0.34149999999999997,
          "symbol": "circle"
         },
         "mode": "markers",
         "name": "Italy",
         "orientation": "v",
         "showlegend": true,
         "type": "scatter",
         "x": [
          0
         ],
         "xaxis": "x",
         "y": [
          0
         ],
         "yaxis": "y"
        },
        {
         "hovertemplate": "Countries and areas=Jamaica<br>Male Completion Rate=%{x}<br>Female Completion Rate=%{y}<br>Gross_Tertiary_Education_Enrollment=%{marker.size}<extra></extra>",
         "legendgroup": "Jamaica",
         "marker": {
          "color": "#FF97FF",
          "size": [
           27.1
          ],
          "sizemode": "area",
          "sizeref": 0.34149999999999997,
          "symbol": "circle"
         },
         "mode": "markers",
         "name": "Jamaica",
         "orientation": "v",
         "showlegend": true,
         "type": "scatter",
         "x": [
          80
         ],
         "xaxis": "x",
         "y": [
          83
         ],
         "yaxis": "y"
        },
        {
         "hovertemplate": "Countries and areas=Japan<br>Male Completion Rate=%{x}<br>Female Completion Rate=%{y}<br>Gross_Tertiary_Education_Enrollment=%{marker.size}<extra></extra>",
         "legendgroup": "Japan",
         "marker": {
          "color": "#FECB52",
          "size": [
           63.2
          ],
          "sizemode": "area",
          "sizeref": 0.34149999999999997,
          "symbol": "circle"
         },
         "mode": "markers",
         "name": "Japan",
         "orientation": "v",
         "showlegend": true,
         "type": "scatter",
         "x": [
          0
         ],
         "xaxis": "x",
         "y": [
          0
         ],
         "yaxis": "y"
        },
        {
         "hovertemplate": "Countries and areas=Jordan<br>Male Completion Rate=%{x}<br>Female Completion Rate=%{y}<br>Gross_Tertiary_Education_Enrollment=%{marker.size}<extra></extra>",
         "legendgroup": "Jordan",
         "marker": {
          "color": "#636efa",
          "size": [
           34.4
          ],
          "sizemode": "area",
          "sizeref": 0.34149999999999997,
          "symbol": "circle"
         },
         "mode": "markers",
         "name": "Jordan",
         "orientation": "v",
         "showlegend": true,
         "type": "scatter",
         "x": [
          49
         ],
         "xaxis": "x",
         "y": [
          63
         ],
         "yaxis": "y"
        },
        {
         "hovertemplate": "Countries and areas=Kazakhstan<br>Male Completion Rate=%{x}<br>Female Completion Rate=%{y}<br>Gross_Tertiary_Education_Enrollment=%{marker.size}<extra></extra>",
         "legendgroup": "Kazakhstan",
         "marker": {
          "color": "#EF553B",
          "size": [
           61.7
          ],
          "sizemode": "area",
          "sizeref": 0.34149999999999997,
          "symbol": "circle"
         },
         "mode": "markers",
         "name": "Kazakhstan",
         "orientation": "v",
         "showlegend": true,
         "type": "scatter",
         "x": [
          95
         ],
         "xaxis": "x",
         "y": [
          96
         ],
         "yaxis": "y"
        },
        {
         "hovertemplate": "Countries and areas=Kenya<br>Male Completion Rate=%{x}<br>Female Completion Rate=%{y}<br>Gross_Tertiary_Education_Enrollment=%{marker.size}<extra></extra>",
         "legendgroup": "Kenya",
         "marker": {
          "color": "#00cc96",
          "size": [
           11.5
          ],
          "sizemode": "area",
          "sizeref": 0.34149999999999997,
          "symbol": "circle"
         },
         "mode": "markers",
         "name": "Kenya",
         "orientation": "v",
         "showlegend": true,
         "type": "scatter",
         "x": [
          44
         ],
         "xaxis": "x",
         "y": [
          38
         ],
         "yaxis": "y"
        },
        {
         "hovertemplate": "Countries and areas=Kiribati<br>Male Completion Rate=%{x}<br>Female Completion Rate=%{y}<br>Gross_Tertiary_Education_Enrollment=%{marker.size}<extra></extra>",
         "legendgroup": "Kiribati",
         "marker": {
          "color": "#ab63fa",
          "size": [
           0
          ],
          "sizemode": "area",
          "sizeref": 0.34149999999999997,
          "symbol": "circle"
         },
         "mode": "markers",
         "name": "Kiribati",
         "orientation": "v",
         "showlegend": true,
         "type": "scatter",
         "x": [
          13
         ],
         "xaxis": "x",
         "y": [
          20
         ],
         "yaxis": "y"
        },
        {
         "hovertemplate": "Countries and areas=Kuwait<br>Male Completion Rate=%{x}<br>Female Completion Rate=%{y}<br>Gross_Tertiary_Education_Enrollment=%{marker.size}<extra></extra>",
         "legendgroup": "Kuwait",
         "marker": {
          "color": "#FFA15A",
          "size": [
           54.4
          ],
          "sizemode": "area",
          "sizeref": 0.34149999999999997,
          "symbol": "circle"
         },
         "mode": "markers",
         "name": "Kuwait",
         "orientation": "v",
         "showlegend": true,
         "type": "scatter",
         "x": [
          0
         ],
         "xaxis": "x",
         "y": [
          0
         ],
         "yaxis": "y"
        },
        {
         "hovertemplate": "Countries and areas=Kyrgyzstan<br>Male Completion Rate=%{x}<br>Female Completion Rate=%{y}<br>Gross_Tertiary_Education_Enrollment=%{marker.size}<extra></extra>",
         "legendgroup": "Kyrgyzstan",
         "marker": {
          "color": "#19d3f3",
          "size": [
           41.3
          ],
          "sizemode": "area",
          "sizeref": 0.34149999999999997,
          "symbol": "circle"
         },
         "mode": "markers",
         "name": "Kyrgyzstan",
         "orientation": "v",
         "showlegend": true,
         "type": "scatter",
         "x": [
          89
         ],
         "xaxis": "x",
         "y": [
          85
         ],
         "yaxis": "y"
        },
        {
         "hovertemplate": "Countries and areas=Laos<br>Male Completion Rate=%{x}<br>Female Completion Rate=%{y}<br>Gross_Tertiary_Education_Enrollment=%{marker.size}<extra></extra>",
         "legendgroup": "Laos",
         "marker": {
          "color": "#FF6692",
          "size": [
           15
          ],
          "sizemode": "area",
          "sizeref": 0.34149999999999997,
          "symbol": "circle"
         },
         "mode": "markers",
         "name": "Laos",
         "orientation": "v",
         "showlegend": true,
         "type": "scatter",
         "x": [
          32
         ],
         "xaxis": "x",
         "y": [
          31
         ],
         "yaxis": "y"
        },
        {
         "hovertemplate": "Countries and areas=Latvia<br>Male Completion Rate=%{x}<br>Female Completion Rate=%{y}<br>Gross_Tertiary_Education_Enrollment=%{marker.size}<extra></extra>",
         "legendgroup": "Latvia",
         "marker": {
          "color": "#B6E880",
          "size": [
           88.1
          ],
          "sizemode": "area",
          "sizeref": 0.34149999999999997,
          "symbol": "circle"
         },
         "mode": "markers",
         "name": "Latvia",
         "orientation": "v",
         "showlegend": true,
         "type": "scatter",
         "x": [
          0
         ],
         "xaxis": "x",
         "y": [
          0
         ],
         "yaxis": "y"
        },
        {
         "hovertemplate": "Countries and areas=Lebanon<br>Male Completion Rate=%{x}<br>Female Completion Rate=%{y}<br>Gross_Tertiary_Education_Enrollment=%{marker.size}<extra></extra>",
         "legendgroup": "Lebanon",
         "marker": {
          "color": "#FF97FF",
          "size": [
           26.3
          ],
          "sizemode": "area",
          "sizeref": 0.34149999999999997,
          "symbol": "circle"
         },
         "mode": "markers",
         "name": "Lebanon",
         "orientation": "v",
         "showlegend": true,
         "type": "scatter",
         "x": [
          0
         ],
         "xaxis": "x",
         "y": [
          0
         ],
         "yaxis": "y"
        },
        {
         "hovertemplate": "Countries and areas=Lesotho<br>Male Completion Rate=%{x}<br>Female Completion Rate=%{y}<br>Gross_Tertiary_Education_Enrollment=%{marker.size}<extra></extra>",
         "legendgroup": "Lesotho",
         "marker": {
          "color": "#FECB52",
          "size": [
           10.2
          ],
          "sizemode": "area",
          "sizeref": 0.34149999999999997,
          "symbol": "circle"
         },
         "mode": "markers",
         "name": "Lesotho",
         "orientation": "v",
         "showlegend": true,
         "type": "scatter",
         "x": [
          27
         ],
         "xaxis": "x",
         "y": [
          37
         ],
         "yaxis": "y"
        },
        {
         "hovertemplate": "Countries and areas=Liberia<br>Male Completion Rate=%{x}<br>Female Completion Rate=%{y}<br>Gross_Tertiary_Education_Enrollment=%{marker.size}<extra></extra>",
         "legendgroup": "Liberia",
         "marker": {
          "color": "#636efa",
          "size": [
           11.9
          ],
          "sizemode": "area",
          "sizeref": 0.34149999999999997,
          "symbol": "circle"
         },
         "mode": "markers",
         "name": "Liberia",
         "orientation": "v",
         "showlegend": true,
         "type": "scatter",
         "x": [
          18
         ],
         "xaxis": "x",
         "y": [
          9
         ],
         "yaxis": "y"
        },
        {
         "hovertemplate": "Countries and areas=Libya<br>Male Completion Rate=%{x}<br>Female Completion Rate=%{y}<br>Gross_Tertiary_Education_Enrollment=%{marker.size}<extra></extra>",
         "legendgroup": "Libya",
         "marker": {
          "color": "#EF553B",
          "size": [
           60.5
          ],
          "sizemode": "area",
          "sizeref": 0.34149999999999997,
          "symbol": "circle"
         },
         "mode": "markers",
         "name": "Libya",
         "orientation": "v",
         "showlegend": true,
         "type": "scatter",
         "x": [
          0
         ],
         "xaxis": "x",
         "y": [
          0
         ],
         "yaxis": "y"
        },
        {
         "hovertemplate": "Countries and areas=Liechtenstein<br>Male Completion Rate=%{x}<br>Female Completion Rate=%{y}<br>Gross_Tertiary_Education_Enrollment=%{marker.size}<extra></extra>",
         "legendgroup": "Liechtenstein",
         "marker": {
          "color": "#00cc96",
          "size": [
           35.6
          ],
          "sizemode": "area",
          "sizeref": 0.34149999999999997,
          "symbol": "circle"
         },
         "mode": "markers",
         "name": "Liechtenstein",
         "orientation": "v",
         "showlegend": true,
         "type": "scatter",
         "x": [
          0
         ],
         "xaxis": "x",
         "y": [
          0
         ],
         "yaxis": "y"
        },
        {
         "hovertemplate": "Countries and areas=Lithuania<br>Male Completion Rate=%{x}<br>Female Completion Rate=%{y}<br>Gross_Tertiary_Education_Enrollment=%{marker.size}<extra></extra>",
         "legendgroup": "Lithuania",
         "marker": {
          "color": "#ab63fa",
          "size": [
           72.4
          ],
          "sizemode": "area",
          "sizeref": 0.34149999999999997,
          "symbol": "circle"
         },
         "mode": "markers",
         "name": "Lithuania",
         "orientation": "v",
         "showlegend": true,
         "type": "scatter",
         "x": [
          0
         ],
         "xaxis": "x",
         "y": [
          0
         ],
         "yaxis": "y"
        },
        {
         "hovertemplate": "Countries and areas=Luxembourg<br>Male Completion Rate=%{x}<br>Female Completion Rate=%{y}<br>Gross_Tertiary_Education_Enrollment=%{marker.size}<extra></extra>",
         "legendgroup": "Luxembourg",
         "marker": {
          "color": "#FFA15A",
          "size": [
           19.2
          ],
          "sizemode": "area",
          "sizeref": 0.34149999999999997,
          "symbol": "circle"
         },
         "mode": "markers",
         "name": "Luxembourg",
         "orientation": "v",
         "showlegend": true,
         "type": "scatter",
         "x": [
          0
         ],
         "xaxis": "x",
         "y": [
          0
         ],
         "yaxis": "y"
        },
        {
         "hovertemplate": "Countries and areas=Madagascar<br>Male Completion Rate=%{x}<br>Female Completion Rate=%{y}<br>Gross_Tertiary_Education_Enrollment=%{marker.size}<extra></extra>",
         "legendgroup": "Madagascar",
         "marker": {
          "color": "#19d3f3",
          "size": [
           5.4
          ],
          "sizemode": "area",
          "sizeref": 0.34149999999999997,
          "symbol": "circle"
         },
         "mode": "markers",
         "name": "Madagascar",
         "orientation": "v",
         "showlegend": true,
         "type": "scatter",
         "x": [
          16
         ],
         "xaxis": "x",
         "y": [
          15
         ],
         "yaxis": "y"
        },
        {
         "hovertemplate": "Countries and areas=Malawi<br>Male Completion Rate=%{x}<br>Female Completion Rate=%{y}<br>Gross_Tertiary_Education_Enrollment=%{marker.size}<extra></extra>",
         "legendgroup": "Malawi",
         "marker": {
          "color": "#FF6692",
          "size": [
           0.8
          ],
          "sizemode": "area",
          "sizeref": 0.34149999999999997,
          "symbol": "circle"
         },
         "mode": "markers",
         "name": "Malawi",
         "orientation": "v",
         "showlegend": true,
         "type": "scatter",
         "x": [
          15
         ],
         "xaxis": "x",
         "y": [
          13
         ],
         "yaxis": "y"
        },
        {
         "hovertemplate": "Countries and areas=Malaysia<br>Male Completion Rate=%{x}<br>Female Completion Rate=%{y}<br>Gross_Tertiary_Education_Enrollment=%{marker.size}<extra></extra>",
         "legendgroup": "Malaysia",
         "marker": {
          "color": "#B6E880",
          "size": [
           45.1
          ],
          "sizemode": "area",
          "sizeref": 0.34149999999999997,
          "symbol": "circle"
         },
         "mode": "markers",
         "name": "Malaysia",
         "orientation": "v",
         "showlegend": true,
         "type": "scatter",
         "x": [
          0
         ],
         "xaxis": "x",
         "y": [
          0
         ],
         "yaxis": "y"
        },
        {
         "hovertemplate": "Countries and areas=Maldives<br>Male Completion Rate=%{x}<br>Female Completion Rate=%{y}<br>Gross_Tertiary_Education_Enrollment=%{marker.size}<extra></extra>",
         "legendgroup": "Maldives",
         "marker": {
          "color": "#FF97FF",
          "size": [
           31.2
          ],
          "sizemode": "area",
          "sizeref": 0.34149999999999997,
          "symbol": "circle"
         },
         "mode": "markers",
         "name": "Maldives",
         "orientation": "v",
         "showlegend": true,
         "type": "scatter",
         "x": [
          0
         ],
         "xaxis": "x",
         "y": [
          0
         ],
         "yaxis": "y"
        },
        {
         "hovertemplate": "Countries and areas=Mali<br>Male Completion Rate=%{x}<br>Female Completion Rate=%{y}<br>Gross_Tertiary_Education_Enrollment=%{marker.size}<extra></extra>",
         "legendgroup": "Mali",
         "marker": {
          "color": "#FECB52",
          "size": [
           4.5
          ],
          "sizemode": "area",
          "sizeref": 0.34149999999999997,
          "symbol": "circle"
         },
         "mode": "markers",
         "name": "Mali",
         "orientation": "v",
         "showlegend": true,
         "type": "scatter",
         "x": [
          23
         ],
         "xaxis": "x",
         "y": [
          12
         ],
         "yaxis": "y"
        },
        {
         "hovertemplate": "Countries and areas=Malta<br>Male Completion Rate=%{x}<br>Female Completion Rate=%{y}<br>Gross_Tertiary_Education_Enrollment=%{marker.size}<extra></extra>",
         "legendgroup": "Malta",
         "marker": {
          "color": "#636efa",
          "size": [
           54.3
          ],
          "sizemode": "area",
          "sizeref": 0.34149999999999997,
          "symbol": "circle"
         },
         "mode": "markers",
         "name": "Malta",
         "orientation": "v",
         "showlegend": true,
         "type": "scatter",
         "x": [
          0
         ],
         "xaxis": "x",
         "y": [
          0
         ],
         "yaxis": "y"
        },
        {
         "hovertemplate": "Countries and areas=Marshall Islands<br>Male Completion Rate=%{x}<br>Female Completion Rate=%{y}<br>Gross_Tertiary_Education_Enrollment=%{marker.size}<extra></extra>",
         "legendgroup": "Marshall Islands",
         "marker": {
          "color": "#EF553B",
          "size": [
           23.7
          ],
          "sizemode": "area",
          "sizeref": 0.34149999999999997,
          "symbol": "circle"
         },
         "mode": "markers",
         "name": "Marshall Islands",
         "orientation": "v",
         "showlegend": true,
         "type": "scatter",
         "x": [
          0
         ],
         "xaxis": "x",
         "y": [
          0
         ],
         "yaxis": "y"
        },
        {
         "hovertemplate": "Countries and areas=Mauritania<br>Male Completion Rate=%{x}<br>Female Completion Rate=%{y}<br>Gross_Tertiary_Education_Enrollment=%{marker.size}<extra></extra>",
         "legendgroup": "Mauritania",
         "marker": {
          "color": "#00cc96",
          "size": [
           5
          ],
          "sizemode": "area",
          "sizeref": 0.34149999999999997,
          "symbol": "circle"
         },
         "mode": "markers",
         "name": "Mauritania",
         "orientation": "v",
         "showlegend": true,
         "type": "scatter",
         "x": [
          31
         ],
         "xaxis": "x",
         "y": [
          23
         ],
         "yaxis": "y"
        },
        {
         "hovertemplate": "Countries and areas=Mauritius<br>Male Completion Rate=%{x}<br>Female Completion Rate=%{y}<br>Gross_Tertiary_Education_Enrollment=%{marker.size}<extra></extra>",
         "legendgroup": "Mauritius",
         "marker": {
          "color": "#ab63fa",
          "size": [
           40.6
          ],
          "sizemode": "area",
          "sizeref": 0.34149999999999997,
          "symbol": "circle"
         },
         "mode": "markers",
         "name": "Mauritius",
         "orientation": "v",
         "showlegend": true,
         "type": "scatter",
         "x": [
          0
         ],
         "xaxis": "x",
         "y": [
          0
         ],
         "yaxis": "y"
        },
        {
         "hovertemplate": "Countries and areas=Mexico<br>Male Completion Rate=%{x}<br>Female Completion Rate=%{y}<br>Gross_Tertiary_Education_Enrollment=%{marker.size}<extra></extra>",
         "legendgroup": "Mexico",
         "marker": {
          "color": "#FFA15A",
          "size": [
           40.2
          ],
          "sizemode": "area",
          "sizeref": 0.34149999999999997,
          "symbol": "circle"
         },
         "mode": "markers",
         "name": "Mexico",
         "orientation": "v",
         "showlegend": true,
         "type": "scatter",
         "x": [
          56
         ],
         "xaxis": "x",
         "y": [
          60
         ],
         "yaxis": "y"
        },
        {
         "hovertemplate": "Countries and areas=Federated States of Micronesia<br>Male Completion Rate=%{x}<br>Female Completion Rate=%{y}<br>Gross_Tertiary_Education_Enrollment=%{marker.size}<extra></extra>",
         "legendgroup": "Federated States of Micronesia",
         "marker": {
          "color": "#19d3f3",
          "size": [
           14.1
          ],
          "sizemode": "area",
          "sizeref": 0.34149999999999997,
          "symbol": "circle"
         },
         "mode": "markers",
         "name": "Federated States of Micronesia",
         "orientation": "v",
         "showlegend": true,
         "type": "scatter",
         "x": [
          0
         ],
         "xaxis": "x",
         "y": [
          0
         ],
         "yaxis": "y"
        },
        {
         "hovertemplate": "Countries and areas=Monaco<br>Male Completion Rate=%{x}<br>Female Completion Rate=%{y}<br>Gross_Tertiary_Education_Enrollment=%{marker.size}<extra></extra>",
         "legendgroup": "Monaco",
         "marker": {
          "color": "#FF6692",
          "size": [
           0
          ],
          "sizemode": "area",
          "sizeref": 0.34149999999999997,
          "symbol": "circle"
         },
         "mode": "markers",
         "name": "Monaco",
         "orientation": "v",
         "showlegend": true,
         "type": "scatter",
         "x": [
          0
         ],
         "xaxis": "x",
         "y": [
          0
         ],
         "yaxis": "y"
        },
        {
         "hovertemplate": "Countries and areas=Mongolia<br>Male Completion Rate=%{x}<br>Female Completion Rate=%{y}<br>Gross_Tertiary_Education_Enrollment=%{marker.size}<extra></extra>",
         "legendgroup": "Mongolia",
         "marker": {
          "color": "#B6E880",
          "size": [
           65.6
          ],
          "sizemode": "area",
          "sizeref": 0.34149999999999997,
          "symbol": "circle"
         },
         "mode": "markers",
         "name": "Mongolia",
         "orientation": "v",
         "showlegend": true,
         "type": "scatter",
         "x": [
          60
         ],
         "xaxis": "x",
         "y": [
          73
         ],
         "yaxis": "y"
        },
        {
         "hovertemplate": "Countries and areas=Montenegro<br>Male Completion Rate=%{x}<br>Female Completion Rate=%{y}<br>Gross_Tertiary_Education_Enrollment=%{marker.size}<extra></extra>",
         "legendgroup": "Montenegro",
         "marker": {
          "color": "#FF97FF",
          "size": [
           56.1
          ],
          "sizemode": "area",
          "sizeref": 0.34149999999999997,
          "symbol": "circle"
         },
         "mode": "markers",
         "name": "Montenegro",
         "orientation": "v",
         "showlegend": true,
         "type": "scatter",
         "x": [
          83
         ],
         "xaxis": "x",
         "y": [
          90
         ],
         "yaxis": "y"
        },
        {
         "hovertemplate": "Countries and areas=Montserrat<br>Male Completion Rate=%{x}<br>Female Completion Rate=%{y}<br>Gross_Tertiary_Education_Enrollment=%{marker.size}<extra></extra>",
         "legendgroup": "Montserrat",
         "marker": {
          "color": "#FECB52",
          "size": [
           0
          ],
          "sizemode": "area",
          "sizeref": 0.34149999999999997,
          "symbol": "circle"
         },
         "mode": "markers",
         "name": "Montserrat",
         "orientation": "v",
         "showlegend": true,
         "type": "scatter",
         "x": [
          0
         ],
         "xaxis": "x",
         "y": [
          0
         ],
         "yaxis": "y"
        },
        {
         "hovertemplate": "Countries and areas=Morocco<br>Male Completion Rate=%{x}<br>Female Completion Rate=%{y}<br>Gross_Tertiary_Education_Enrollment=%{marker.size}<extra></extra>",
         "legendgroup": "Morocco",
         "marker": {
          "color": "#636efa",
          "size": [
           35.9
          ],
          "sizemode": "area",
          "sizeref": 0.34149999999999997,
          "symbol": "circle"
         },
         "mode": "markers",
         "name": "Morocco",
         "orientation": "v",
         "showlegend": true,
         "type": "scatter",
         "x": [
          0
         ],
         "xaxis": "x",
         "y": [
          0
         ],
         "yaxis": "y"
        },
        {
         "hovertemplate": "Countries and areas=Mozambique<br>Male Completion Rate=%{x}<br>Female Completion Rate=%{y}<br>Gross_Tertiary_Education_Enrollment=%{marker.size}<extra></extra>",
         "legendgroup": "Mozambique",
         "marker": {
          "color": "#EF553B",
          "size": [
           7.3
          ],
          "sizemode": "area",
          "sizeref": 0.34149999999999997,
          "symbol": "circle"
         },
         "mode": "markers",
         "name": "Mozambique",
         "orientation": "v",
         "showlegend": true,
         "type": "scatter",
         "x": [
          8
         ],
         "xaxis": "x",
         "y": [
          5
         ],
         "yaxis": "y"
        },
        {
         "hovertemplate": "Countries and areas=Myanmar<br>Male Completion Rate=%{x}<br>Female Completion Rate=%{y}<br>Gross_Tertiary_Education_Enrollment=%{marker.size}<extra></extra>",
         "legendgroup": "Myanmar",
         "marker": {
          "color": "#00cc96",
          "size": [
           18.8
          ],
          "sizemode": "area",
          "sizeref": 0.34149999999999997,
          "symbol": "circle"
         },
         "mode": "markers",
         "name": "Myanmar",
         "orientation": "v",
         "showlegend": true,
         "type": "scatter",
         "x": [
          14
         ],
         "xaxis": "x",
         "y": [
          19
         ],
         "yaxis": "y"
        },
        {
         "hovertemplate": "Countries and areas=Namibia<br>Male Completion Rate=%{x}<br>Female Completion Rate=%{y}<br>Gross_Tertiary_Education_Enrollment=%{marker.size}<extra></extra>",
         "legendgroup": "Namibia",
         "marker": {
          "color": "#ab63fa",
          "size": [
           22.9
          ],
          "sizemode": "area",
          "sizeref": 0.34149999999999997,
          "symbol": "circle"
         },
         "mode": "markers",
         "name": "Namibia",
         "orientation": "v",
         "showlegend": true,
         "type": "scatter",
         "x": [
          33
         ],
         "xaxis": "x",
         "y": [
          39
         ],
         "yaxis": "y"
        },
        {
         "hovertemplate": "Countries and areas=Nauru<br>Male Completion Rate=%{x}<br>Female Completion Rate=%{y}<br>Gross_Tertiary_Education_Enrollment=%{marker.size}<extra></extra>",
         "legendgroup": "Nauru",
         "marker": {
          "color": "#FFA15A",
          "size": [
           0
          ],
          "sizemode": "area",
          "sizeref": 0.34149999999999997,
          "symbol": "circle"
         },
         "mode": "markers",
         "name": "Nauru",
         "orientation": "v",
         "showlegend": true,
         "type": "scatter",
         "x": [
          0
         ],
         "xaxis": "x",
         "y": [
          0
         ],
         "yaxis": "y"
        },
        {
         "hovertemplate": "Countries and areas=Nepal<br>Male Completion Rate=%{x}<br>Female Completion Rate=%{y}<br>Gross_Tertiary_Education_Enrollment=%{marker.size}<extra></extra>",
         "legendgroup": "Nepal",
         "marker": {
          "color": "#19d3f3",
          "size": [
           12.4
          ],
          "sizemode": "area",
          "sizeref": 0.34149999999999997,
          "symbol": "circle"
         },
         "mode": "markers",
         "name": "Nepal",
         "orientation": "v",
         "showlegend": true,
         "type": "scatter",
         "x": [
          27
         ],
         "xaxis": "x",
         "y": [
          28
         ],
         "yaxis": "y"
        },
        {
         "hovertemplate": "Countries and areas=Netherlands<br>Male Completion Rate=%{x}<br>Female Completion Rate=%{y}<br>Gross_Tertiary_Education_Enrollment=%{marker.size}<extra></extra>",
         "legendgroup": "Netherlands",
         "marker": {
          "color": "#FF6692",
          "size": [
           85
          ],
          "sizemode": "area",
          "sizeref": 0.34149999999999997,
          "symbol": "circle"
         },
         "mode": "markers",
         "name": "Netherlands",
         "orientation": "v",
         "showlegend": true,
         "type": "scatter",
         "x": [
          0
         ],
         "xaxis": "x",
         "y": [
          0
         ],
         "yaxis": "y"
        },
        {
         "hovertemplate": "Countries and areas=New Zealand<br>Male Completion Rate=%{x}<br>Female Completion Rate=%{y}<br>Gross_Tertiary_Education_Enrollment=%{marker.size}<extra></extra>",
         "legendgroup": "New Zealand",
         "marker": {
          "color": "#B6E880",
          "size": [
           82
          ],
          "sizemode": "area",
          "sizeref": 0.34149999999999997,
          "symbol": "circle"
         },
         "mode": "markers",
         "name": "New Zealand",
         "orientation": "v",
         "showlegend": true,
         "type": "scatter",
         "x": [
          0
         ],
         "xaxis": "x",
         "y": [
          0
         ],
         "yaxis": "y"
        },
        {
         "hovertemplate": "Countries and areas=Nicaragua<br>Male Completion Rate=%{x}<br>Female Completion Rate=%{y}<br>Gross_Tertiary_Education_Enrollment=%{marker.size}<extra></extra>",
         "legendgroup": "Nicaragua",
         "marker": {
          "color": "#FF97FF",
          "size": [
           17.4
          ],
          "sizemode": "area",
          "sizeref": 0.34149999999999997,
          "symbol": "circle"
         },
         "mode": "markers",
         "name": "Nicaragua",
         "orientation": "v",
         "showlegend": true,
         "type": "scatter",
         "x": [
          0
         ],
         "xaxis": "x",
         "y": [
          0
         ],
         "yaxis": "y"
        },
        {
         "hovertemplate": "Countries and areas=Niger<br>Male Completion Rate=%{x}<br>Female Completion Rate=%{y}<br>Gross_Tertiary_Education_Enrollment=%{marker.size}<extra></extra>",
         "legendgroup": "Niger",
         "marker": {
          "color": "#FECB52",
          "size": [
           4.4
          ],
          "sizemode": "area",
          "sizeref": 0.34149999999999997,
          "symbol": "circle"
         },
         "mode": "markers",
         "name": "Niger",
         "orientation": "v",
         "showlegend": true,
         "type": "scatter",
         "x": [
          4
         ],
         "xaxis": "x",
         "y": [
          1
         ],
         "yaxis": "y"
        },
        {
         "hovertemplate": "Countries and areas=Nigeria<br>Male Completion Rate=%{x}<br>Female Completion Rate=%{y}<br>Gross_Tertiary_Education_Enrollment=%{marker.size}<extra></extra>",
         "legendgroup": "Nigeria",
         "marker": {
          "color": "#636efa",
          "size": [
           10.2
          ],
          "sizemode": "area",
          "sizeref": 0.34149999999999997,
          "symbol": "circle"
         },
         "mode": "markers",
         "name": "Nigeria",
         "orientation": "v",
         "showlegend": true,
         "type": "scatter",
         "x": [
          57
         ],
         "xaxis": "x",
         "y": [
          44
         ],
         "yaxis": "y"
        },
        {
         "hovertemplate": "Countries and areas=Niue<br>Male Completion Rate=%{x}<br>Female Completion Rate=%{y}<br>Gross_Tertiary_Education_Enrollment=%{marker.size}<extra></extra>",
         "legendgroup": "Niue",
         "marker": {
          "color": "#EF553B",
          "size": [
           0
          ],
          "sizemode": "area",
          "sizeref": 0.34149999999999997,
          "symbol": "circle"
         },
         "mode": "markers",
         "name": "Niue",
         "orientation": "v",
         "showlegend": true,
         "type": "scatter",
         "x": [
          0
         ],
         "xaxis": "x",
         "y": [
          0
         ],
         "yaxis": "y"
        },
        {
         "hovertemplate": "Countries and areas=North Macedonia<br>Male Completion Rate=%{x}<br>Female Completion Rate=%{y}<br>Gross_Tertiary_Education_Enrollment=%{marker.size}<extra></extra>",
         "legendgroup": "North Macedonia",
         "marker": {
          "color": "#00cc96",
          "size": [
           0
          ],
          "sizemode": "area",
          "sizeref": 0.34149999999999997,
          "symbol": "circle"
         },
         "mode": "markers",
         "name": "North Macedonia",
         "orientation": "v",
         "showlegend": true,
         "type": "scatter",
         "x": [
          86
         ],
         "xaxis": "x",
         "y": [
          79
         ],
         "yaxis": "y"
        },
        {
         "hovertemplate": "Countries and areas=Norway<br>Male Completion Rate=%{x}<br>Female Completion Rate=%{y}<br>Gross_Tertiary_Education_Enrollment=%{marker.size}<extra></extra>",
         "legendgroup": "Norway",
         "marker": {
          "color": "#ab63fa",
          "size": [
           82
          ],
          "sizemode": "area",
          "sizeref": 0.34149999999999997,
          "symbol": "circle"
         },
         "mode": "markers",
         "name": "Norway",
         "orientation": "v",
         "showlegend": true,
         "type": "scatter",
         "x": [
          0
         ],
         "xaxis": "x",
         "y": [
          0
         ],
         "yaxis": "y"
        },
        {
         "hovertemplate": "Countries and areas=Oman<br>Male Completion Rate=%{x}<br>Female Completion Rate=%{y}<br>Gross_Tertiary_Education_Enrollment=%{marker.size}<extra></extra>",
         "legendgroup": "Oman",
         "marker": {
          "color": "#FFA15A",
          "size": [
           38
          ],
          "sizemode": "area",
          "sizeref": 0.34149999999999997,
          "symbol": "circle"
         },
         "mode": "markers",
         "name": "Oman",
         "orientation": "v",
         "showlegend": true,
         "type": "scatter",
         "x": [
          0
         ],
         "xaxis": "x",
         "y": [
          0
         ],
         "yaxis": "y"
        },
        {
         "hovertemplate": "Countries and areas=Pakistan<br>Male Completion Rate=%{x}<br>Female Completion Rate=%{y}<br>Gross_Tertiary_Education_Enrollment=%{marker.size}<extra></extra>",
         "legendgroup": "Pakistan",
         "marker": {
          "color": "#19d3f3",
          "size": [
           9
          ],
          "sizemode": "area",
          "sizeref": 0.34149999999999997,
          "symbol": "circle"
         },
         "mode": "markers",
         "name": "Pakistan",
         "orientation": "v",
         "showlegend": true,
         "type": "scatter",
         "x": [
          24
         ],
         "xaxis": "x",
         "y": [
          23
         ],
         "yaxis": "y"
        },
        {
         "hovertemplate": "Countries and areas=Palau<br>Male Completion Rate=%{x}<br>Female Completion Rate=%{y}<br>Gross_Tertiary_Education_Enrollment=%{marker.size}<extra></extra>",
         "legendgroup": "Palau",
         "marker": {
          "color": "#FF6692",
          "size": [
           54.7
          ],
          "sizemode": "area",
          "sizeref": 0.34149999999999997,
          "symbol": "circle"
         },
         "mode": "markers",
         "name": "Palau",
         "orientation": "v",
         "showlegend": true,
         "type": "scatter",
         "x": [
          0
         ],
         "xaxis": "x",
         "y": [
          0
         ],
         "yaxis": "y"
        },
        {
         "hovertemplate": "Countries and areas=Panama<br>Male Completion Rate=%{x}<br>Female Completion Rate=%{y}<br>Gross_Tertiary_Education_Enrollment=%{marker.size}<extra></extra>",
         "legendgroup": "Panama",
         "marker": {
          "color": "#B6E880",
          "size": [
           47.8
          ],
          "sizemode": "area",
          "sizeref": 0.34149999999999997,
          "symbol": "circle"
         },
         "mode": "markers",
         "name": "Panama",
         "orientation": "v",
         "showlegend": true,
         "type": "scatter",
         "x": [
          57
         ],
         "xaxis": "x",
         "y": [
          68
         ],
         "yaxis": "y"
        },
        {
         "hovertemplate": "Countries and areas=Papua New Guinea<br>Male Completion Rate=%{x}<br>Female Completion Rate=%{y}<br>Gross_Tertiary_Education_Enrollment=%{marker.size}<extra></extra>",
         "legendgroup": "Papua New Guinea",
         "marker": {
          "color": "#FF97FF",
          "size": [
           1.8
          ],
          "sizemode": "area",
          "sizeref": 0.34149999999999997,
          "symbol": "circle"
         },
         "mode": "markers",
         "name": "Papua New Guinea",
         "orientation": "v",
         "showlegend": true,
         "type": "scatter",
         "x": [
          0
         ],
         "xaxis": "x",
         "y": [
          0
         ],
         "yaxis": "y"
        },
        {
         "hovertemplate": "Countries and areas=Paraguay<br>Male Completion Rate=%{x}<br>Female Completion Rate=%{y}<br>Gross_Tertiary_Education_Enrollment=%{marker.size}<extra></extra>",
         "legendgroup": "Paraguay",
         "marker": {
          "color": "#FECB52",
          "size": [
           34.6
          ],
          "sizemode": "area",
          "sizeref": 0.34149999999999997,
          "symbol": "circle"
         },
         "mode": "markers",
         "name": "Paraguay",
         "orientation": "v",
         "showlegend": true,
         "type": "scatter",
         "x": [
          60
         ],
         "xaxis": "x",
         "y": [
          67
         ],
         "yaxis": "y"
        },
        {
         "hovertemplate": "Countries and areas=Peru<br>Male Completion Rate=%{x}<br>Female Completion Rate=%{y}<br>Gross_Tertiary_Education_Enrollment=%{marker.size}<extra></extra>",
         "legendgroup": "Peru",
         "marker": {
          "color": "#636efa",
          "size": [
           70.7
          ],
          "sizemode": "area",
          "sizeref": 0.34149999999999997,
          "symbol": "circle"
         },
         "mode": "markers",
         "name": "Peru",
         "orientation": "v",
         "showlegend": true,
         "type": "scatter",
         "x": [
          78
         ],
         "xaxis": "x",
         "y": [
          72
         ],
         "yaxis": "y"
        },
        {
         "hovertemplate": "Countries and areas=Philippines<br>Male Completion Rate=%{x}<br>Female Completion Rate=%{y}<br>Gross_Tertiary_Education_Enrollment=%{marker.size}<extra></extra>",
         "legendgroup": "Philippines",
         "marker": {
          "color": "#EF553B",
          "size": [
           35.5
          ],
          "sizemode": "area",
          "sizeref": 0.34149999999999997,
          "symbol": "circle"
         },
         "mode": "markers",
         "name": "Philippines",
         "orientation": "v",
         "showlegend": true,
         "type": "scatter",
         "x": [
          74
         ],
         "xaxis": "x",
         "y": [
          83
         ],
         "yaxis": "y"
        },
        {
         "hovertemplate": "Countries and areas=Poland<br>Male Completion Rate=%{x}<br>Female Completion Rate=%{y}<br>Gross_Tertiary_Education_Enrollment=%{marker.size}<extra></extra>",
         "legendgroup": "Poland",
         "marker": {
          "color": "#00cc96",
          "size": [
           67.8
          ],
          "sizemode": "area",
          "sizeref": 0.34149999999999997,
          "symbol": "circle"
         },
         "mode": "markers",
         "name": "Poland",
         "orientation": "v",
         "showlegend": true,
         "type": "scatter",
         "x": [
          0
         ],
         "xaxis": "x",
         "y": [
          0
         ],
         "yaxis": "y"
        },
        {
         "hovertemplate": "Countries and areas=Portugal<br>Male Completion Rate=%{x}<br>Female Completion Rate=%{y}<br>Gross_Tertiary_Education_Enrollment=%{marker.size}<extra></extra>",
         "legendgroup": "Portugal",
         "marker": {
          "color": "#ab63fa",
          "size": [
           63.9
          ],
          "sizemode": "area",
          "sizeref": 0.34149999999999997,
          "symbol": "circle"
         },
         "mode": "markers",
         "name": "Portugal",
         "orientation": "v",
         "showlegend": true,
         "type": "scatter",
         "x": [
          0
         ],
         "xaxis": "x",
         "y": [
          0
         ],
         "yaxis": "y"
        },
        {
         "hovertemplate": "Countries and areas=Qatar<br>Male Completion Rate=%{x}<br>Female Completion Rate=%{y}<br>Gross_Tertiary_Education_Enrollment=%{marker.size}<extra></extra>",
         "legendgroup": "Qatar",
         "marker": {
          "color": "#FFA15A",
          "size": [
           17.9
          ],
          "sizemode": "area",
          "sizeref": 0.34149999999999997,
          "symbol": "circle"
         },
         "mode": "markers",
         "name": "Qatar",
         "orientation": "v",
         "showlegend": true,
         "type": "scatter",
         "x": [
          0
         ],
         "xaxis": "x",
         "y": [
          0
         ],
         "yaxis": "y"
        },
        {
         "hovertemplate": "Countries and areas=South Korea<br>Male Completion Rate=%{x}<br>Female Completion Rate=%{y}<br>Gross_Tertiary_Education_Enrollment=%{marker.size}<extra></extra>",
         "legendgroup": "South Korea",
         "marker": {
          "color": "#19d3f3",
          "size": [
           94.3
          ],
          "sizemode": "area",
          "sizeref": 0.34149999999999997,
          "symbol": "circle"
         },
         "mode": "markers",
         "name": "South Korea",
         "orientation": "v",
         "showlegend": true,
         "type": "scatter",
         "x": [
          0
         ],
         "xaxis": "x",
         "y": [
          0
         ],
         "yaxis": "y"
        },
        {
         "hovertemplate": "Countries and areas=Moldova<br>Male Completion Rate=%{x}<br>Female Completion Rate=%{y}<br>Gross_Tertiary_Education_Enrollment=%{marker.size}<extra></extra>",
         "legendgroup": "Moldova",
         "marker": {
          "color": "#FF6692",
          "size": [
           39.8
          ],
          "sizemode": "area",
          "sizeref": 0.34149999999999997,
          "symbol": "circle"
         },
         "mode": "markers",
         "name": "Moldova",
         "orientation": "v",
         "showlegend": true,
         "type": "scatter",
         "x": [
          63
         ],
         "xaxis": "x",
         "y": [
          71
         ],
         "yaxis": "y"
        },
        {
         "hovertemplate": "Countries and areas=Romania<br>Male Completion Rate=%{x}<br>Female Completion Rate=%{y}<br>Gross_Tertiary_Education_Enrollment=%{marker.size}<extra></extra>",
         "legendgroup": "Romania",
         "marker": {
          "color": "#B6E880",
          "size": [
           49.4
          ],
          "sizemode": "area",
          "sizeref": 0.34149999999999997,
          "symbol": "circle"
         },
         "mode": "markers",
         "name": "Romania",
         "orientation": "v",
         "showlegend": true,
         "type": "scatter",
         "x": [
          0
         ],
         "xaxis": "x",
         "y": [
          0
         ],
         "yaxis": "y"
        },
        {
         "hovertemplate": "Countries and areas=Russia<br>Male Completion Rate=%{x}<br>Female Completion Rate=%{y}<br>Gross_Tertiary_Education_Enrollment=%{marker.size}<extra></extra>",
         "legendgroup": "Russia",
         "marker": {
          "color": "#FF97FF",
          "size": [
           81.9
          ],
          "sizemode": "area",
          "sizeref": 0.34149999999999997,
          "symbol": "circle"
         },
         "mode": "markers",
         "name": "Russia",
         "orientation": "v",
         "showlegend": true,
         "type": "scatter",
         "x": [
          0
         ],
         "xaxis": "x",
         "y": [
          0
         ],
         "yaxis": "y"
        },
        {
         "hovertemplate": "Countries and areas=Rwanda<br>Male Completion Rate=%{x}<br>Female Completion Rate=%{y}<br>Gross_Tertiary_Education_Enrollment=%{marker.size}<extra></extra>",
         "legendgroup": "Rwanda",
         "marker": {
          "color": "#FECB52",
          "size": [
           6.7
          ],
          "sizemode": "area",
          "sizeref": 0.34149999999999997,
          "symbol": "circle"
         },
         "mode": "markers",
         "name": "Rwanda",
         "orientation": "v",
         "showlegend": true,
         "type": "scatter",
         "x": [
          19
         ],
         "xaxis": "x",
         "y": [
          16
         ],
         "yaxis": "y"
        },
        {
         "hovertemplate": "Countries and areas=Saint Kitts and Nevis<br>Male Completion Rate=%{x}<br>Female Completion Rate=%{y}<br>Gross_Tertiary_Education_Enrollment=%{marker.size}<extra></extra>",
         "legendgroup": "Saint Kitts and Nevis",
         "marker": {
          "color": "#636efa",
          "size": [
           86.7
          ],
          "sizemode": "area",
          "sizeref": 0.34149999999999997,
          "symbol": "circle"
         },
         "mode": "markers",
         "name": "Saint Kitts and Nevis",
         "orientation": "v",
         "showlegend": true,
         "type": "scatter",
         "x": [
          0
         ],
         "xaxis": "x",
         "y": [
          0
         ],
         "yaxis": "y"
        },
        {
         "hovertemplate": "Countries and areas=Saint Lucia<br>Male Completion Rate=%{x}<br>Female Completion Rate=%{y}<br>Gross_Tertiary_Education_Enrollment=%{marker.size}<extra></extra>",
         "legendgroup": "Saint Lucia",
         "marker": {
          "color": "#EF553B",
          "size": [
           14.1
          ],
          "sizemode": "area",
          "sizeref": 0.34149999999999997,
          "symbol": "circle"
         },
         "mode": "markers",
         "name": "Saint Lucia",
         "orientation": "v",
         "showlegend": true,
         "type": "scatter",
         "x": [
          70
         ],
         "xaxis": "x",
         "y": [
          90
         ],
         "yaxis": "y"
        },
        {
         "hovertemplate": "Countries and areas=Saint Vincent and the Grenadines<br>Male Completion Rate=%{x}<br>Female Completion Rate=%{y}<br>Gross_Tertiary_Education_Enrollment=%{marker.size}<extra></extra>",
         "legendgroup": "Saint Vincent and the Grenadines",
         "marker": {
          "color": "#00cc96",
          "size": [
           23.7
          ],
          "sizemode": "area",
          "sizeref": 0.34149999999999997,
          "symbol": "circle"
         },
         "mode": "markers",
         "name": "Saint Vincent and the Grenadines",
         "orientation": "v",
         "showlegend": true,
         "type": "scatter",
         "x": [
          0
         ],
         "xaxis": "x",
         "y": [
          0
         ],
         "yaxis": "y"
        },
        {
         "hovertemplate": "Countries and areas=Samoa<br>Male Completion Rate=%{x}<br>Female Completion Rate=%{y}<br>Gross_Tertiary_Education_Enrollment=%{marker.size}<extra></extra>",
         "legendgroup": "Samoa",
         "marker": {
          "color": "#ab63fa",
          "size": [
           7.6
          ],
          "sizemode": "area",
          "sizeref": 0.34149999999999997,
          "symbol": "circle"
         },
         "mode": "markers",
         "name": "Samoa",
         "orientation": "v",
         "showlegend": true,
         "type": "scatter",
         "x": [
          0
         ],
         "xaxis": "x",
         "y": [
          0
         ],
         "yaxis": "y"
        },
        {
         "hovertemplate": "Countries and areas=San Marino<br>Male Completion Rate=%{x}<br>Female Completion Rate=%{y}<br>Gross_Tertiary_Education_Enrollment=%{marker.size}<extra></extra>",
         "legendgroup": "San Marino",
         "marker": {
          "color": "#FFA15A",
          "size": [
           42.5
          ],
          "sizemode": "area",
          "sizeref": 0.34149999999999997,
          "symbol": "circle"
         },
         "mode": "markers",
         "name": "San Marino",
         "orientation": "v",
         "showlegend": true,
         "type": "scatter",
         "x": [
          0
         ],
         "xaxis": "x",
         "y": [
          0
         ],
         "yaxis": "y"
        },
        {
         "hovertemplate": "Countries and areas=Sï¿½ï¿½ï¿½ï¿½ï¿½ï¿½ï¿½ï¿<br>Male Completion Rate=%{x}<br>Female Completion Rate=%{y}<br>Gross_Tertiary_Education_Enrollment=%{marker.size}<extra></extra>",
         "legendgroup": "Sï¿½ï¿½ï¿½ï¿½ï¿½ï¿½ï¿½ï¿",
         "marker": {
          "color": "#19d3f3",
          "size": [
           13.4
          ],
          "sizemode": "area",
          "sizeref": 0.34149999999999997,
          "symbol": "circle"
         },
         "mode": "markers",
         "name": "Sï¿½ï¿½ï¿½ï¿½ï¿½ï¿½ï¿½ï¿",
         "orientation": "v",
         "showlegend": true,
         "type": "scatter",
         "x": [
          4
         ],
         "xaxis": "x",
         "y": [
          8
         ],
         "yaxis": "y"
        },
        {
         "hovertemplate": "Countries and areas=Saudi Arabia<br>Male Completion Rate=%{x}<br>Female Completion Rate=%{y}<br>Gross_Tertiary_Education_Enrollment=%{marker.size}<extra></extra>",
         "legendgroup": "Saudi Arabia",
         "marker": {
          "color": "#FF6692",
          "size": [
           68
          ],
          "sizemode": "area",
          "sizeref": 0.34149999999999997,
          "symbol": "circle"
         },
         "mode": "markers",
         "name": "Saudi Arabia",
         "orientation": "v",
         "showlegend": true,
         "type": "scatter",
         "x": [
          0
         ],
         "xaxis": "x",
         "y": [
          0
         ],
         "yaxis": "y"
        },
        {
         "hovertemplate": "Countries and areas=Senegal<br>Male Completion Rate=%{x}<br>Female Completion Rate=%{y}<br>Gross_Tertiary_Education_Enrollment=%{marker.size}<extra></extra>",
         "legendgroup": "Senegal",
         "marker": {
          "color": "#B6E880",
          "size": [
           12.8
          ],
          "sizemode": "area",
          "sizeref": 0.34149999999999997,
          "symbol": "circle"
         },
         "mode": "markers",
         "name": "Senegal",
         "orientation": "v",
         "showlegend": true,
         "type": "scatter",
         "x": [
          11
         ],
         "xaxis": "x",
         "y": [
          10
         ],
         "yaxis": "y"
        },
        {
         "hovertemplate": "Countries and areas=Serbia<br>Male Completion Rate=%{x}<br>Female Completion Rate=%{y}<br>Gross_Tertiary_Education_Enrollment=%{marker.size}<extra></extra>",
         "legendgroup": "Serbia",
         "marker": {
          "color": "#FF97FF",
          "size": [
           67.2
          ],
          "sizemode": "area",
          "sizeref": 0.34149999999999997,
          "symbol": "circle"
         },
         "mode": "markers",
         "name": "Serbia",
         "orientation": "v",
         "showlegend": true,
         "type": "scatter",
         "x": [
          71
         ],
         "xaxis": "x",
         "y": [
          81
         ],
         "yaxis": "y"
        },
        {
         "hovertemplate": "Countries and areas=Seychelles<br>Male Completion Rate=%{x}<br>Female Completion Rate=%{y}<br>Gross_Tertiary_Education_Enrollment=%{marker.size}<extra></extra>",
         "legendgroup": "Seychelles",
         "marker": {
          "color": "#FECB52",
          "size": [
           17.1
          ],
          "sizemode": "area",
          "sizeref": 0.34149999999999997,
          "symbol": "circle"
         },
         "mode": "markers",
         "name": "Seychelles",
         "orientation": "v",
         "showlegend": true,
         "type": "scatter",
         "x": [
          0
         ],
         "xaxis": "x",
         "y": [
          0
         ],
         "yaxis": "y"
        },
        {
         "hovertemplate": "Countries and areas=Sierra Leone<br>Male Completion Rate=%{x}<br>Female Completion Rate=%{y}<br>Gross_Tertiary_Education_Enrollment=%{marker.size}<extra></extra>",
         "legendgroup": "Sierra Leone",
         "marker": {
          "color": "#636efa",
          "size": [
           2
          ],
          "sizemode": "area",
          "sizeref": 0.34149999999999997,
          "symbol": "circle"
         },
         "mode": "markers",
         "name": "Sierra Leone",
         "orientation": "v",
         "showlegend": true,
         "type": "scatter",
         "x": [
          27
         ],
         "xaxis": "x",
         "y": [
          18
         ],
         "yaxis": "y"
        },
        {
         "hovertemplate": "Countries and areas=Singapore<br>Male Completion Rate=%{x}<br>Female Completion Rate=%{y}<br>Gross_Tertiary_Education_Enrollment=%{marker.size}<extra></extra>",
         "legendgroup": "Singapore",
         "marker": {
          "color": "#EF553B",
          "size": [
           84.8
          ],
          "sizemode": "area",
          "sizeref": 0.34149999999999997,
          "symbol": "circle"
         },
         "mode": "markers",
         "name": "Singapore",
         "orientation": "v",
         "showlegend": true,
         "type": "scatter",
         "x": [
          0
         ],
         "xaxis": "x",
         "y": [
          0
         ],
         "yaxis": "y"
        },
        {
         "hovertemplate": "Countries and areas=Slovakia<br>Male Completion Rate=%{x}<br>Female Completion Rate=%{y}<br>Gross_Tertiary_Education_Enrollment=%{marker.size}<extra></extra>",
         "legendgroup": "Slovakia",
         "marker": {
          "color": "#00cc96",
          "size": [
           46.6
          ],
          "sizemode": "area",
          "sizeref": 0.34149999999999997,
          "symbol": "circle"
         },
         "mode": "markers",
         "name": "Slovakia",
         "orientation": "v",
         "showlegend": true,
         "type": "scatter",
         "x": [
          0
         ],
         "xaxis": "x",
         "y": [
          0
         ],
         "yaxis": "y"
        },
        {
         "hovertemplate": "Countries and areas=Slovenia<br>Male Completion Rate=%{x}<br>Female Completion Rate=%{y}<br>Gross_Tertiary_Education_Enrollment=%{marker.size}<extra></extra>",
         "legendgroup": "Slovenia",
         "marker": {
          "color": "#ab63fa",
          "size": [
           78.6
          ],
          "sizemode": "area",
          "sizeref": 0.34149999999999997,
          "symbol": "circle"
         },
         "mode": "markers",
         "name": "Slovenia",
         "orientation": "v",
         "showlegend": true,
         "type": "scatter",
         "x": [
          0
         ],
         "xaxis": "x",
         "y": [
          0
         ],
         "yaxis": "y"
        },
        {
         "hovertemplate": "Countries and areas=Solomon Islands<br>Male Completion Rate=%{x}<br>Female Completion Rate=%{y}<br>Gross_Tertiary_Education_Enrollment=%{marker.size}<extra></extra>",
         "legendgroup": "Solomon Islands",
         "marker": {
          "color": "#FFA15A",
          "size": [
           0
          ],
          "sizemode": "area",
          "sizeref": 0.34149999999999997,
          "symbol": "circle"
         },
         "mode": "markers",
         "name": "Solomon Islands",
         "orientation": "v",
         "showlegend": true,
         "type": "scatter",
         "x": [
          0
         ],
         "xaxis": "x",
         "y": [
          0
         ],
         "yaxis": "y"
        },
        {
         "hovertemplate": "Countries and areas=Somalia<br>Male Completion Rate=%{x}<br>Female Completion Rate=%{y}<br>Gross_Tertiary_Education_Enrollment=%{marker.size}<extra></extra>",
         "legendgroup": "Somalia",
         "marker": {
          "color": "#19d3f3",
          "size": [
           2.5
          ],
          "sizemode": "area",
          "sizeref": 0.34149999999999997,
          "symbol": "circle"
         },
         "mode": "markers",
         "name": "Somalia",
         "orientation": "v",
         "showlegend": true,
         "type": "scatter",
         "x": [
          0
         ],
         "xaxis": "x",
         "y": [
          0
         ],
         "yaxis": "y"
        },
        {
         "hovertemplate": "Countries and areas=South Africa<br>Male Completion Rate=%{x}<br>Female Completion Rate=%{y}<br>Gross_Tertiary_Education_Enrollment=%{marker.size}<extra></extra>",
         "legendgroup": "South Africa",
         "marker": {
          "color": "#FF6692",
          "size": [
           22.4
          ],
          "sizemode": "area",
          "sizeref": 0.34149999999999997,
          "symbol": "circle"
         },
         "mode": "markers",
         "name": "South Africa",
         "orientation": "v",
         "showlegend": true,
         "type": "scatter",
         "x": [
          45
         ],
         "xaxis": "x",
         "y": [
          52
         ],
         "yaxis": "y"
        },
        {
         "hovertemplate": "Countries and areas=South Sudan<br>Male Completion Rate=%{x}<br>Female Completion Rate=%{y}<br>Gross_Tertiary_Education_Enrollment=%{marker.size}<extra></extra>",
         "legendgroup": "South Sudan",
         "marker": {
          "color": "#B6E880",
          "size": [
           0
          ],
          "sizemode": "area",
          "sizeref": 0.34149999999999997,
          "symbol": "circle"
         },
         "mode": "markers",
         "name": "South Sudan",
         "orientation": "v",
         "showlegend": true,
         "type": "scatter",
         "x": [
          12
         ],
         "xaxis": "x",
         "y": [
          4
         ],
         "yaxis": "y"
        },
        {
         "hovertemplate": "Countries and areas=Spain<br>Male Completion Rate=%{x}<br>Female Completion Rate=%{y}<br>Gross_Tertiary_Education_Enrollment=%{marker.size}<extra></extra>",
         "legendgroup": "Spain",
         "marker": {
          "color": "#FF97FF",
          "size": [
           88.9
          ],
          "sizemode": "area",
          "sizeref": 0.34149999999999997,
          "symbol": "circle"
         },
         "mode": "markers",
         "name": "Spain",
         "orientation": "v",
         "showlegend": true,
         "type": "scatter",
         "x": [
          0
         ],
         "xaxis": "x",
         "y": [
          0
         ],
         "yaxis": "y"
        },
        {
         "hovertemplate": "Countries and areas=Sri Lanka<br>Male Completion Rate=%{x}<br>Female Completion Rate=%{y}<br>Gross_Tertiary_Education_Enrollment=%{marker.size}<extra></extra>",
         "legendgroup": "Sri Lanka",
         "marker": {
          "color": "#FECB52",
          "size": [
           19.6
          ],
          "sizemode": "area",
          "sizeref": 0.34149999999999997,
          "symbol": "circle"
         },
         "mode": "markers",
         "name": "Sri Lanka",
         "orientation": "v",
         "showlegend": true,
         "type": "scatter",
         "x": [
          32
         ],
         "xaxis": "x",
         "y": [
          43
         ],
         "yaxis": "y"
        },
        {
         "hovertemplate": "Countries and areas=Palestinian National Authority<br>Male Completion Rate=%{x}<br>Female Completion Rate=%{y}<br>Gross_Tertiary_Education_Enrollment=%{marker.size}<extra></extra>",
         "legendgroup": "Palestinian National Authority",
         "marker": {
          "color": "#636efa",
          "size": [
           0
          ],
          "sizemode": "area",
          "sizeref": 0.34149999999999997,
          "symbol": "circle"
         },
         "mode": "markers",
         "name": "Palestinian National Authority",
         "orientation": "v",
         "showlegend": true,
         "type": "scatter",
         "x": [
          52
         ],
         "xaxis": "x",
         "y": [
          73
         ],
         "yaxis": "y"
        },
        {
         "hovertemplate": "Countries and areas=Sudan<br>Male Completion Rate=%{x}<br>Female Completion Rate=%{y}<br>Gross_Tertiary_Education_Enrollment=%{marker.size}<extra></extra>",
         "legendgroup": "Sudan",
         "marker": {
          "color": "#EF553B",
          "size": [
           16.9
          ],
          "sizemode": "area",
          "sizeref": 0.34149999999999997,
          "symbol": "circle"
         },
         "mode": "markers",
         "name": "Sudan",
         "orientation": "v",
         "showlegend": true,
         "type": "scatter",
         "x": [
          33
         ],
         "xaxis": "x",
         "y": [
          28
         ],
         "yaxis": "y"
        },
        {
         "hovertemplate": "Countries and areas=Suriname<br>Male Completion Rate=%{x}<br>Female Completion Rate=%{y}<br>Gross_Tertiary_Education_Enrollment=%{marker.size}<extra></extra>",
         "legendgroup": "Suriname",
         "marker": {
          "color": "#00cc96",
          "size": [
           12.6
          ],
          "sizemode": "area",
          "sizeref": 0.34149999999999997,
          "symbol": "circle"
         },
         "mode": "markers",
         "name": "Suriname",
         "orientation": "v",
         "showlegend": true,
         "type": "scatter",
         "x": [
          18
         ],
         "xaxis": "x",
         "y": [
          26
         ],
         "yaxis": "y"
        },
        {
         "hovertemplate": "Countries and areas=Sweden<br>Male Completion Rate=%{x}<br>Female Completion Rate=%{y}<br>Gross_Tertiary_Education_Enrollment=%{marker.size}<extra></extra>",
         "legendgroup": "Sweden",
         "marker": {
          "color": "#ab63fa",
          "size": [
           67
          ],
          "sizemode": "area",
          "sizeref": 0.34149999999999997,
          "symbol": "circle"
         },
         "mode": "markers",
         "name": "Sweden",
         "orientation": "v",
         "showlegend": true,
         "type": "scatter",
         "x": [
          0
         ],
         "xaxis": "x",
         "y": [
          0
         ],
         "yaxis": "y"
        },
        {
         "hovertemplate": "Countries and areas=Switzerland<br>Male Completion Rate=%{x}<br>Female Completion Rate=%{y}<br>Gross_Tertiary_Education_Enrollment=%{marker.size}<extra></extra>",
         "legendgroup": "Switzerland",
         "marker": {
          "color": "#FFA15A",
          "size": [
           59.6
          ],
          "sizemode": "area",
          "sizeref": 0.34149999999999997,
          "symbol": "circle"
         },
         "mode": "markers",
         "name": "Switzerland",
         "orientation": "v",
         "showlegend": true,
         "type": "scatter",
         "x": [
          0
         ],
         "xaxis": "x",
         "y": [
          0
         ],
         "yaxis": "y"
        },
        {
         "hovertemplate": "Countries and areas=Syria<br>Male Completion Rate=%{x}<br>Female Completion Rate=%{y}<br>Gross_Tertiary_Education_Enrollment=%{marker.size}<extra></extra>",
         "legendgroup": "Syria",
         "marker": {
          "color": "#19d3f3",
          "size": [
           40.1
          ],
          "sizemode": "area",
          "sizeref": 0.34149999999999997,
          "symbol": "circle"
         },
         "mode": "markers",
         "name": "Syria",
         "orientation": "v",
         "showlegend": true,
         "type": "scatter",
         "x": [
          0
         ],
         "xaxis": "x",
         "y": [
          0
         ],
         "yaxis": "y"
        },
        {
         "hovertemplate": "Countries and areas=Tajikistan<br>Male Completion Rate=%{x}<br>Female Completion Rate=%{y}<br>Gross_Tertiary_Education_Enrollment=%{marker.size}<extra></extra>",
         "legendgroup": "Tajikistan",
         "marker": {
          "color": "#FF6692",
          "size": [
           31.3
          ],
          "sizemode": "area",
          "sizeref": 0.34149999999999997,
          "symbol": "circle"
         },
         "mode": "markers",
         "name": "Tajikistan",
         "orientation": "v",
         "showlegend": true,
         "type": "scatter",
         "x": [
          80
         ],
         "xaxis": "x",
         "y": [
          63
         ],
         "yaxis": "y"
        },
        {
         "hovertemplate": "Countries and areas=Thailand<br>Male Completion Rate=%{x}<br>Female Completion Rate=%{y}<br>Gross_Tertiary_Education_Enrollment=%{marker.size}<extra></extra>",
         "legendgroup": "Thailand",
         "marker": {
          "color": "#B6E880",
          "size": [
           49.3
          ],
          "sizemode": "area",
          "sizeref": 0.34149999999999997,
          "symbol": "circle"
         },
         "mode": "markers",
         "name": "Thailand",
         "orientation": "v",
         "showlegend": true,
         "type": "scatter",
         "x": [
          59
         ],
         "xaxis": "x",
         "y": [
          72
         ],
         "yaxis": "y"
        },
        {
         "hovertemplate": "Countries and areas=East Timor<br>Male Completion Rate=%{x}<br>Female Completion Rate=%{y}<br>Gross_Tertiary_Education_Enrollment=%{marker.size}<extra></extra>",
         "legendgroup": "East Timor",
         "marker": {
          "color": "#FF97FF",
          "size": [
           17.8
          ],
          "sizemode": "area",
          "sizeref": 0.34149999999999997,
          "symbol": "circle"
         },
         "mode": "markers",
         "name": "East Timor",
         "orientation": "v",
         "showlegend": true,
         "type": "scatter",
         "x": [
          49
         ],
         "xaxis": "x",
         "y": [
          55
         ],
         "yaxis": "y"
        },
        {
         "hovertemplate": "Countries and areas=Togo<br>Male Completion Rate=%{x}<br>Female Completion Rate=%{y}<br>Gross_Tertiary_Education_Enrollment=%{marker.size}<extra></extra>",
         "legendgroup": "Togo",
         "marker": {
          "color": "#FECB52",
          "size": [
           14.5
          ],
          "sizemode": "area",
          "sizeref": 0.34149999999999997,
          "symbol": "circle"
         },
         "mode": "markers",
         "name": "Togo",
         "orientation": "v",
         "showlegend": true,
         "type": "scatter",
         "x": [
          31
         ],
         "xaxis": "x",
         "y": [
          12
         ],
         "yaxis": "y"
        },
        {
         "hovertemplate": "Countries and areas=Tokelau<br>Male Completion Rate=%{x}<br>Female Completion Rate=%{y}<br>Gross_Tertiary_Education_Enrollment=%{marker.size}<extra></extra>",
         "legendgroup": "Tokelau",
         "marker": {
          "color": "#636efa",
          "size": [
           0
          ],
          "sizemode": "area",
          "sizeref": 0.34149999999999997,
          "symbol": "circle"
         },
         "mode": "markers",
         "name": "Tokelau",
         "orientation": "v",
         "showlegend": true,
         "type": "scatter",
         "x": [
          0
         ],
         "xaxis": "x",
         "y": [
          0
         ],
         "yaxis": "y"
        },
        {
         "hovertemplate": "Countries and areas=Tonga<br>Male Completion Rate=%{x}<br>Female Completion Rate=%{y}<br>Gross_Tertiary_Education_Enrollment=%{marker.size}<extra></extra>",
         "legendgroup": "Tonga",
         "marker": {
          "color": "#EF553B",
          "size": [
           6.4
          ],
          "sizemode": "area",
          "sizeref": 0.34149999999999997,
          "symbol": "circle"
         },
         "mode": "markers",
         "name": "Tonga",
         "orientation": "v",
         "showlegend": true,
         "type": "scatter",
         "x": [
          45
         ],
         "xaxis": "x",
         "y": [
          56
         ],
         "yaxis": "y"
        },
        {
         "hovertemplate": "Countries and areas=Trinidad and Tobago<br>Male Completion Rate=%{x}<br>Female Completion Rate=%{y}<br>Gross_Tertiary_Education_Enrollment=%{marker.size}<extra></extra>",
         "legendgroup": "Trinidad and Tobago",
         "marker": {
          "color": "#00cc96",
          "size": [
           12
          ],
          "sizemode": "area",
          "sizeref": 0.34149999999999997,
          "symbol": "circle"
         },
         "mode": "markers",
         "name": "Trinidad and Tobago",
         "orientation": "v",
         "showlegend": true,
         "type": "scatter",
         "x": [
          0
         ],
         "xaxis": "x",
         "y": [
          0
         ],
         "yaxis": "y"
        },
        {
         "hovertemplate": "Countries and areas=Tunisia<br>Male Completion Rate=%{x}<br>Female Completion Rate=%{y}<br>Gross_Tertiary_Education_Enrollment=%{marker.size}<extra></extra>",
         "legendgroup": "Tunisia",
         "marker": {
          "color": "#ab63fa",
          "size": [
           31.7
          ],
          "sizemode": "area",
          "sizeref": 0.34149999999999997,
          "symbol": "circle"
         },
         "mode": "markers",
         "name": "Tunisia",
         "orientation": "v",
         "showlegend": true,
         "type": "scatter",
         "x": [
          40
         ],
         "xaxis": "x",
         "y": [
          57
         ],
         "yaxis": "y"
        },
        {
         "hovertemplate": "Countries and areas=Turkey<br>Male Completion Rate=%{x}<br>Female Completion Rate=%{y}<br>Gross_Tertiary_Education_Enrollment=%{marker.size}<extra></extra>",
         "legendgroup": "Turkey",
         "marker": {
          "color": "#FFA15A",
          "size": [
           23.9
          ],
          "sizemode": "area",
          "sizeref": 0.34149999999999997,
          "symbol": "circle"
         },
         "mode": "markers",
         "name": "Turkey",
         "orientation": "v",
         "showlegend": true,
         "type": "scatter",
         "x": [
          51
         ],
         "xaxis": "x",
         "y": [
          44
         ],
         "yaxis": "y"
        },
        {
         "hovertemplate": "Countries and areas=Turkmenistan<br>Male Completion Rate=%{x}<br>Female Completion Rate=%{y}<br>Gross_Tertiary_Education_Enrollment=%{marker.size}<extra></extra>",
         "legendgroup": "Turkmenistan",
         "marker": {
          "color": "#19d3f3",
          "size": [
           8
          ],
          "sizemode": "area",
          "sizeref": 0.34149999999999997,
          "symbol": "circle"
         },
         "mode": "markers",
         "name": "Turkmenistan",
         "orientation": "v",
         "showlegend": true,
         "type": "scatter",
         "x": [
          93
         ],
         "xaxis": "x",
         "y": [
          95
         ],
         "yaxis": "y"
        },
        {
         "hovertemplate": "Countries and areas=Turks and Caicos Islands<br>Male Completion Rate=%{x}<br>Female Completion Rate=%{y}<br>Gross_Tertiary_Education_Enrollment=%{marker.size}<extra></extra>",
         "legendgroup": "Turks and Caicos Islands",
         "marker": {
          "color": "#FF6692",
          "size": [
           0
          ],
          "sizemode": "area",
          "sizeref": 0.34149999999999997,
          "symbol": "circle"
         },
         "mode": "markers",
         "name": "Turks and Caicos Islands",
         "orientation": "v",
         "showlegend": true,
         "type": "scatter",
         "x": [
          0
         ],
         "xaxis": "x",
         "y": [
          0
         ],
         "yaxis": "y"
        },
        {
         "hovertemplate": "Countries and areas=Tuvalu<br>Male Completion Rate=%{x}<br>Female Completion Rate=%{y}<br>Gross_Tertiary_Education_Enrollment=%{marker.size}<extra></extra>",
         "legendgroup": "Tuvalu",
         "marker": {
          "color": "#B6E880",
          "size": [
           0
          ],
          "sizemode": "area",
          "sizeref": 0.34149999999999997,
          "symbol": "circle"
         },
         "mode": "markers",
         "name": "Tuvalu",
         "orientation": "v",
         "showlegend": true,
         "type": "scatter",
         "x": [
          0
         ],
         "xaxis": "x",
         "y": [
          0
         ],
         "yaxis": "y"
        },
        {
         "hovertemplate": "Countries and areas=Uganda<br>Male Completion Rate=%{x}<br>Female Completion Rate=%{y}<br>Gross_Tertiary_Education_Enrollment=%{marker.size}<extra></extra>",
         "legendgroup": "Uganda",
         "marker": {
          "color": "#FF97FF",
          "size": [
           4.8
          ],
          "sizemode": "area",
          "sizeref": 0.34149999999999997,
          "symbol": "circle"
         },
         "mode": "markers",
         "name": "Uganda",
         "orientation": "v",
         "showlegend": true,
         "type": "scatter",
         "x": [
          18
         ],
         "xaxis": "x",
         "y": [
          15
         ],
         "yaxis": "y"
        },
        {
         "hovertemplate": "Countries and areas=Ukraine<br>Male Completion Rate=%{x}<br>Female Completion Rate=%{y}<br>Gross_Tertiary_Education_Enrollment=%{marker.size}<extra></extra>",
         "legendgroup": "Ukraine",
         "marker": {
          "color": "#FECB52",
          "size": [
           82.7
          ],
          "sizemode": "area",
          "sizeref": 0.34149999999999997,
          "symbol": "circle"
         },
         "mode": "markers",
         "name": "Ukraine",
         "orientation": "v",
         "showlegend": true,
         "type": "scatter",
         "x": [
          97
         ],
         "xaxis": "x",
         "y": [
          97
         ],
         "yaxis": "y"
        },
        {
         "hovertemplate": "Countries and areas=United Arab Emirates<br>Male Completion Rate=%{x}<br>Female Completion Rate=%{y}<br>Gross_Tertiary_Education_Enrollment=%{marker.size}<extra></extra>",
         "legendgroup": "United Arab Emirates",
         "marker": {
          "color": "#636efa",
          "size": [
           36.8
          ],
          "sizemode": "area",
          "sizeref": 0.34149999999999997,
          "symbol": "circle"
         },
         "mode": "markers",
         "name": "United Arab Emirates",
         "orientation": "v",
         "showlegend": true,
         "type": "scatter",
         "x": [
          0
         ],
         "xaxis": "x",
         "y": [
          0
         ],
         "yaxis": "y"
        },
        {
         "hovertemplate": "Countries and areas=United Kingdom<br>Male Completion Rate=%{x}<br>Female Completion Rate=%{y}<br>Gross_Tertiary_Education_Enrollment=%{marker.size}<extra></extra>",
         "legendgroup": "United Kingdom",
         "marker": {
          "color": "#EF553B",
          "size": [
           60
          ],
          "sizemode": "area",
          "sizeref": 0.34149999999999997,
          "symbol": "circle"
         },
         "mode": "markers",
         "name": "United Kingdom",
         "orientation": "v",
         "showlegend": true,
         "type": "scatter",
         "x": [
          0
         ],
         "xaxis": "x",
         "y": [
          0
         ],
         "yaxis": "y"
        },
        {
         "hovertemplate": "Countries and areas=Tanzania<br>Male Completion Rate=%{x}<br>Female Completion Rate=%{y}<br>Gross_Tertiary_Education_Enrollment=%{marker.size}<extra></extra>",
         "legendgroup": "Tanzania",
         "marker": {
          "color": "#00cc96",
          "size": [
           4
          ],
          "sizemode": "area",
          "sizeref": 0.34149999999999997,
          "symbol": "circle"
         },
         "mode": "markers",
         "name": "Tanzania",
         "orientation": "v",
         "showlegend": true,
         "type": "scatter",
         "x": [
          32
         ],
         "xaxis": "x",
         "y": [
          27
         ],
         "yaxis": "y"
        },
        {
         "hovertemplate": "Countries and areas=United States<br>Male Completion Rate=%{x}<br>Female Completion Rate=%{y}<br>Gross_Tertiary_Education_Enrollment=%{marker.size}<extra></extra>",
         "legendgroup": "United States",
         "marker": {
          "color": "#ab63fa",
          "size": [
           88.2
          ],
          "sizemode": "area",
          "sizeref": 0.34149999999999997,
          "symbol": "circle"
         },
         "mode": "markers",
         "name": "United States",
         "orientation": "v",
         "showlegend": true,
         "type": "scatter",
         "x": [
          0
         ],
         "xaxis": "x",
         "y": [
          0
         ],
         "yaxis": "y"
        },
        {
         "hovertemplate": "Countries and areas=Uruguay<br>Male Completion Rate=%{x}<br>Female Completion Rate=%{y}<br>Gross_Tertiary_Education_Enrollment=%{marker.size}<extra></extra>",
         "legendgroup": "Uruguay",
         "marker": {
          "color": "#FFA15A",
          "size": [
           63.1
          ],
          "sizemode": "area",
          "sizeref": 0.34149999999999997,
          "symbol": "circle"
         },
         "mode": "markers",
         "name": "Uruguay",
         "orientation": "v",
         "showlegend": true,
         "type": "scatter",
         "x": [
          48
         ],
         "xaxis": "x",
         "y": [
          29
         ],
         "yaxis": "y"
        },
        {
         "hovertemplate": "Countries and areas=Uzbekistan<br>Male Completion Rate=%{x}<br>Female Completion Rate=%{y}<br>Gross_Tertiary_Education_Enrollment=%{marker.size}<extra></extra>",
         "legendgroup": "Uzbekistan",
         "marker": {
          "color": "#19d3f3",
          "size": [
           10.1
          ],
          "sizemode": "area",
          "sizeref": 0.34149999999999997,
          "symbol": "circle"
         },
         "mode": "markers",
         "name": "Uzbekistan",
         "orientation": "v",
         "showlegend": true,
         "type": "scatter",
         "x": [
          0
         ],
         "xaxis": "x",
         "y": [
          0
         ],
         "yaxis": "y"
        },
        {
         "hovertemplate": "Countries and areas=Vanuatu<br>Male Completion Rate=%{x}<br>Female Completion Rate=%{y}<br>Gross_Tertiary_Education_Enrollment=%{marker.size}<extra></extra>",
         "legendgroup": "Vanuatu",
         "marker": {
          "color": "#FF6692",
          "size": [
           4.7
          ],
          "sizemode": "area",
          "sizeref": 0.34149999999999997,
          "symbol": "circle"
         },
         "mode": "markers",
         "name": "Vanuatu",
         "orientation": "v",
         "showlegend": true,
         "type": "scatter",
         "x": [
          0
         ],
         "xaxis": "x",
         "y": [
          0
         ],
         "yaxis": "y"
        },
        {
         "hovertemplate": "Countries and areas=Venezuela<br>Male Completion Rate=%{x}<br>Female Completion Rate=%{y}<br>Gross_Tertiary_Education_Enrollment=%{marker.size}<extra></extra>",
         "legendgroup": "Venezuela",
         "marker": {
          "color": "#B6E880",
          "size": [
           79.3
          ],
          "sizemode": "area",
          "sizeref": 0.34149999999999997,
          "symbol": "circle"
         },
         "mode": "markers",
         "name": "Venezuela",
         "orientation": "v",
         "showlegend": true,
         "type": "scatter",
         "x": [
          0
         ],
         "xaxis": "x",
         "y": [
          0
         ],
         "yaxis": "y"
        },
        {
         "hovertemplate": "Countries and areas=Vietnam<br>Male Completion Rate=%{x}<br>Female Completion Rate=%{y}<br>Gross_Tertiary_Education_Enrollment=%{marker.size}<extra></extra>",
         "legendgroup": "Vietnam",
         "marker": {
          "color": "#FF97FF",
          "size": [
           28.5
          ],
          "sizemode": "area",
          "sizeref": 0.34149999999999997,
          "symbol": "circle"
         },
         "mode": "markers",
         "name": "Vietnam",
         "orientation": "v",
         "showlegend": true,
         "type": "scatter",
         "x": [
          50
         ],
         "xaxis": "x",
         "y": [
          61
         ],
         "yaxis": "y"
        },
        {
         "hovertemplate": "Countries and areas=Yemen<br>Male Completion Rate=%{x}<br>Female Completion Rate=%{y}<br>Gross_Tertiary_Education_Enrollment=%{marker.size}<extra></extra>",
         "legendgroup": "Yemen",
         "marker": {
          "color": "#FECB52",
          "size": [
           10.2
          ],
          "sizemode": "area",
          "sizeref": 0.34149999999999997,
          "symbol": "circle"
         },
         "mode": "markers",
         "name": "Yemen",
         "orientation": "v",
         "showlegend": true,
         "type": "scatter",
         "x": [
          37
         ],
         "xaxis": "x",
         "y": [
          23
         ],
         "yaxis": "y"
        },
        {
         "hovertemplate": "Countries and areas=Zambia<br>Male Completion Rate=%{x}<br>Female Completion Rate=%{y}<br>Gross_Tertiary_Education_Enrollment=%{marker.size}<extra></extra>",
         "legendgroup": "Zambia",
         "marker": {
          "color": "#636efa",
          "size": [
           4.1
          ],
          "sizemode": "area",
          "sizeref": 0.34149999999999997,
          "symbol": "circle"
         },
         "mode": "markers",
         "name": "Zambia",
         "orientation": "v",
         "showlegend": true,
         "type": "scatter",
         "x": [
          33
         ],
         "xaxis": "x",
         "y": [
          27
         ],
         "yaxis": "y"
        },
        {
         "hovertemplate": "Countries and areas=Zimbabwe<br>Male Completion Rate=%{x}<br>Female Completion Rate=%{y}<br>Gross_Tertiary_Education_Enrollment=%{marker.size}<extra></extra>",
         "legendgroup": "Zimbabwe",
         "marker": {
          "color": "#EF553B",
          "size": [
           10
          ],
          "sizemode": "area",
          "sizeref": 0.34149999999999997,
          "symbol": "circle"
         },
         "mode": "markers",
         "name": "Zimbabwe",
         "orientation": "v",
         "showlegend": true,
         "type": "scatter",
         "x": [
          17
         ],
         "xaxis": "x",
         "y": [
          14
         ],
         "yaxis": "y"
        }
       ],
       "layout": {
        "legend": {
         "itemsizing": "constant",
         "title": {
          "text": "Countries and areas"
         },
         "tracegroupgap": 0
        },
        "template": {
         "data": {
          "bar": [
           {
            "error_x": {
             "color": "#2a3f5f"
            },
            "error_y": {
             "color": "#2a3f5f"
            },
            "marker": {
             "line": {
              "color": "#E5ECF6",
              "width": 0.5
             },
             "pattern": {
              "fillmode": "overlay",
              "size": 10,
              "solidity": 0.2
             }
            },
            "type": "bar"
           }
          ],
          "barpolar": [
           {
            "marker": {
             "line": {
              "color": "#E5ECF6",
              "width": 0.5
             },
             "pattern": {
              "fillmode": "overlay",
              "size": 10,
              "solidity": 0.2
             }
            },
            "type": "barpolar"
           }
          ],
          "carpet": [
           {
            "aaxis": {
             "endlinecolor": "#2a3f5f",
             "gridcolor": "white",
             "linecolor": "white",
             "minorgridcolor": "white",
             "startlinecolor": "#2a3f5f"
            },
            "baxis": {
             "endlinecolor": "#2a3f5f",
             "gridcolor": "white",
             "linecolor": "white",
             "minorgridcolor": "white",
             "startlinecolor": "#2a3f5f"
            },
            "type": "carpet"
           }
          ],
          "choropleth": [
           {
            "colorbar": {
             "outlinewidth": 0,
             "ticks": ""
            },
            "type": "choropleth"
           }
          ],
          "contour": [
           {
            "colorbar": {
             "outlinewidth": 0,
             "ticks": ""
            },
            "colorscale": [
             [
              0,
              "#0d0887"
             ],
             [
              0.1111111111111111,
              "#46039f"
             ],
             [
              0.2222222222222222,
              "#7201a8"
             ],
             [
              0.3333333333333333,
              "#9c179e"
             ],
             [
              0.4444444444444444,
              "#bd3786"
             ],
             [
              0.5555555555555556,
              "#d8576b"
             ],
             [
              0.6666666666666666,
              "#ed7953"
             ],
             [
              0.7777777777777778,
              "#fb9f3a"
             ],
             [
              0.8888888888888888,
              "#fdca26"
             ],
             [
              1,
              "#f0f921"
             ]
            ],
            "type": "contour"
           }
          ],
          "contourcarpet": [
           {
            "colorbar": {
             "outlinewidth": 0,
             "ticks": ""
            },
            "type": "contourcarpet"
           }
          ],
          "heatmap": [
           {
            "colorbar": {
             "outlinewidth": 0,
             "ticks": ""
            },
            "colorscale": [
             [
              0,
              "#0d0887"
             ],
             [
              0.1111111111111111,
              "#46039f"
             ],
             [
              0.2222222222222222,
              "#7201a8"
             ],
             [
              0.3333333333333333,
              "#9c179e"
             ],
             [
              0.4444444444444444,
              "#bd3786"
             ],
             [
              0.5555555555555556,
              "#d8576b"
             ],
             [
              0.6666666666666666,
              "#ed7953"
             ],
             [
              0.7777777777777778,
              "#fb9f3a"
             ],
             [
              0.8888888888888888,
              "#fdca26"
             ],
             [
              1,
              "#f0f921"
             ]
            ],
            "type": "heatmap"
           }
          ],
          "heatmapgl": [
           {
            "colorbar": {
             "outlinewidth": 0,
             "ticks": ""
            },
            "colorscale": [
             [
              0,
              "#0d0887"
             ],
             [
              0.1111111111111111,
              "#46039f"
             ],
             [
              0.2222222222222222,
              "#7201a8"
             ],
             [
              0.3333333333333333,
              "#9c179e"
             ],
             [
              0.4444444444444444,
              "#bd3786"
             ],
             [
              0.5555555555555556,
              "#d8576b"
             ],
             [
              0.6666666666666666,
              "#ed7953"
             ],
             [
              0.7777777777777778,
              "#fb9f3a"
             ],
             [
              0.8888888888888888,
              "#fdca26"
             ],
             [
              1,
              "#f0f921"
             ]
            ],
            "type": "heatmapgl"
           }
          ],
          "histogram": [
           {
            "marker": {
             "pattern": {
              "fillmode": "overlay",
              "size": 10,
              "solidity": 0.2
             }
            },
            "type": "histogram"
           }
          ],
          "histogram2d": [
           {
            "colorbar": {
             "outlinewidth": 0,
             "ticks": ""
            },
            "colorscale": [
             [
              0,
              "#0d0887"
             ],
             [
              0.1111111111111111,
              "#46039f"
             ],
             [
              0.2222222222222222,
              "#7201a8"
             ],
             [
              0.3333333333333333,
              "#9c179e"
             ],
             [
              0.4444444444444444,
              "#bd3786"
             ],
             [
              0.5555555555555556,
              "#d8576b"
             ],
             [
              0.6666666666666666,
              "#ed7953"
             ],
             [
              0.7777777777777778,
              "#fb9f3a"
             ],
             [
              0.8888888888888888,
              "#fdca26"
             ],
             [
              1,
              "#f0f921"
             ]
            ],
            "type": "histogram2d"
           }
          ],
          "histogram2dcontour": [
           {
            "colorbar": {
             "outlinewidth": 0,
             "ticks": ""
            },
            "colorscale": [
             [
              0,
              "#0d0887"
             ],
             [
              0.1111111111111111,
              "#46039f"
             ],
             [
              0.2222222222222222,
              "#7201a8"
             ],
             [
              0.3333333333333333,
              "#9c179e"
             ],
             [
              0.4444444444444444,
              "#bd3786"
             ],
             [
              0.5555555555555556,
              "#d8576b"
             ],
             [
              0.6666666666666666,
              "#ed7953"
             ],
             [
              0.7777777777777778,
              "#fb9f3a"
             ],
             [
              0.8888888888888888,
              "#fdca26"
             ],
             [
              1,
              "#f0f921"
             ]
            ],
            "type": "histogram2dcontour"
           }
          ],
          "mesh3d": [
           {
            "colorbar": {
             "outlinewidth": 0,
             "ticks": ""
            },
            "type": "mesh3d"
           }
          ],
          "parcoords": [
           {
            "line": {
             "colorbar": {
              "outlinewidth": 0,
              "ticks": ""
             }
            },
            "type": "parcoords"
           }
          ],
          "pie": [
           {
            "automargin": true,
            "type": "pie"
           }
          ],
          "scatter": [
           {
            "fillpattern": {
             "fillmode": "overlay",
             "size": 10,
             "solidity": 0.2
            },
            "type": "scatter"
           }
          ],
          "scatter3d": [
           {
            "line": {
             "colorbar": {
              "outlinewidth": 0,
              "ticks": ""
             }
            },
            "marker": {
             "colorbar": {
              "outlinewidth": 0,
              "ticks": ""
             }
            },
            "type": "scatter3d"
           }
          ],
          "scattercarpet": [
           {
            "marker": {
             "colorbar": {
              "outlinewidth": 0,
              "ticks": ""
             }
            },
            "type": "scattercarpet"
           }
          ],
          "scattergeo": [
           {
            "marker": {
             "colorbar": {
              "outlinewidth": 0,
              "ticks": ""
             }
            },
            "type": "scattergeo"
           }
          ],
          "scattergl": [
           {
            "marker": {
             "colorbar": {
              "outlinewidth": 0,
              "ticks": ""
             }
            },
            "type": "scattergl"
           }
          ],
          "scattermapbox": [
           {
            "marker": {
             "colorbar": {
              "outlinewidth": 0,
              "ticks": ""
             }
            },
            "type": "scattermapbox"
           }
          ],
          "scatterpolar": [
           {
            "marker": {
             "colorbar": {
              "outlinewidth": 0,
              "ticks": ""
             }
            },
            "type": "scatterpolar"
           }
          ],
          "scatterpolargl": [
           {
            "marker": {
             "colorbar": {
              "outlinewidth": 0,
              "ticks": ""
             }
            },
            "type": "scatterpolargl"
           }
          ],
          "scatterternary": [
           {
            "marker": {
             "colorbar": {
              "outlinewidth": 0,
              "ticks": ""
             }
            },
            "type": "scatterternary"
           }
          ],
          "surface": [
           {
            "colorbar": {
             "outlinewidth": 0,
             "ticks": ""
            },
            "colorscale": [
             [
              0,
              "#0d0887"
             ],
             [
              0.1111111111111111,
              "#46039f"
             ],
             [
              0.2222222222222222,
              "#7201a8"
             ],
             [
              0.3333333333333333,
              "#9c179e"
             ],
             [
              0.4444444444444444,
              "#bd3786"
             ],
             [
              0.5555555555555556,
              "#d8576b"
             ],
             [
              0.6666666666666666,
              "#ed7953"
             ],
             [
              0.7777777777777778,
              "#fb9f3a"
             ],
             [
              0.8888888888888888,
              "#fdca26"
             ],
             [
              1,
              "#f0f921"
             ]
            ],
            "type": "surface"
           }
          ],
          "table": [
           {
            "cells": {
             "fill": {
              "color": "#EBF0F8"
             },
             "line": {
              "color": "white"
             }
            },
            "header": {
             "fill": {
              "color": "#C8D4E3"
             },
             "line": {
              "color": "white"
             }
            },
            "type": "table"
           }
          ]
         },
         "layout": {
          "annotationdefaults": {
           "arrowcolor": "#2a3f5f",
           "arrowhead": 0,
           "arrowwidth": 1
          },
          "autotypenumbers": "strict",
          "coloraxis": {
           "colorbar": {
            "outlinewidth": 0,
            "ticks": ""
           }
          },
          "colorscale": {
           "diverging": [
            [
             0,
             "#8e0152"
            ],
            [
             0.1,
             "#c51b7d"
            ],
            [
             0.2,
             "#de77ae"
            ],
            [
             0.3,
             "#f1b6da"
            ],
            [
             0.4,
             "#fde0ef"
            ],
            [
             0.5,
             "#f7f7f7"
            ],
            [
             0.6,
             "#e6f5d0"
            ],
            [
             0.7,
             "#b8e186"
            ],
            [
             0.8,
             "#7fbc41"
            ],
            [
             0.9,
             "#4d9221"
            ],
            [
             1,
             "#276419"
            ]
           ],
           "sequential": [
            [
             0,
             "#0d0887"
            ],
            [
             0.1111111111111111,
             "#46039f"
            ],
            [
             0.2222222222222222,
             "#7201a8"
            ],
            [
             0.3333333333333333,
             "#9c179e"
            ],
            [
             0.4444444444444444,
             "#bd3786"
            ],
            [
             0.5555555555555556,
             "#d8576b"
            ],
            [
             0.6666666666666666,
             "#ed7953"
            ],
            [
             0.7777777777777778,
             "#fb9f3a"
            ],
            [
             0.8888888888888888,
             "#fdca26"
            ],
            [
             1,
             "#f0f921"
            ]
           ],
           "sequentialminus": [
            [
             0,
             "#0d0887"
            ],
            [
             0.1111111111111111,
             "#46039f"
            ],
            [
             0.2222222222222222,
             "#7201a8"
            ],
            [
             0.3333333333333333,
             "#9c179e"
            ],
            [
             0.4444444444444444,
             "#bd3786"
            ],
            [
             0.5555555555555556,
             "#d8576b"
            ],
            [
             0.6666666666666666,
             "#ed7953"
            ],
            [
             0.7777777777777778,
             "#fb9f3a"
            ],
            [
             0.8888888888888888,
             "#fdca26"
            ],
            [
             1,
             "#f0f921"
            ]
           ]
          },
          "colorway": [
           "#636efa",
           "#EF553B",
           "#00cc96",
           "#ab63fa",
           "#FFA15A",
           "#19d3f3",
           "#FF6692",
           "#B6E880",
           "#FF97FF",
           "#FECB52"
          ],
          "font": {
           "color": "#2a3f5f"
          },
          "geo": {
           "bgcolor": "white",
           "lakecolor": "white",
           "landcolor": "#E5ECF6",
           "showlakes": true,
           "showland": true,
           "subunitcolor": "white"
          },
          "hoverlabel": {
           "align": "left"
          },
          "hovermode": "closest",
          "mapbox": {
           "style": "light"
          },
          "paper_bgcolor": "white",
          "plot_bgcolor": "#E5ECF6",
          "polar": {
           "angularaxis": {
            "gridcolor": "white",
            "linecolor": "white",
            "ticks": ""
           },
           "bgcolor": "#E5ECF6",
           "radialaxis": {
            "gridcolor": "white",
            "linecolor": "white",
            "ticks": ""
           }
          },
          "scene": {
           "xaxis": {
            "backgroundcolor": "#E5ECF6",
            "gridcolor": "white",
            "gridwidth": 2,
            "linecolor": "white",
            "showbackground": true,
            "ticks": "",
            "zerolinecolor": "white"
           },
           "yaxis": {
            "backgroundcolor": "#E5ECF6",
            "gridcolor": "white",
            "gridwidth": 2,
            "linecolor": "white",
            "showbackground": true,
            "ticks": "",
            "zerolinecolor": "white"
           },
           "zaxis": {
            "backgroundcolor": "#E5ECF6",
            "gridcolor": "white",
            "gridwidth": 2,
            "linecolor": "white",
            "showbackground": true,
            "ticks": "",
            "zerolinecolor": "white"
           }
          },
          "shapedefaults": {
           "line": {
            "color": "#2a3f5f"
           }
          },
          "ternary": {
           "aaxis": {
            "gridcolor": "white",
            "linecolor": "white",
            "ticks": ""
           },
           "baxis": {
            "gridcolor": "white",
            "linecolor": "white",
            "ticks": ""
           },
           "bgcolor": "#E5ECF6",
           "caxis": {
            "gridcolor": "white",
            "linecolor": "white",
            "ticks": ""
           }
          },
          "title": {
           "x": 0.05
          },
          "xaxis": {
           "automargin": true,
           "gridcolor": "white",
           "linecolor": "white",
           "ticks": "",
           "title": {
            "standoff": 15
           },
           "zerolinecolor": "white",
           "zerolinewidth": 2
          },
          "yaxis": {
           "automargin": true,
           "gridcolor": "white",
           "linecolor": "white",
           "ticks": "",
           "title": {
            "standoff": 15
           },
           "zerolinecolor": "white",
           "zerolinewidth": 2
          }
         }
        },
        "title": {
         "text": "Upper Secondary Education Completion Rate (Male vs Female)"
        },
        "xaxis": {
         "anchor": "y",
         "domain": [
          0,
          1
         ],
         "title": {
          "text": "Male Completion Rate"
         }
        },
        "yaxis": {
         "anchor": "x",
         "domain": [
          0,
          1
         ],
         "title": {
          "text": "Female Completion Rate"
         }
        }
       }
      }
     },
     "metadata": {},
     "output_type": "display_data"
    }
   ],
   "source": [
    "fig5 = px.scatter(\n",
    "    data,\n",
    "    x='Completion_Rate_Upper_Secondary_Male',\n",
    "    y='Completion_Rate_Upper_Secondary_Female',\n",
    "    size='Gross_Tertiary_Education_Enrollment',\n",
    "    color='Countries and areas',\n",
    "    title='Upper Secondary Education Completion Rate (Male vs Female)',\n",
    "    labels={\n",
    "        \"Completion_Rate_Upper_Secondary_Male\": \"Male Completion Rate\",\n",
    "        \"Completion_Rate_Upper_Secondary_Female\": \"Female Completion Rate\"\n",
    "    }\n",
    ")\n",
    "fig5.show()"
   ]
  },
  {
   "cell_type": "code",
   "execution_count": 13,
   "metadata": {},
   "outputs": [
    {
     "data": {
      "application/vnd.plotly.v1+json": {
       "config": {
        "plotlyServerURL": "https://plot.ly"
       },
       "data": [
        {
         "alignmentgroup": "True",
         "hovertemplate": "Countries and areas=%{x}<br>Female Literacy Rate=%{y}<extra></extra>",
         "legendgroup": "",
         "marker": {
          "color": "#636efa",
          "pattern": {
           "shape": ""
          }
         },
         "name": "",
         "offsetgroup": "",
         "orientation": "v",
         "showlegend": false,
         "textposition": "auto",
         "type": "bar",
         "x": [
          "Albania",
          "Argentina",
          "Costa Rica",
          "China",
          "Brunei",
          "Belarus",
          "Lebanon",
          "Latvia",
          "Indonesia",
          "Italy",
          "Portugal",
          "Russia",
          "Seychelles",
          "San Marino",
          "Spain",
          "Singapore",
          "Uzbekistan",
          "Tonga",
          "Malta",
          "Kazakhstan",
          "Kyrgyzstan",
          "Kuwait",
          "Palestinian National Authority",
          "Thailand",
          "Peru",
          "Paraguay",
          "Romania",
          "Jordan",
          "Mongolia",
          "Mauritius",
          "Montenegro",
          "Oman",
          "Panama",
          "Mexico",
          "Bahrain",
          "Samoa",
          "Sri Lanka",
          "Uruguay",
          "Colombia",
          "Greece",
          "Brazil",
          "El Salvador",
          "Honduras",
          "Vietnam",
          "Sï¿½ï¿½ï¿½ï¿½ï¿½ï¿½ï¿½ï¿",
          "Suriname",
          "Morocco",
          "Eswatini",
          "Algeria",
          "Vanuatu",
          "Malaysia",
          "Namibia",
          "Bangladesh",
          "Eritrea",
          "Zambia",
          "Ghana",
          "Gabon",
          "Nepal",
          "India",
          "Uganda",
          "Rwanda",
          "Kenya",
          "East Timor",
          "Cameroon",
          "Madagascar",
          "Republic of the Congo",
          "Comoros",
          "Sudan",
          "Nigeria",
          "Sierra Leone",
          "Afghanistan",
          "Burkina Faso",
          "Ivory Coast",
          "Benin",
          "South Sudan",
          "Guinea",
          "Mali",
          "Niger",
          "Central African Republic",
          "Fiji",
          "Finland",
          "France",
          "Estonia",
          "Ethiopia",
          "Dominica",
          "Djibouti",
          "Dominican Republic",
          "Ecuador",
          "Egypt",
          "Equatorial Guinea",
          "Guatemala",
          "Grenada",
          "Georgia",
          "Germany",
          "The Gambia",
          "Democratic Republic of the Congo",
          "Denmark",
          "Belgium",
          "Canada",
          "Cambodia",
          "Cape Verde",
          "Burundi",
          "Bulgaria",
          "Chad",
          "Chile",
          "Cook Islands",
          "Austria",
          "The Bahamas",
          "Azerbaijan",
          "Belize",
          "Bolivia",
          "Bosnia and Herzegovina",
          "Botswana",
          "British Virgin Islands",
          "Bhutan",
          "Barbados",
          "Angola",
          "Andorra",
          "Anguilla",
          "Antigua and Barbuda",
          "Armenia",
          "Australia",
          "Cuba",
          "North Korea",
          "Czech Republic",
          "Cyprus",
          "Croatia",
          "Lesotho",
          "Liechtenstein",
          "Libya",
          "Luxembourg",
          "Lithuania",
          "Japan",
          "Jamaica",
          "Vatican City",
          "Haiti",
          "Guinea0Bissau",
          "Guyana",
          "Palau",
          "Pakistan",
          "North Macedonia",
          "Norway",
          "Niue",
          "Netherlands",
          "New Zealand",
          "Nicaragua",
          "Myanmar",
          "Nauru",
          "Malawi",
          "Maldives",
          "Monaco",
          "Federated States of Micronesia",
          "Montserrat",
          "Mozambique",
          "Marshall Islands",
          "Mauritania",
          "Israel",
          "Republic of Ireland",
          "Iran",
          "Iraq",
          "Hungary",
          "Iceland",
          "Laos",
          "Kiribati",
          "Liberia",
          "Moldova",
          "Saint Vincent and the Grenadines",
          "Saint Lucia",
          "Saint Kitts and Nevis",
          "Papua New Guinea",
          "South Africa",
          "Slovenia",
          "Solomon Islands",
          "Somalia",
          "Slovakia",
          "Saudi Arabia",
          "Senegal",
          "Serbia",
          "South Korea",
          "Qatar",
          "Poland",
          "Philippines",
          "Tajikistan",
          "Syria",
          "Sweden",
          "Switzerland",
          "Turkmenistan",
          "Turkey",
          "Tunisia",
          "Trinidad and Tobago",
          "Tokelau",
          "Togo",
          "Tuvalu",
          "Turks and Caicos Islands",
          "United States",
          "Tanzania",
          "United Kingdom",
          "United Arab Emirates",
          "Ukraine",
          "Venezuela",
          "Yemen",
          "Zimbabwe"
         ],
         "xaxis": "x",
         "y": [
          100,
          100,
          100,
          100,
          100,
          100,
          100,
          100,
          100,
          100,
          100,
          100,
          100,
          100,
          100,
          100,
          100,
          100,
          100,
          100,
          100,
          100,
          99,
          99,
          99,
          99,
          99,
          99,
          99,
          99,
          99,
          99,
          99,
          99,
          99,
          99,
          99,
          99,
          99,
          99,
          99,
          98,
          98,
          98,
          98,
          98,
          97,
          97,
          97,
          97,
          97,
          96,
          96,
          93,
          92,
          92,
          91,
          91,
          90,
          90,
          89,
          88,
          85,
          82,
          81,
          79,
          78,
          73,
          68,
          63,
          56,
          55,
          53,
          52,
          47,
          43,
          43,
          36,
          29,
          0,
          0,
          0,
          0,
          0,
          0,
          0,
          0,
          0,
          0,
          0,
          0,
          0,
          0,
          0,
          0,
          0,
          0,
          0,
          0,
          0,
          0,
          0,
          0,
          0,
          0,
          0,
          0,
          0,
          0,
          0,
          0,
          0,
          0,
          0,
          0,
          0,
          0,
          0,
          0,
          0,
          0,
          0,
          0,
          0,
          0,
          0,
          0,
          0,
          0,
          0,
          0,
          0,
          0,
          0,
          0,
          0,
          0,
          0,
          0,
          0,
          0,
          0,
          0,
          0,
          0,
          0,
          0,
          0,
          0,
          0,
          0,
          0,
          0,
          0,
          0,
          0,
          0,
          0,
          0,
          0,
          0,
          0,
          0,
          0,
          0,
          0,
          0,
          0,
          0,
          0,
          0,
          0,
          0,
          0,
          0,
          0,
          0,
          0,
          0,
          0,
          0,
          0,
          0,
          0,
          0,
          0,
          0,
          0,
          0,
          0,
          0,
          0,
          0,
          0,
          0,
          0,
          0,
          0,
          0,
          0,
          0,
          0
         ],
         "yaxis": "y"
        }
       ],
       "layout": {
        "barmode": "relative",
        "legend": {
         "tracegroupgap": 0
        },
        "template": {
         "data": {
          "bar": [
           {
            "error_x": {
             "color": "#2a3f5f"
            },
            "error_y": {
             "color": "#2a3f5f"
            },
            "marker": {
             "line": {
              "color": "#E5ECF6",
              "width": 0.5
             },
             "pattern": {
              "fillmode": "overlay",
              "size": 10,
              "solidity": 0.2
             }
            },
            "type": "bar"
           }
          ],
          "barpolar": [
           {
            "marker": {
             "line": {
              "color": "#E5ECF6",
              "width": 0.5
             },
             "pattern": {
              "fillmode": "overlay",
              "size": 10,
              "solidity": 0.2
             }
            },
            "type": "barpolar"
           }
          ],
          "carpet": [
           {
            "aaxis": {
             "endlinecolor": "#2a3f5f",
             "gridcolor": "white",
             "linecolor": "white",
             "minorgridcolor": "white",
             "startlinecolor": "#2a3f5f"
            },
            "baxis": {
             "endlinecolor": "#2a3f5f",
             "gridcolor": "white",
             "linecolor": "white",
             "minorgridcolor": "white",
             "startlinecolor": "#2a3f5f"
            },
            "type": "carpet"
           }
          ],
          "choropleth": [
           {
            "colorbar": {
             "outlinewidth": 0,
             "ticks": ""
            },
            "type": "choropleth"
           }
          ],
          "contour": [
           {
            "colorbar": {
             "outlinewidth": 0,
             "ticks": ""
            },
            "colorscale": [
             [
              0,
              "#0d0887"
             ],
             [
              0.1111111111111111,
              "#46039f"
             ],
             [
              0.2222222222222222,
              "#7201a8"
             ],
             [
              0.3333333333333333,
              "#9c179e"
             ],
             [
              0.4444444444444444,
              "#bd3786"
             ],
             [
              0.5555555555555556,
              "#d8576b"
             ],
             [
              0.6666666666666666,
              "#ed7953"
             ],
             [
              0.7777777777777778,
              "#fb9f3a"
             ],
             [
              0.8888888888888888,
              "#fdca26"
             ],
             [
              1,
              "#f0f921"
             ]
            ],
            "type": "contour"
           }
          ],
          "contourcarpet": [
           {
            "colorbar": {
             "outlinewidth": 0,
             "ticks": ""
            },
            "type": "contourcarpet"
           }
          ],
          "heatmap": [
           {
            "colorbar": {
             "outlinewidth": 0,
             "ticks": ""
            },
            "colorscale": [
             [
              0,
              "#0d0887"
             ],
             [
              0.1111111111111111,
              "#46039f"
             ],
             [
              0.2222222222222222,
              "#7201a8"
             ],
             [
              0.3333333333333333,
              "#9c179e"
             ],
             [
              0.4444444444444444,
              "#bd3786"
             ],
             [
              0.5555555555555556,
              "#d8576b"
             ],
             [
              0.6666666666666666,
              "#ed7953"
             ],
             [
              0.7777777777777778,
              "#fb9f3a"
             ],
             [
              0.8888888888888888,
              "#fdca26"
             ],
             [
              1,
              "#f0f921"
             ]
            ],
            "type": "heatmap"
           }
          ],
          "heatmapgl": [
           {
            "colorbar": {
             "outlinewidth": 0,
             "ticks": ""
            },
            "colorscale": [
             [
              0,
              "#0d0887"
             ],
             [
              0.1111111111111111,
              "#46039f"
             ],
             [
              0.2222222222222222,
              "#7201a8"
             ],
             [
              0.3333333333333333,
              "#9c179e"
             ],
             [
              0.4444444444444444,
              "#bd3786"
             ],
             [
              0.5555555555555556,
              "#d8576b"
             ],
             [
              0.6666666666666666,
              "#ed7953"
             ],
             [
              0.7777777777777778,
              "#fb9f3a"
             ],
             [
              0.8888888888888888,
              "#fdca26"
             ],
             [
              1,
              "#f0f921"
             ]
            ],
            "type": "heatmapgl"
           }
          ],
          "histogram": [
           {
            "marker": {
             "pattern": {
              "fillmode": "overlay",
              "size": 10,
              "solidity": 0.2
             }
            },
            "type": "histogram"
           }
          ],
          "histogram2d": [
           {
            "colorbar": {
             "outlinewidth": 0,
             "ticks": ""
            },
            "colorscale": [
             [
              0,
              "#0d0887"
             ],
             [
              0.1111111111111111,
              "#46039f"
             ],
             [
              0.2222222222222222,
              "#7201a8"
             ],
             [
              0.3333333333333333,
              "#9c179e"
             ],
             [
              0.4444444444444444,
              "#bd3786"
             ],
             [
              0.5555555555555556,
              "#d8576b"
             ],
             [
              0.6666666666666666,
              "#ed7953"
             ],
             [
              0.7777777777777778,
              "#fb9f3a"
             ],
             [
              0.8888888888888888,
              "#fdca26"
             ],
             [
              1,
              "#f0f921"
             ]
            ],
            "type": "histogram2d"
           }
          ],
          "histogram2dcontour": [
           {
            "colorbar": {
             "outlinewidth": 0,
             "ticks": ""
            },
            "colorscale": [
             [
              0,
              "#0d0887"
             ],
             [
              0.1111111111111111,
              "#46039f"
             ],
             [
              0.2222222222222222,
              "#7201a8"
             ],
             [
              0.3333333333333333,
              "#9c179e"
             ],
             [
              0.4444444444444444,
              "#bd3786"
             ],
             [
              0.5555555555555556,
              "#d8576b"
             ],
             [
              0.6666666666666666,
              "#ed7953"
             ],
             [
              0.7777777777777778,
              "#fb9f3a"
             ],
             [
              0.8888888888888888,
              "#fdca26"
             ],
             [
              1,
              "#f0f921"
             ]
            ],
            "type": "histogram2dcontour"
           }
          ],
          "mesh3d": [
           {
            "colorbar": {
             "outlinewidth": 0,
             "ticks": ""
            },
            "type": "mesh3d"
           }
          ],
          "parcoords": [
           {
            "line": {
             "colorbar": {
              "outlinewidth": 0,
              "ticks": ""
             }
            },
            "type": "parcoords"
           }
          ],
          "pie": [
           {
            "automargin": true,
            "type": "pie"
           }
          ],
          "scatter": [
           {
            "fillpattern": {
             "fillmode": "overlay",
             "size": 10,
             "solidity": 0.2
            },
            "type": "scatter"
           }
          ],
          "scatter3d": [
           {
            "line": {
             "colorbar": {
              "outlinewidth": 0,
              "ticks": ""
             }
            },
            "marker": {
             "colorbar": {
              "outlinewidth": 0,
              "ticks": ""
             }
            },
            "type": "scatter3d"
           }
          ],
          "scattercarpet": [
           {
            "marker": {
             "colorbar": {
              "outlinewidth": 0,
              "ticks": ""
             }
            },
            "type": "scattercarpet"
           }
          ],
          "scattergeo": [
           {
            "marker": {
             "colorbar": {
              "outlinewidth": 0,
              "ticks": ""
             }
            },
            "type": "scattergeo"
           }
          ],
          "scattergl": [
           {
            "marker": {
             "colorbar": {
              "outlinewidth": 0,
              "ticks": ""
             }
            },
            "type": "scattergl"
           }
          ],
          "scattermapbox": [
           {
            "marker": {
             "colorbar": {
              "outlinewidth": 0,
              "ticks": ""
             }
            },
            "type": "scattermapbox"
           }
          ],
          "scatterpolar": [
           {
            "marker": {
             "colorbar": {
              "outlinewidth": 0,
              "ticks": ""
             }
            },
            "type": "scatterpolar"
           }
          ],
          "scatterpolargl": [
           {
            "marker": {
             "colorbar": {
              "outlinewidth": 0,
              "ticks": ""
             }
            },
            "type": "scatterpolargl"
           }
          ],
          "scatterternary": [
           {
            "marker": {
             "colorbar": {
              "outlinewidth": 0,
              "ticks": ""
             }
            },
            "type": "scatterternary"
           }
          ],
          "surface": [
           {
            "colorbar": {
             "outlinewidth": 0,
             "ticks": ""
            },
            "colorscale": [
             [
              0,
              "#0d0887"
             ],
             [
              0.1111111111111111,
              "#46039f"
             ],
             [
              0.2222222222222222,
              "#7201a8"
             ],
             [
              0.3333333333333333,
              "#9c179e"
             ],
             [
              0.4444444444444444,
              "#bd3786"
             ],
             [
              0.5555555555555556,
              "#d8576b"
             ],
             [
              0.6666666666666666,
              "#ed7953"
             ],
             [
              0.7777777777777778,
              "#fb9f3a"
             ],
             [
              0.8888888888888888,
              "#fdca26"
             ],
             [
              1,
              "#f0f921"
             ]
            ],
            "type": "surface"
           }
          ],
          "table": [
           {
            "cells": {
             "fill": {
              "color": "#EBF0F8"
             },
             "line": {
              "color": "white"
             }
            },
            "header": {
             "fill": {
              "color": "#C8D4E3"
             },
             "line": {
              "color": "white"
             }
            },
            "type": "table"
           }
          ]
         },
         "layout": {
          "annotationdefaults": {
           "arrowcolor": "#2a3f5f",
           "arrowhead": 0,
           "arrowwidth": 1
          },
          "autotypenumbers": "strict",
          "coloraxis": {
           "colorbar": {
            "outlinewidth": 0,
            "ticks": ""
           }
          },
          "colorscale": {
           "diverging": [
            [
             0,
             "#8e0152"
            ],
            [
             0.1,
             "#c51b7d"
            ],
            [
             0.2,
             "#de77ae"
            ],
            [
             0.3,
             "#f1b6da"
            ],
            [
             0.4,
             "#fde0ef"
            ],
            [
             0.5,
             "#f7f7f7"
            ],
            [
             0.6,
             "#e6f5d0"
            ],
            [
             0.7,
             "#b8e186"
            ],
            [
             0.8,
             "#7fbc41"
            ],
            [
             0.9,
             "#4d9221"
            ],
            [
             1,
             "#276419"
            ]
           ],
           "sequential": [
            [
             0,
             "#0d0887"
            ],
            [
             0.1111111111111111,
             "#46039f"
            ],
            [
             0.2222222222222222,
             "#7201a8"
            ],
            [
             0.3333333333333333,
             "#9c179e"
            ],
            [
             0.4444444444444444,
             "#bd3786"
            ],
            [
             0.5555555555555556,
             "#d8576b"
            ],
            [
             0.6666666666666666,
             "#ed7953"
            ],
            [
             0.7777777777777778,
             "#fb9f3a"
            ],
            [
             0.8888888888888888,
             "#fdca26"
            ],
            [
             1,
             "#f0f921"
            ]
           ],
           "sequentialminus": [
            [
             0,
             "#0d0887"
            ],
            [
             0.1111111111111111,
             "#46039f"
            ],
            [
             0.2222222222222222,
             "#7201a8"
            ],
            [
             0.3333333333333333,
             "#9c179e"
            ],
            [
             0.4444444444444444,
             "#bd3786"
            ],
            [
             0.5555555555555556,
             "#d8576b"
            ],
            [
             0.6666666666666666,
             "#ed7953"
            ],
            [
             0.7777777777777778,
             "#fb9f3a"
            ],
            [
             0.8888888888888888,
             "#fdca26"
            ],
            [
             1,
             "#f0f921"
            ]
           ]
          },
          "colorway": [
           "#636efa",
           "#EF553B",
           "#00cc96",
           "#ab63fa",
           "#FFA15A",
           "#19d3f3",
           "#FF6692",
           "#B6E880",
           "#FF97FF",
           "#FECB52"
          ],
          "font": {
           "color": "#2a3f5f"
          },
          "geo": {
           "bgcolor": "white",
           "lakecolor": "white",
           "landcolor": "#E5ECF6",
           "showlakes": true,
           "showland": true,
           "subunitcolor": "white"
          },
          "hoverlabel": {
           "align": "left"
          },
          "hovermode": "closest",
          "mapbox": {
           "style": "light"
          },
          "paper_bgcolor": "white",
          "plot_bgcolor": "#E5ECF6",
          "polar": {
           "angularaxis": {
            "gridcolor": "white",
            "linecolor": "white",
            "ticks": ""
           },
           "bgcolor": "#E5ECF6",
           "radialaxis": {
            "gridcolor": "white",
            "linecolor": "white",
            "ticks": ""
           }
          },
          "scene": {
           "xaxis": {
            "backgroundcolor": "#E5ECF6",
            "gridcolor": "white",
            "gridwidth": 2,
            "linecolor": "white",
            "showbackground": true,
            "ticks": "",
            "zerolinecolor": "white"
           },
           "yaxis": {
            "backgroundcolor": "#E5ECF6",
            "gridcolor": "white",
            "gridwidth": 2,
            "linecolor": "white",
            "showbackground": true,
            "ticks": "",
            "zerolinecolor": "white"
           },
           "zaxis": {
            "backgroundcolor": "#E5ECF6",
            "gridcolor": "white",
            "gridwidth": 2,
            "linecolor": "white",
            "showbackground": true,
            "ticks": "",
            "zerolinecolor": "white"
           }
          },
          "shapedefaults": {
           "line": {
            "color": "#2a3f5f"
           }
          },
          "ternary": {
           "aaxis": {
            "gridcolor": "white",
            "linecolor": "white",
            "ticks": ""
           },
           "baxis": {
            "gridcolor": "white",
            "linecolor": "white",
            "ticks": ""
           },
           "bgcolor": "#E5ECF6",
           "caxis": {
            "gridcolor": "white",
            "linecolor": "white",
            "ticks": ""
           }
          },
          "title": {
           "x": 0.05
          },
          "xaxis": {
           "automargin": true,
           "gridcolor": "white",
           "linecolor": "white",
           "ticks": "",
           "title": {
            "standoff": 15
           },
           "zerolinecolor": "white",
           "zerolinewidth": 2
          },
          "yaxis": {
           "automargin": true,
           "gridcolor": "white",
           "linecolor": "white",
           "ticks": "",
           "title": {
            "standoff": 15
           },
           "zerolinecolor": "white",
           "zerolinewidth": 2
          }
         }
        },
        "title": {
         "text": "Female Literacy Rate (15-24) by Country"
        },
        "xaxis": {
         "anchor": "y",
         "domain": [
          0,
          1
         ],
         "title": {
          "text": "Countries and areas"
         }
        },
        "yaxis": {
         "anchor": "x",
         "domain": [
          0,
          1
         ],
         "title": {
          "text": "Female Literacy Rate"
         }
        }
       }
      }
     },
     "metadata": {},
     "output_type": "display_data"
    }
   ],
   "source": [
    "fig6 = px.bar(\n",
    "    data.sort_values('Youth_15_24_Literacy_Rate_Female', ascending=False),\n",
    "    x='Countries and areas',\n",
    "    y='Youth_15_24_Literacy_Rate_Female',\n",
    "    title='Female Literacy Rate (15-24) by Country',\n",
    "    labels={\"Youth_15_24_Literacy_Rate_Female\": \"Female Literacy Rate\"}\n",
    ")\n",
    "fig6.show()"
   ]
  },
  {
   "cell_type": "code",
   "execution_count": 14,
   "metadata": {},
   "outputs": [
    {
     "data": {
      "application/vnd.plotly.v1+json": {
       "config": {
        "plotlyServerURL": "https://plot.ly"
       },
       "data": [
        {
         "alignmentgroup": "True",
         "hovertemplate": "Countries and areas=%{x}<br>Male Literacy Rate=%{y}<extra></extra>",
         "legendgroup": "",
         "marker": {
          "color": "#636efa",
          "pattern": {
           "shape": ""
          }
         },
         "name": "",
         "offsetgroup": "",
         "orientation": "v",
         "showlegend": false,
         "textposition": "auto",
         "type": "bar",
         "x": [
          "Belarus",
          "Bahrain",
          "Brunei",
          "China",
          "Latvia",
          "Lebanon",
          "Kazakhstan",
          "Kyrgyzstan",
          "Indonesia",
          "Italy",
          "Portugal",
          "Russia",
          "Singapore",
          "San Marino",
          "Spain",
          "Uzbekistan",
          "Montenegro",
          "Mexico",
          "Kuwait",
          "Jordan",
          "Palestinian National Authority",
          "Uruguay",
          "Suriname",
          "Tonga",
          "Peru",
          "Samoa",
          "Seychelles",
          "Sri Lanka",
          "Colombia",
          "Brazil",
          "Panama",
          "Malta",
          "Romania",
          "Mauritius",
          "Costa Rica",
          "Greece",
          "Albania",
          "Argentina",
          "El Salvador",
          "Algeria",
          "Morocco",
          "Sï¿½ï¿½ï¿½ï¿½ï¿½ï¿½ï¿½ï¿",
          "Oman",
          "Mongolia",
          "Paraguay",
          "Thailand",
          "Vietnam",
          "Malaysia",
          "Vanuatu",
          "Honduras",
          "Nepal",
          "Namibia",
          "Bangladesh",
          "Eritrea",
          "Eswatini",
          "Ghana",
          "Zambia",
          "India",
          "Uganda",
          "Kenya",
          "Cameroon",
          "Gabon",
          "Republic of the Congo",
          "Rwanda",
          "East Timor",
          "Nigeria",
          "Madagascar",
          "Comoros",
          "Afghanistan",
          "Sudan",
          "Sierra Leone",
          "Guinea",
          "Benin",
          "Ivory Coast",
          "Burkina Faso",
          "Mali",
          "Niger",
          "Central African Republic",
          "South Sudan",
          "Fiji",
          "Finland",
          "France",
          "Estonia",
          "Ethiopia",
          "Dominica",
          "Djibouti",
          "Dominican Republic",
          "Ecuador",
          "Egypt",
          "Equatorial Guinea",
          "Guatemala",
          "Grenada",
          "Georgia",
          "Germany",
          "The Gambia",
          "Democratic Republic of the Congo",
          "Denmark",
          "Belgium",
          "Canada",
          "Cambodia",
          "Cape Verde",
          "Burundi",
          "Bulgaria",
          "Chad",
          "Chile",
          "Cook Islands",
          "Austria",
          "The Bahamas",
          "Azerbaijan",
          "Belize",
          "Bolivia",
          "Bosnia and Herzegovina",
          "Botswana",
          "British Virgin Islands",
          "Bhutan",
          "Barbados",
          "Angola",
          "Andorra",
          "Anguilla",
          "Antigua and Barbuda",
          "Armenia",
          "Australia",
          "Cuba",
          "North Korea",
          "Czech Republic",
          "Cyprus",
          "Croatia",
          "Lesotho",
          "Liechtenstein",
          "Libya",
          "Luxembourg",
          "Lithuania",
          "Japan",
          "Jamaica",
          "Vatican City",
          "Haiti",
          "Guinea0Bissau",
          "Guyana",
          "Palau",
          "Pakistan",
          "North Macedonia",
          "Norway",
          "Niue",
          "Netherlands",
          "New Zealand",
          "Nicaragua",
          "Myanmar",
          "Nauru",
          "Malawi",
          "Maldives",
          "Monaco",
          "Federated States of Micronesia",
          "Montserrat",
          "Mozambique",
          "Marshall Islands",
          "Mauritania",
          "Israel",
          "Republic of Ireland",
          "Iran",
          "Iraq",
          "Hungary",
          "Iceland",
          "Laos",
          "Kiribati",
          "Liberia",
          "Moldova",
          "Saint Vincent and the Grenadines",
          "Saint Lucia",
          "Saint Kitts and Nevis",
          "Papua New Guinea",
          "South Africa",
          "Slovenia",
          "Solomon Islands",
          "Somalia",
          "Slovakia",
          "Saudi Arabia",
          "Senegal",
          "Serbia",
          "South Korea",
          "Qatar",
          "Poland",
          "Philippines",
          "Tajikistan",
          "Syria",
          "Sweden",
          "Switzerland",
          "Turkmenistan",
          "Turkey",
          "Tunisia",
          "Trinidad and Tobago",
          "Tokelau",
          "Togo",
          "Tuvalu",
          "Turks and Caicos Islands",
          "United States",
          "Tanzania",
          "United Kingdom",
          "United Arab Emirates",
          "Ukraine",
          "Venezuela",
          "Yemen",
          "Zimbabwe"
         ],
         "xaxis": "x",
         "y": [
          100,
          100,
          100,
          100,
          100,
          100,
          100,
          100,
          100,
          100,
          100,
          100,
          100,
          100,
          100,
          100,
          99,
          99,
          99,
          99,
          99,
          99,
          99,
          99,
          99,
          99,
          99,
          99,
          99,
          99,
          99,
          99,
          99,
          99,
          99,
          99,
          99,
          99,
          98,
          98,
          98,
          98,
          98,
          98,
          98,
          98,
          98,
          97,
          96,
          95,
          94,
          94,
          94,
          94,
          94,
          93,
          93,
          93,
          89,
          88,
          88,
          88,
          85,
          84,
          82,
          82,
          82,
          78,
          74,
          73,
          71,
          70,
          70,
          64,
          62,
          58,
          51,
          48,
          48,
          0,
          0,
          0,
          0,
          0,
          0,
          0,
          0,
          0,
          0,
          0,
          0,
          0,
          0,
          0,
          0,
          0,
          0,
          0,
          0,
          0,
          0,
          0,
          0,
          0,
          0,
          0,
          0,
          0,
          0,
          0,
          0,
          0,
          0,
          0,
          0,
          0,
          0,
          0,
          0,
          0,
          0,
          0,
          0,
          0,
          0,
          0,
          0,
          0,
          0,
          0,
          0,
          0,
          0,
          0,
          0,
          0,
          0,
          0,
          0,
          0,
          0,
          0,
          0,
          0,
          0,
          0,
          0,
          0,
          0,
          0,
          0,
          0,
          0,
          0,
          0,
          0,
          0,
          0,
          0,
          0,
          0,
          0,
          0,
          0,
          0,
          0,
          0,
          0,
          0,
          0,
          0,
          0,
          0,
          0,
          0,
          0,
          0,
          0,
          0,
          0,
          0,
          0,
          0,
          0,
          0,
          0,
          0,
          0,
          0,
          0,
          0,
          0,
          0,
          0,
          0,
          0,
          0,
          0,
          0,
          0,
          0,
          0
         ],
         "yaxis": "y"
        }
       ],
       "layout": {
        "barmode": "relative",
        "legend": {
         "tracegroupgap": 0
        },
        "template": {
         "data": {
          "bar": [
           {
            "error_x": {
             "color": "#2a3f5f"
            },
            "error_y": {
             "color": "#2a3f5f"
            },
            "marker": {
             "line": {
              "color": "#E5ECF6",
              "width": 0.5
             },
             "pattern": {
              "fillmode": "overlay",
              "size": 10,
              "solidity": 0.2
             }
            },
            "type": "bar"
           }
          ],
          "barpolar": [
           {
            "marker": {
             "line": {
              "color": "#E5ECF6",
              "width": 0.5
             },
             "pattern": {
              "fillmode": "overlay",
              "size": 10,
              "solidity": 0.2
             }
            },
            "type": "barpolar"
           }
          ],
          "carpet": [
           {
            "aaxis": {
             "endlinecolor": "#2a3f5f",
             "gridcolor": "white",
             "linecolor": "white",
             "minorgridcolor": "white",
             "startlinecolor": "#2a3f5f"
            },
            "baxis": {
             "endlinecolor": "#2a3f5f",
             "gridcolor": "white",
             "linecolor": "white",
             "minorgridcolor": "white",
             "startlinecolor": "#2a3f5f"
            },
            "type": "carpet"
           }
          ],
          "choropleth": [
           {
            "colorbar": {
             "outlinewidth": 0,
             "ticks": ""
            },
            "type": "choropleth"
           }
          ],
          "contour": [
           {
            "colorbar": {
             "outlinewidth": 0,
             "ticks": ""
            },
            "colorscale": [
             [
              0,
              "#0d0887"
             ],
             [
              0.1111111111111111,
              "#46039f"
             ],
             [
              0.2222222222222222,
              "#7201a8"
             ],
             [
              0.3333333333333333,
              "#9c179e"
             ],
             [
              0.4444444444444444,
              "#bd3786"
             ],
             [
              0.5555555555555556,
              "#d8576b"
             ],
             [
              0.6666666666666666,
              "#ed7953"
             ],
             [
              0.7777777777777778,
              "#fb9f3a"
             ],
             [
              0.8888888888888888,
              "#fdca26"
             ],
             [
              1,
              "#f0f921"
             ]
            ],
            "type": "contour"
           }
          ],
          "contourcarpet": [
           {
            "colorbar": {
             "outlinewidth": 0,
             "ticks": ""
            },
            "type": "contourcarpet"
           }
          ],
          "heatmap": [
           {
            "colorbar": {
             "outlinewidth": 0,
             "ticks": ""
            },
            "colorscale": [
             [
              0,
              "#0d0887"
             ],
             [
              0.1111111111111111,
              "#46039f"
             ],
             [
              0.2222222222222222,
              "#7201a8"
             ],
             [
              0.3333333333333333,
              "#9c179e"
             ],
             [
              0.4444444444444444,
              "#bd3786"
             ],
             [
              0.5555555555555556,
              "#d8576b"
             ],
             [
              0.6666666666666666,
              "#ed7953"
             ],
             [
              0.7777777777777778,
              "#fb9f3a"
             ],
             [
              0.8888888888888888,
              "#fdca26"
             ],
             [
              1,
              "#f0f921"
             ]
            ],
            "type": "heatmap"
           }
          ],
          "heatmapgl": [
           {
            "colorbar": {
             "outlinewidth": 0,
             "ticks": ""
            },
            "colorscale": [
             [
              0,
              "#0d0887"
             ],
             [
              0.1111111111111111,
              "#46039f"
             ],
             [
              0.2222222222222222,
              "#7201a8"
             ],
             [
              0.3333333333333333,
              "#9c179e"
             ],
             [
              0.4444444444444444,
              "#bd3786"
             ],
             [
              0.5555555555555556,
              "#d8576b"
             ],
             [
              0.6666666666666666,
              "#ed7953"
             ],
             [
              0.7777777777777778,
              "#fb9f3a"
             ],
             [
              0.8888888888888888,
              "#fdca26"
             ],
             [
              1,
              "#f0f921"
             ]
            ],
            "type": "heatmapgl"
           }
          ],
          "histogram": [
           {
            "marker": {
             "pattern": {
              "fillmode": "overlay",
              "size": 10,
              "solidity": 0.2
             }
            },
            "type": "histogram"
           }
          ],
          "histogram2d": [
           {
            "colorbar": {
             "outlinewidth": 0,
             "ticks": ""
            },
            "colorscale": [
             [
              0,
              "#0d0887"
             ],
             [
              0.1111111111111111,
              "#46039f"
             ],
             [
              0.2222222222222222,
              "#7201a8"
             ],
             [
              0.3333333333333333,
              "#9c179e"
             ],
             [
              0.4444444444444444,
              "#bd3786"
             ],
             [
              0.5555555555555556,
              "#d8576b"
             ],
             [
              0.6666666666666666,
              "#ed7953"
             ],
             [
              0.7777777777777778,
              "#fb9f3a"
             ],
             [
              0.8888888888888888,
              "#fdca26"
             ],
             [
              1,
              "#f0f921"
             ]
            ],
            "type": "histogram2d"
           }
          ],
          "histogram2dcontour": [
           {
            "colorbar": {
             "outlinewidth": 0,
             "ticks": ""
            },
            "colorscale": [
             [
              0,
              "#0d0887"
             ],
             [
              0.1111111111111111,
              "#46039f"
             ],
             [
              0.2222222222222222,
              "#7201a8"
             ],
             [
              0.3333333333333333,
              "#9c179e"
             ],
             [
              0.4444444444444444,
              "#bd3786"
             ],
             [
              0.5555555555555556,
              "#d8576b"
             ],
             [
              0.6666666666666666,
              "#ed7953"
             ],
             [
              0.7777777777777778,
              "#fb9f3a"
             ],
             [
              0.8888888888888888,
              "#fdca26"
             ],
             [
              1,
              "#f0f921"
             ]
            ],
            "type": "histogram2dcontour"
           }
          ],
          "mesh3d": [
           {
            "colorbar": {
             "outlinewidth": 0,
             "ticks": ""
            },
            "type": "mesh3d"
           }
          ],
          "parcoords": [
           {
            "line": {
             "colorbar": {
              "outlinewidth": 0,
              "ticks": ""
             }
            },
            "type": "parcoords"
           }
          ],
          "pie": [
           {
            "automargin": true,
            "type": "pie"
           }
          ],
          "scatter": [
           {
            "fillpattern": {
             "fillmode": "overlay",
             "size": 10,
             "solidity": 0.2
            },
            "type": "scatter"
           }
          ],
          "scatter3d": [
           {
            "line": {
             "colorbar": {
              "outlinewidth": 0,
              "ticks": ""
             }
            },
            "marker": {
             "colorbar": {
              "outlinewidth": 0,
              "ticks": ""
             }
            },
            "type": "scatter3d"
           }
          ],
          "scattercarpet": [
           {
            "marker": {
             "colorbar": {
              "outlinewidth": 0,
              "ticks": ""
             }
            },
            "type": "scattercarpet"
           }
          ],
          "scattergeo": [
           {
            "marker": {
             "colorbar": {
              "outlinewidth": 0,
              "ticks": ""
             }
            },
            "type": "scattergeo"
           }
          ],
          "scattergl": [
           {
            "marker": {
             "colorbar": {
              "outlinewidth": 0,
              "ticks": ""
             }
            },
            "type": "scattergl"
           }
          ],
          "scattermapbox": [
           {
            "marker": {
             "colorbar": {
              "outlinewidth": 0,
              "ticks": ""
             }
            },
            "type": "scattermapbox"
           }
          ],
          "scatterpolar": [
           {
            "marker": {
             "colorbar": {
              "outlinewidth": 0,
              "ticks": ""
             }
            },
            "type": "scatterpolar"
           }
          ],
          "scatterpolargl": [
           {
            "marker": {
             "colorbar": {
              "outlinewidth": 0,
              "ticks": ""
             }
            },
            "type": "scatterpolargl"
           }
          ],
          "scatterternary": [
           {
            "marker": {
             "colorbar": {
              "outlinewidth": 0,
              "ticks": ""
             }
            },
            "type": "scatterternary"
           }
          ],
          "surface": [
           {
            "colorbar": {
             "outlinewidth": 0,
             "ticks": ""
            },
            "colorscale": [
             [
              0,
              "#0d0887"
             ],
             [
              0.1111111111111111,
              "#46039f"
             ],
             [
              0.2222222222222222,
              "#7201a8"
             ],
             [
              0.3333333333333333,
              "#9c179e"
             ],
             [
              0.4444444444444444,
              "#bd3786"
             ],
             [
              0.5555555555555556,
              "#d8576b"
             ],
             [
              0.6666666666666666,
              "#ed7953"
             ],
             [
              0.7777777777777778,
              "#fb9f3a"
             ],
             [
              0.8888888888888888,
              "#fdca26"
             ],
             [
              1,
              "#f0f921"
             ]
            ],
            "type": "surface"
           }
          ],
          "table": [
           {
            "cells": {
             "fill": {
              "color": "#EBF0F8"
             },
             "line": {
              "color": "white"
             }
            },
            "header": {
             "fill": {
              "color": "#C8D4E3"
             },
             "line": {
              "color": "white"
             }
            },
            "type": "table"
           }
          ]
         },
         "layout": {
          "annotationdefaults": {
           "arrowcolor": "#2a3f5f",
           "arrowhead": 0,
           "arrowwidth": 1
          },
          "autotypenumbers": "strict",
          "coloraxis": {
           "colorbar": {
            "outlinewidth": 0,
            "ticks": ""
           }
          },
          "colorscale": {
           "diverging": [
            [
             0,
             "#8e0152"
            ],
            [
             0.1,
             "#c51b7d"
            ],
            [
             0.2,
             "#de77ae"
            ],
            [
             0.3,
             "#f1b6da"
            ],
            [
             0.4,
             "#fde0ef"
            ],
            [
             0.5,
             "#f7f7f7"
            ],
            [
             0.6,
             "#e6f5d0"
            ],
            [
             0.7,
             "#b8e186"
            ],
            [
             0.8,
             "#7fbc41"
            ],
            [
             0.9,
             "#4d9221"
            ],
            [
             1,
             "#276419"
            ]
           ],
           "sequential": [
            [
             0,
             "#0d0887"
            ],
            [
             0.1111111111111111,
             "#46039f"
            ],
            [
             0.2222222222222222,
             "#7201a8"
            ],
            [
             0.3333333333333333,
             "#9c179e"
            ],
            [
             0.4444444444444444,
             "#bd3786"
            ],
            [
             0.5555555555555556,
             "#d8576b"
            ],
            [
             0.6666666666666666,
             "#ed7953"
            ],
            [
             0.7777777777777778,
             "#fb9f3a"
            ],
            [
             0.8888888888888888,
             "#fdca26"
            ],
            [
             1,
             "#f0f921"
            ]
           ],
           "sequentialminus": [
            [
             0,
             "#0d0887"
            ],
            [
             0.1111111111111111,
             "#46039f"
            ],
            [
             0.2222222222222222,
             "#7201a8"
            ],
            [
             0.3333333333333333,
             "#9c179e"
            ],
            [
             0.4444444444444444,
             "#bd3786"
            ],
            [
             0.5555555555555556,
             "#d8576b"
            ],
            [
             0.6666666666666666,
             "#ed7953"
            ],
            [
             0.7777777777777778,
             "#fb9f3a"
            ],
            [
             0.8888888888888888,
             "#fdca26"
            ],
            [
             1,
             "#f0f921"
            ]
           ]
          },
          "colorway": [
           "#636efa",
           "#EF553B",
           "#00cc96",
           "#ab63fa",
           "#FFA15A",
           "#19d3f3",
           "#FF6692",
           "#B6E880",
           "#FF97FF",
           "#FECB52"
          ],
          "font": {
           "color": "#2a3f5f"
          },
          "geo": {
           "bgcolor": "white",
           "lakecolor": "white",
           "landcolor": "#E5ECF6",
           "showlakes": true,
           "showland": true,
           "subunitcolor": "white"
          },
          "hoverlabel": {
           "align": "left"
          },
          "hovermode": "closest",
          "mapbox": {
           "style": "light"
          },
          "paper_bgcolor": "white",
          "plot_bgcolor": "#E5ECF6",
          "polar": {
           "angularaxis": {
            "gridcolor": "white",
            "linecolor": "white",
            "ticks": ""
           },
           "bgcolor": "#E5ECF6",
           "radialaxis": {
            "gridcolor": "white",
            "linecolor": "white",
            "ticks": ""
           }
          },
          "scene": {
           "xaxis": {
            "backgroundcolor": "#E5ECF6",
            "gridcolor": "white",
            "gridwidth": 2,
            "linecolor": "white",
            "showbackground": true,
            "ticks": "",
            "zerolinecolor": "white"
           },
           "yaxis": {
            "backgroundcolor": "#E5ECF6",
            "gridcolor": "white",
            "gridwidth": 2,
            "linecolor": "white",
            "showbackground": true,
            "ticks": "",
            "zerolinecolor": "white"
           },
           "zaxis": {
            "backgroundcolor": "#E5ECF6",
            "gridcolor": "white",
            "gridwidth": 2,
            "linecolor": "white",
            "showbackground": true,
            "ticks": "",
            "zerolinecolor": "white"
           }
          },
          "shapedefaults": {
           "line": {
            "color": "#2a3f5f"
           }
          },
          "ternary": {
           "aaxis": {
            "gridcolor": "white",
            "linecolor": "white",
            "ticks": ""
           },
           "baxis": {
            "gridcolor": "white",
            "linecolor": "white",
            "ticks": ""
           },
           "bgcolor": "#E5ECF6",
           "caxis": {
            "gridcolor": "white",
            "linecolor": "white",
            "ticks": ""
           }
          },
          "title": {
           "x": 0.05
          },
          "xaxis": {
           "automargin": true,
           "gridcolor": "white",
           "linecolor": "white",
           "ticks": "",
           "title": {
            "standoff": 15
           },
           "zerolinecolor": "white",
           "zerolinewidth": 2
          },
          "yaxis": {
           "automargin": true,
           "gridcolor": "white",
           "linecolor": "white",
           "ticks": "",
           "title": {
            "standoff": 15
           },
           "zerolinecolor": "white",
           "zerolinewidth": 2
          }
         }
        },
        "title": {
         "text": "Male Literacy Rate (15-24) by Country"
        },
        "xaxis": {
         "anchor": "y",
         "domain": [
          0,
          1
         ],
         "title": {
          "text": "Countries and areas"
         }
        },
        "yaxis": {
         "anchor": "x",
         "domain": [
          0,
          1
         ],
         "title": {
          "text": "Male Literacy Rate"
         }
        }
       }
      }
     },
     "metadata": {},
     "output_type": "display_data"
    }
   ],
   "source": [
    "fig7 = px.bar(\n",
    "    data.sort_values('Youth_15_24_Literacy_Rate_Male', ascending=False),\n",
    "    x='Countries and areas',\n",
    "    y='Youth_15_24_Literacy_Rate_Male',\n",
    "    title='Male Literacy Rate (15-24) by Country',\n",
    "    labels={\"Youth_15_24_Literacy_Rate_Male\": \"Male Literacy Rate\"}\n",
    ")\n",
    "fig7.show()"
   ]
  },
  {
   "cell_type": "code",
   "execution_count": 15,
   "metadata": {},
   "outputs": [
    {
     "data": {
      "application/vnd.plotly.v1+json": {
       "config": {
        "plotlyServerURL": "https://plot.ly"
       },
       "data": [
        {
         "hovertemplate": "Countries and areas=Afghanistan<br>Birth Rate=%{x}<br>Primary Enrollment=%{y}<extra></extra>",
         "legendgroup": "Afghanistan",
         "marker": {
          "color": "#636efa",
          "symbol": "circle"
         },
         "mode": "markers",
         "name": "Afghanistan",
         "orientation": "v",
         "showlegend": true,
         "type": "scatter",
         "x": [
          32.49
         ],
         "xaxis": "x",
         "y": [
          104
         ],
         "yaxis": "y"
        },
        {
         "hovertemplate": "Countries and areas=Albania<br>Birth Rate=%{x}<br>Primary Enrollment=%{y}<extra></extra>",
         "legendgroup": "Albania",
         "marker": {
          "color": "#EF553B",
          "symbol": "circle"
         },
         "mode": "markers",
         "name": "Albania",
         "orientation": "v",
         "showlegend": true,
         "type": "scatter",
         "x": [
          11.78
         ],
         "xaxis": "x",
         "y": [
          107
         ],
         "yaxis": "y"
        },
        {
         "hovertemplate": "Countries and areas=Algeria<br>Birth Rate=%{x}<br>Primary Enrollment=%{y}<extra></extra>",
         "legendgroup": "Algeria",
         "marker": {
          "color": "#00cc96",
          "symbol": "circle"
         },
         "mode": "markers",
         "name": "Algeria",
         "orientation": "v",
         "showlegend": true,
         "type": "scatter",
         "x": [
          24.28
         ],
         "xaxis": "x",
         "y": [
          109.9
         ],
         "yaxis": "y"
        },
        {
         "hovertemplate": "Countries and areas=Andorra<br>Birth Rate=%{x}<br>Primary Enrollment=%{y}<extra></extra>",
         "legendgroup": "Andorra",
         "marker": {
          "color": "#ab63fa",
          "symbol": "circle"
         },
         "mode": "markers",
         "name": "Andorra",
         "orientation": "v",
         "showlegend": true,
         "type": "scatter",
         "x": [
          7.2
         ],
         "xaxis": "x",
         "y": [
          106.4
         ],
         "yaxis": "y"
        },
        {
         "hovertemplate": "Countries and areas=Angola<br>Birth Rate=%{x}<br>Primary Enrollment=%{y}<extra></extra>",
         "legendgroup": "Angola",
         "marker": {
          "color": "#FFA15A",
          "symbol": "circle"
         },
         "mode": "markers",
         "name": "Angola",
         "orientation": "v",
         "showlegend": true,
         "type": "scatter",
         "x": [
          40.73
         ],
         "xaxis": "x",
         "y": [
          113.5
         ],
         "yaxis": "y"
        },
        {
         "hovertemplate": "Countries and areas=Anguilla<br>Birth Rate=%{x}<br>Primary Enrollment=%{y}<extra></extra>",
         "legendgroup": "Anguilla",
         "marker": {
          "color": "#19d3f3",
          "symbol": "circle"
         },
         "mode": "markers",
         "name": "Anguilla",
         "orientation": "v",
         "showlegend": true,
         "type": "scatter",
         "x": [
          0
         ],
         "xaxis": "x",
         "y": [
          0
         ],
         "yaxis": "y"
        },
        {
         "hovertemplate": "Countries and areas=Antigua and Barbuda<br>Birth Rate=%{x}<br>Primary Enrollment=%{y}<extra></extra>",
         "legendgroup": "Antigua and Barbuda",
         "marker": {
          "color": "#FF6692",
          "symbol": "circle"
         },
         "mode": "markers",
         "name": "Antigua and Barbuda",
         "orientation": "v",
         "showlegend": true,
         "type": "scatter",
         "x": [
          15.33
         ],
         "xaxis": "x",
         "y": [
          105
         ],
         "yaxis": "y"
        },
        {
         "hovertemplate": "Countries and areas=Argentina<br>Birth Rate=%{x}<br>Primary Enrollment=%{y}<extra></extra>",
         "legendgroup": "Argentina",
         "marker": {
          "color": "#B6E880",
          "symbol": "circle"
         },
         "mode": "markers",
         "name": "Argentina",
         "orientation": "v",
         "showlegend": true,
         "type": "scatter",
         "x": [
          17.02
         ],
         "xaxis": "x",
         "y": [
          109.7
         ],
         "yaxis": "y"
        },
        {
         "hovertemplate": "Countries and areas=Armenia<br>Birth Rate=%{x}<br>Primary Enrollment=%{y}<extra></extra>",
         "legendgroup": "Armenia",
         "marker": {
          "color": "#FF97FF",
          "symbol": "circle"
         },
         "mode": "markers",
         "name": "Armenia",
         "orientation": "v",
         "showlegend": true,
         "type": "scatter",
         "x": [
          13.99
         ],
         "xaxis": "x",
         "y": [
          92.7
         ],
         "yaxis": "y"
        },
        {
         "hovertemplate": "Countries and areas=Australia<br>Birth Rate=%{x}<br>Primary Enrollment=%{y}<extra></extra>",
         "legendgroup": "Australia",
         "marker": {
          "color": "#FECB52",
          "symbol": "circle"
         },
         "mode": "markers",
         "name": "Australia",
         "orientation": "v",
         "showlegend": true,
         "type": "scatter",
         "x": [
          12.6
         ],
         "xaxis": "x",
         "y": [
          100.3
         ],
         "yaxis": "y"
        },
        {
         "hovertemplate": "Countries and areas=Austria<br>Birth Rate=%{x}<br>Primary Enrollment=%{y}<extra></extra>",
         "legendgroup": "Austria",
         "marker": {
          "color": "#636efa",
          "symbol": "circle"
         },
         "mode": "markers",
         "name": "Austria",
         "orientation": "v",
         "showlegend": true,
         "type": "scatter",
         "x": [
          9.7
         ],
         "xaxis": "x",
         "y": [
          103.1
         ],
         "yaxis": "y"
        },
        {
         "hovertemplate": "Countries and areas=Azerbaijan<br>Birth Rate=%{x}<br>Primary Enrollment=%{y}<extra></extra>",
         "legendgroup": "Azerbaijan",
         "marker": {
          "color": "#EF553B",
          "symbol": "circle"
         },
         "mode": "markers",
         "name": "Azerbaijan",
         "orientation": "v",
         "showlegend": true,
         "type": "scatter",
         "x": [
          14
         ],
         "xaxis": "x",
         "y": [
          99.7
         ],
         "yaxis": "y"
        },
        {
         "hovertemplate": "Countries and areas=The Bahamas<br>Birth Rate=%{x}<br>Primary Enrollment=%{y}<extra></extra>",
         "legendgroup": "The Bahamas",
         "marker": {
          "color": "#00cc96",
          "symbol": "circle"
         },
         "mode": "markers",
         "name": "The Bahamas",
         "orientation": "v",
         "showlegend": true,
         "type": "scatter",
         "x": [
          13.97
         ],
         "xaxis": "x",
         "y": [
          81.4
         ],
         "yaxis": "y"
        },
        {
         "hovertemplate": "Countries and areas=Bahrain<br>Birth Rate=%{x}<br>Primary Enrollment=%{y}<extra></extra>",
         "legendgroup": "Bahrain",
         "marker": {
          "color": "#ab63fa",
          "symbol": "circle"
         },
         "mode": "markers",
         "name": "Bahrain",
         "orientation": "v",
         "showlegend": true,
         "type": "scatter",
         "x": [
          13.99
         ],
         "xaxis": "x",
         "y": [
          99.4
         ],
         "yaxis": "y"
        },
        {
         "hovertemplate": "Countries and areas=Bangladesh<br>Birth Rate=%{x}<br>Primary Enrollment=%{y}<extra></extra>",
         "legendgroup": "Bangladesh",
         "marker": {
          "color": "#FFA15A",
          "symbol": "circle"
         },
         "mode": "markers",
         "name": "Bangladesh",
         "orientation": "v",
         "showlegend": true,
         "type": "scatter",
         "x": [
          18.18
         ],
         "xaxis": "x",
         "y": [
          116.5
         ],
         "yaxis": "y"
        },
        {
         "hovertemplate": "Countries and areas=Barbados<br>Birth Rate=%{x}<br>Primary Enrollment=%{y}<extra></extra>",
         "legendgroup": "Barbados",
         "marker": {
          "color": "#19d3f3",
          "symbol": "circle"
         },
         "mode": "markers",
         "name": "Barbados",
         "orientation": "v",
         "showlegend": true,
         "type": "scatter",
         "x": [
          10.65
         ],
         "xaxis": "x",
         "y": [
          99.4
         ],
         "yaxis": "y"
        },
        {
         "hovertemplate": "Countries and areas=Belarus<br>Birth Rate=%{x}<br>Primary Enrollment=%{y}<extra></extra>",
         "legendgroup": "Belarus",
         "marker": {
          "color": "#FF6692",
          "symbol": "circle"
         },
         "mode": "markers",
         "name": "Belarus",
         "orientation": "v",
         "showlegend": true,
         "type": "scatter",
         "x": [
          9.9
         ],
         "xaxis": "x",
         "y": [
          100.5
         ],
         "yaxis": "y"
        },
        {
         "hovertemplate": "Countries and areas=Belgium<br>Birth Rate=%{x}<br>Primary Enrollment=%{y}<extra></extra>",
         "legendgroup": "Belgium",
         "marker": {
          "color": "#B6E880",
          "symbol": "circle"
         },
         "mode": "markers",
         "name": "Belgium",
         "orientation": "v",
         "showlegend": true,
         "type": "scatter",
         "x": [
          10.3
         ],
         "xaxis": "x",
         "y": [
          103.9
         ],
         "yaxis": "y"
        },
        {
         "hovertemplate": "Countries and areas=Belize<br>Birth Rate=%{x}<br>Primary Enrollment=%{y}<extra></extra>",
         "legendgroup": "Belize",
         "marker": {
          "color": "#FF97FF",
          "symbol": "circle"
         },
         "mode": "markers",
         "name": "Belize",
         "orientation": "v",
         "showlegend": true,
         "type": "scatter",
         "x": [
          20.79
         ],
         "xaxis": "x",
         "y": [
          111.7
         ],
         "yaxis": "y"
        },
        {
         "hovertemplate": "Countries and areas=Benin<br>Birth Rate=%{x}<br>Primary Enrollment=%{y}<extra></extra>",
         "legendgroup": "Benin",
         "marker": {
          "color": "#FECB52",
          "symbol": "circle"
         },
         "mode": "markers",
         "name": "Benin",
         "orientation": "v",
         "showlegend": true,
         "type": "scatter",
         "x": [
          36.22
         ],
         "xaxis": "x",
         "y": [
          122
         ],
         "yaxis": "y"
        },
        {
         "hovertemplate": "Countries and areas=Bhutan<br>Birth Rate=%{x}<br>Primary Enrollment=%{y}<extra></extra>",
         "legendgroup": "Bhutan",
         "marker": {
          "color": "#636efa",
          "symbol": "circle"
         },
         "mode": "markers",
         "name": "Bhutan",
         "orientation": "v",
         "showlegend": true,
         "type": "scatter",
         "x": [
          17.26
         ],
         "xaxis": "x",
         "y": [
          100.1
         ],
         "yaxis": "y"
        },
        {
         "hovertemplate": "Countries and areas=Bolivia<br>Birth Rate=%{x}<br>Primary Enrollment=%{y}<extra></extra>",
         "legendgroup": "Bolivia",
         "marker": {
          "color": "#EF553B",
          "symbol": "circle"
         },
         "mode": "markers",
         "name": "Bolivia",
         "orientation": "v",
         "showlegend": true,
         "type": "scatter",
         "x": [
          21.75
         ],
         "xaxis": "x",
         "y": [
          98.2
         ],
         "yaxis": "y"
        },
        {
         "hovertemplate": "Countries and areas=Bosnia and Herzegovina<br>Birth Rate=%{x}<br>Primary Enrollment=%{y}<extra></extra>",
         "legendgroup": "Bosnia and Herzegovina",
         "marker": {
          "color": "#00cc96",
          "symbol": "circle"
         },
         "mode": "markers",
         "name": "Bosnia and Herzegovina",
         "orientation": "v",
         "showlegend": true,
         "type": "scatter",
         "x": [
          8.11
         ],
         "xaxis": "x",
         "y": [
          0
         ],
         "yaxis": "y"
        },
        {
         "hovertemplate": "Countries and areas=Botswana<br>Birth Rate=%{x}<br>Primary Enrollment=%{y}<extra></extra>",
         "legendgroup": "Botswana",
         "marker": {
          "color": "#ab63fa",
          "symbol": "circle"
         },
         "mode": "markers",
         "name": "Botswana",
         "orientation": "v",
         "showlegend": true,
         "type": "scatter",
         "x": [
          24.82
         ],
         "xaxis": "x",
         "y": [
          103.2
         ],
         "yaxis": "y"
        },
        {
         "hovertemplate": "Countries and areas=Brazil<br>Birth Rate=%{x}<br>Primary Enrollment=%{y}<extra></extra>",
         "legendgroup": "Brazil",
         "marker": {
          "color": "#FFA15A",
          "symbol": "circle"
         },
         "mode": "markers",
         "name": "Brazil",
         "orientation": "v",
         "showlegend": true,
         "type": "scatter",
         "x": [
          13.92
         ],
         "xaxis": "x",
         "y": [
          115.4
         ],
         "yaxis": "y"
        },
        {
         "hovertemplate": "Countries and areas=British Virgin Islands<br>Birth Rate=%{x}<br>Primary Enrollment=%{y}<extra></extra>",
         "legendgroup": "British Virgin Islands",
         "marker": {
          "color": "#19d3f3",
          "symbol": "circle"
         },
         "mode": "markers",
         "name": "British Virgin Islands",
         "orientation": "v",
         "showlegend": true,
         "type": "scatter",
         "x": [
          0
         ],
         "xaxis": "x",
         "y": [
          0
         ],
         "yaxis": "y"
        },
        {
         "hovertemplate": "Countries and areas=Brunei<br>Birth Rate=%{x}<br>Primary Enrollment=%{y}<extra></extra>",
         "legendgroup": "Brunei",
         "marker": {
          "color": "#FF6692",
          "symbol": "circle"
         },
         "mode": "markers",
         "name": "Brunei",
         "orientation": "v",
         "showlegend": true,
         "type": "scatter",
         "x": [
          14.9
         ],
         "xaxis": "x",
         "y": [
          103.2
         ],
         "yaxis": "y"
        },
        {
         "hovertemplate": "Countries and areas=Bulgaria<br>Birth Rate=%{x}<br>Primary Enrollment=%{y}<extra></extra>",
         "legendgroup": "Bulgaria",
         "marker": {
          "color": "#B6E880",
          "symbol": "circle"
         },
         "mode": "markers",
         "name": "Bulgaria",
         "orientation": "v",
         "showlegend": true,
         "type": "scatter",
         "x": [
          8.9
         ],
         "xaxis": "x",
         "y": [
          89.3
         ],
         "yaxis": "y"
        },
        {
         "hovertemplate": "Countries and areas=Burkina Faso<br>Birth Rate=%{x}<br>Primary Enrollment=%{y}<extra></extra>",
         "legendgroup": "Burkina Faso",
         "marker": {
          "color": "#FF97FF",
          "symbol": "circle"
         },
         "mode": "markers",
         "name": "Burkina Faso",
         "orientation": "v",
         "showlegend": true,
         "type": "scatter",
         "x": [
          37.93
         ],
         "xaxis": "x",
         "y": [
          96.1
         ],
         "yaxis": "y"
        },
        {
         "hovertemplate": "Countries and areas=Burundi<br>Birth Rate=%{x}<br>Primary Enrollment=%{y}<extra></extra>",
         "legendgroup": "Burundi",
         "marker": {
          "color": "#FECB52",
          "symbol": "circle"
         },
         "mode": "markers",
         "name": "Burundi",
         "orientation": "v",
         "showlegend": true,
         "type": "scatter",
         "x": [
          39.01
         ],
         "xaxis": "x",
         "y": [
          121.4
         ],
         "yaxis": "y"
        },
        {
         "hovertemplate": "Countries and areas=Cape Verde<br>Birth Rate=%{x}<br>Primary Enrollment=%{y}<extra></extra>",
         "legendgroup": "Cape Verde",
         "marker": {
          "color": "#636efa",
          "symbol": "circle"
         },
         "mode": "markers",
         "name": "Cape Verde",
         "orientation": "v",
         "showlegend": true,
         "type": "scatter",
         "x": [
          19.49
         ],
         "xaxis": "x",
         "y": [
          104
         ],
         "yaxis": "y"
        },
        {
         "hovertemplate": "Countries and areas=Cambodia<br>Birth Rate=%{x}<br>Primary Enrollment=%{y}<extra></extra>",
         "legendgroup": "Cambodia",
         "marker": {
          "color": "#EF553B",
          "symbol": "circle"
         },
         "mode": "markers",
         "name": "Cambodia",
         "orientation": "v",
         "showlegend": true,
         "type": "scatter",
         "x": [
          22.46
         ],
         "xaxis": "x",
         "y": [
          107.4
         ],
         "yaxis": "y"
        },
        {
         "hovertemplate": "Countries and areas=Cameroon<br>Birth Rate=%{x}<br>Primary Enrollment=%{y}<extra></extra>",
         "legendgroup": "Cameroon",
         "marker": {
          "color": "#00cc96",
          "symbol": "circle"
         },
         "mode": "markers",
         "name": "Cameroon",
         "orientation": "v",
         "showlegend": true,
         "type": "scatter",
         "x": [
          35.39
         ],
         "xaxis": "x",
         "y": [
          103.4
         ],
         "yaxis": "y"
        },
        {
         "hovertemplate": "Countries and areas=Canada<br>Birth Rate=%{x}<br>Primary Enrollment=%{y}<extra></extra>",
         "legendgroup": "Canada",
         "marker": {
          "color": "#ab63fa",
          "symbol": "circle"
         },
         "mode": "markers",
         "name": "Canada",
         "orientation": "v",
         "showlegend": true,
         "type": "scatter",
         "x": [
          10.1
         ],
         "xaxis": "x",
         "y": [
          100.9
         ],
         "yaxis": "y"
        },
        {
         "hovertemplate": "Countries and areas=Central African Republic<br>Birth Rate=%{x}<br>Primary Enrollment=%{y}<extra></extra>",
         "legendgroup": "Central African Republic",
         "marker": {
          "color": "#FFA15A",
          "symbol": "circle"
         },
         "mode": "markers",
         "name": "Central African Republic",
         "orientation": "v",
         "showlegend": true,
         "type": "scatter",
         "x": [
          35.35
         ],
         "xaxis": "x",
         "y": [
          102
         ],
         "yaxis": "y"
        },
        {
         "hovertemplate": "Countries and areas=Chad<br>Birth Rate=%{x}<br>Primary Enrollment=%{y}<extra></extra>",
         "legendgroup": "Chad",
         "marker": {
          "color": "#19d3f3",
          "symbol": "circle"
         },
         "mode": "markers",
         "name": "Chad",
         "orientation": "v",
         "showlegend": true,
         "type": "scatter",
         "x": [
          42.17
         ],
         "xaxis": "x",
         "y": [
          86.8
         ],
         "yaxis": "y"
        },
        {
         "hovertemplate": "Countries and areas=Chile<br>Birth Rate=%{x}<br>Primary Enrollment=%{y}<extra></extra>",
         "legendgroup": "Chile",
         "marker": {
          "color": "#FF6692",
          "symbol": "circle"
         },
         "mode": "markers",
         "name": "Chile",
         "orientation": "v",
         "showlegend": true,
         "type": "scatter",
         "x": [
          12.43
         ],
         "xaxis": "x",
         "y": [
          101.4
         ],
         "yaxis": "y"
        },
        {
         "hovertemplate": "Countries and areas=China<br>Birth Rate=%{x}<br>Primary Enrollment=%{y}<extra></extra>",
         "legendgroup": "China",
         "marker": {
          "color": "#B6E880",
          "symbol": "circle"
         },
         "mode": "markers",
         "name": "China",
         "orientation": "v",
         "showlegend": true,
         "type": "scatter",
         "x": [
          10.9
         ],
         "xaxis": "x",
         "y": [
          100.2
         ],
         "yaxis": "y"
        },
        {
         "hovertemplate": "Countries and areas=Colombia<br>Birth Rate=%{x}<br>Primary Enrollment=%{y}<extra></extra>",
         "legendgroup": "Colombia",
         "marker": {
          "color": "#FF97FF",
          "symbol": "circle"
         },
         "mode": "markers",
         "name": "Colombia",
         "orientation": "v",
         "showlegend": true,
         "type": "scatter",
         "x": [
          14.88
         ],
         "xaxis": "x",
         "y": [
          114.5
         ],
         "yaxis": "y"
        },
        {
         "hovertemplate": "Countries and areas=Comoros<br>Birth Rate=%{x}<br>Primary Enrollment=%{y}<extra></extra>",
         "legendgroup": "Comoros",
         "marker": {
          "color": "#FECB52",
          "symbol": "circle"
         },
         "mode": "markers",
         "name": "Comoros",
         "orientation": "v",
         "showlegend": true,
         "type": "scatter",
         "x": [
          31.88
         ],
         "xaxis": "x",
         "y": [
          99.5
         ],
         "yaxis": "y"
        },
        {
         "hovertemplate": "Countries and areas=Republic of the Congo<br>Birth Rate=%{x}<br>Primary Enrollment=%{y}<extra></extra>",
         "legendgroup": "Republic of the Congo",
         "marker": {
          "color": "#636efa",
          "symbol": "circle"
         },
         "mode": "markers",
         "name": "Republic of the Congo",
         "orientation": "v",
         "showlegend": true,
         "type": "scatter",
         "x": [
          32.86
         ],
         "xaxis": "x",
         "y": [
          106.6
         ],
         "yaxis": "y"
        },
        {
         "hovertemplate": "Countries and areas=Cook Islands<br>Birth Rate=%{x}<br>Primary Enrollment=%{y}<extra></extra>",
         "legendgroup": "Cook Islands",
         "marker": {
          "color": "#EF553B",
          "symbol": "circle"
         },
         "mode": "markers",
         "name": "Cook Islands",
         "orientation": "v",
         "showlegend": true,
         "type": "scatter",
         "x": [
          0
         ],
         "xaxis": "x",
         "y": [
          0
         ],
         "yaxis": "y"
        },
        {
         "hovertemplate": "Countries and areas=Costa Rica<br>Birth Rate=%{x}<br>Primary Enrollment=%{y}<extra></extra>",
         "legendgroup": "Costa Rica",
         "marker": {
          "color": "#00cc96",
          "symbol": "circle"
         },
         "mode": "markers",
         "name": "Costa Rica",
         "orientation": "v",
         "showlegend": true,
         "type": "scatter",
         "x": [
          13.97
         ],
         "xaxis": "x",
         "y": [
          113.3
         ],
         "yaxis": "y"
        },
        {
         "hovertemplate": "Countries and areas=Ivory Coast<br>Birth Rate=%{x}<br>Primary Enrollment=%{y}<extra></extra>",
         "legendgroup": "Ivory Coast",
         "marker": {
          "color": "#ab63fa",
          "symbol": "circle"
         },
         "mode": "markers",
         "name": "Ivory Coast",
         "orientation": "v",
         "showlegend": true,
         "type": "scatter",
         "x": [
          35.74
         ],
         "xaxis": "x",
         "y": [
          99.8
         ],
         "yaxis": "y"
        },
        {
         "hovertemplate": "Countries and areas=Croatia<br>Birth Rate=%{x}<br>Primary Enrollment=%{y}<extra></extra>",
         "legendgroup": "Croatia",
         "marker": {
          "color": "#FFA15A",
          "symbol": "circle"
         },
         "mode": "markers",
         "name": "Croatia",
         "orientation": "v",
         "showlegend": true,
         "type": "scatter",
         "x": [
          9
         ],
         "xaxis": "x",
         "y": [
          96.5
         ],
         "yaxis": "y"
        },
        {
         "hovertemplate": "Countries and areas=Cuba<br>Birth Rate=%{x}<br>Primary Enrollment=%{y}<extra></extra>",
         "legendgroup": "Cuba",
         "marker": {
          "color": "#19d3f3",
          "symbol": "circle"
         },
         "mode": "markers",
         "name": "Cuba",
         "orientation": "v",
         "showlegend": true,
         "type": "scatter",
         "x": [
          10.17
         ],
         "xaxis": "x",
         "y": [
          101.9
         ],
         "yaxis": "y"
        },
        {
         "hovertemplate": "Countries and areas=Cyprus<br>Birth Rate=%{x}<br>Primary Enrollment=%{y}<extra></extra>",
         "legendgroup": "Cyprus",
         "marker": {
          "color": "#FF6692",
          "symbol": "circle"
         },
         "mode": "markers",
         "name": "Cyprus",
         "orientation": "v",
         "showlegend": true,
         "type": "scatter",
         "x": [
          10.46
         ],
         "xaxis": "x",
         "y": [
          99.3
         ],
         "yaxis": "y"
        },
        {
         "hovertemplate": "Countries and areas=Czech Republic<br>Birth Rate=%{x}<br>Primary Enrollment=%{y}<extra></extra>",
         "legendgroup": "Czech Republic",
         "marker": {
          "color": "#B6E880",
          "symbol": "circle"
         },
         "mode": "markers",
         "name": "Czech Republic",
         "orientation": "v",
         "showlegend": true,
         "type": "scatter",
         "x": [
          10.7
         ],
         "xaxis": "x",
         "y": [
          100.7
         ],
         "yaxis": "y"
        },
        {
         "hovertemplate": "Countries and areas=North Korea<br>Birth Rate=%{x}<br>Primary Enrollment=%{y}<extra></extra>",
         "legendgroup": "North Korea",
         "marker": {
          "color": "#FF97FF",
          "symbol": "circle"
         },
         "mode": "markers",
         "name": "North Korea",
         "orientation": "v",
         "showlegend": true,
         "type": "scatter",
         "x": [
          13.89
         ],
         "xaxis": "x",
         "y": [
          112.8
         ],
         "yaxis": "y"
        },
        {
         "hovertemplate": "Countries and areas=Democratic Republic of the Congo<br>Birth Rate=%{x}<br>Primary Enrollment=%{y}<extra></extra>",
         "legendgroup": "Democratic Republic of the Congo",
         "marker": {
          "color": "#FECB52",
          "symbol": "circle"
         },
         "mode": "markers",
         "name": "Democratic Republic of the Congo",
         "orientation": "v",
         "showlegend": true,
         "type": "scatter",
         "x": [
          41.18
         ],
         "xaxis": "x",
         "y": [
          108
         ],
         "yaxis": "y"
        },
        {
         "hovertemplate": "Countries and areas=Denmark<br>Birth Rate=%{x}<br>Primary Enrollment=%{y}<extra></extra>",
         "legendgroup": "Denmark",
         "marker": {
          "color": "#636efa",
          "symbol": "circle"
         },
         "mode": "markers",
         "name": "Denmark",
         "orientation": "v",
         "showlegend": true,
         "type": "scatter",
         "x": [
          10.6
         ],
         "xaxis": "x",
         "y": [
          101.3
         ],
         "yaxis": "y"
        },
        {
         "hovertemplate": "Countries and areas=Djibouti<br>Birth Rate=%{x}<br>Primary Enrollment=%{y}<extra></extra>",
         "legendgroup": "Djibouti",
         "marker": {
          "color": "#EF553B",
          "symbol": "circle"
         },
         "mode": "markers",
         "name": "Djibouti",
         "orientation": "v",
         "showlegend": true,
         "type": "scatter",
         "x": [
          21.47
         ],
         "xaxis": "x",
         "y": [
          75.3
         ],
         "yaxis": "y"
        },
        {
         "hovertemplate": "Countries and areas=Dominica<br>Birth Rate=%{x}<br>Primary Enrollment=%{y}<extra></extra>",
         "legendgroup": "Dominica",
         "marker": {
          "color": "#00cc96",
          "symbol": "circle"
         },
         "mode": "markers",
         "name": "Dominica",
         "orientation": "v",
         "showlegend": true,
         "type": "scatter",
         "x": [
          12
         ],
         "xaxis": "x",
         "y": [
          114.7
         ],
         "yaxis": "y"
        },
        {
         "hovertemplate": "Countries and areas=Dominican Republic<br>Birth Rate=%{x}<br>Primary Enrollment=%{y}<extra></extra>",
         "legendgroup": "Dominican Republic",
         "marker": {
          "color": "#ab63fa",
          "symbol": "circle"
         },
         "mode": "markers",
         "name": "Dominican Republic",
         "orientation": "v",
         "showlegend": true,
         "type": "scatter",
         "x": [
          19.51
         ],
         "xaxis": "x",
         "y": [
          105.7
         ],
         "yaxis": "y"
        },
        {
         "hovertemplate": "Countries and areas=Ecuador<br>Birth Rate=%{x}<br>Primary Enrollment=%{y}<extra></extra>",
         "legendgroup": "Ecuador",
         "marker": {
          "color": "#FFA15A",
          "symbol": "circle"
         },
         "mode": "markers",
         "name": "Ecuador",
         "orientation": "v",
         "showlegend": true,
         "type": "scatter",
         "x": [
          19.72
         ],
         "xaxis": "x",
         "y": [
          103.3
         ],
         "yaxis": "y"
        },
        {
         "hovertemplate": "Countries and areas=Egypt<br>Birth Rate=%{x}<br>Primary Enrollment=%{y}<extra></extra>",
         "legendgroup": "Egypt",
         "marker": {
          "color": "#19d3f3",
          "symbol": "circle"
         },
         "mode": "markers",
         "name": "Egypt",
         "orientation": "v",
         "showlegend": true,
         "type": "scatter",
         "x": [
          26.38
         ],
         "xaxis": "x",
         "y": [
          106.3
         ],
         "yaxis": "y"
        },
        {
         "hovertemplate": "Countries and areas=El Salvador<br>Birth Rate=%{x}<br>Primary Enrollment=%{y}<extra></extra>",
         "legendgroup": "El Salvador",
         "marker": {
          "color": "#FF6692",
          "symbol": "circle"
         },
         "mode": "markers",
         "name": "El Salvador",
         "orientation": "v",
         "showlegend": true,
         "type": "scatter",
         "x": [
          18.25
         ],
         "xaxis": "x",
         "y": [
          94.8
         ],
         "yaxis": "y"
        },
        {
         "hovertemplate": "Countries and areas=Equatorial Guinea<br>Birth Rate=%{x}<br>Primary Enrollment=%{y}<extra></extra>",
         "legendgroup": "Equatorial Guinea",
         "marker": {
          "color": "#B6E880",
          "symbol": "circle"
         },
         "mode": "markers",
         "name": "Equatorial Guinea",
         "orientation": "v",
         "showlegend": true,
         "type": "scatter",
         "x": [
          33.24
         ],
         "xaxis": "x",
         "y": [
          61.8
         ],
         "yaxis": "y"
        },
        {
         "hovertemplate": "Countries and areas=Eritrea<br>Birth Rate=%{x}<br>Primary Enrollment=%{y}<extra></extra>",
         "legendgroup": "Eritrea",
         "marker": {
          "color": "#FF97FF",
          "symbol": "circle"
         },
         "mode": "markers",
         "name": "Eritrea",
         "orientation": "v",
         "showlegend": true,
         "type": "scatter",
         "x": [
          30.3
         ],
         "xaxis": "x",
         "y": [
          68.4
         ],
         "yaxis": "y"
        },
        {
         "hovertemplate": "Countries and areas=Estonia<br>Birth Rate=%{x}<br>Primary Enrollment=%{y}<extra></extra>",
         "legendgroup": "Estonia",
         "marker": {
          "color": "#FECB52",
          "symbol": "circle"
         },
         "mode": "markers",
         "name": "Estonia",
         "orientation": "v",
         "showlegend": true,
         "type": "scatter",
         "x": [
          10.9
         ],
         "xaxis": "x",
         "y": [
          97.2
         ],
         "yaxis": "y"
        },
        {
         "hovertemplate": "Countries and areas=Eswatini<br>Birth Rate=%{x}<br>Primary Enrollment=%{y}<extra></extra>",
         "legendgroup": "Eswatini",
         "marker": {
          "color": "#636efa",
          "symbol": "circle"
         },
         "mode": "markers",
         "name": "Eswatini",
         "orientation": "v",
         "showlegend": true,
         "type": "scatter",
         "x": [
          0
         ],
         "xaxis": "x",
         "y": [
          0
         ],
         "yaxis": "y"
        },
        {
         "hovertemplate": "Countries and areas=Ethiopia<br>Birth Rate=%{x}<br>Primary Enrollment=%{y}<extra></extra>",
         "legendgroup": "Ethiopia",
         "marker": {
          "color": "#EF553B",
          "symbol": "circle"
         },
         "mode": "markers",
         "name": "Ethiopia",
         "orientation": "v",
         "showlegend": true,
         "type": "scatter",
         "x": [
          32.34
         ],
         "xaxis": "x",
         "y": [
          101
         ],
         "yaxis": "y"
        },
        {
         "hovertemplate": "Countries and areas=Fiji<br>Birth Rate=%{x}<br>Primary Enrollment=%{y}<extra></extra>",
         "legendgroup": "Fiji",
         "marker": {
          "color": "#00cc96",
          "symbol": "circle"
         },
         "mode": "markers",
         "name": "Fiji",
         "orientation": "v",
         "showlegend": true,
         "type": "scatter",
         "x": [
          21.28
         ],
         "xaxis": "x",
         "y": [
          106.4
         ],
         "yaxis": "y"
        },
        {
         "hovertemplate": "Countries and areas=Finland<br>Birth Rate=%{x}<br>Primary Enrollment=%{y}<extra></extra>",
         "legendgroup": "Finland",
         "marker": {
          "color": "#ab63fa",
          "symbol": "circle"
         },
         "mode": "markers",
         "name": "Finland",
         "orientation": "v",
         "showlegend": true,
         "type": "scatter",
         "x": [
          8.6
         ],
         "xaxis": "x",
         "y": [
          100.2
         ],
         "yaxis": "y"
        },
        {
         "hovertemplate": "Countries and areas=France<br>Birth Rate=%{x}<br>Primary Enrollment=%{y}<extra></extra>",
         "legendgroup": "France",
         "marker": {
          "color": "#FFA15A",
          "symbol": "circle"
         },
         "mode": "markers",
         "name": "France",
         "orientation": "v",
         "showlegend": true,
         "type": "scatter",
         "x": [
          11.3
         ],
         "xaxis": "x",
         "y": [
          102.5
         ],
         "yaxis": "y"
        },
        {
         "hovertemplate": "Countries and areas=Gabon<br>Birth Rate=%{x}<br>Primary Enrollment=%{y}<extra></extra>",
         "legendgroup": "Gabon",
         "marker": {
          "color": "#19d3f3",
          "symbol": "circle"
         },
         "mode": "markers",
         "name": "Gabon",
         "orientation": "v",
         "showlegend": true,
         "type": "scatter",
         "x": [
          31.61
         ],
         "xaxis": "x",
         "y": [
          139.9
         ],
         "yaxis": "y"
        },
        {
         "hovertemplate": "Countries and areas=The Gambia<br>Birth Rate=%{x}<br>Primary Enrollment=%{y}<extra></extra>",
         "legendgroup": "The Gambia",
         "marker": {
          "color": "#FF6692",
          "symbol": "circle"
         },
         "mode": "markers",
         "name": "The Gambia",
         "orientation": "v",
         "showlegend": true,
         "type": "scatter",
         "x": [
          38.54
         ],
         "xaxis": "x",
         "y": [
          98
         ],
         "yaxis": "y"
        },
        {
         "hovertemplate": "Countries and areas=Georgia<br>Birth Rate=%{x}<br>Primary Enrollment=%{y}<extra></extra>",
         "legendgroup": "Georgia",
         "marker": {
          "color": "#B6E880",
          "symbol": "circle"
         },
         "mode": "markers",
         "name": "Georgia",
         "orientation": "v",
         "showlegend": true,
         "type": "scatter",
         "x": [
          13.47
         ],
         "xaxis": "x",
         "y": [
          98.6
         ],
         "yaxis": "y"
        },
        {
         "hovertemplate": "Countries and areas=Germany<br>Birth Rate=%{x}<br>Primary Enrollment=%{y}<extra></extra>",
         "legendgroup": "Germany",
         "marker": {
          "color": "#FF97FF",
          "symbol": "circle"
         },
         "mode": "markers",
         "name": "Germany",
         "orientation": "v",
         "showlegend": true,
         "type": "scatter",
         "x": [
          9.5
         ],
         "xaxis": "x",
         "y": [
          104
         ],
         "yaxis": "y"
        },
        {
         "hovertemplate": "Countries and areas=Ghana<br>Birth Rate=%{x}<br>Primary Enrollment=%{y}<extra></extra>",
         "legendgroup": "Ghana",
         "marker": {
          "color": "#FECB52",
          "symbol": "circle"
         },
         "mode": "markers",
         "name": "Ghana",
         "orientation": "v",
         "showlegend": true,
         "type": "scatter",
         "x": [
          29.41
         ],
         "xaxis": "x",
         "y": [
          104.8
         ],
         "yaxis": "y"
        },
        {
         "hovertemplate": "Countries and areas=Greece<br>Birth Rate=%{x}<br>Primary Enrollment=%{y}<extra></extra>",
         "legendgroup": "Greece",
         "marker": {
          "color": "#636efa",
          "symbol": "circle"
         },
         "mode": "markers",
         "name": "Greece",
         "orientation": "v",
         "showlegend": true,
         "type": "scatter",
         "x": [
          8.1
         ],
         "xaxis": "x",
         "y": [
          99.6
         ],
         "yaxis": "y"
        },
        {
         "hovertemplate": "Countries and areas=Grenada<br>Birth Rate=%{x}<br>Primary Enrollment=%{y}<extra></extra>",
         "legendgroup": "Grenada",
         "marker": {
          "color": "#EF553B",
          "symbol": "circle"
         },
         "mode": "markers",
         "name": "Grenada",
         "orientation": "v",
         "showlegend": true,
         "type": "scatter",
         "x": [
          16.47
         ],
         "xaxis": "x",
         "y": [
          106.9
         ],
         "yaxis": "y"
        },
        {
         "hovertemplate": "Countries and areas=Guatemala<br>Birth Rate=%{x}<br>Primary Enrollment=%{y}<extra></extra>",
         "legendgroup": "Guatemala",
         "marker": {
          "color": "#00cc96",
          "symbol": "circle"
         },
         "mode": "markers",
         "name": "Guatemala",
         "orientation": "v",
         "showlegend": true,
         "type": "scatter",
         "x": [
          24.56
         ],
         "xaxis": "x",
         "y": [
          101.9
         ],
         "yaxis": "y"
        },
        {
         "hovertemplate": "Countries and areas=Guinea<br>Birth Rate=%{x}<br>Primary Enrollment=%{y}<extra></extra>",
         "legendgroup": "Guinea",
         "marker": {
          "color": "#ab63fa",
          "symbol": "circle"
         },
         "mode": "markers",
         "name": "Guinea",
         "orientation": "v",
         "showlegend": true,
         "type": "scatter",
         "x": [
          36.36
         ],
         "xaxis": "x",
         "y": [
          91.5
         ],
         "yaxis": "y"
        },
        {
         "hovertemplate": "Countries and areas=Guinea0Bissau<br>Birth Rate=%{x}<br>Primary Enrollment=%{y}<extra></extra>",
         "legendgroup": "Guinea0Bissau",
         "marker": {
          "color": "#FFA15A",
          "symbol": "circle"
         },
         "mode": "markers",
         "name": "Guinea0Bissau",
         "orientation": "v",
         "showlegend": true,
         "type": "scatter",
         "x": [
          35.13
         ],
         "xaxis": "x",
         "y": [
          118.7
         ],
         "yaxis": "y"
        },
        {
         "hovertemplate": "Countries and areas=Guyana<br>Birth Rate=%{x}<br>Primary Enrollment=%{y}<extra></extra>",
         "legendgroup": "Guyana",
         "marker": {
          "color": "#19d3f3",
          "symbol": "circle"
         },
         "mode": "markers",
         "name": "Guyana",
         "orientation": "v",
         "showlegend": true,
         "type": "scatter",
         "x": [
          19.97
         ],
         "xaxis": "x",
         "y": [
          97.8
         ],
         "yaxis": "y"
        },
        {
         "hovertemplate": "Countries and areas=Haiti<br>Birth Rate=%{x}<br>Primary Enrollment=%{y}<extra></extra>",
         "legendgroup": "Haiti",
         "marker": {
          "color": "#FF6692",
          "symbol": "circle"
         },
         "mode": "markers",
         "name": "Haiti",
         "orientation": "v",
         "showlegend": true,
         "type": "scatter",
         "x": [
          24.35
         ],
         "xaxis": "x",
         "y": [
          113.6
         ],
         "yaxis": "y"
        },
        {
         "hovertemplate": "Countries and areas=Vatican City<br>Birth Rate=%{x}<br>Primary Enrollment=%{y}<extra></extra>",
         "legendgroup": "Vatican City",
         "marker": {
          "color": "#B6E880",
          "symbol": "circle"
         },
         "mode": "markers",
         "name": "Vatican City",
         "orientation": "v",
         "showlegend": true,
         "type": "scatter",
         "x": [
          0
         ],
         "xaxis": "x",
         "y": [
          0
         ],
         "yaxis": "y"
        },
        {
         "hovertemplate": "Countries and areas=Honduras<br>Birth Rate=%{x}<br>Primary Enrollment=%{y}<extra></extra>",
         "legendgroup": "Honduras",
         "marker": {
          "color": "#FF97FF",
          "symbol": "circle"
         },
         "mode": "markers",
         "name": "Honduras",
         "orientation": "v",
         "showlegend": true,
         "type": "scatter",
         "x": [
          21.6
         ],
         "xaxis": "x",
         "y": [
          91.5
         ],
         "yaxis": "y"
        },
        {
         "hovertemplate": "Countries and areas=Hungary<br>Birth Rate=%{x}<br>Primary Enrollment=%{y}<extra></extra>",
         "legendgroup": "Hungary",
         "marker": {
          "color": "#FECB52",
          "symbol": "circle"
         },
         "mode": "markers",
         "name": "Hungary",
         "orientation": "v",
         "showlegend": true,
         "type": "scatter",
         "x": [
          9.6
         ],
         "xaxis": "x",
         "y": [
          100.8
         ],
         "yaxis": "y"
        },
        {
         "hovertemplate": "Countries and areas=Iceland<br>Birth Rate=%{x}<br>Primary Enrollment=%{y}<extra></extra>",
         "legendgroup": "Iceland",
         "marker": {
          "color": "#636efa",
          "symbol": "circle"
         },
         "mode": "markers",
         "name": "Iceland",
         "orientation": "v",
         "showlegend": true,
         "type": "scatter",
         "x": [
          12
         ],
         "xaxis": "x",
         "y": [
          100.4
         ],
         "yaxis": "y"
        },
        {
         "hovertemplate": "Countries and areas=India<br>Birth Rate=%{x}<br>Primary Enrollment=%{y}<extra></extra>",
         "legendgroup": "India",
         "marker": {
          "color": "#EF553B",
          "symbol": "circle"
         },
         "mode": "markers",
         "name": "India",
         "orientation": "v",
         "showlegend": true,
         "type": "scatter",
         "x": [
          17.86
         ],
         "xaxis": "x",
         "y": [
          113
         ],
         "yaxis": "y"
        },
        {
         "hovertemplate": "Countries and areas=Indonesia<br>Birth Rate=%{x}<br>Primary Enrollment=%{y}<extra></extra>",
         "legendgroup": "Indonesia",
         "marker": {
          "color": "#00cc96",
          "symbol": "circle"
         },
         "mode": "markers",
         "name": "Indonesia",
         "orientation": "v",
         "showlegend": true,
         "type": "scatter",
         "x": [
          18.07
         ],
         "xaxis": "x",
         "y": [
          106.4
         ],
         "yaxis": "y"
        },
        {
         "hovertemplate": "Countries and areas=Iran<br>Birth Rate=%{x}<br>Primary Enrollment=%{y}<extra></extra>",
         "legendgroup": "Iran",
         "marker": {
          "color": "#ab63fa",
          "symbol": "circle"
         },
         "mode": "markers",
         "name": "Iran",
         "orientation": "v",
         "showlegend": true,
         "type": "scatter",
         "x": [
          18.78
         ],
         "xaxis": "x",
         "y": [
          110.7
         ],
         "yaxis": "y"
        },
        {
         "hovertemplate": "Countries and areas=Iraq<br>Birth Rate=%{x}<br>Primary Enrollment=%{y}<extra></extra>",
         "legendgroup": "Iraq",
         "marker": {
          "color": "#FFA15A",
          "symbol": "circle"
         },
         "mode": "markers",
         "name": "Iraq",
         "orientation": "v",
         "showlegend": true,
         "type": "scatter",
         "x": [
          29.08
         ],
         "xaxis": "x",
         "y": [
          108.7
         ],
         "yaxis": "y"
        },
        {
         "hovertemplate": "Countries and areas=Republic of Ireland<br>Birth Rate=%{x}<br>Primary Enrollment=%{y}<extra></extra>",
         "legendgroup": "Republic of Ireland",
         "marker": {
          "color": "#19d3f3",
          "symbol": "circle"
         },
         "mode": "markers",
         "name": "Republic of Ireland",
         "orientation": "v",
         "showlegend": true,
         "type": "scatter",
         "x": [
          12.5
         ],
         "xaxis": "x",
         "y": [
          100.9
         ],
         "yaxis": "y"
        },
        {
         "hovertemplate": "Countries and areas=Israel<br>Birth Rate=%{x}<br>Primary Enrollment=%{y}<extra></extra>",
         "legendgroup": "Israel",
         "marker": {
          "color": "#FF6692",
          "symbol": "circle"
         },
         "mode": "markers",
         "name": "Israel",
         "orientation": "v",
         "showlegend": true,
         "type": "scatter",
         "x": [
          20.8
         ],
         "xaxis": "x",
         "y": [
          104.9
         ],
         "yaxis": "y"
        },
        {
         "hovertemplate": "Countries and areas=Italy<br>Birth Rate=%{x}<br>Primary Enrollment=%{y}<extra></extra>",
         "legendgroup": "Italy",
         "marker": {
          "color": "#B6E880",
          "symbol": "circle"
         },
         "mode": "markers",
         "name": "Italy",
         "orientation": "v",
         "showlegend": true,
         "type": "scatter",
         "x": [
          7.3
         ],
         "xaxis": "x",
         "y": [
          101.9
         ],
         "yaxis": "y"
        },
        {
         "hovertemplate": "Countries and areas=Jamaica<br>Birth Rate=%{x}<br>Primary Enrollment=%{y}<extra></extra>",
         "legendgroup": "Jamaica",
         "marker": {
          "color": "#FF97FF",
          "symbol": "circle"
         },
         "mode": "markers",
         "name": "Jamaica",
         "orientation": "v",
         "showlegend": true,
         "type": "scatter",
         "x": [
          16.1
         ],
         "xaxis": "x",
         "y": [
          91
         ],
         "yaxis": "y"
        },
        {
         "hovertemplate": "Countries and areas=Japan<br>Birth Rate=%{x}<br>Primary Enrollment=%{y}<extra></extra>",
         "legendgroup": "Japan",
         "marker": {
          "color": "#FECB52",
          "symbol": "circle"
         },
         "mode": "markers",
         "name": "Japan",
         "orientation": "v",
         "showlegend": true,
         "type": "scatter",
         "x": [
          7.4
         ],
         "xaxis": "x",
         "y": [
          98.8
         ],
         "yaxis": "y"
        },
        {
         "hovertemplate": "Countries and areas=Jordan<br>Birth Rate=%{x}<br>Primary Enrollment=%{y}<extra></extra>",
         "legendgroup": "Jordan",
         "marker": {
          "color": "#636efa",
          "symbol": "circle"
         },
         "mode": "markers",
         "name": "Jordan",
         "orientation": "v",
         "showlegend": true,
         "type": "scatter",
         "x": [
          21.98
         ],
         "xaxis": "x",
         "y": [
          81.5
         ],
         "yaxis": "y"
        },
        {
         "hovertemplate": "Countries and areas=Kazakhstan<br>Birth Rate=%{x}<br>Primary Enrollment=%{y}<extra></extra>",
         "legendgroup": "Kazakhstan",
         "marker": {
          "color": "#EF553B",
          "symbol": "circle"
         },
         "mode": "markers",
         "name": "Kazakhstan",
         "orientation": "v",
         "showlegend": true,
         "type": "scatter",
         "x": [
          21.77
         ],
         "xaxis": "x",
         "y": [
          104.4
         ],
         "yaxis": "y"
        },
        {
         "hovertemplate": "Countries and areas=Kenya<br>Birth Rate=%{x}<br>Primary Enrollment=%{y}<extra></extra>",
         "legendgroup": "Kenya",
         "marker": {
          "color": "#00cc96",
          "symbol": "circle"
         },
         "mode": "markers",
         "name": "Kenya",
         "orientation": "v",
         "showlegend": true,
         "type": "scatter",
         "x": [
          28.75
         ],
         "xaxis": "x",
         "y": [
          103.2
         ],
         "yaxis": "y"
        },
        {
         "hovertemplate": "Countries and areas=Kiribati<br>Birth Rate=%{x}<br>Primary Enrollment=%{y}<extra></extra>",
         "legendgroup": "Kiribati",
         "marker": {
          "color": "#ab63fa",
          "symbol": "circle"
         },
         "mode": "markers",
         "name": "Kiribati",
         "orientation": "v",
         "showlegend": true,
         "type": "scatter",
         "x": [
          27.89
         ],
         "xaxis": "x",
         "y": [
          101.3
         ],
         "yaxis": "y"
        },
        {
         "hovertemplate": "Countries and areas=Kuwait<br>Birth Rate=%{x}<br>Primary Enrollment=%{y}<extra></extra>",
         "legendgroup": "Kuwait",
         "marker": {
          "color": "#FFA15A",
          "symbol": "circle"
         },
         "mode": "markers",
         "name": "Kuwait",
         "orientation": "v",
         "showlegend": true,
         "type": "scatter",
         "x": [
          13.94
         ],
         "xaxis": "x",
         "y": [
          92.4
         ],
         "yaxis": "y"
        },
        {
         "hovertemplate": "Countries and areas=Kyrgyzstan<br>Birth Rate=%{x}<br>Primary Enrollment=%{y}<extra></extra>",
         "legendgroup": "Kyrgyzstan",
         "marker": {
          "color": "#19d3f3",
          "symbol": "circle"
         },
         "mode": "markers",
         "name": "Kyrgyzstan",
         "orientation": "v",
         "showlegend": true,
         "type": "scatter",
         "x": [
          27.1
         ],
         "xaxis": "x",
         "y": [
          107.6
         ],
         "yaxis": "y"
        },
        {
         "hovertemplate": "Countries and areas=Laos<br>Birth Rate=%{x}<br>Primary Enrollment=%{y}<extra></extra>",
         "legendgroup": "Laos",
         "marker": {
          "color": "#FF6692",
          "symbol": "circle"
         },
         "mode": "markers",
         "name": "Laos",
         "orientation": "v",
         "showlegend": true,
         "type": "scatter",
         "x": [
          23.55
         ],
         "xaxis": "x",
         "y": [
          102.4
         ],
         "yaxis": "y"
        },
        {
         "hovertemplate": "Countries and areas=Latvia<br>Birth Rate=%{x}<br>Primary Enrollment=%{y}<extra></extra>",
         "legendgroup": "Latvia",
         "marker": {
          "color": "#B6E880",
          "symbol": "circle"
         },
         "mode": "markers",
         "name": "Latvia",
         "orientation": "v",
         "showlegend": true,
         "type": "scatter",
         "x": [
          10
         ],
         "xaxis": "x",
         "y": [
          99.4
         ],
         "yaxis": "y"
        },
        {
         "hovertemplate": "Countries and areas=Lebanon<br>Birth Rate=%{x}<br>Primary Enrollment=%{y}<extra></extra>",
         "legendgroup": "Lebanon",
         "marker": {
          "color": "#FF97FF",
          "symbol": "circle"
         },
         "mode": "markers",
         "name": "Lebanon",
         "orientation": "v",
         "showlegend": true,
         "type": "scatter",
         "x": [
          17.55
         ],
         "xaxis": "x",
         "y": [
          95.1
         ],
         "yaxis": "y"
        },
        {
         "hovertemplate": "Countries and areas=Lesotho<br>Birth Rate=%{x}<br>Primary Enrollment=%{y}<extra></extra>",
         "legendgroup": "Lesotho",
         "marker": {
          "color": "#FECB52",
          "symbol": "circle"
         },
         "mode": "markers",
         "name": "Lesotho",
         "orientation": "v",
         "showlegend": true,
         "type": "scatter",
         "x": [
          26.81
         ],
         "xaxis": "x",
         "y": [
          120.9
         ],
         "yaxis": "y"
        },
        {
         "hovertemplate": "Countries and areas=Liberia<br>Birth Rate=%{x}<br>Primary Enrollment=%{y}<extra></extra>",
         "legendgroup": "Liberia",
         "marker": {
          "color": "#636efa",
          "symbol": "circle"
         },
         "mode": "markers",
         "name": "Liberia",
         "orientation": "v",
         "showlegend": true,
         "type": "scatter",
         "x": [
          33.04
         ],
         "xaxis": "x",
         "y": [
          85.1
         ],
         "yaxis": "y"
        },
        {
         "hovertemplate": "Countries and areas=Libya<br>Birth Rate=%{x}<br>Primary Enrollment=%{y}<extra></extra>",
         "legendgroup": "Libya",
         "marker": {
          "color": "#EF553B",
          "symbol": "circle"
         },
         "mode": "markers",
         "name": "Libya",
         "orientation": "v",
         "showlegend": true,
         "type": "scatter",
         "x": [
          18.83
         ],
         "xaxis": "x",
         "y": [
          109
         ],
         "yaxis": "y"
        },
        {
         "hovertemplate": "Countries and areas=Liechtenstein<br>Birth Rate=%{x}<br>Primary Enrollment=%{y}<extra></extra>",
         "legendgroup": "Liechtenstein",
         "marker": {
          "color": "#00cc96",
          "symbol": "circle"
         },
         "mode": "markers",
         "name": "Liechtenstein",
         "orientation": "v",
         "showlegend": true,
         "type": "scatter",
         "x": [
          9.9
         ],
         "xaxis": "x",
         "y": [
          104.7
         ],
         "yaxis": "y"
        },
        {
         "hovertemplate": "Countries and areas=Lithuania<br>Birth Rate=%{x}<br>Primary Enrollment=%{y}<extra></extra>",
         "legendgroup": "Lithuania",
         "marker": {
          "color": "#ab63fa",
          "symbol": "circle"
         },
         "mode": "markers",
         "name": "Lithuania",
         "orientation": "v",
         "showlegend": true,
         "type": "scatter",
         "x": [
          10
         ],
         "xaxis": "x",
         "y": [
          103.9
         ],
         "yaxis": "y"
        },
        {
         "hovertemplate": "Countries and areas=Luxembourg<br>Birth Rate=%{x}<br>Primary Enrollment=%{y}<extra></extra>",
         "legendgroup": "Luxembourg",
         "marker": {
          "color": "#FFA15A",
          "symbol": "circle"
         },
         "mode": "markers",
         "name": "Luxembourg",
         "orientation": "v",
         "showlegend": true,
         "type": "scatter",
         "x": [
          10.3
         ],
         "xaxis": "x",
         "y": [
          102.3
         ],
         "yaxis": "y"
        },
        {
         "hovertemplate": "Countries and areas=Madagascar<br>Birth Rate=%{x}<br>Primary Enrollment=%{y}<extra></extra>",
         "legendgroup": "Madagascar",
         "marker": {
          "color": "#19d3f3",
          "symbol": "circle"
         },
         "mode": "markers",
         "name": "Madagascar",
         "orientation": "v",
         "showlegend": true,
         "type": "scatter",
         "x": [
          32.66
         ],
         "xaxis": "x",
         "y": [
          142.5
         ],
         "yaxis": "y"
        },
        {
         "hovertemplate": "Countries and areas=Malawi<br>Birth Rate=%{x}<br>Primary Enrollment=%{y}<extra></extra>",
         "legendgroup": "Malawi",
         "marker": {
          "color": "#FF6692",
          "symbol": "circle"
         },
         "mode": "markers",
         "name": "Malawi",
         "orientation": "v",
         "showlegend": true,
         "type": "scatter",
         "x": [
          34.12
         ],
         "xaxis": "x",
         "y": [
          142.5
         ],
         "yaxis": "y"
        },
        {
         "hovertemplate": "Countries and areas=Malaysia<br>Birth Rate=%{x}<br>Primary Enrollment=%{y}<extra></extra>",
         "legendgroup": "Malaysia",
         "marker": {
          "color": "#B6E880",
          "symbol": "circle"
         },
         "mode": "markers",
         "name": "Malaysia",
         "orientation": "v",
         "showlegend": true,
         "type": "scatter",
         "x": [
          16.75
         ],
         "xaxis": "x",
         "y": [
          105.3
         ],
         "yaxis": "y"
        },
        {
         "hovertemplate": "Countries and areas=Maldives<br>Birth Rate=%{x}<br>Primary Enrollment=%{y}<extra></extra>",
         "legendgroup": "Maldives",
         "marker": {
          "color": "#FF97FF",
          "symbol": "circle"
         },
         "mode": "markers",
         "name": "Maldives",
         "orientation": "v",
         "showlegend": true,
         "type": "scatter",
         "x": [
          14.2
         ],
         "xaxis": "x",
         "y": [
          97.1
         ],
         "yaxis": "y"
        },
        {
         "hovertemplate": "Countries and areas=Mali<br>Birth Rate=%{x}<br>Primary Enrollment=%{y}<extra></extra>",
         "legendgroup": "Mali",
         "marker": {
          "color": "#FECB52",
          "symbol": "circle"
         },
         "mode": "markers",
         "name": "Mali",
         "orientation": "v",
         "showlegend": true,
         "type": "scatter",
         "x": [
          41.54
         ],
         "xaxis": "x",
         "y": [
          75.6
         ],
         "yaxis": "y"
        },
        {
         "hovertemplate": "Countries and areas=Malta<br>Birth Rate=%{x}<br>Primary Enrollment=%{y}<extra></extra>",
         "legendgroup": "Malta",
         "marker": {
          "color": "#636efa",
          "symbol": "circle"
         },
         "mode": "markers",
         "name": "Malta",
         "orientation": "v",
         "showlegend": true,
         "type": "scatter",
         "x": [
          9.2
         ],
         "xaxis": "x",
         "y": [
          105
         ],
         "yaxis": "y"
        },
        {
         "hovertemplate": "Countries and areas=Marshall Islands<br>Birth Rate=%{x}<br>Primary Enrollment=%{y}<extra></extra>",
         "legendgroup": "Marshall Islands",
         "marker": {
          "color": "#EF553B",
          "symbol": "circle"
         },
         "mode": "markers",
         "name": "Marshall Islands",
         "orientation": "v",
         "showlegend": true,
         "type": "scatter",
         "x": [
          29.03
         ],
         "xaxis": "x",
         "y": [
          84.7
         ],
         "yaxis": "y"
        },
        {
         "hovertemplate": "Countries and areas=Mauritania<br>Birth Rate=%{x}<br>Primary Enrollment=%{y}<extra></extra>",
         "legendgroup": "Mauritania",
         "marker": {
          "color": "#00cc96",
          "symbol": "circle"
         },
         "mode": "markers",
         "name": "Mauritania",
         "orientation": "v",
         "showlegend": true,
         "type": "scatter",
         "x": [
          33.69
         ],
         "xaxis": "x",
         "y": [
          99.9
         ],
         "yaxis": "y"
        },
        {
         "hovertemplate": "Countries and areas=Mauritius<br>Birth Rate=%{x}<br>Primary Enrollment=%{y}<extra></extra>",
         "legendgroup": "Mauritius",
         "marker": {
          "color": "#ab63fa",
          "symbol": "circle"
         },
         "mode": "markers",
         "name": "Mauritius",
         "orientation": "v",
         "showlegend": true,
         "type": "scatter",
         "x": [
          10.2
         ],
         "xaxis": "x",
         "y": [
          101.1
         ],
         "yaxis": "y"
        },
        {
         "hovertemplate": "Countries and areas=Mexico<br>Birth Rate=%{x}<br>Primary Enrollment=%{y}<extra></extra>",
         "legendgroup": "Mexico",
         "marker": {
          "color": "#FFA15A",
          "symbol": "circle"
         },
         "mode": "markers",
         "name": "Mexico",
         "orientation": "v",
         "showlegend": true,
         "type": "scatter",
         "x": [
          17.6
         ],
         "xaxis": "x",
         "y": [
          105.8
         ],
         "yaxis": "y"
        },
        {
         "hovertemplate": "Countries and areas=Federated States of Micronesia<br>Birth Rate=%{x}<br>Primary Enrollment=%{y}<extra></extra>",
         "legendgroup": "Federated States of Micronesia",
         "marker": {
          "color": "#19d3f3",
          "symbol": "circle"
         },
         "mode": "markers",
         "name": "Federated States of Micronesia",
         "orientation": "v",
         "showlegend": true,
         "type": "scatter",
         "x": [
          22.82
         ],
         "xaxis": "x",
         "y": [
          97.2
         ],
         "yaxis": "y"
        },
        {
         "hovertemplate": "Countries and areas=Monaco<br>Birth Rate=%{x}<br>Primary Enrollment=%{y}<extra></extra>",
         "legendgroup": "Monaco",
         "marker": {
          "color": "#FF6692",
          "symbol": "circle"
         },
         "mode": "markers",
         "name": "Monaco",
         "orientation": "v",
         "showlegend": true,
         "type": "scatter",
         "x": [
          5.9
         ],
         "xaxis": "x",
         "y": [
          0
         ],
         "yaxis": "y"
        },
        {
         "hovertemplate": "Countries and areas=Mongolia<br>Birth Rate=%{x}<br>Primary Enrollment=%{y}<extra></extra>",
         "legendgroup": "Mongolia",
         "marker": {
          "color": "#B6E880",
          "symbol": "circle"
         },
         "mode": "markers",
         "name": "Mongolia",
         "orientation": "v",
         "showlegend": true,
         "type": "scatter",
         "x": [
          24.13
         ],
         "xaxis": "x",
         "y": [
          104
         ],
         "yaxis": "y"
        },
        {
         "hovertemplate": "Countries and areas=Montenegro<br>Birth Rate=%{x}<br>Primary Enrollment=%{y}<extra></extra>",
         "legendgroup": "Montenegro",
         "marker": {
          "color": "#FF97FF",
          "symbol": "circle"
         },
         "mode": "markers",
         "name": "Montenegro",
         "orientation": "v",
         "showlegend": true,
         "type": "scatter",
         "x": [
          11.73
         ],
         "xaxis": "x",
         "y": [
          100
         ],
         "yaxis": "y"
        },
        {
         "hovertemplate": "Countries and areas=Montserrat<br>Birth Rate=%{x}<br>Primary Enrollment=%{y}<extra></extra>",
         "legendgroup": "Montserrat",
         "marker": {
          "color": "#FECB52",
          "symbol": "circle"
         },
         "mode": "markers",
         "name": "Montserrat",
         "orientation": "v",
         "showlegend": true,
         "type": "scatter",
         "x": [
          0
         ],
         "xaxis": "x",
         "y": [
          0
         ],
         "yaxis": "y"
        },
        {
         "hovertemplate": "Countries and areas=Morocco<br>Birth Rate=%{x}<br>Primary Enrollment=%{y}<extra></extra>",
         "legendgroup": "Morocco",
         "marker": {
          "color": "#636efa",
          "symbol": "circle"
         },
         "mode": "markers",
         "name": "Morocco",
         "orientation": "v",
         "showlegend": true,
         "type": "scatter",
         "x": [
          18.94
         ],
         "xaxis": "x",
         "y": [
          113.9
         ],
         "yaxis": "y"
        },
        {
         "hovertemplate": "Countries and areas=Mozambique<br>Birth Rate=%{x}<br>Primary Enrollment=%{y}<extra></extra>",
         "legendgroup": "Mozambique",
         "marker": {
          "color": "#EF553B",
          "symbol": "circle"
         },
         "mode": "markers",
         "name": "Mozambique",
         "orientation": "v",
         "showlegend": true,
         "type": "scatter",
         "x": [
          37.52
         ],
         "xaxis": "x",
         "y": [
          112.6
         ],
         "yaxis": "y"
        },
        {
         "hovertemplate": "Countries and areas=Myanmar<br>Birth Rate=%{x}<br>Primary Enrollment=%{y}<extra></extra>",
         "legendgroup": "Myanmar",
         "marker": {
          "color": "#00cc96",
          "symbol": "circle"
         },
         "mode": "markers",
         "name": "Myanmar",
         "orientation": "v",
         "showlegend": true,
         "type": "scatter",
         "x": [
          17.55
         ],
         "xaxis": "x",
         "y": [
          112.3
         ],
         "yaxis": "y"
        },
        {
         "hovertemplate": "Countries and areas=Namibia<br>Birth Rate=%{x}<br>Primary Enrollment=%{y}<extra></extra>",
         "legendgroup": "Namibia",
         "marker": {
          "color": "#ab63fa",
          "symbol": "circle"
         },
         "mode": "markers",
         "name": "Namibia",
         "orientation": "v",
         "showlegend": true,
         "type": "scatter",
         "x": [
          28.64
         ],
         "xaxis": "x",
         "y": [
          124.2
         ],
         "yaxis": "y"
        },
        {
         "hovertemplate": "Countries and areas=Nauru<br>Birth Rate=%{x}<br>Primary Enrollment=%{y}<extra></extra>",
         "legendgroup": "Nauru",
         "marker": {
          "color": "#FFA15A",
          "symbol": "circle"
         },
         "mode": "markers",
         "name": "Nauru",
         "orientation": "v",
         "showlegend": true,
         "type": "scatter",
         "x": [
          0
         ],
         "xaxis": "x",
         "y": [
          0
         ],
         "yaxis": "y"
        },
        {
         "hovertemplate": "Countries and areas=Nepal<br>Birth Rate=%{x}<br>Primary Enrollment=%{y}<extra></extra>",
         "legendgroup": "Nepal",
         "marker": {
          "color": "#19d3f3",
          "symbol": "circle"
         },
         "mode": "markers",
         "name": "Nepal",
         "orientation": "v",
         "showlegend": true,
         "type": "scatter",
         "x": [
          19.89
         ],
         "xaxis": "x",
         "y": [
          142.1
         ],
         "yaxis": "y"
        },
        {
         "hovertemplate": "Countries and areas=Netherlands<br>Birth Rate=%{x}<br>Primary Enrollment=%{y}<extra></extra>",
         "legendgroup": "Netherlands",
         "marker": {
          "color": "#FF6692",
          "symbol": "circle"
         },
         "mode": "markers",
         "name": "Netherlands",
         "orientation": "v",
         "showlegend": true,
         "type": "scatter",
         "x": [
          9.7
         ],
         "xaxis": "x",
         "y": [
          104.2
         ],
         "yaxis": "y"
        },
        {
         "hovertemplate": "Countries and areas=New Zealand<br>Birth Rate=%{x}<br>Primary Enrollment=%{y}<extra></extra>",
         "legendgroup": "New Zealand",
         "marker": {
          "color": "#B6E880",
          "symbol": "circle"
         },
         "mode": "markers",
         "name": "New Zealand",
         "orientation": "v",
         "showlegend": true,
         "type": "scatter",
         "x": [
          11.98
         ],
         "xaxis": "x",
         "y": [
          100
         ],
         "yaxis": "y"
        },
        {
         "hovertemplate": "Countries and areas=Nicaragua<br>Birth Rate=%{x}<br>Primary Enrollment=%{y}<extra></extra>",
         "legendgroup": "Nicaragua",
         "marker": {
          "color": "#FF97FF",
          "symbol": "circle"
         },
         "mode": "markers",
         "name": "Nicaragua",
         "orientation": "v",
         "showlegend": true,
         "type": "scatter",
         "x": [
          20.64
         ],
         "xaxis": "x",
         "y": [
          120.6
         ],
         "yaxis": "y"
        },
        {
         "hovertemplate": "Countries and areas=Niger<br>Birth Rate=%{x}<br>Primary Enrollment=%{y}<extra></extra>",
         "legendgroup": "Niger",
         "marker": {
          "color": "#FECB52",
          "symbol": "circle"
         },
         "mode": "markers",
         "name": "Niger",
         "orientation": "v",
         "showlegend": true,
         "type": "scatter",
         "x": [
          46.08
         ],
         "xaxis": "x",
         "y": [
          74.7
         ],
         "yaxis": "y"
        },
        {
         "hovertemplate": "Countries and areas=Nigeria<br>Birth Rate=%{x}<br>Primary Enrollment=%{y}<extra></extra>",
         "legendgroup": "Nigeria",
         "marker": {
          "color": "#636efa",
          "symbol": "circle"
         },
         "mode": "markers",
         "name": "Nigeria",
         "orientation": "v",
         "showlegend": true,
         "type": "scatter",
         "x": [
          37.91
         ],
         "xaxis": "x",
         "y": [
          84.7
         ],
         "yaxis": "y"
        },
        {
         "hovertemplate": "Countries and areas=Niue<br>Birth Rate=%{x}<br>Primary Enrollment=%{y}<extra></extra>",
         "legendgroup": "Niue",
         "marker": {
          "color": "#EF553B",
          "symbol": "circle"
         },
         "mode": "markers",
         "name": "Niue",
         "orientation": "v",
         "showlegend": true,
         "type": "scatter",
         "x": [
          0
         ],
         "xaxis": "x",
         "y": [
          0
         ],
         "yaxis": "y"
        },
        {
         "hovertemplate": "Countries and areas=North Macedonia<br>Birth Rate=%{x}<br>Primary Enrollment=%{y}<extra></extra>",
         "legendgroup": "North Macedonia",
         "marker": {
          "color": "#00cc96",
          "symbol": "circle"
         },
         "mode": "markers",
         "name": "North Macedonia",
         "orientation": "v",
         "showlegend": true,
         "type": "scatter",
         "x": [
          0
         ],
         "xaxis": "x",
         "y": [
          0
         ],
         "yaxis": "y"
        },
        {
         "hovertemplate": "Countries and areas=Norway<br>Birth Rate=%{x}<br>Primary Enrollment=%{y}<extra></extra>",
         "legendgroup": "Norway",
         "marker": {
          "color": "#ab63fa",
          "symbol": "circle"
         },
         "mode": "markers",
         "name": "Norway",
         "orientation": "v",
         "showlegend": true,
         "type": "scatter",
         "x": [
          10.4
         ],
         "xaxis": "x",
         "y": [
          100.3
         ],
         "yaxis": "y"
        },
        {
         "hovertemplate": "Countries and areas=Oman<br>Birth Rate=%{x}<br>Primary Enrollment=%{y}<extra></extra>",
         "legendgroup": "Oman",
         "marker": {
          "color": "#FFA15A",
          "symbol": "circle"
         },
         "mode": "markers",
         "name": "Oman",
         "orientation": "v",
         "showlegend": true,
         "type": "scatter",
         "x": [
          19.19
         ],
         "xaxis": "x",
         "y": [
          103.4
         ],
         "yaxis": "y"
        },
        {
         "hovertemplate": "Countries and areas=Pakistan<br>Birth Rate=%{x}<br>Primary Enrollment=%{y}<extra></extra>",
         "legendgroup": "Pakistan",
         "marker": {
          "color": "#19d3f3",
          "symbol": "circle"
         },
         "mode": "markers",
         "name": "Pakistan",
         "orientation": "v",
         "showlegend": true,
         "type": "scatter",
         "x": [
          28.25
         ],
         "xaxis": "x",
         "y": [
          94.3
         ],
         "yaxis": "y"
        },
        {
         "hovertemplate": "Countries and areas=Palau<br>Birth Rate=%{x}<br>Primary Enrollment=%{y}<extra></extra>",
         "legendgroup": "Palau",
         "marker": {
          "color": "#FF6692",
          "symbol": "circle"
         },
         "mode": "markers",
         "name": "Palau",
         "orientation": "v",
         "showlegend": true,
         "type": "scatter",
         "x": [
          14
         ],
         "xaxis": "x",
         "y": [
          112.6
         ],
         "yaxis": "y"
        },
        {
         "hovertemplate": "Countries and areas=Panama<br>Birth Rate=%{x}<br>Primary Enrollment=%{y}<extra></extra>",
         "legendgroup": "Panama",
         "marker": {
          "color": "#B6E880",
          "symbol": "circle"
         },
         "mode": "markers",
         "name": "Panama",
         "orientation": "v",
         "showlegend": true,
         "type": "scatter",
         "x": [
          18.98
         ],
         "xaxis": "x",
         "y": [
          94.4
         ],
         "yaxis": "y"
        },
        {
         "hovertemplate": "Countries and areas=Papua New Guinea<br>Birth Rate=%{x}<br>Primary Enrollment=%{y}<extra></extra>",
         "legendgroup": "Papua New Guinea",
         "marker": {
          "color": "#FF97FF",
          "symbol": "circle"
         },
         "mode": "markers",
         "name": "Papua New Guinea",
         "orientation": "v",
         "showlegend": true,
         "type": "scatter",
         "x": [
          27.07
         ],
         "xaxis": "x",
         "y": [
          108.5
         ],
         "yaxis": "y"
        },
        {
         "hovertemplate": "Countries and areas=Paraguay<br>Birth Rate=%{x}<br>Primary Enrollment=%{y}<extra></extra>",
         "legendgroup": "Paraguay",
         "marker": {
          "color": "#FECB52",
          "symbol": "circle"
         },
         "mode": "markers",
         "name": "Paraguay",
         "orientation": "v",
         "showlegend": true,
         "type": "scatter",
         "x": [
          20.57
         ],
         "xaxis": "x",
         "y": [
          104.4
         ],
         "yaxis": "y"
        },
        {
         "hovertemplate": "Countries and areas=Peru<br>Birth Rate=%{x}<br>Primary Enrollment=%{y}<extra></extra>",
         "legendgroup": "Peru",
         "marker": {
          "color": "#636efa",
          "symbol": "circle"
         },
         "mode": "markers",
         "name": "Peru",
         "orientation": "v",
         "showlegend": true,
         "type": "scatter",
         "x": [
          17.95
         ],
         "xaxis": "x",
         "y": [
          106.9
         ],
         "yaxis": "y"
        },
        {
         "hovertemplate": "Countries and areas=Philippines<br>Birth Rate=%{x}<br>Primary Enrollment=%{y}<extra></extra>",
         "legendgroup": "Philippines",
         "marker": {
          "color": "#EF553B",
          "symbol": "circle"
         },
         "mode": "markers",
         "name": "Philippines",
         "orientation": "v",
         "showlegend": true,
         "type": "scatter",
         "x": [
          20.55
         ],
         "xaxis": "x",
         "y": [
          107.5
         ],
         "yaxis": "y"
        },
        {
         "hovertemplate": "Countries and areas=Poland<br>Birth Rate=%{x}<br>Primary Enrollment=%{y}<extra></extra>",
         "legendgroup": "Poland",
         "marker": {
          "color": "#00cc96",
          "symbol": "circle"
         },
         "mode": "markers",
         "name": "Poland",
         "orientation": "v",
         "showlegend": true,
         "type": "scatter",
         "x": [
          10.2
         ],
         "xaxis": "x",
         "y": [
          100
         ],
         "yaxis": "y"
        },
        {
         "hovertemplate": "Countries and areas=Portugal<br>Birth Rate=%{x}<br>Primary Enrollment=%{y}<extra></extra>",
         "legendgroup": "Portugal",
         "marker": {
          "color": "#ab63fa",
          "symbol": "circle"
         },
         "mode": "markers",
         "name": "Portugal",
         "orientation": "v",
         "showlegend": true,
         "type": "scatter",
         "x": [
          8.5
         ],
         "xaxis": "x",
         "y": [
          106.2
         ],
         "yaxis": "y"
        },
        {
         "hovertemplate": "Countries and areas=Qatar<br>Birth Rate=%{x}<br>Primary Enrollment=%{y}<extra></extra>",
         "legendgroup": "Qatar",
         "marker": {
          "color": "#FFA15A",
          "symbol": "circle"
         },
         "mode": "markers",
         "name": "Qatar",
         "orientation": "v",
         "showlegend": true,
         "type": "scatter",
         "x": [
          9.54
         ],
         "xaxis": "x",
         "y": [
          103.8
         ],
         "yaxis": "y"
        },
        {
         "hovertemplate": "Countries and areas=South Korea<br>Birth Rate=%{x}<br>Primary Enrollment=%{y}<extra></extra>",
         "legendgroup": "South Korea",
         "marker": {
          "color": "#19d3f3",
          "symbol": "circle"
         },
         "mode": "markers",
         "name": "South Korea",
         "orientation": "v",
         "showlegend": true,
         "type": "scatter",
         "x": [
          6.4
         ],
         "xaxis": "x",
         "y": [
          98.1
         ],
         "yaxis": "y"
        },
        {
         "hovertemplate": "Countries and areas=Moldova<br>Birth Rate=%{x}<br>Primary Enrollment=%{y}<extra></extra>",
         "legendgroup": "Moldova",
         "marker": {
          "color": "#FF6692",
          "symbol": "circle"
         },
         "mode": "markers",
         "name": "Moldova",
         "orientation": "v",
         "showlegend": true,
         "type": "scatter",
         "x": [
          10.1
         ],
         "xaxis": "x",
         "y": [
          90.6
         ],
         "yaxis": "y"
        },
        {
         "hovertemplate": "Countries and areas=Romania<br>Birth Rate=%{x}<br>Primary Enrollment=%{y}<extra></extra>",
         "legendgroup": "Romania",
         "marker": {
          "color": "#B6E880",
          "symbol": "circle"
         },
         "mode": "markers",
         "name": "Romania",
         "orientation": "v",
         "showlegend": true,
         "type": "scatter",
         "x": [
          9.6
         ],
         "xaxis": "x",
         "y": [
          85.2
         ],
         "yaxis": "y"
        },
        {
         "hovertemplate": "Countries and areas=Russia<br>Birth Rate=%{x}<br>Primary Enrollment=%{y}<extra></extra>",
         "legendgroup": "Russia",
         "marker": {
          "color": "#FF97FF",
          "symbol": "circle"
         },
         "mode": "markers",
         "name": "Russia",
         "orientation": "v",
         "showlegend": true,
         "type": "scatter",
         "x": [
          11.5
         ],
         "xaxis": "x",
         "y": [
          102.6
         ],
         "yaxis": "y"
        },
        {
         "hovertemplate": "Countries and areas=Rwanda<br>Birth Rate=%{x}<br>Primary Enrollment=%{y}<extra></extra>",
         "legendgroup": "Rwanda",
         "marker": {
          "color": "#FECB52",
          "symbol": "circle"
         },
         "mode": "markers",
         "name": "Rwanda",
         "orientation": "v",
         "showlegend": true,
         "type": "scatter",
         "x": [
          31.7
         ],
         "xaxis": "x",
         "y": [
          133
         ],
         "yaxis": "y"
        },
        {
         "hovertemplate": "Countries and areas=Saint Kitts and Nevis<br>Birth Rate=%{x}<br>Primary Enrollment=%{y}<extra></extra>",
         "legendgroup": "Saint Kitts and Nevis",
         "marker": {
          "color": "#636efa",
          "symbol": "circle"
         },
         "mode": "markers",
         "name": "Saint Kitts and Nevis",
         "orientation": "v",
         "showlegend": true,
         "type": "scatter",
         "x": [
          12.6
         ],
         "xaxis": "x",
         "y": [
          108.7
         ],
         "yaxis": "y"
        },
        {
         "hovertemplate": "Countries and areas=Saint Lucia<br>Birth Rate=%{x}<br>Primary Enrollment=%{y}<extra></extra>",
         "legendgroup": "Saint Lucia",
         "marker": {
          "color": "#EF553B",
          "symbol": "circle"
         },
         "mode": "markers",
         "name": "Saint Lucia",
         "orientation": "v",
         "showlegend": true,
         "type": "scatter",
         "x": [
          12
         ],
         "xaxis": "x",
         "y": [
          102.6
         ],
         "yaxis": "y"
        },
        {
         "hovertemplate": "Countries and areas=Saint Vincent and the Grenadines<br>Birth Rate=%{x}<br>Primary Enrollment=%{y}<extra></extra>",
         "legendgroup": "Saint Vincent and the Grenadines",
         "marker": {
          "color": "#00cc96",
          "symbol": "circle"
         },
         "mode": "markers",
         "name": "Saint Vincent and the Grenadines",
         "orientation": "v",
         "showlegend": true,
         "type": "scatter",
         "x": [
          14.24
         ],
         "xaxis": "x",
         "y": [
          113.4
         ],
         "yaxis": "y"
        },
        {
         "hovertemplate": "Countries and areas=Samoa<br>Birth Rate=%{x}<br>Primary Enrollment=%{y}<extra></extra>",
         "legendgroup": "Samoa",
         "marker": {
          "color": "#ab63fa",
          "symbol": "circle"
         },
         "mode": "markers",
         "name": "Samoa",
         "orientation": "v",
         "showlegend": true,
         "type": "scatter",
         "x": [
          24.38
         ],
         "xaxis": "x",
         "y": [
          110.5
         ],
         "yaxis": "y"
        },
        {
         "hovertemplate": "Countries and areas=San Marino<br>Birth Rate=%{x}<br>Primary Enrollment=%{y}<extra></extra>",
         "legendgroup": "San Marino",
         "marker": {
          "color": "#FFA15A",
          "symbol": "circle"
         },
         "mode": "markers",
         "name": "San Marino",
         "orientation": "v",
         "showlegend": true,
         "type": "scatter",
         "x": [
          6.8
         ],
         "xaxis": "x",
         "y": [
          108.1
         ],
         "yaxis": "y"
        },
        {
         "hovertemplate": "Countries and areas=Sï¿½ï¿½ï¿½ï¿½ï¿½ï¿½ï¿½ï¿<br>Birth Rate=%{x}<br>Primary Enrollment=%{y}<extra></extra>",
         "legendgroup": "Sï¿½ï¿½ï¿½ï¿½ï¿½ï¿½ï¿½ï¿",
         "marker": {
          "color": "#19d3f3",
          "symbol": "circle"
         },
         "mode": "markers",
         "name": "Sï¿½ï¿½ï¿½ï¿½ï¿½ï¿½ï¿½ï¿",
         "orientation": "v",
         "showlegend": true,
         "type": "scatter",
         "x": [
          31.54
         ],
         "xaxis": "x",
         "y": [
          106.8
         ],
         "yaxis": "y"
        },
        {
         "hovertemplate": "Countries and areas=Saudi Arabia<br>Birth Rate=%{x}<br>Primary Enrollment=%{y}<extra></extra>",
         "legendgroup": "Saudi Arabia",
         "marker": {
          "color": "#FF6692",
          "symbol": "circle"
         },
         "mode": "markers",
         "name": "Saudi Arabia",
         "orientation": "v",
         "showlegend": true,
         "type": "scatter",
         "x": [
          17.8
         ],
         "xaxis": "x",
         "y": [
          99.8
         ],
         "yaxis": "y"
        },
        {
         "hovertemplate": "Countries and areas=Senegal<br>Birth Rate=%{x}<br>Primary Enrollment=%{y}<extra></extra>",
         "legendgroup": "Senegal",
         "marker": {
          "color": "#B6E880",
          "symbol": "circle"
         },
         "mode": "markers",
         "name": "Senegal",
         "orientation": "v",
         "showlegend": true,
         "type": "scatter",
         "x": [
          34.52
         ],
         "xaxis": "x",
         "y": [
          81
         ],
         "yaxis": "y"
        },
        {
         "hovertemplate": "Countries and areas=Serbia<br>Birth Rate=%{x}<br>Primary Enrollment=%{y}<extra></extra>",
         "legendgroup": "Serbia",
         "marker": {
          "color": "#FF97FF",
          "symbol": "circle"
         },
         "mode": "markers",
         "name": "Serbia",
         "orientation": "v",
         "showlegend": true,
         "type": "scatter",
         "x": [
          9.2
         ],
         "xaxis": "x",
         "y": [
          100.3
         ],
         "yaxis": "y"
        },
        {
         "hovertemplate": "Countries and areas=Seychelles<br>Birth Rate=%{x}<br>Primary Enrollment=%{y}<extra></extra>",
         "legendgroup": "Seychelles",
         "marker": {
          "color": "#FECB52",
          "symbol": "circle"
         },
         "mode": "markers",
         "name": "Seychelles",
         "orientation": "v",
         "showlegend": true,
         "type": "scatter",
         "x": [
          17.1
         ],
         "xaxis": "x",
         "y": [
          100.4
         ],
         "yaxis": "y"
        },
        {
         "hovertemplate": "Countries and areas=Sierra Leone<br>Birth Rate=%{x}<br>Primary Enrollment=%{y}<extra></extra>",
         "legendgroup": "Sierra Leone",
         "marker": {
          "color": "#636efa",
          "symbol": "circle"
         },
         "mode": "markers",
         "name": "Sierra Leone",
         "orientation": "v",
         "showlegend": true,
         "type": "scatter",
         "x": [
          33.41
         ],
         "xaxis": "x",
         "y": [
          112.8
         ],
         "yaxis": "y"
        },
        {
         "hovertemplate": "Countries and areas=Singapore<br>Birth Rate=%{x}<br>Primary Enrollment=%{y}<extra></extra>",
         "legendgroup": "Singapore",
         "marker": {
          "color": "#EF553B",
          "symbol": "circle"
         },
         "mode": "markers",
         "name": "Singapore",
         "orientation": "v",
         "showlegend": true,
         "type": "scatter",
         "x": [
          8.8
         ],
         "xaxis": "x",
         "y": [
          100.6
         ],
         "yaxis": "y"
        },
        {
         "hovertemplate": "Countries and areas=Slovakia<br>Birth Rate=%{x}<br>Primary Enrollment=%{y}<extra></extra>",
         "legendgroup": "Slovakia",
         "marker": {
          "color": "#00cc96",
          "symbol": "circle"
         },
         "mode": "markers",
         "name": "Slovakia",
         "orientation": "v",
         "showlegend": true,
         "type": "scatter",
         "x": [
          10.6
         ],
         "xaxis": "x",
         "y": [
          98.7
         ],
         "yaxis": "y"
        },
        {
         "hovertemplate": "Countries and areas=Slovenia<br>Birth Rate=%{x}<br>Primary Enrollment=%{y}<extra></extra>",
         "legendgroup": "Slovenia",
         "marker": {
          "color": "#ab63fa",
          "symbol": "circle"
         },
         "mode": "markers",
         "name": "Slovenia",
         "orientation": "v",
         "showlegend": true,
         "type": "scatter",
         "x": [
          9.4
         ],
         "xaxis": "x",
         "y": [
          100.4
         ],
         "yaxis": "y"
        },
        {
         "hovertemplate": "Countries and areas=Solomon Islands<br>Birth Rate=%{x}<br>Primary Enrollment=%{y}<extra></extra>",
         "legendgroup": "Solomon Islands",
         "marker": {
          "color": "#FFA15A",
          "symbol": "circle"
         },
         "mode": "markers",
         "name": "Solomon Islands",
         "orientation": "v",
         "showlegend": true,
         "type": "scatter",
         "x": [
          32.44
         ],
         "xaxis": "x",
         "y": [
          106.2
         ],
         "yaxis": "y"
        },
        {
         "hovertemplate": "Countries and areas=Somalia<br>Birth Rate=%{x}<br>Primary Enrollment=%{y}<extra></extra>",
         "legendgroup": "Somalia",
         "marker": {
          "color": "#19d3f3",
          "symbol": "circle"
         },
         "mode": "markers",
         "name": "Somalia",
         "orientation": "v",
         "showlegend": true,
         "type": "scatter",
         "x": [
          41.75
         ],
         "xaxis": "x",
         "y": [
          23.4
         ],
         "yaxis": "y"
        },
        {
         "hovertemplate": "Countries and areas=South Africa<br>Birth Rate=%{x}<br>Primary Enrollment=%{y}<extra></extra>",
         "legendgroup": "South Africa",
         "marker": {
          "color": "#FF6692",
          "symbol": "circle"
         },
         "mode": "markers",
         "name": "South Africa",
         "orientation": "v",
         "showlegend": true,
         "type": "scatter",
         "x": [
          20.51
         ],
         "xaxis": "x",
         "y": [
          100.9
         ],
         "yaxis": "y"
        },
        {
         "hovertemplate": "Countries and areas=South Sudan<br>Birth Rate=%{x}<br>Primary Enrollment=%{y}<extra></extra>",
         "legendgroup": "South Sudan",
         "marker": {
          "color": "#B6E880",
          "symbol": "circle"
         },
         "mode": "markers",
         "name": "South Sudan",
         "orientation": "v",
         "showlegend": true,
         "type": "scatter",
         "x": [
          35.01
         ],
         "xaxis": "x",
         "y": [
          73
         ],
         "yaxis": "y"
        },
        {
         "hovertemplate": "Countries and areas=Spain<br>Birth Rate=%{x}<br>Primary Enrollment=%{y}<extra></extra>",
         "legendgroup": "Spain",
         "marker": {
          "color": "#FF97FF",
          "symbol": "circle"
         },
         "mode": "markers",
         "name": "Spain",
         "orientation": "v",
         "showlegend": true,
         "type": "scatter",
         "x": [
          7.9
         ],
         "xaxis": "x",
         "y": [
          102.7
         ],
         "yaxis": "y"
        },
        {
         "hovertemplate": "Countries and areas=Sri Lanka<br>Birth Rate=%{x}<br>Primary Enrollment=%{y}<extra></extra>",
         "legendgroup": "Sri Lanka",
         "marker": {
          "color": "#FECB52",
          "symbol": "circle"
         },
         "mode": "markers",
         "name": "Sri Lanka",
         "orientation": "v",
         "showlegend": true,
         "type": "scatter",
         "x": [
          15.83
         ],
         "xaxis": "x",
         "y": [
          100.2
         ],
         "yaxis": "y"
        },
        {
         "hovertemplate": "Countries and areas=Palestinian National Authority<br>Birth Rate=%{x}<br>Primary Enrollment=%{y}<extra></extra>",
         "legendgroup": "Palestinian National Authority",
         "marker": {
          "color": "#636efa",
          "symbol": "circle"
         },
         "mode": "markers",
         "name": "Palestinian National Authority",
         "orientation": "v",
         "showlegend": true,
         "type": "scatter",
         "x": [
          0
         ],
         "xaxis": "x",
         "y": [
          0
         ],
         "yaxis": "y"
        },
        {
         "hovertemplate": "Countries and areas=Sudan<br>Birth Rate=%{x}<br>Primary Enrollment=%{y}<extra></extra>",
         "legendgroup": "Sudan",
         "marker": {
          "color": "#EF553B",
          "symbol": "circle"
         },
         "mode": "markers",
         "name": "Sudan",
         "orientation": "v",
         "showlegend": true,
         "type": "scatter",
         "x": [
          32.18
         ],
         "xaxis": "x",
         "y": [
          76.8
         ],
         "yaxis": "y"
        },
        {
         "hovertemplate": "Countries and areas=Suriname<br>Birth Rate=%{x}<br>Primary Enrollment=%{y}<extra></extra>",
         "legendgroup": "Suriname",
         "marker": {
          "color": "#00cc96",
          "symbol": "circle"
         },
         "mode": "markers",
         "name": "Suriname",
         "orientation": "v",
         "showlegend": true,
         "type": "scatter",
         "x": [
          18.54
         ],
         "xaxis": "x",
         "y": [
          108.8
         ],
         "yaxis": "y"
        },
        {
         "hovertemplate": "Countries and areas=Sweden<br>Birth Rate=%{x}<br>Primary Enrollment=%{y}<extra></extra>",
         "legendgroup": "Sweden",
         "marker": {
          "color": "#ab63fa",
          "symbol": "circle"
         },
         "mode": "markers",
         "name": "Sweden",
         "orientation": "v",
         "showlegend": true,
         "type": "scatter",
         "x": [
          11.4
         ],
         "xaxis": "x",
         "y": [
          126.6
         ],
         "yaxis": "y"
        },
        {
         "hovertemplate": "Countries and areas=Switzerland<br>Birth Rate=%{x}<br>Primary Enrollment=%{y}<extra></extra>",
         "legendgroup": "Switzerland",
         "marker": {
          "color": "#FFA15A",
          "symbol": "circle"
         },
         "mode": "markers",
         "name": "Switzerland",
         "orientation": "v",
         "showlegend": true,
         "type": "scatter",
         "x": [
          10
         ],
         "xaxis": "x",
         "y": [
          105.2
         ],
         "yaxis": "y"
        },
        {
         "hovertemplate": "Countries and areas=Syria<br>Birth Rate=%{x}<br>Primary Enrollment=%{y}<extra></extra>",
         "legendgroup": "Syria",
         "marker": {
          "color": "#19d3f3",
          "symbol": "circle"
         },
         "mode": "markers",
         "name": "Syria",
         "orientation": "v",
         "showlegend": true,
         "type": "scatter",
         "x": [
          23.69
         ],
         "xaxis": "x",
         "y": [
          81.7
         ],
         "yaxis": "y"
        },
        {
         "hovertemplate": "Countries and areas=Tajikistan<br>Birth Rate=%{x}<br>Primary Enrollment=%{y}<extra></extra>",
         "legendgroup": "Tajikistan",
         "marker": {
          "color": "#FF6692",
          "symbol": "circle"
         },
         "mode": "markers",
         "name": "Tajikistan",
         "orientation": "v",
         "showlegend": true,
         "type": "scatter",
         "x": [
          30.76
         ],
         "xaxis": "x",
         "y": [
          100.9
         ],
         "yaxis": "y"
        },
        {
         "hovertemplate": "Countries and areas=Thailand<br>Birth Rate=%{x}<br>Primary Enrollment=%{y}<extra></extra>",
         "legendgroup": "Thailand",
         "marker": {
          "color": "#B6E880",
          "symbol": "circle"
         },
         "mode": "markers",
         "name": "Thailand",
         "orientation": "v",
         "showlegend": true,
         "type": "scatter",
         "x": [
          10.34
         ],
         "xaxis": "x",
         "y": [
          99.8
         ],
         "yaxis": "y"
        },
        {
         "hovertemplate": "Countries and areas=East Timor<br>Birth Rate=%{x}<br>Primary Enrollment=%{y}<extra></extra>",
         "legendgroup": "East Timor",
         "marker": {
          "color": "#FF97FF",
          "symbol": "circle"
         },
         "mode": "markers",
         "name": "East Timor",
         "orientation": "v",
         "showlegend": true,
         "type": "scatter",
         "x": [
          29.42
         ],
         "xaxis": "x",
         "y": [
          115.3
         ],
         "yaxis": "y"
        },
        {
         "hovertemplate": "Countries and areas=Togo<br>Birth Rate=%{x}<br>Primary Enrollment=%{y}<extra></extra>",
         "legendgroup": "Togo",
         "marker": {
          "color": "#FECB52",
          "symbol": "circle"
         },
         "mode": "markers",
         "name": "Togo",
         "orientation": "v",
         "showlegend": true,
         "type": "scatter",
         "x": [
          33.11
         ],
         "xaxis": "x",
         "y": [
          123.8
         ],
         "yaxis": "y"
        },
        {
         "hovertemplate": "Countries and areas=Tokelau<br>Birth Rate=%{x}<br>Primary Enrollment=%{y}<extra></extra>",
         "legendgroup": "Tokelau",
         "marker": {
          "color": "#636efa",
          "symbol": "circle"
         },
         "mode": "markers",
         "name": "Tokelau",
         "orientation": "v",
         "showlegend": true,
         "type": "scatter",
         "x": [
          0
         ],
         "xaxis": "x",
         "y": [
          0
         ],
         "yaxis": "y"
        },
        {
         "hovertemplate": "Countries and areas=Tonga<br>Birth Rate=%{x}<br>Primary Enrollment=%{y}<extra></extra>",
         "legendgroup": "Tonga",
         "marker": {
          "color": "#EF553B",
          "symbol": "circle"
         },
         "mode": "markers",
         "name": "Tonga",
         "orientation": "v",
         "showlegend": true,
         "type": "scatter",
         "x": [
          24.3
         ],
         "xaxis": "x",
         "y": [
          116.3
         ],
         "yaxis": "y"
        },
        {
         "hovertemplate": "Countries and areas=Trinidad and Tobago<br>Birth Rate=%{x}<br>Primary Enrollment=%{y}<extra></extra>",
         "legendgroup": "Trinidad and Tobago",
         "marker": {
          "color": "#00cc96",
          "symbol": "circle"
         },
         "mode": "markers",
         "name": "Trinidad and Tobago",
         "orientation": "v",
         "showlegend": true,
         "type": "scatter",
         "x": [
          12.94
         ],
         "xaxis": "x",
         "y": [
          106.2
         ],
         "yaxis": "y"
        },
        {
         "hovertemplate": "Countries and areas=Tunisia<br>Birth Rate=%{x}<br>Primary Enrollment=%{y}<extra></extra>",
         "legendgroup": "Tunisia",
         "marker": {
          "color": "#ab63fa",
          "symbol": "circle"
         },
         "mode": "markers",
         "name": "Tunisia",
         "orientation": "v",
         "showlegend": true,
         "type": "scatter",
         "x": [
          17.56
         ],
         "xaxis": "x",
         "y": [
          115.4
         ],
         "yaxis": "y"
        },
        {
         "hovertemplate": "Countries and areas=Turkey<br>Birth Rate=%{x}<br>Primary Enrollment=%{y}<extra></extra>",
         "legendgroup": "Turkey",
         "marker": {
          "color": "#FFA15A",
          "symbol": "circle"
         },
         "mode": "markers",
         "name": "Turkey",
         "orientation": "v",
         "showlegend": true,
         "type": "scatter",
         "x": [
          16.03
         ],
         "xaxis": "x",
         "y": [
          93.2
         ],
         "yaxis": "y"
        },
        {
         "hovertemplate": "Countries and areas=Turkmenistan<br>Birth Rate=%{x}<br>Primary Enrollment=%{y}<extra></extra>",
         "legendgroup": "Turkmenistan",
         "marker": {
          "color": "#19d3f3",
          "symbol": "circle"
         },
         "mode": "markers",
         "name": "Turkmenistan",
         "orientation": "v",
         "showlegend": true,
         "type": "scatter",
         "x": [
          23.83
         ],
         "xaxis": "x",
         "y": [
          88.4
         ],
         "yaxis": "y"
        },
        {
         "hovertemplate": "Countries and areas=Turks and Caicos Islands<br>Birth Rate=%{x}<br>Primary Enrollment=%{y}<extra></extra>",
         "legendgroup": "Turks and Caicos Islands",
         "marker": {
          "color": "#FF6692",
          "symbol": "circle"
         },
         "mode": "markers",
         "name": "Turks and Caicos Islands",
         "orientation": "v",
         "showlegend": true,
         "type": "scatter",
         "x": [
          0
         ],
         "xaxis": "x",
         "y": [
          0
         ],
         "yaxis": "y"
        },
        {
         "hovertemplate": "Countries and areas=Tuvalu<br>Birth Rate=%{x}<br>Primary Enrollment=%{y}<extra></extra>",
         "legendgroup": "Tuvalu",
         "marker": {
          "color": "#B6E880",
          "symbol": "circle"
         },
         "mode": "markers",
         "name": "Tuvalu",
         "orientation": "v",
         "showlegend": true,
         "type": "scatter",
         "x": [
          0
         ],
         "xaxis": "x",
         "y": [
          0
         ],
         "yaxis": "y"
        },
        {
         "hovertemplate": "Countries and areas=Uganda<br>Birth Rate=%{x}<br>Primary Enrollment=%{y}<extra></extra>",
         "legendgroup": "Uganda",
         "marker": {
          "color": "#FF97FF",
          "symbol": "circle"
         },
         "mode": "markers",
         "name": "Uganda",
         "orientation": "v",
         "showlegend": true,
         "type": "scatter",
         "x": [
          38.14
         ],
         "xaxis": "x",
         "y": [
          102.7
         ],
         "yaxis": "y"
        },
        {
         "hovertemplate": "Countries and areas=Ukraine<br>Birth Rate=%{x}<br>Primary Enrollment=%{y}<extra></extra>",
         "legendgroup": "Ukraine",
         "marker": {
          "color": "#FECB52",
          "symbol": "circle"
         },
         "mode": "markers",
         "name": "Ukraine",
         "orientation": "v",
         "showlegend": true,
         "type": "scatter",
         "x": [
          8.7
         ],
         "xaxis": "x",
         "y": [
          99
         ],
         "yaxis": "y"
        },
        {
         "hovertemplate": "Countries and areas=United Arab Emirates<br>Birth Rate=%{x}<br>Primary Enrollment=%{y}<extra></extra>",
         "legendgroup": "United Arab Emirates",
         "marker": {
          "color": "#636efa",
          "symbol": "circle"
         },
         "mode": "markers",
         "name": "United Arab Emirates",
         "orientation": "v",
         "showlegend": true,
         "type": "scatter",
         "x": [
          10.33
         ],
         "xaxis": "x",
         "y": [
          108.4
         ],
         "yaxis": "y"
        },
        {
         "hovertemplate": "Countries and areas=United Kingdom<br>Birth Rate=%{x}<br>Primary Enrollment=%{y}<extra></extra>",
         "legendgroup": "United Kingdom",
         "marker": {
          "color": "#EF553B",
          "symbol": "circle"
         },
         "mode": "markers",
         "name": "United Kingdom",
         "orientation": "v",
         "showlegend": true,
         "type": "scatter",
         "x": [
          11
         ],
         "xaxis": "x",
         "y": [
          101.2
         ],
         "yaxis": "y"
        },
        {
         "hovertemplate": "Countries and areas=Tanzania<br>Birth Rate=%{x}<br>Primary Enrollment=%{y}<extra></extra>",
         "legendgroup": "Tanzania",
         "marker": {
          "color": "#00cc96",
          "symbol": "circle"
         },
         "mode": "markers",
         "name": "Tanzania",
         "orientation": "v",
         "showlegend": true,
         "type": "scatter",
         "x": [
          36.7
         ],
         "xaxis": "x",
         "y": [
          94.2
         ],
         "yaxis": "y"
        },
        {
         "hovertemplate": "Countries and areas=United States<br>Birth Rate=%{x}<br>Primary Enrollment=%{y}<extra></extra>",
         "legendgroup": "United States",
         "marker": {
          "color": "#ab63fa",
          "symbol": "circle"
         },
         "mode": "markers",
         "name": "United States",
         "orientation": "v",
         "showlegend": true,
         "type": "scatter",
         "x": [
          11.6
         ],
         "xaxis": "x",
         "y": [
          101.8
         ],
         "yaxis": "y"
        },
        {
         "hovertemplate": "Countries and areas=Uruguay<br>Birth Rate=%{x}<br>Primary Enrollment=%{y}<extra></extra>",
         "legendgroup": "Uruguay",
         "marker": {
          "color": "#FFA15A",
          "symbol": "circle"
         },
         "mode": "markers",
         "name": "Uruguay",
         "orientation": "v",
         "showlegend": true,
         "type": "scatter",
         "x": [
          13.86
         ],
         "xaxis": "x",
         "y": [
          108.5
         ],
         "yaxis": "y"
        },
        {
         "hovertemplate": "Countries and areas=Uzbekistan<br>Birth Rate=%{x}<br>Primary Enrollment=%{y}<extra></extra>",
         "legendgroup": "Uzbekistan",
         "marker": {
          "color": "#19d3f3",
          "symbol": "circle"
         },
         "mode": "markers",
         "name": "Uzbekistan",
         "orientation": "v",
         "showlegend": true,
         "type": "scatter",
         "x": [
          23.3
         ],
         "xaxis": "x",
         "y": [
          104.2
         ],
         "yaxis": "y"
        },
        {
         "hovertemplate": "Countries and areas=Vanuatu<br>Birth Rate=%{x}<br>Primary Enrollment=%{y}<extra></extra>",
         "legendgroup": "Vanuatu",
         "marker": {
          "color": "#FF6692",
          "symbol": "circle"
         },
         "mode": "markers",
         "name": "Vanuatu",
         "orientation": "v",
         "showlegend": true,
         "type": "scatter",
         "x": [
          29.6
         ],
         "xaxis": "x",
         "y": [
          109.3
         ],
         "yaxis": "y"
        },
        {
         "hovertemplate": "Countries and areas=Venezuela<br>Birth Rate=%{x}<br>Primary Enrollment=%{y}<extra></extra>",
         "legendgroup": "Venezuela",
         "marker": {
          "color": "#B6E880",
          "symbol": "circle"
         },
         "mode": "markers",
         "name": "Venezuela",
         "orientation": "v",
         "showlegend": true,
         "type": "scatter",
         "x": [
          17.88
         ],
         "xaxis": "x",
         "y": [
          97.2
         ],
         "yaxis": "y"
        },
        {
         "hovertemplate": "Countries and areas=Vietnam<br>Birth Rate=%{x}<br>Primary Enrollment=%{y}<extra></extra>",
         "legendgroup": "Vietnam",
         "marker": {
          "color": "#FF97FF",
          "symbol": "circle"
         },
         "mode": "markers",
         "name": "Vietnam",
         "orientation": "v",
         "showlegend": true,
         "type": "scatter",
         "x": [
          16.75
         ],
         "xaxis": "x",
         "y": [
          110.6
         ],
         "yaxis": "y"
        },
        {
         "hovertemplate": "Countries and areas=Yemen<br>Birth Rate=%{x}<br>Primary Enrollment=%{y}<extra></extra>",
         "legendgroup": "Yemen",
         "marker": {
          "color": "#FECB52",
          "symbol": "circle"
         },
         "mode": "markers",
         "name": "Yemen",
         "orientation": "v",
         "showlegend": true,
         "type": "scatter",
         "x": [
          30.45
         ],
         "xaxis": "x",
         "y": [
          93.6
         ],
         "yaxis": "y"
        },
        {
         "hovertemplate": "Countries and areas=Zambia<br>Birth Rate=%{x}<br>Primary Enrollment=%{y}<extra></extra>",
         "legendgroup": "Zambia",
         "marker": {
          "color": "#636efa",
          "symbol": "circle"
         },
         "mode": "markers",
         "name": "Zambia",
         "orientation": "v",
         "showlegend": true,
         "type": "scatter",
         "x": [
          36.19
         ],
         "xaxis": "x",
         "y": [
          98.7
         ],
         "yaxis": "y"
        },
        {
         "hovertemplate": "Countries and areas=Zimbabwe<br>Birth Rate=%{x}<br>Primary Enrollment=%{y}<extra></extra>",
         "legendgroup": "Zimbabwe",
         "marker": {
          "color": "#EF553B",
          "symbol": "circle"
         },
         "mode": "markers",
         "name": "Zimbabwe",
         "orientation": "v",
         "showlegend": true,
         "type": "scatter",
         "x": [
          30.68
         ],
         "xaxis": "x",
         "y": [
          109.9
         ],
         "yaxis": "y"
        }
       ],
       "layout": {
        "legend": {
         "title": {
          "text": "Countries and areas"
         },
         "tracegroupgap": 0
        },
        "template": {
         "data": {
          "bar": [
           {
            "error_x": {
             "color": "#2a3f5f"
            },
            "error_y": {
             "color": "#2a3f5f"
            },
            "marker": {
             "line": {
              "color": "#E5ECF6",
              "width": 0.5
             },
             "pattern": {
              "fillmode": "overlay",
              "size": 10,
              "solidity": 0.2
             }
            },
            "type": "bar"
           }
          ],
          "barpolar": [
           {
            "marker": {
             "line": {
              "color": "#E5ECF6",
              "width": 0.5
             },
             "pattern": {
              "fillmode": "overlay",
              "size": 10,
              "solidity": 0.2
             }
            },
            "type": "barpolar"
           }
          ],
          "carpet": [
           {
            "aaxis": {
             "endlinecolor": "#2a3f5f",
             "gridcolor": "white",
             "linecolor": "white",
             "minorgridcolor": "white",
             "startlinecolor": "#2a3f5f"
            },
            "baxis": {
             "endlinecolor": "#2a3f5f",
             "gridcolor": "white",
             "linecolor": "white",
             "minorgridcolor": "white",
             "startlinecolor": "#2a3f5f"
            },
            "type": "carpet"
           }
          ],
          "choropleth": [
           {
            "colorbar": {
             "outlinewidth": 0,
             "ticks": ""
            },
            "type": "choropleth"
           }
          ],
          "contour": [
           {
            "colorbar": {
             "outlinewidth": 0,
             "ticks": ""
            },
            "colorscale": [
             [
              0,
              "#0d0887"
             ],
             [
              0.1111111111111111,
              "#46039f"
             ],
             [
              0.2222222222222222,
              "#7201a8"
             ],
             [
              0.3333333333333333,
              "#9c179e"
             ],
             [
              0.4444444444444444,
              "#bd3786"
             ],
             [
              0.5555555555555556,
              "#d8576b"
             ],
             [
              0.6666666666666666,
              "#ed7953"
             ],
             [
              0.7777777777777778,
              "#fb9f3a"
             ],
             [
              0.8888888888888888,
              "#fdca26"
             ],
             [
              1,
              "#f0f921"
             ]
            ],
            "type": "contour"
           }
          ],
          "contourcarpet": [
           {
            "colorbar": {
             "outlinewidth": 0,
             "ticks": ""
            },
            "type": "contourcarpet"
           }
          ],
          "heatmap": [
           {
            "colorbar": {
             "outlinewidth": 0,
             "ticks": ""
            },
            "colorscale": [
             [
              0,
              "#0d0887"
             ],
             [
              0.1111111111111111,
              "#46039f"
             ],
             [
              0.2222222222222222,
              "#7201a8"
             ],
             [
              0.3333333333333333,
              "#9c179e"
             ],
             [
              0.4444444444444444,
              "#bd3786"
             ],
             [
              0.5555555555555556,
              "#d8576b"
             ],
             [
              0.6666666666666666,
              "#ed7953"
             ],
             [
              0.7777777777777778,
              "#fb9f3a"
             ],
             [
              0.8888888888888888,
              "#fdca26"
             ],
             [
              1,
              "#f0f921"
             ]
            ],
            "type": "heatmap"
           }
          ],
          "heatmapgl": [
           {
            "colorbar": {
             "outlinewidth": 0,
             "ticks": ""
            },
            "colorscale": [
             [
              0,
              "#0d0887"
             ],
             [
              0.1111111111111111,
              "#46039f"
             ],
             [
              0.2222222222222222,
              "#7201a8"
             ],
             [
              0.3333333333333333,
              "#9c179e"
             ],
             [
              0.4444444444444444,
              "#bd3786"
             ],
             [
              0.5555555555555556,
              "#d8576b"
             ],
             [
              0.6666666666666666,
              "#ed7953"
             ],
             [
              0.7777777777777778,
              "#fb9f3a"
             ],
             [
              0.8888888888888888,
              "#fdca26"
             ],
             [
              1,
              "#f0f921"
             ]
            ],
            "type": "heatmapgl"
           }
          ],
          "histogram": [
           {
            "marker": {
             "pattern": {
              "fillmode": "overlay",
              "size": 10,
              "solidity": 0.2
             }
            },
            "type": "histogram"
           }
          ],
          "histogram2d": [
           {
            "colorbar": {
             "outlinewidth": 0,
             "ticks": ""
            },
            "colorscale": [
             [
              0,
              "#0d0887"
             ],
             [
              0.1111111111111111,
              "#46039f"
             ],
             [
              0.2222222222222222,
              "#7201a8"
             ],
             [
              0.3333333333333333,
              "#9c179e"
             ],
             [
              0.4444444444444444,
              "#bd3786"
             ],
             [
              0.5555555555555556,
              "#d8576b"
             ],
             [
              0.6666666666666666,
              "#ed7953"
             ],
             [
              0.7777777777777778,
              "#fb9f3a"
             ],
             [
              0.8888888888888888,
              "#fdca26"
             ],
             [
              1,
              "#f0f921"
             ]
            ],
            "type": "histogram2d"
           }
          ],
          "histogram2dcontour": [
           {
            "colorbar": {
             "outlinewidth": 0,
             "ticks": ""
            },
            "colorscale": [
             [
              0,
              "#0d0887"
             ],
             [
              0.1111111111111111,
              "#46039f"
             ],
             [
              0.2222222222222222,
              "#7201a8"
             ],
             [
              0.3333333333333333,
              "#9c179e"
             ],
             [
              0.4444444444444444,
              "#bd3786"
             ],
             [
              0.5555555555555556,
              "#d8576b"
             ],
             [
              0.6666666666666666,
              "#ed7953"
             ],
             [
              0.7777777777777778,
              "#fb9f3a"
             ],
             [
              0.8888888888888888,
              "#fdca26"
             ],
             [
              1,
              "#f0f921"
             ]
            ],
            "type": "histogram2dcontour"
           }
          ],
          "mesh3d": [
           {
            "colorbar": {
             "outlinewidth": 0,
             "ticks": ""
            },
            "type": "mesh3d"
           }
          ],
          "parcoords": [
           {
            "line": {
             "colorbar": {
              "outlinewidth": 0,
              "ticks": ""
             }
            },
            "type": "parcoords"
           }
          ],
          "pie": [
           {
            "automargin": true,
            "type": "pie"
           }
          ],
          "scatter": [
           {
            "fillpattern": {
             "fillmode": "overlay",
             "size": 10,
             "solidity": 0.2
            },
            "type": "scatter"
           }
          ],
          "scatter3d": [
           {
            "line": {
             "colorbar": {
              "outlinewidth": 0,
              "ticks": ""
             }
            },
            "marker": {
             "colorbar": {
              "outlinewidth": 0,
              "ticks": ""
             }
            },
            "type": "scatter3d"
           }
          ],
          "scattercarpet": [
           {
            "marker": {
             "colorbar": {
              "outlinewidth": 0,
              "ticks": ""
             }
            },
            "type": "scattercarpet"
           }
          ],
          "scattergeo": [
           {
            "marker": {
             "colorbar": {
              "outlinewidth": 0,
              "ticks": ""
             }
            },
            "type": "scattergeo"
           }
          ],
          "scattergl": [
           {
            "marker": {
             "colorbar": {
              "outlinewidth": 0,
              "ticks": ""
             }
            },
            "type": "scattergl"
           }
          ],
          "scattermapbox": [
           {
            "marker": {
             "colorbar": {
              "outlinewidth": 0,
              "ticks": ""
             }
            },
            "type": "scattermapbox"
           }
          ],
          "scatterpolar": [
           {
            "marker": {
             "colorbar": {
              "outlinewidth": 0,
              "ticks": ""
             }
            },
            "type": "scatterpolar"
           }
          ],
          "scatterpolargl": [
           {
            "marker": {
             "colorbar": {
              "outlinewidth": 0,
              "ticks": ""
             }
            },
            "type": "scatterpolargl"
           }
          ],
          "scatterternary": [
           {
            "marker": {
             "colorbar": {
              "outlinewidth": 0,
              "ticks": ""
             }
            },
            "type": "scatterternary"
           }
          ],
          "surface": [
           {
            "colorbar": {
             "outlinewidth": 0,
             "ticks": ""
            },
            "colorscale": [
             [
              0,
              "#0d0887"
             ],
             [
              0.1111111111111111,
              "#46039f"
             ],
             [
              0.2222222222222222,
              "#7201a8"
             ],
             [
              0.3333333333333333,
              "#9c179e"
             ],
             [
              0.4444444444444444,
              "#bd3786"
             ],
             [
              0.5555555555555556,
              "#d8576b"
             ],
             [
              0.6666666666666666,
              "#ed7953"
             ],
             [
              0.7777777777777778,
              "#fb9f3a"
             ],
             [
              0.8888888888888888,
              "#fdca26"
             ],
             [
              1,
              "#f0f921"
             ]
            ],
            "type": "surface"
           }
          ],
          "table": [
           {
            "cells": {
             "fill": {
              "color": "#EBF0F8"
             },
             "line": {
              "color": "white"
             }
            },
            "header": {
             "fill": {
              "color": "#C8D4E3"
             },
             "line": {
              "color": "white"
             }
            },
            "type": "table"
           }
          ]
         },
         "layout": {
          "annotationdefaults": {
           "arrowcolor": "#2a3f5f",
           "arrowhead": 0,
           "arrowwidth": 1
          },
          "autotypenumbers": "strict",
          "coloraxis": {
           "colorbar": {
            "outlinewidth": 0,
            "ticks": ""
           }
          },
          "colorscale": {
           "diverging": [
            [
             0,
             "#8e0152"
            ],
            [
             0.1,
             "#c51b7d"
            ],
            [
             0.2,
             "#de77ae"
            ],
            [
             0.3,
             "#f1b6da"
            ],
            [
             0.4,
             "#fde0ef"
            ],
            [
             0.5,
             "#f7f7f7"
            ],
            [
             0.6,
             "#e6f5d0"
            ],
            [
             0.7,
             "#b8e186"
            ],
            [
             0.8,
             "#7fbc41"
            ],
            [
             0.9,
             "#4d9221"
            ],
            [
             1,
             "#276419"
            ]
           ],
           "sequential": [
            [
             0,
             "#0d0887"
            ],
            [
             0.1111111111111111,
             "#46039f"
            ],
            [
             0.2222222222222222,
             "#7201a8"
            ],
            [
             0.3333333333333333,
             "#9c179e"
            ],
            [
             0.4444444444444444,
             "#bd3786"
            ],
            [
             0.5555555555555556,
             "#d8576b"
            ],
            [
             0.6666666666666666,
             "#ed7953"
            ],
            [
             0.7777777777777778,
             "#fb9f3a"
            ],
            [
             0.8888888888888888,
             "#fdca26"
            ],
            [
             1,
             "#f0f921"
            ]
           ],
           "sequentialminus": [
            [
             0,
             "#0d0887"
            ],
            [
             0.1111111111111111,
             "#46039f"
            ],
            [
             0.2222222222222222,
             "#7201a8"
            ],
            [
             0.3333333333333333,
             "#9c179e"
            ],
            [
             0.4444444444444444,
             "#bd3786"
            ],
            [
             0.5555555555555556,
             "#d8576b"
            ],
            [
             0.6666666666666666,
             "#ed7953"
            ],
            [
             0.7777777777777778,
             "#fb9f3a"
            ],
            [
             0.8888888888888888,
             "#fdca26"
            ],
            [
             1,
             "#f0f921"
            ]
           ]
          },
          "colorway": [
           "#636efa",
           "#EF553B",
           "#00cc96",
           "#ab63fa",
           "#FFA15A",
           "#19d3f3",
           "#FF6692",
           "#B6E880",
           "#FF97FF",
           "#FECB52"
          ],
          "font": {
           "color": "#2a3f5f"
          },
          "geo": {
           "bgcolor": "white",
           "lakecolor": "white",
           "landcolor": "#E5ECF6",
           "showlakes": true,
           "showland": true,
           "subunitcolor": "white"
          },
          "hoverlabel": {
           "align": "left"
          },
          "hovermode": "closest",
          "mapbox": {
           "style": "light"
          },
          "paper_bgcolor": "white",
          "plot_bgcolor": "#E5ECF6",
          "polar": {
           "angularaxis": {
            "gridcolor": "white",
            "linecolor": "white",
            "ticks": ""
           },
           "bgcolor": "#E5ECF6",
           "radialaxis": {
            "gridcolor": "white",
            "linecolor": "white",
            "ticks": ""
           }
          },
          "scene": {
           "xaxis": {
            "backgroundcolor": "#E5ECF6",
            "gridcolor": "white",
            "gridwidth": 2,
            "linecolor": "white",
            "showbackground": true,
            "ticks": "",
            "zerolinecolor": "white"
           },
           "yaxis": {
            "backgroundcolor": "#E5ECF6",
            "gridcolor": "white",
            "gridwidth": 2,
            "linecolor": "white",
            "showbackground": true,
            "ticks": "",
            "zerolinecolor": "white"
           },
           "zaxis": {
            "backgroundcolor": "#E5ECF6",
            "gridcolor": "white",
            "gridwidth": 2,
            "linecolor": "white",
            "showbackground": true,
            "ticks": "",
            "zerolinecolor": "white"
           }
          },
          "shapedefaults": {
           "line": {
            "color": "#2a3f5f"
           }
          },
          "ternary": {
           "aaxis": {
            "gridcolor": "white",
            "linecolor": "white",
            "ticks": ""
           },
           "baxis": {
            "gridcolor": "white",
            "linecolor": "white",
            "ticks": ""
           },
           "bgcolor": "#E5ECF6",
           "caxis": {
            "gridcolor": "white",
            "linecolor": "white",
            "ticks": ""
           }
          },
          "title": {
           "x": 0.05
          },
          "xaxis": {
           "automargin": true,
           "gridcolor": "white",
           "linecolor": "white",
           "ticks": "",
           "title": {
            "standoff": 15
           },
           "zerolinecolor": "white",
           "zerolinewidth": 2
          },
          "yaxis": {
           "automargin": true,
           "gridcolor": "white",
           "linecolor": "white",
           "ticks": "",
           "title": {
            "standoff": 15
           },
           "zerolinecolor": "white",
           "zerolinewidth": 2
          }
         }
        },
        "title": {
         "text": "Birth Rate vs. Primary Education Enrollment"
        },
        "xaxis": {
         "anchor": "y",
         "domain": [
          0,
          1
         ],
         "title": {
          "text": "Birth Rate"
         }
        },
        "yaxis": {
         "anchor": "x",
         "domain": [
          0,
          1
         ],
         "title": {
          "text": "Primary Enrollment"
         }
        }
       }
      }
     },
     "metadata": {},
     "output_type": "display_data"
    }
   ],
   "source": [
    "fig8 = px.scatter(\n",
    "    data,\n",
    "    x='Birth_Rate',\n",
    "    y='Gross_Primary_Education_Enrollment',\n",
    "    color='Countries and areas',\n",
    "    title='Birth Rate vs. Primary Education Enrollment',\n",
    "    labels={\"Birth_Rate\": \"Birth Rate\", \"Gross_Primary_Education_Enrollment\": \"Primary Enrollment\"}\n",
    ")\n",
    "fig8.show()"
   ]
  },
  {
   "cell_type": "code",
   "execution_count": 16,
   "metadata": {},
   "outputs": [
    {
     "data": {
      "application/vnd.plotly.v1+json": {
       "config": {
        "plotlyServerURL": "https://plot.ly"
       },
       "data": [
        {
         "alignmentgroup": "True",
         "hovertemplate": "Countries and areas=%{x}<br>Tertiary Enrollment=%{y}<extra></extra>",
         "legendgroup": "",
         "marker": {
          "color": "#636efa",
          "pattern": {
           "shape": ""
          }
         },
         "name": "",
         "offsetgroup": "",
         "orientation": "v",
         "showlegend": false,
         "textposition": "auto",
         "type": "bar",
         "x": [
          "Greece",
          "Australia",
          "Grenada",
          "South Korea",
          "Argentina",
          "Spain",
          "Chile",
          "United States",
          "Finland",
          "Latvia",
          "Belarus",
          "Saint Kitts and Nevis",
          "Austria",
          "Netherlands",
          "Singapore",
          "Ukraine",
          "Norway",
          "New Zealand",
          "Russia",
          "Denmark",
          "Belgium",
          "Venezuela",
          "Slovenia",
          "Republic of Ireland",
          "Cyprus",
          "Lithuania",
          "Iceland",
          "Bulgaria",
          "Peru",
          "Germany",
          "Estonia",
          "Canada",
          "Iran",
          "Saudi Arabia",
          "Croatia",
          "Poland",
          "Serbia",
          "Sweden",
          "France",
          "Mongolia",
          "Barbados",
          "Czech Republic",
          "Portugal",
          "Georgia",
          "Israel",
          "Japan",
          "Uruguay",
          "Italy",
          "Kazakhstan",
          "Libya",
          "United Kingdom",
          "Dominican Republic",
          "Switzerland",
          "Montenegro",
          "Colombia",
          "Costa Rica",
          "Albania",
          "Palau",
          "Armenia",
          "Kuwait",
          "Malta",
          "Algeria",
          "Brazil",
          "China",
          "Bahrain",
          "Romania",
          "Thailand",
          "Hungary",
          "Panama",
          "Slovakia",
          "Malaysia",
          "Ecuador",
          "San Marino",
          "Cuba",
          "Kyrgyzstan",
          "Mauritius",
          "Mexico",
          "Syria",
          "Moldova",
          "Oman",
          "United Arab Emirates",
          "Indonesia",
          "Morocco",
          "Liechtenstein",
          "Philippines",
          "Egypt",
          "Paraguay",
          "Jordan",
          "Tunisia",
          "Brunei",
          "Tajikistan",
          "Maldives",
          "El Salvador",
          "Vietnam",
          "India",
          "Azerbaijan",
          "Jamaica",
          "North Korea",
          "Lebanon",
          "Honduras",
          "Botswana",
          "Antigua and Barbuda",
          "Belize",
          "Turkey",
          "Saint Vincent and the Grenadines",
          "Marshall Islands",
          "Cape Verde",
          "Bosnia and Herzegovina",
          "Namibia",
          "South Africa",
          "Guatemala",
          "Bangladesh",
          "Sri Lanka",
          "Luxembourg",
          "Myanmar",
          "Qatar",
          "East Timor",
          "Nicaragua",
          "Seychelles",
          "Sudan",
          "Iraq",
          "Fiji",
          "Ghana",
          "Bhutan",
          "The Bahamas",
          "Laos",
          "Togo",
          "Federated States of Micronesia",
          "Saint Lucia",
          "Cambodia",
          "Sï¿½ï¿½ï¿½ï¿½ï¿½ï¿½ï¿½ï¿",
          "Cameroon",
          "Senegal",
          "Republic of the Congo",
          "Suriname",
          "Nepal",
          "Benin",
          "Trinidad and Tobago",
          "Liberia",
          "Guyana",
          "Guinea",
          "Kenya",
          "Yemen",
          "Nigeria",
          "Lesotho",
          "Uzbekistan",
          "Zimbabwe",
          "Afghanistan",
          "Angola",
          "Ivory Coast",
          "Comoros",
          "Pakistan",
          "Gabon",
          "Ethiopia",
          "Turkmenistan",
          "Samoa",
          "Mozambique",
          "Dominica",
          "Rwanda",
          "Democratic Republic of the Congo",
          "Burkina Faso",
          "Tonga",
          "Burundi",
          "Madagascar",
          "Djibouti",
          "Mauritania",
          "Uganda",
          "Vanuatu",
          "Mali",
          "Niger",
          "Zambia",
          "Tanzania",
          "Eritrea",
          "Chad",
          "Central African Republic",
          "The Gambia",
          "Guinea0Bissau",
          "Somalia",
          "Sierra Leone",
          "Equatorial Guinea",
          "Papua New Guinea",
          "Haiti",
          "Malawi",
          "Andorra",
          "Anguilla",
          "Cook Islands",
          "Eswatini",
          "Bolivia",
          "British Virgin Islands",
          "Nauru",
          "Monaco",
          "Kiribati",
          "Vatican City",
          "Montserrat",
          "Niue",
          "North Macedonia",
          "South Sudan",
          "Solomon Islands",
          "Tokelau",
          "Palestinian National Authority",
          "Tuvalu",
          "Turks and Caicos Islands"
         ],
         "xaxis": "x",
         "y": [
          136.6,
          113.1,
          104.6,
          94.3,
          90,
          88.9,
          88.5,
          88.2,
          88.2,
          88.1,
          87.4,
          86.7,
          85.1,
          85,
          84.8,
          82.7,
          82,
          82,
          81.9,
          80.6,
          79.7,
          79.3,
          78.6,
          77.8,
          75.9,
          72.4,
          71.8,
          71,
          70.7,
          70.2,
          69.6,
          68.9,
          68.1,
          68,
          67.9,
          67.8,
          67.2,
          67,
          65.6,
          65.6,
          65.4,
          64.1,
          63.9,
          63.9,
          63.4,
          63.2,
          63.1,
          61.9,
          61.7,
          60.5,
          60,
          59.9,
          59.6,
          56.1,
          55.3,
          55.2,
          55,
          54.7,
          54.6,
          54.4,
          54.3,
          51.4,
          51.3,
          50.6,
          50.5,
          49.4,
          49.3,
          48.5,
          47.8,
          46.6,
          45.1,
          44.9,
          42.5,
          41.4,
          41.3,
          40.6,
          40.2,
          40.1,
          39.8,
          38,
          36.8,
          36.3,
          35.9,
          35.6,
          35.5,
          35.2,
          34.6,
          34.4,
          31.7,
          31.4,
          31.3,
          31.2,
          29.4,
          28.5,
          28.1,
          27.7,
          27.1,
          27,
          26.3,
          26.2,
          24.9,
          24.8,
          24.7,
          23.9,
          23.7,
          23.7,
          23.6,
          23.3,
          22.9,
          22.4,
          21.8,
          20.6,
          19.6,
          19.2,
          18.8,
          17.9,
          17.8,
          17.4,
          17.1,
          16.9,
          16.2,
          16.1,
          15.7,
          15.6,
          15.1,
          15,
          14.5,
          14.1,
          14.1,
          13.7,
          13.4,
          12.8,
          12.8,
          12.7,
          12.6,
          12.4,
          12.3,
          12,
          11.9,
          11.6,
          11.6,
          11.5,
          10.2,
          10.2,
          10.2,
          10.1,
          10,
          9.7,
          9.3,
          9.3,
          9,
          9,
          8.3,
          8.1,
          8,
          7.6,
          7.3,
          7.2,
          6.7,
          6.6,
          6.5,
          6.4,
          6.1,
          5.4,
          5.3,
          5,
          4.8,
          4.7,
          4.5,
          4.4,
          4.1,
          4,
          3.4,
          3.3,
          3,
          2.7,
          2.6,
          2.5,
          2,
          1.9,
          1.8,
          1.1,
          0.8,
          0,
          0,
          0,
          0,
          0,
          0,
          0,
          0,
          0,
          0,
          0,
          0,
          0,
          0,
          0,
          0,
          0,
          0,
          0
         ],
         "yaxis": "y"
        }
       ],
       "layout": {
        "barmode": "relative",
        "legend": {
         "tracegroupgap": 0
        },
        "template": {
         "data": {
          "bar": [
           {
            "error_x": {
             "color": "#2a3f5f"
            },
            "error_y": {
             "color": "#2a3f5f"
            },
            "marker": {
             "line": {
              "color": "#E5ECF6",
              "width": 0.5
             },
             "pattern": {
              "fillmode": "overlay",
              "size": 10,
              "solidity": 0.2
             }
            },
            "type": "bar"
           }
          ],
          "barpolar": [
           {
            "marker": {
             "line": {
              "color": "#E5ECF6",
              "width": 0.5
             },
             "pattern": {
              "fillmode": "overlay",
              "size": 10,
              "solidity": 0.2
             }
            },
            "type": "barpolar"
           }
          ],
          "carpet": [
           {
            "aaxis": {
             "endlinecolor": "#2a3f5f",
             "gridcolor": "white",
             "linecolor": "white",
             "minorgridcolor": "white",
             "startlinecolor": "#2a3f5f"
            },
            "baxis": {
             "endlinecolor": "#2a3f5f",
             "gridcolor": "white",
             "linecolor": "white",
             "minorgridcolor": "white",
             "startlinecolor": "#2a3f5f"
            },
            "type": "carpet"
           }
          ],
          "choropleth": [
           {
            "colorbar": {
             "outlinewidth": 0,
             "ticks": ""
            },
            "type": "choropleth"
           }
          ],
          "contour": [
           {
            "colorbar": {
             "outlinewidth": 0,
             "ticks": ""
            },
            "colorscale": [
             [
              0,
              "#0d0887"
             ],
             [
              0.1111111111111111,
              "#46039f"
             ],
             [
              0.2222222222222222,
              "#7201a8"
             ],
             [
              0.3333333333333333,
              "#9c179e"
             ],
             [
              0.4444444444444444,
              "#bd3786"
             ],
             [
              0.5555555555555556,
              "#d8576b"
             ],
             [
              0.6666666666666666,
              "#ed7953"
             ],
             [
              0.7777777777777778,
              "#fb9f3a"
             ],
             [
              0.8888888888888888,
              "#fdca26"
             ],
             [
              1,
              "#f0f921"
             ]
            ],
            "type": "contour"
           }
          ],
          "contourcarpet": [
           {
            "colorbar": {
             "outlinewidth": 0,
             "ticks": ""
            },
            "type": "contourcarpet"
           }
          ],
          "heatmap": [
           {
            "colorbar": {
             "outlinewidth": 0,
             "ticks": ""
            },
            "colorscale": [
             [
              0,
              "#0d0887"
             ],
             [
              0.1111111111111111,
              "#46039f"
             ],
             [
              0.2222222222222222,
              "#7201a8"
             ],
             [
              0.3333333333333333,
              "#9c179e"
             ],
             [
              0.4444444444444444,
              "#bd3786"
             ],
             [
              0.5555555555555556,
              "#d8576b"
             ],
             [
              0.6666666666666666,
              "#ed7953"
             ],
             [
              0.7777777777777778,
              "#fb9f3a"
             ],
             [
              0.8888888888888888,
              "#fdca26"
             ],
             [
              1,
              "#f0f921"
             ]
            ],
            "type": "heatmap"
           }
          ],
          "heatmapgl": [
           {
            "colorbar": {
             "outlinewidth": 0,
             "ticks": ""
            },
            "colorscale": [
             [
              0,
              "#0d0887"
             ],
             [
              0.1111111111111111,
              "#46039f"
             ],
             [
              0.2222222222222222,
              "#7201a8"
             ],
             [
              0.3333333333333333,
              "#9c179e"
             ],
             [
              0.4444444444444444,
              "#bd3786"
             ],
             [
              0.5555555555555556,
              "#d8576b"
             ],
             [
              0.6666666666666666,
              "#ed7953"
             ],
             [
              0.7777777777777778,
              "#fb9f3a"
             ],
             [
              0.8888888888888888,
              "#fdca26"
             ],
             [
              1,
              "#f0f921"
             ]
            ],
            "type": "heatmapgl"
           }
          ],
          "histogram": [
           {
            "marker": {
             "pattern": {
              "fillmode": "overlay",
              "size": 10,
              "solidity": 0.2
             }
            },
            "type": "histogram"
           }
          ],
          "histogram2d": [
           {
            "colorbar": {
             "outlinewidth": 0,
             "ticks": ""
            },
            "colorscale": [
             [
              0,
              "#0d0887"
             ],
             [
              0.1111111111111111,
              "#46039f"
             ],
             [
              0.2222222222222222,
              "#7201a8"
             ],
             [
              0.3333333333333333,
              "#9c179e"
             ],
             [
              0.4444444444444444,
              "#bd3786"
             ],
             [
              0.5555555555555556,
              "#d8576b"
             ],
             [
              0.6666666666666666,
              "#ed7953"
             ],
             [
              0.7777777777777778,
              "#fb9f3a"
             ],
             [
              0.8888888888888888,
              "#fdca26"
             ],
             [
              1,
              "#f0f921"
             ]
            ],
            "type": "histogram2d"
           }
          ],
          "histogram2dcontour": [
           {
            "colorbar": {
             "outlinewidth": 0,
             "ticks": ""
            },
            "colorscale": [
             [
              0,
              "#0d0887"
             ],
             [
              0.1111111111111111,
              "#46039f"
             ],
             [
              0.2222222222222222,
              "#7201a8"
             ],
             [
              0.3333333333333333,
              "#9c179e"
             ],
             [
              0.4444444444444444,
              "#bd3786"
             ],
             [
              0.5555555555555556,
              "#d8576b"
             ],
             [
              0.6666666666666666,
              "#ed7953"
             ],
             [
              0.7777777777777778,
              "#fb9f3a"
             ],
             [
              0.8888888888888888,
              "#fdca26"
             ],
             [
              1,
              "#f0f921"
             ]
            ],
            "type": "histogram2dcontour"
           }
          ],
          "mesh3d": [
           {
            "colorbar": {
             "outlinewidth": 0,
             "ticks": ""
            },
            "type": "mesh3d"
           }
          ],
          "parcoords": [
           {
            "line": {
             "colorbar": {
              "outlinewidth": 0,
              "ticks": ""
             }
            },
            "type": "parcoords"
           }
          ],
          "pie": [
           {
            "automargin": true,
            "type": "pie"
           }
          ],
          "scatter": [
           {
            "fillpattern": {
             "fillmode": "overlay",
             "size": 10,
             "solidity": 0.2
            },
            "type": "scatter"
           }
          ],
          "scatter3d": [
           {
            "line": {
             "colorbar": {
              "outlinewidth": 0,
              "ticks": ""
             }
            },
            "marker": {
             "colorbar": {
              "outlinewidth": 0,
              "ticks": ""
             }
            },
            "type": "scatter3d"
           }
          ],
          "scattercarpet": [
           {
            "marker": {
             "colorbar": {
              "outlinewidth": 0,
              "ticks": ""
             }
            },
            "type": "scattercarpet"
           }
          ],
          "scattergeo": [
           {
            "marker": {
             "colorbar": {
              "outlinewidth": 0,
              "ticks": ""
             }
            },
            "type": "scattergeo"
           }
          ],
          "scattergl": [
           {
            "marker": {
             "colorbar": {
              "outlinewidth": 0,
              "ticks": ""
             }
            },
            "type": "scattergl"
           }
          ],
          "scattermapbox": [
           {
            "marker": {
             "colorbar": {
              "outlinewidth": 0,
              "ticks": ""
             }
            },
            "type": "scattermapbox"
           }
          ],
          "scatterpolar": [
           {
            "marker": {
             "colorbar": {
              "outlinewidth": 0,
              "ticks": ""
             }
            },
            "type": "scatterpolar"
           }
          ],
          "scatterpolargl": [
           {
            "marker": {
             "colorbar": {
              "outlinewidth": 0,
              "ticks": ""
             }
            },
            "type": "scatterpolargl"
           }
          ],
          "scatterternary": [
           {
            "marker": {
             "colorbar": {
              "outlinewidth": 0,
              "ticks": ""
             }
            },
            "type": "scatterternary"
           }
          ],
          "surface": [
           {
            "colorbar": {
             "outlinewidth": 0,
             "ticks": ""
            },
            "colorscale": [
             [
              0,
              "#0d0887"
             ],
             [
              0.1111111111111111,
              "#46039f"
             ],
             [
              0.2222222222222222,
              "#7201a8"
             ],
             [
              0.3333333333333333,
              "#9c179e"
             ],
             [
              0.4444444444444444,
              "#bd3786"
             ],
             [
              0.5555555555555556,
              "#d8576b"
             ],
             [
              0.6666666666666666,
              "#ed7953"
             ],
             [
              0.7777777777777778,
              "#fb9f3a"
             ],
             [
              0.8888888888888888,
              "#fdca26"
             ],
             [
              1,
              "#f0f921"
             ]
            ],
            "type": "surface"
           }
          ],
          "table": [
           {
            "cells": {
             "fill": {
              "color": "#EBF0F8"
             },
             "line": {
              "color": "white"
             }
            },
            "header": {
             "fill": {
              "color": "#C8D4E3"
             },
             "line": {
              "color": "white"
             }
            },
            "type": "table"
           }
          ]
         },
         "layout": {
          "annotationdefaults": {
           "arrowcolor": "#2a3f5f",
           "arrowhead": 0,
           "arrowwidth": 1
          },
          "autotypenumbers": "strict",
          "coloraxis": {
           "colorbar": {
            "outlinewidth": 0,
            "ticks": ""
           }
          },
          "colorscale": {
           "diverging": [
            [
             0,
             "#8e0152"
            ],
            [
             0.1,
             "#c51b7d"
            ],
            [
             0.2,
             "#de77ae"
            ],
            [
             0.3,
             "#f1b6da"
            ],
            [
             0.4,
             "#fde0ef"
            ],
            [
             0.5,
             "#f7f7f7"
            ],
            [
             0.6,
             "#e6f5d0"
            ],
            [
             0.7,
             "#b8e186"
            ],
            [
             0.8,
             "#7fbc41"
            ],
            [
             0.9,
             "#4d9221"
            ],
            [
             1,
             "#276419"
            ]
           ],
           "sequential": [
            [
             0,
             "#0d0887"
            ],
            [
             0.1111111111111111,
             "#46039f"
            ],
            [
             0.2222222222222222,
             "#7201a8"
            ],
            [
             0.3333333333333333,
             "#9c179e"
            ],
            [
             0.4444444444444444,
             "#bd3786"
            ],
            [
             0.5555555555555556,
             "#d8576b"
            ],
            [
             0.6666666666666666,
             "#ed7953"
            ],
            [
             0.7777777777777778,
             "#fb9f3a"
            ],
            [
             0.8888888888888888,
             "#fdca26"
            ],
            [
             1,
             "#f0f921"
            ]
           ],
           "sequentialminus": [
            [
             0,
             "#0d0887"
            ],
            [
             0.1111111111111111,
             "#46039f"
            ],
            [
             0.2222222222222222,
             "#7201a8"
            ],
            [
             0.3333333333333333,
             "#9c179e"
            ],
            [
             0.4444444444444444,
             "#bd3786"
            ],
            [
             0.5555555555555556,
             "#d8576b"
            ],
            [
             0.6666666666666666,
             "#ed7953"
            ],
            [
             0.7777777777777778,
             "#fb9f3a"
            ],
            [
             0.8888888888888888,
             "#fdca26"
            ],
            [
             1,
             "#f0f921"
            ]
           ]
          },
          "colorway": [
           "#636efa",
           "#EF553B",
           "#00cc96",
           "#ab63fa",
           "#FFA15A",
           "#19d3f3",
           "#FF6692",
           "#B6E880",
           "#FF97FF",
           "#FECB52"
          ],
          "font": {
           "color": "#2a3f5f"
          },
          "geo": {
           "bgcolor": "white",
           "lakecolor": "white",
           "landcolor": "#E5ECF6",
           "showlakes": true,
           "showland": true,
           "subunitcolor": "white"
          },
          "hoverlabel": {
           "align": "left"
          },
          "hovermode": "closest",
          "mapbox": {
           "style": "light"
          },
          "paper_bgcolor": "white",
          "plot_bgcolor": "#E5ECF6",
          "polar": {
           "angularaxis": {
            "gridcolor": "white",
            "linecolor": "white",
            "ticks": ""
           },
           "bgcolor": "#E5ECF6",
           "radialaxis": {
            "gridcolor": "white",
            "linecolor": "white",
            "ticks": ""
           }
          },
          "scene": {
           "xaxis": {
            "backgroundcolor": "#E5ECF6",
            "gridcolor": "white",
            "gridwidth": 2,
            "linecolor": "white",
            "showbackground": true,
            "ticks": "",
            "zerolinecolor": "white"
           },
           "yaxis": {
            "backgroundcolor": "#E5ECF6",
            "gridcolor": "white",
            "gridwidth": 2,
            "linecolor": "white",
            "showbackground": true,
            "ticks": "",
            "zerolinecolor": "white"
           },
           "zaxis": {
            "backgroundcolor": "#E5ECF6",
            "gridcolor": "white",
            "gridwidth": 2,
            "linecolor": "white",
            "showbackground": true,
            "ticks": "",
            "zerolinecolor": "white"
           }
          },
          "shapedefaults": {
           "line": {
            "color": "#2a3f5f"
           }
          },
          "ternary": {
           "aaxis": {
            "gridcolor": "white",
            "linecolor": "white",
            "ticks": ""
           },
           "baxis": {
            "gridcolor": "white",
            "linecolor": "white",
            "ticks": ""
           },
           "bgcolor": "#E5ECF6",
           "caxis": {
            "gridcolor": "white",
            "linecolor": "white",
            "ticks": ""
           }
          },
          "title": {
           "x": 0.05
          },
          "xaxis": {
           "automargin": true,
           "gridcolor": "white",
           "linecolor": "white",
           "ticks": "",
           "title": {
            "standoff": 15
           },
           "zerolinecolor": "white",
           "zerolinewidth": 2
          },
          "yaxis": {
           "automargin": true,
           "gridcolor": "white",
           "linecolor": "white",
           "ticks": "",
           "title": {
            "standoff": 15
           },
           "zerolinecolor": "white",
           "zerolinewidth": 2
          }
         }
        },
        "title": {
         "text": "Tertiary Education Enrollment by Country"
        },
        "xaxis": {
         "anchor": "y",
         "domain": [
          0,
          1
         ],
         "title": {
          "text": "Countries and areas"
         }
        },
        "yaxis": {
         "anchor": "x",
         "domain": [
          0,
          1
         ],
         "title": {
          "text": "Tertiary Enrollment"
         }
        }
       }
      }
     },
     "metadata": {},
     "output_type": "display_data"
    }
   ],
   "source": [
    "fig9 = px.bar(\n",
    "    data.sort_values('Gross_Tertiary_Education_Enrollment', ascending=False),\n",
    "    x='Countries and areas',\n",
    "    y='Gross_Tertiary_Education_Enrollment',\n",
    "    title='Tertiary Education Enrollment by Country',\n",
    "    labels={\"Gross_Tertiary_Education_Enrollment\": \"Tertiary Enrollment\"}\n",
    ")\n",
    "fig9.show()"
   ]
  },
  {
   "cell_type": "code",
   "execution_count": 17,
   "metadata": {},
   "outputs": [
    {
     "data": {
      "application/vnd.plotly.v1+json": {
       "config": {
        "plotlyServerURL": "https://plot.ly"
       },
       "data": [
        {
         "alignmentgroup": "True",
         "hovertemplate": "Countries and areas=%{x}<br>Unemployment Rate=%{y}<extra></extra>",
         "legendgroup": "",
         "marker": {
          "color": "#636efa",
          "pattern": {
           "shape": ""
          }
         },
         "name": "",
         "offsetgroup": "",
         "orientation": "v",
         "showlegend": false,
         "textposition": "auto",
         "type": "bar",
         "x": [
          "South Africa",
          "Lesotho",
          "Saint Lucia",
          "Namibia",
          "Gabon",
          "Saint Vincent and the Grenadines",
          "Libya",
          "Bosnia and Herzegovina",
          "Botswana",
          "Greece",
          "Armenia",
          "Sudan",
          "Tunisia",
          "Montenegro",
          "Jordan",
          "United States",
          "Georgia",
          "Spain",
          "Haiti",
          "Turkey",
          "Sï¿½ï¿½ï¿½ï¿½ï¿½ï¿½ï¿½ï¿",
          "Yemen",
          "Iraq",
          "Serbia",
          "Albania",
          "Cape Verde",
          "South Sudan",
          "Brazil",
          "Guyana",
          "Costa Rica",
          "Algeria",
          "Zambia",
          "Iran",
          "Somalia",
          "Afghanistan",
          "Tajikistan",
          "Egypt",
          "The Bahamas",
          "Barbados",
          "Djibouti",
          "Italy",
          "Argentina",
          "Colombia",
          "Mauritania",
          "Republic of the Congo",
          "Brunei",
          "The Gambia",
          "Morocco",
          "Ukraine",
          "Venezuela",
          "Uruguay",
          "France",
          "Syria",
          "Samoa",
          "Nigeria",
          "Jamaica",
          "Suriname",
          "Cyprus",
          "Mali",
          "Chile",
          "Croatia",
          "Angola",
          "Nicaragua",
          "Mauritius",
          "Senegal",
          "Finland",
          "Latvia",
          "Sweden",
          "Equatorial Guinea",
          "Belize",
          "Lithuania",
          "Portugal",
          "Kyrgyzstan",
          "Burkina Faso",
          "Lebanon",
          "Maldives",
          "Mongolia",
          "Saudi Arabia",
          "Uzbekistan",
          "Dominican Republic",
          "Malawi",
          "Belgium",
          "Slovakia",
          "Canada",
          "Azerbaijan",
          "Moldova",
          "Honduras",
          "Luxembourg",
          "India",
          "Australia",
          "Eritrea",
          "Estonia",
          "Zimbabwe",
          "Republic of Ireland",
          "Denmark",
          "Paraguay",
          "Indonesia",
          "Austria",
          "Kazakhstan",
          "Russia",
          "Belarus",
          "Switzerland",
          "East Timor",
          "Pakistan",
          "Sierra Leone",
          "Vanuatu",
          "Bulgaria",
          "Comoros",
          "Ghana",
          "China",
          "Guinea",
          "Democratic Republic of the Congo",
          "Slovenia",
          "Sri Lanka",
          "Bangladesh",
          "South Korea",
          "El Salvador",
          "Singapore",
          "Fiji",
          "New Zealand",
          "Romania",
          "Ecuador",
          "Turkmenistan",
          "Panama",
          "Israel",
          "United Kingdom",
          "Central African Republic",
          "Bolivia",
          "Poland",
          "Malta",
          "Mexico",
          "Hungary",
          "Cameroon",
          "Norway",
          "Ivory Coast",
          "Malaysia",
          "Peru",
          "Mozambique",
          "Netherlands",
          "Germany",
          "Iceland",
          "Liberia",
          "North Korea",
          "Trinidad and Tobago",
          "Oman",
          "Kenya",
          "Guinea0Bissau",
          "Guatemala",
          "Papua New Guinea",
          "United Arab Emirates",
          "Bhutan",
          "Japan",
          "Benin",
          "Kuwait",
          "Philippines",
          "Ethiopia",
          "Togo",
          "Vietnam",
          "Tanzania",
          "Czech Republic",
          "Chad",
          "Uganda",
          "Madagascar",
          "Cuba",
          "Myanmar",
          "Burundi",
          "Nepal",
          "Tonga",
          "Rwanda",
          "Thailand",
          "Bahrain",
          "Cambodia",
          "Laos",
          "Solomon Islands",
          "Niger",
          "Qatar",
          "Anguilla",
          "Antigua and Barbuda",
          "Grenada",
          "Eswatini",
          "Dominica",
          "Cook Islands",
          "British Virgin Islands",
          "Andorra",
          "Liechtenstein",
          "Vatican City",
          "Palau",
          "North Macedonia",
          "Niue",
          "Nauru",
          "Marshall Islands",
          "Federated States of Micronesia",
          "Monaco",
          "Montserrat",
          "Kiribati",
          "San Marino",
          "Saint Kitts and Nevis",
          "Seychelles",
          "Tokelau",
          "Palestinian National Authority",
          "Tuvalu",
          "Turks and Caicos Islands"
         ],
         "xaxis": "x",
         "y": [
          28.18,
          23.41,
          20.71,
          20.27,
          20,
          18.88,
          18.56,
          18.42,
          18.19,
          17.24,
          16.99,
          16.53,
          16.02,
          14.88,
          14.72,
          14.7,
          14.4,
          13.96,
          13.78,
          13.49,
          13.37,
          12.91,
          12.82,
          12.69,
          12.33,
          12.25,
          12.24,
          12.08,
          11.85,
          11.85,
          11.7,
          11.43,
          11.38,
          11.35,
          11.12,
          11.02,
          10.76,
          10.36,
          10.33,
          10.3,
          9.89,
          9.79,
          9.71,
          9.55,
          9.47,
          9.12,
          9.06,
          9.02,
          8.88,
          8.8,
          8.73,
          8.43,
          8.37,
          8.36,
          8.1,
          8,
          7.33,
          7.27,
          7.22,
          7.09,
          6.93,
          6.89,
          6.84,
          6.67,
          6.6,
          6.59,
          6.52,
          6.48,
          6.43,
          6.41,
          6.35,
          6.33,
          6.33,
          6.26,
          6.23,
          6.14,
          6.01,
          5.93,
          5.92,
          5.84,
          5.65,
          5.59,
          5.56,
          5.56,
          5.51,
          5.47,
          5.39,
          5.36,
          5.36,
          5.27,
          5.14,
          5.11,
          4.95,
          4.93,
          4.91,
          4.81,
          4.69,
          4.67,
          4.59,
          4.59,
          4.59,
          4.58,
          4.55,
          4.45,
          4.43,
          4.39,
          4.34,
          4.34,
          4.33,
          4.32,
          4.3,
          4.24,
          4.2,
          4.2,
          4.19,
          4.15,
          4.11,
          4.11,
          4.1,
          4.07,
          3.98,
          3.97,
          3.91,
          3.9,
          3.86,
          3.85,
          3.68,
          3.5,
          3.47,
          3.47,
          3.42,
          3.4,
          3.38,
          3.35,
          3.32,
          3.32,
          3.31,
          3.24,
          3.2,
          3.04,
          2.84,
          2.81,
          2.74,
          2.69,
          2.67,
          2.64,
          2.47,
          2.46,
          2.46,
          2.35,
          2.34,
          2.29,
          2.23,
          2.18,
          2.15,
          2.08,
          2.04,
          2.01,
          1.98,
          1.93,
          1.89,
          1.84,
          1.76,
          1.64,
          1.58,
          1.43,
          1.41,
          1.12,
          1.03,
          0.75,
          0.71,
          0.68,
          0.63,
          0.58,
          0.47,
          0.09,
          0,
          0,
          0,
          0,
          0,
          0,
          0,
          0,
          0,
          0,
          0,
          0,
          0,
          0,
          0,
          0,
          0,
          0,
          0,
          0,
          0,
          0,
          0,
          0,
          0,
          0
         ],
         "yaxis": "y"
        }
       ],
       "layout": {
        "barmode": "relative",
        "legend": {
         "tracegroupgap": 0
        },
        "template": {
         "data": {
          "bar": [
           {
            "error_x": {
             "color": "#2a3f5f"
            },
            "error_y": {
             "color": "#2a3f5f"
            },
            "marker": {
             "line": {
              "color": "#E5ECF6",
              "width": 0.5
             },
             "pattern": {
              "fillmode": "overlay",
              "size": 10,
              "solidity": 0.2
             }
            },
            "type": "bar"
           }
          ],
          "barpolar": [
           {
            "marker": {
             "line": {
              "color": "#E5ECF6",
              "width": 0.5
             },
             "pattern": {
              "fillmode": "overlay",
              "size": 10,
              "solidity": 0.2
             }
            },
            "type": "barpolar"
           }
          ],
          "carpet": [
           {
            "aaxis": {
             "endlinecolor": "#2a3f5f",
             "gridcolor": "white",
             "linecolor": "white",
             "minorgridcolor": "white",
             "startlinecolor": "#2a3f5f"
            },
            "baxis": {
             "endlinecolor": "#2a3f5f",
             "gridcolor": "white",
             "linecolor": "white",
             "minorgridcolor": "white",
             "startlinecolor": "#2a3f5f"
            },
            "type": "carpet"
           }
          ],
          "choropleth": [
           {
            "colorbar": {
             "outlinewidth": 0,
             "ticks": ""
            },
            "type": "choropleth"
           }
          ],
          "contour": [
           {
            "colorbar": {
             "outlinewidth": 0,
             "ticks": ""
            },
            "colorscale": [
             [
              0,
              "#0d0887"
             ],
             [
              0.1111111111111111,
              "#46039f"
             ],
             [
              0.2222222222222222,
              "#7201a8"
             ],
             [
              0.3333333333333333,
              "#9c179e"
             ],
             [
              0.4444444444444444,
              "#bd3786"
             ],
             [
              0.5555555555555556,
              "#d8576b"
             ],
             [
              0.6666666666666666,
              "#ed7953"
             ],
             [
              0.7777777777777778,
              "#fb9f3a"
             ],
             [
              0.8888888888888888,
              "#fdca26"
             ],
             [
              1,
              "#f0f921"
             ]
            ],
            "type": "contour"
           }
          ],
          "contourcarpet": [
           {
            "colorbar": {
             "outlinewidth": 0,
             "ticks": ""
            },
            "type": "contourcarpet"
           }
          ],
          "heatmap": [
           {
            "colorbar": {
             "outlinewidth": 0,
             "ticks": ""
            },
            "colorscale": [
             [
              0,
              "#0d0887"
             ],
             [
              0.1111111111111111,
              "#46039f"
             ],
             [
              0.2222222222222222,
              "#7201a8"
             ],
             [
              0.3333333333333333,
              "#9c179e"
             ],
             [
              0.4444444444444444,
              "#bd3786"
             ],
             [
              0.5555555555555556,
              "#d8576b"
             ],
             [
              0.6666666666666666,
              "#ed7953"
             ],
             [
              0.7777777777777778,
              "#fb9f3a"
             ],
             [
              0.8888888888888888,
              "#fdca26"
             ],
             [
              1,
              "#f0f921"
             ]
            ],
            "type": "heatmap"
           }
          ],
          "heatmapgl": [
           {
            "colorbar": {
             "outlinewidth": 0,
             "ticks": ""
            },
            "colorscale": [
             [
              0,
              "#0d0887"
             ],
             [
              0.1111111111111111,
              "#46039f"
             ],
             [
              0.2222222222222222,
              "#7201a8"
             ],
             [
              0.3333333333333333,
              "#9c179e"
             ],
             [
              0.4444444444444444,
              "#bd3786"
             ],
             [
              0.5555555555555556,
              "#d8576b"
             ],
             [
              0.6666666666666666,
              "#ed7953"
             ],
             [
              0.7777777777777778,
              "#fb9f3a"
             ],
             [
              0.8888888888888888,
              "#fdca26"
             ],
             [
              1,
              "#f0f921"
             ]
            ],
            "type": "heatmapgl"
           }
          ],
          "histogram": [
           {
            "marker": {
             "pattern": {
              "fillmode": "overlay",
              "size": 10,
              "solidity": 0.2
             }
            },
            "type": "histogram"
           }
          ],
          "histogram2d": [
           {
            "colorbar": {
             "outlinewidth": 0,
             "ticks": ""
            },
            "colorscale": [
             [
              0,
              "#0d0887"
             ],
             [
              0.1111111111111111,
              "#46039f"
             ],
             [
              0.2222222222222222,
              "#7201a8"
             ],
             [
              0.3333333333333333,
              "#9c179e"
             ],
             [
              0.4444444444444444,
              "#bd3786"
             ],
             [
              0.5555555555555556,
              "#d8576b"
             ],
             [
              0.6666666666666666,
              "#ed7953"
             ],
             [
              0.7777777777777778,
              "#fb9f3a"
             ],
             [
              0.8888888888888888,
              "#fdca26"
             ],
             [
              1,
              "#f0f921"
             ]
            ],
            "type": "histogram2d"
           }
          ],
          "histogram2dcontour": [
           {
            "colorbar": {
             "outlinewidth": 0,
             "ticks": ""
            },
            "colorscale": [
             [
              0,
              "#0d0887"
             ],
             [
              0.1111111111111111,
              "#46039f"
             ],
             [
              0.2222222222222222,
              "#7201a8"
             ],
             [
              0.3333333333333333,
              "#9c179e"
             ],
             [
              0.4444444444444444,
              "#bd3786"
             ],
             [
              0.5555555555555556,
              "#d8576b"
             ],
             [
              0.6666666666666666,
              "#ed7953"
             ],
             [
              0.7777777777777778,
              "#fb9f3a"
             ],
             [
              0.8888888888888888,
              "#fdca26"
             ],
             [
              1,
              "#f0f921"
             ]
            ],
            "type": "histogram2dcontour"
           }
          ],
          "mesh3d": [
           {
            "colorbar": {
             "outlinewidth": 0,
             "ticks": ""
            },
            "type": "mesh3d"
           }
          ],
          "parcoords": [
           {
            "line": {
             "colorbar": {
              "outlinewidth": 0,
              "ticks": ""
             }
            },
            "type": "parcoords"
           }
          ],
          "pie": [
           {
            "automargin": true,
            "type": "pie"
           }
          ],
          "scatter": [
           {
            "fillpattern": {
             "fillmode": "overlay",
             "size": 10,
             "solidity": 0.2
            },
            "type": "scatter"
           }
          ],
          "scatter3d": [
           {
            "line": {
             "colorbar": {
              "outlinewidth": 0,
              "ticks": ""
             }
            },
            "marker": {
             "colorbar": {
              "outlinewidth": 0,
              "ticks": ""
             }
            },
            "type": "scatter3d"
           }
          ],
          "scattercarpet": [
           {
            "marker": {
             "colorbar": {
              "outlinewidth": 0,
              "ticks": ""
             }
            },
            "type": "scattercarpet"
           }
          ],
          "scattergeo": [
           {
            "marker": {
             "colorbar": {
              "outlinewidth": 0,
              "ticks": ""
             }
            },
            "type": "scattergeo"
           }
          ],
          "scattergl": [
           {
            "marker": {
             "colorbar": {
              "outlinewidth": 0,
              "ticks": ""
             }
            },
            "type": "scattergl"
           }
          ],
          "scattermapbox": [
           {
            "marker": {
             "colorbar": {
              "outlinewidth": 0,
              "ticks": ""
             }
            },
            "type": "scattermapbox"
           }
          ],
          "scatterpolar": [
           {
            "marker": {
             "colorbar": {
              "outlinewidth": 0,
              "ticks": ""
             }
            },
            "type": "scatterpolar"
           }
          ],
          "scatterpolargl": [
           {
            "marker": {
             "colorbar": {
              "outlinewidth": 0,
              "ticks": ""
             }
            },
            "type": "scatterpolargl"
           }
          ],
          "scatterternary": [
           {
            "marker": {
             "colorbar": {
              "outlinewidth": 0,
              "ticks": ""
             }
            },
            "type": "scatterternary"
           }
          ],
          "surface": [
           {
            "colorbar": {
             "outlinewidth": 0,
             "ticks": ""
            },
            "colorscale": [
             [
              0,
              "#0d0887"
             ],
             [
              0.1111111111111111,
              "#46039f"
             ],
             [
              0.2222222222222222,
              "#7201a8"
             ],
             [
              0.3333333333333333,
              "#9c179e"
             ],
             [
              0.4444444444444444,
              "#bd3786"
             ],
             [
              0.5555555555555556,
              "#d8576b"
             ],
             [
              0.6666666666666666,
              "#ed7953"
             ],
             [
              0.7777777777777778,
              "#fb9f3a"
             ],
             [
              0.8888888888888888,
              "#fdca26"
             ],
             [
              1,
              "#f0f921"
             ]
            ],
            "type": "surface"
           }
          ],
          "table": [
           {
            "cells": {
             "fill": {
              "color": "#EBF0F8"
             },
             "line": {
              "color": "white"
             }
            },
            "header": {
             "fill": {
              "color": "#C8D4E3"
             },
             "line": {
              "color": "white"
             }
            },
            "type": "table"
           }
          ]
         },
         "layout": {
          "annotationdefaults": {
           "arrowcolor": "#2a3f5f",
           "arrowhead": 0,
           "arrowwidth": 1
          },
          "autotypenumbers": "strict",
          "coloraxis": {
           "colorbar": {
            "outlinewidth": 0,
            "ticks": ""
           }
          },
          "colorscale": {
           "diverging": [
            [
             0,
             "#8e0152"
            ],
            [
             0.1,
             "#c51b7d"
            ],
            [
             0.2,
             "#de77ae"
            ],
            [
             0.3,
             "#f1b6da"
            ],
            [
             0.4,
             "#fde0ef"
            ],
            [
             0.5,
             "#f7f7f7"
            ],
            [
             0.6,
             "#e6f5d0"
            ],
            [
             0.7,
             "#b8e186"
            ],
            [
             0.8,
             "#7fbc41"
            ],
            [
             0.9,
             "#4d9221"
            ],
            [
             1,
             "#276419"
            ]
           ],
           "sequential": [
            [
             0,
             "#0d0887"
            ],
            [
             0.1111111111111111,
             "#46039f"
            ],
            [
             0.2222222222222222,
             "#7201a8"
            ],
            [
             0.3333333333333333,
             "#9c179e"
            ],
            [
             0.4444444444444444,
             "#bd3786"
            ],
            [
             0.5555555555555556,
             "#d8576b"
            ],
            [
             0.6666666666666666,
             "#ed7953"
            ],
            [
             0.7777777777777778,
             "#fb9f3a"
            ],
            [
             0.8888888888888888,
             "#fdca26"
            ],
            [
             1,
             "#f0f921"
            ]
           ],
           "sequentialminus": [
            [
             0,
             "#0d0887"
            ],
            [
             0.1111111111111111,
             "#46039f"
            ],
            [
             0.2222222222222222,
             "#7201a8"
            ],
            [
             0.3333333333333333,
             "#9c179e"
            ],
            [
             0.4444444444444444,
             "#bd3786"
            ],
            [
             0.5555555555555556,
             "#d8576b"
            ],
            [
             0.6666666666666666,
             "#ed7953"
            ],
            [
             0.7777777777777778,
             "#fb9f3a"
            ],
            [
             0.8888888888888888,
             "#fdca26"
            ],
            [
             1,
             "#f0f921"
            ]
           ]
          },
          "colorway": [
           "#636efa",
           "#EF553B",
           "#00cc96",
           "#ab63fa",
           "#FFA15A",
           "#19d3f3",
           "#FF6692",
           "#B6E880",
           "#FF97FF",
           "#FECB52"
          ],
          "font": {
           "color": "#2a3f5f"
          },
          "geo": {
           "bgcolor": "white",
           "lakecolor": "white",
           "landcolor": "#E5ECF6",
           "showlakes": true,
           "showland": true,
           "subunitcolor": "white"
          },
          "hoverlabel": {
           "align": "left"
          },
          "hovermode": "closest",
          "mapbox": {
           "style": "light"
          },
          "paper_bgcolor": "white",
          "plot_bgcolor": "#E5ECF6",
          "polar": {
           "angularaxis": {
            "gridcolor": "white",
            "linecolor": "white",
            "ticks": ""
           },
           "bgcolor": "#E5ECF6",
           "radialaxis": {
            "gridcolor": "white",
            "linecolor": "white",
            "ticks": ""
           }
          },
          "scene": {
           "xaxis": {
            "backgroundcolor": "#E5ECF6",
            "gridcolor": "white",
            "gridwidth": 2,
            "linecolor": "white",
            "showbackground": true,
            "ticks": "",
            "zerolinecolor": "white"
           },
           "yaxis": {
            "backgroundcolor": "#E5ECF6",
            "gridcolor": "white",
            "gridwidth": 2,
            "linecolor": "white",
            "showbackground": true,
            "ticks": "",
            "zerolinecolor": "white"
           },
           "zaxis": {
            "backgroundcolor": "#E5ECF6",
            "gridcolor": "white",
            "gridwidth": 2,
            "linecolor": "white",
            "showbackground": true,
            "ticks": "",
            "zerolinecolor": "white"
           }
          },
          "shapedefaults": {
           "line": {
            "color": "#2a3f5f"
           }
          },
          "ternary": {
           "aaxis": {
            "gridcolor": "white",
            "linecolor": "white",
            "ticks": ""
           },
           "baxis": {
            "gridcolor": "white",
            "linecolor": "white",
            "ticks": ""
           },
           "bgcolor": "#E5ECF6",
           "caxis": {
            "gridcolor": "white",
            "linecolor": "white",
            "ticks": ""
           }
          },
          "title": {
           "x": 0.05
          },
          "xaxis": {
           "automargin": true,
           "gridcolor": "white",
           "linecolor": "white",
           "ticks": "",
           "title": {
            "standoff": 15
           },
           "zerolinecolor": "white",
           "zerolinewidth": 2
          },
          "yaxis": {
           "automargin": true,
           "gridcolor": "white",
           "linecolor": "white",
           "ticks": "",
           "title": {
            "standoff": 15
           },
           "zerolinecolor": "white",
           "zerolinewidth": 2
          }
         }
        },
        "title": {
         "text": "Unemployment Rate by Country"
        },
        "xaxis": {
         "anchor": "y",
         "domain": [
          0,
          1
         ],
         "title": {
          "text": "Countries and areas"
         }
        },
        "yaxis": {
         "anchor": "x",
         "domain": [
          0,
          1
         ],
         "title": {
          "text": "Unemployment Rate"
         }
        }
       }
      }
     },
     "metadata": {},
     "output_type": "display_data"
    }
   ],
   "source": [
    "fig10 = px.bar(\n",
    "    data.sort_values('Unemployment_Rate', ascending=False),\n",
    "    x='Countries and areas',\n",
    "    y='Unemployment_Rate',\n",
    "    title='Unemployment Rate by Country',\n",
    "    labels={\"Unemployment_Rate\": \"Unemployment Rate\"}\n",
    ")\n",
    "fig10.show()"
   ]
  },
  {
   "cell_type": "markdown",
   "metadata": {},
   "source": [
    "\n",
    "Từ 10 biểu đồ vừa vẽ, chúng ta có thể rút ra một số kết luận và gợi ý chính sách quan trọng cho chính phủ và nhà hoạch định chính sách:\n",
    "\n",
    "1. Tỷ lệ biết chữ ở độ tuổi 15-24 (Biểu đồ 1, 6, 7):\n",
    "Các quốc gia có tỷ lệ biết chữ cao (trên 90%) thường có hệ thống giáo dục mạnh mẽ và chính sách hỗ trợ.\n",
    "Ở một số quốc gia, vẫn có sự chênh lệch giữa tỷ lệ biết chữ của nam và nữ. Điều này chỉ ra rằng cần thúc đẩy bình đẳng giới trong giáo dục, đặc biệt ở các nước đang phát triển.\n",
    "2. Tỷ lệ sinh và tỷ lệ biết chữ (Biểu đồ 2):\n",
    "Có mối quan hệ nghịch đảo giữa tỷ lệ sinh và tỷ lệ biết chữ của nữ giới. Những quốc gia có tỷ lệ biết chữ nữ thấp thường có tỷ lệ sinh cao.\n",
    "Chính phủ có thể đầu tư vào giáo dục phụ nữ để giảm tỷ lệ sinh và cải thiện chất lượng cuộc sống.\n",
    "3. Tỷ lệ nhập học tiểu học và đại học (Biểu đồ 3, 9):\n",
    "Các quốc gia phát triển có tỷ lệ nhập học đại học cao, trong khi một số quốc gia khác tập trung vào giáo dục tiểu học.\n",
    "Gợi ý: Tăng cường cơ sở hạ tầng giáo dục ở cả cấp tiểu học và đại học để đáp ứng nhu cầu học tập của thế hệ trẻ.\n",
    "4. Tỷ lệ thất nghiệp và giáo dục (Biểu đồ 4):\n",
    "Tỷ lệ thất nghiệp cao có thể liên quan đến việc thiếu kỹ năng từ giáo dục. Những quốc gia có tỷ lệ biết chữ thấp thường có tỷ lệ thất nghiệp cao.\n",
    "Gợi ý: Chính phủ nên kết hợp giáo dục với đào tạo kỹ năng và nghề nghiệp để giảm tỷ lệ thất nghiệp.\n",
    "5. Hoàn thành giáo dục trung học (Biểu đồ 5):\n",
    "Nhiều quốc gia vẫn có khoảng cách giới trong việc hoàn thành trung học phổ thông.\n",
    "Gợi ý: Thực hiện các chương trình khuyến học đặc biệt cho nữ giới để đảm bảo họ có cơ hội hoàn thành giáo dục.\n",
    "6. Tỷ lệ sinh và nhập học tiểu học (Biểu đồ 8):\n",
    "Tỷ lệ sinh cao có thể dẫn đến áp lực về nguồn lực giáo dục, khiến tỷ lệ nhập học tiểu học giảm.\n",
    "Gợi ý: Chính phủ cần đầu tư vào hệ thống giáo dục để đảm bảo đủ chỗ học cho trẻ em, đặc biệt ở các quốc gia có tỷ lệ sinh cao.\n",
    "7. Tỷ lệ thất nghiệp theo quốc gia (Biểu đồ 10):\n",
    "Một số quốc gia có tỷ lệ thất nghiệp rất cao, điều này có thể ảnh hưởng đến chất lượng cuộc sống và tăng trưởng kinh tế.\n",
    "Gợi ý: Thúc đẩy giáo dục nghề nghiệp và tạo cơ hội việc làm để giảm thất nghiệp.\n",
    "Kết luận:\n",
    "Những biểu đồ này giúp chính phủ xác định các vấn đề trọng tâm trong giáo dục, lao động, và phát triển xã hội. Để thúc đẩy sự phát triển bền vững, cần đầu tư vào:\n",
    "\n",
    "Nâng cao chất lượng và cơ hội tiếp cận giáo dục, đặc biệt là cho phụ nữ và trẻ em.\n",
    "Tích hợp giáo dục với phát triển kinh tế để giảm thất nghiệp.\n",
    "Cải thiện bình đẳng giới trong giáo dục và các chương trình hỗ trợ sinh viên."
   ]
  },
  {
   "cell_type": "code",
   "execution_count": null,
   "metadata": {},
   "outputs": [],
   "source": []
  }
 ],
 "metadata": {
  "kernelspec": {
   "display_name": "Python 3",
   "language": "python",
   "name": "python3"
  },
  "language_info": {
   "codemirror_mode": {
    "name": "ipython",
    "version": 3
   },
   "file_extension": ".py",
   "mimetype": "text/x-python",
   "name": "python",
   "nbconvert_exporter": "python",
   "pygments_lexer": "ipython3",
   "version": "3.12.3"
  }
 },
 "nbformat": 4,
 "nbformat_minor": 2
}
